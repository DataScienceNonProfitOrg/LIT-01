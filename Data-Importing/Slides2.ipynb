{
 "cells": [
  {
   "cell_type": "markdown",
   "metadata": {
    "slideshow": {
     "slide_type": "slide"
    },
    "toc": "true"
   },
   "source": [
    "# Table of Contents\n",
    " <p><div class=\"lev1 toc-item\"><a href=\"#R-with-Remote-Databases-(relational-DBMS)\" data-toc-modified-id=\"R-with-Remote-Databases-(relational-DBMS)-1\"><span class=\"toc-item-num\">1&nbsp;&nbsp;</span>R with Remote Databases (relational DBMS)</a></div><div class=\"lev2 toc-item\"><a href=\"#Import-data-from-sqlite-database\" data-toc-modified-id=\"Import-data-from-sqlite-database-1.1\"><span class=\"toc-item-num\">1.1&nbsp;&nbsp;</span>Import data from sqlite database</a></div><div class=\"lev2 toc-item\"><a href=\"#Import-data-from-mySQL-database\" data-toc-modified-id=\"Import-data-from-mySQL-database-1.2\"><span class=\"toc-item-num\">1.2&nbsp;&nbsp;</span>Import data from mySQL database</a></div><div class=\"lev1 toc-item\"><a href=\"#File-storage-&amp;-hosting-service\" data-toc-modified-id=\"File-storage-&amp;-hosting-service-2\"><span class=\"toc-item-num\">2&nbsp;&nbsp;</span>File storage &amp; hosting service</a></div><div class=\"lev2 toc-item\"><a href=\"#Import-data-from-Google-drive-(googlesheets-package)\" data-toc-modified-id=\"Import-data-from-Google-drive-(googlesheets-package)-2.1\"><span class=\"toc-item-num\">2.1&nbsp;&nbsp;</span>Import data from Google drive (googlesheets package)</a></div><div class=\"lev1 toc-item\"><a href=\"#Social-Media\" data-toc-modified-id=\"Social-Media-3\"><span class=\"toc-item-num\">3&nbsp;&nbsp;</span>Social Media</a></div><div class=\"lev2 toc-item\"><a href=\"#Import-data-from-facebook\" data-toc-modified-id=\"Import-data-from-facebook-3.1\"><span class=\"toc-item-num\">3.1&nbsp;&nbsp;</span>Import data from facebook</a></div><div class=\"lev2 toc-item\"><a href=\"#Import-data-from-twitter\" data-toc-modified-id=\"Import-data-from-twitter-3.2\"><span class=\"toc-item-num\">3.2&nbsp;&nbsp;</span>Import data from twitter</a></div>"
   ]
  },
  {
   "cell_type": "markdown",
   "metadata": {
    "slideshow": {
     "slide_type": "slide"
    }
   },
   "source": [
    "# R with Remote Databases (relational DBMS) "
   ]
  },
  {
   "cell_type": "markdown",
   "metadata": {
    "slideshow": {
     "slide_type": "subslide"
    }
   },
   "source": [
    "## Import data from sqlite database\n",
    "* SQLite is a public-domain, single-user database\n",
    "* light weight serverless transactional SQL database engine\n",
    "* SQLite supports most of the query language features\n",
    "\n",
    "**Download SQLite from here:** https://www.sqlite.org/download.html  \n",
    "**How to download & Install SQLite:** http://www.sqlitetutorial.net/download-install-sqlite/     \n",
    "**SQLite tutorials:**    \n",
    "https://www.sqlite.org/cli.html \n",
    "https://www.tutorialspoint.com/sqlite/index.htm  \n",
    "**SQLite DB Browser(visual & open source tool):** http://sqlitebrowser.org/  \n"
   ]
  },
  {
   "cell_type": "code",
   "execution_count": 35,
   "metadata": {
    "collapsed": true,
    "run_control": {
     "frozen": false,
     "read_only": false
    },
    "slideshow": {
     "slide_type": "slide"
    }
   },
   "outputs": [],
   "source": [
    "# install required packages\n",
    "# install.packages(\"RSQLite\", repos = \"http://cran.us.r-project.org\")\n",
    "# install.packages(\"DBI\", repos = \"http://cran.us.r-project.org\")"
   ]
  },
  {
   "cell_type": "code",
   "execution_count": 36,
   "metadata": {
    "collapsed": true,
    "run_control": {
     "frozen": false,
     "read_only": false
    },
    "slideshow": {
     "slide_type": "fragment"
    }
   },
   "outputs": [],
   "source": [
    "# load packages\n",
    "library(RSQLite)\n",
    "library(DBI) # database interface (DBI) connectivity between DBMS(database management systems)  and R "
   ]
  },
  {
   "cell_type": "code",
   "execution_count": null,
   "metadata": {
    "collapsed": true,
    "run_control": {
     "frozen": false,
     "read_only": false
    },
    "slideshow": {
     "slide_type": "subslide"
    }
   },
   "outputs": [],
   "source": [
    "# To create a new SQLite database, you simply supply the filename to dbConnect():\n",
    "\n",
    "# mydb <- dbConnect(RSQLite::SQLite(), \"my-db.sqlite\")\n",
    "# dbDisconnect(mydb)\n",
    "# unlink(\"my-db.sqlite\")"
   ]
  },
  {
   "cell_type": "code",
   "execution_count": 37,
   "metadata": {
    "run_control": {
     "frozen": false,
     "read_only": false
    },
    "scrolled": true,
    "slideshow": {
     "slide_type": "subslide"
    }
   },
   "outputs": [
    {
     "data": {
      "text/html": [
       "'learnTb'"
      ],
      "text/latex": [
       "'learnTb'"
      ],
      "text/markdown": [
       "'learnTb'"
      ],
      "text/plain": [
       "[1] \"learnTb\""
      ]
     },
     "metadata": {},
     "output_type": "display_data"
    },
    {
     "data": {
      "text/html": [
       "<table>\n",
       "<thead><tr><th scope=col>a</th><th scope=col>b</th></tr></thead>\n",
       "<tbody>\n",
       "\t<tr><td>1  </td><td>Jay</td></tr>\n",
       "\t<tr><td>3  </td><td>Kay</td></tr>\n",
       "\t<tr><td>5  </td><td>May</td></tr>\n",
       "\t<tr><td>6  </td><td>Ray</td></tr>\n",
       "\t<tr><td>7  </td><td>Hay</td></tr>\n",
       "</tbody>\n",
       "</table>\n"
      ],
      "text/latex": [
       "\\begin{tabular}{r|ll}\n",
       " a & b\\\\\n",
       "\\hline\n",
       "\t 1   & Jay\\\\\n",
       "\t 3   & Kay\\\\\n",
       "\t 5   & May\\\\\n",
       "\t 6   & Ray\\\\\n",
       "\t 7   & Hay\\\\\n",
       "\\end{tabular}\n"
      ],
      "text/markdown": [
       "\n",
       "a | b | \n",
       "|---|---|---|---|---|\n",
       "| 1   | Jay | \n",
       "| 3   | Kay | \n",
       "| 5   | May | \n",
       "| 6   | Ray | \n",
       "| 7   | Hay | \n",
       "\n",
       "\n"
      ],
      "text/plain": [
       "  a b  \n",
       "1 1 Jay\n",
       "2 3 Kay\n",
       "3 5 May\n",
       "4 6 Ray\n",
       "5 7 Hay"
      ]
     },
     "metadata": {},
     "output_type": "display_data"
    }
   ],
   "source": [
    "# connect to the sqlite file\n",
    "DB <- dbConnect(SQLite(), dbname = \"C:/sqlite/learn.db\")\n",
    "dbListTables(DB)\n",
    "dbGetQuery(DB, 'SELECT * FROM learnTb')"
   ]
  },
  {
   "cell_type": "code",
   "execution_count": 38,
   "metadata": {
    "collapsed": true,
    "run_control": {
     "frozen": false,
     "read_only": false
    },
    "slideshow": {
     "slide_type": "fragment"
    }
   },
   "outputs": [],
   "source": [
    "dbDisconnect(DB)"
   ]
  },
  {
   "cell_type": "code",
   "execution_count": 39,
   "metadata": {
    "run_control": {
     "frozen": false,
     "read_only": false
    },
    "slideshow": {
     "slide_type": "slide"
    }
   },
   "outputs": [
    {
     "data": {
      "text/html": [
       "<ol class=list-inline>\n",
       "\t<li>'iris'</li>\n",
       "\t<li>'mtcars'</li>\n",
       "</ol>\n"
      ],
      "text/latex": [
       "\\begin{enumerate*}\n",
       "\\item 'iris'\n",
       "\\item 'mtcars'\n",
       "\\end{enumerate*}\n"
      ],
      "text/markdown": [
       "1. 'iris'\n",
       "2. 'mtcars'\n",
       "\n",
       "\n"
      ],
      "text/plain": [
       "[1] \"iris\"   \"mtcars\""
      ]
     },
     "metadata": {},
     "output_type": "display_data"
    }
   ],
   "source": [
    "mydb <- dbConnect(RSQLite::SQLite(), \"\") # If you just need a temporary database, use  \"\"\n",
    "dbWriteTable(mydb, \"mtcars\", mtcars) # You can easily copy an R data frame into a SQLite database with dbWriteTable()\n",
    "dbWriteTable(mydb, \"iris\", iris)\n",
    "\n",
    "dbListTables(mydb)  # to list out the tables"
   ]
  },
  {
   "cell_type": "code",
   "execution_count": 40,
   "metadata": {
    "run_control": {
     "frozen": false,
     "read_only": false
    },
    "slideshow": {
     "slide_type": "subslide"
    }
   },
   "outputs": [
    {
     "data": {
      "text/html": [
       "<table>\n",
       "<thead><tr><th scope=col>mpg</th><th scope=col>cyl</th><th scope=col>disp</th><th scope=col>hp</th><th scope=col>drat</th><th scope=col>wt</th><th scope=col>qsec</th><th scope=col>vs</th><th scope=col>am</th><th scope=col>gear</th><th scope=col>carb</th></tr></thead>\n",
       "<tbody>\n",
       "\t<tr><td>21.0 </td><td>6    </td><td>160  </td><td>110  </td><td>3.90 </td><td>2.620</td><td>16.46</td><td>0    </td><td>1    </td><td>4    </td><td>4    </td></tr>\n",
       "\t<tr><td>21.0 </td><td>6    </td><td>160  </td><td>110  </td><td>3.90 </td><td>2.875</td><td>17.02</td><td>0    </td><td>1    </td><td>4    </td><td>4    </td></tr>\n",
       "\t<tr><td>22.8 </td><td>4    </td><td>108  </td><td> 93  </td><td>3.85 </td><td>2.320</td><td>18.61</td><td>1    </td><td>1    </td><td>4    </td><td>1    </td></tr>\n",
       "\t<tr><td>21.4 </td><td>6    </td><td>258  </td><td>110  </td><td>3.08 </td><td>3.215</td><td>19.44</td><td>1    </td><td>0    </td><td>3    </td><td>1    </td></tr>\n",
       "\t<tr><td>18.7 </td><td>8    </td><td>360  </td><td>175  </td><td>3.15 </td><td>3.440</td><td>17.02</td><td>0    </td><td>0    </td><td>3    </td><td>2    </td></tr>\n",
       "</tbody>\n",
       "</table>\n"
      ],
      "text/latex": [
       "\\begin{tabular}{r|lllllllllll}\n",
       " mpg & cyl & disp & hp & drat & wt & qsec & vs & am & gear & carb\\\\\n",
       "\\hline\n",
       "\t 21.0  & 6     & 160   & 110   & 3.90  & 2.620 & 16.46 & 0     & 1     & 4     & 4    \\\\\n",
       "\t 21.0  & 6     & 160   & 110   & 3.90  & 2.875 & 17.02 & 0     & 1     & 4     & 4    \\\\\n",
       "\t 22.8  & 4     & 108   &  93   & 3.85  & 2.320 & 18.61 & 1     & 1     & 4     & 1    \\\\\n",
       "\t 21.4  & 6     & 258   & 110   & 3.08  & 3.215 & 19.44 & 1     & 0     & 3     & 1    \\\\\n",
       "\t 18.7  & 8     & 360   & 175   & 3.15  & 3.440 & 17.02 & 0     & 0     & 3     & 2    \\\\\n",
       "\\end{tabular}\n"
      ],
      "text/markdown": [
       "\n",
       "mpg | cyl | disp | hp | drat | wt | qsec | vs | am | gear | carb | \n",
       "|---|---|---|---|---|\n",
       "| 21.0  | 6     | 160   | 110   | 3.90  | 2.620 | 16.46 | 0     | 1     | 4     | 4     | \n",
       "| 21.0  | 6     | 160   | 110   | 3.90  | 2.875 | 17.02 | 0     | 1     | 4     | 4     | \n",
       "| 22.8  | 4     | 108   |  93   | 3.85  | 2.320 | 18.61 | 1     | 1     | 4     | 1     | \n",
       "| 21.4  | 6     | 258   | 110   | 3.08  | 3.215 | 19.44 | 1     | 0     | 3     | 1     | \n",
       "| 18.7  | 8     | 360   | 175   | 3.15  | 3.440 | 17.02 | 0     | 0     | 3     | 2     | \n",
       "\n",
       "\n"
      ],
      "text/plain": [
       "  mpg  cyl disp hp  drat wt    qsec  vs am gear carb\n",
       "1 21.0 6   160  110 3.90 2.620 16.46 0  1  4    4   \n",
       "2 21.0 6   160  110 3.90 2.875 17.02 0  1  4    4   \n",
       "3 22.8 4   108   93 3.85 2.320 18.61 1  1  4    1   \n",
       "4 21.4 6   258  110 3.08 3.215 19.44 1  0  3    1   \n",
       "5 18.7 8   360  175 3.15 3.440 17.02 0  0  3    2   "
      ]
     },
     "metadata": {},
     "output_type": "display_data"
    }
   ],
   "source": [
    "# query with dbGetQuery():\n",
    "\n",
    "dbGetQuery(mydb, 'SELECT * FROM mtcars LIMIT 5')"
   ]
  },
  {
   "cell_type": "code",
   "execution_count": 41,
   "metadata": {
    "run_control": {
     "frozen": false,
     "read_only": false
    },
    "slideshow": {
     "slide_type": "subslide"
    }
   },
   "outputs": [
    {
     "data": {
      "text/html": [
       "<table>\n",
       "<thead><tr><th scope=col>Sepal.Length</th><th scope=col>Sepal.Width</th><th scope=col>Petal.Length</th><th scope=col>Petal.Width</th><th scope=col>Species</th></tr></thead>\n",
       "<tbody>\n",
       "\t<tr><td>4.4   </td><td>2.9   </td><td>1.4   </td><td>0.2   </td><td>setosa</td></tr>\n",
       "\t<tr><td>4.3   </td><td>3.0   </td><td>1.1   </td><td>0.1   </td><td>setosa</td></tr>\n",
       "\t<tr><td>4.4   </td><td>3.0   </td><td>1.3   </td><td>0.2   </td><td>setosa</td></tr>\n",
       "\t<tr><td>4.5   </td><td>2.3   </td><td>1.3   </td><td>0.3   </td><td>setosa</td></tr>\n",
       "\t<tr><td>4.4   </td><td>3.2   </td><td>1.3   </td><td>0.2   </td><td>setosa</td></tr>\n",
       "</tbody>\n",
       "</table>\n"
      ],
      "text/latex": [
       "\\begin{tabular}{r|lllll}\n",
       " Sepal.Length & Sepal.Width & Petal.Length & Petal.Width & Species\\\\\n",
       "\\hline\n",
       "\t 4.4    & 2.9    & 1.4    & 0.2    & setosa\\\\\n",
       "\t 4.3    & 3.0    & 1.1    & 0.1    & setosa\\\\\n",
       "\t 4.4    & 3.0    & 1.3    & 0.2    & setosa\\\\\n",
       "\t 4.5    & 2.3    & 1.3    & 0.3    & setosa\\\\\n",
       "\t 4.4    & 3.2    & 1.3    & 0.2    & setosa\\\\\n",
       "\\end{tabular}\n"
      ],
      "text/markdown": [
       "\n",
       "Sepal.Length | Sepal.Width | Petal.Length | Petal.Width | Species | \n",
       "|---|---|---|---|---|\n",
       "| 4.4    | 2.9    | 1.4    | 0.2    | setosa | \n",
       "| 4.3    | 3.0    | 1.1    | 0.1    | setosa | \n",
       "| 4.4    | 3.0    | 1.3    | 0.2    | setosa | \n",
       "| 4.5    | 2.3    | 1.3    | 0.3    | setosa | \n",
       "| 4.4    | 3.2    | 1.3    | 0.2    | setosa | \n",
       "\n",
       "\n"
      ],
      "text/plain": [
       "  Sepal.Length Sepal.Width Petal.Length Petal.Width Species\n",
       "1 4.4          2.9         1.4          0.2         setosa \n",
       "2 4.3          3.0         1.1          0.1         setosa \n",
       "3 4.4          3.0         1.3          0.2         setosa \n",
       "4 4.5          2.3         1.3          0.3         setosa \n",
       "5 4.4          3.2         1.3          0.2         setosa "
      ]
     },
     "metadata": {},
     "output_type": "display_data"
    }
   ],
   "source": [
    "dbGetQuery(mydb, 'SELECT * FROM iris WHERE \"Sepal.Length\" < 4.6')"
   ]
  },
  {
   "cell_type": "code",
   "execution_count": 42,
   "metadata": {
    "collapsed": true,
    "run_control": {
     "frozen": false,
     "read_only": false
    },
    "slideshow": {
     "slide_type": "fragment"
    }
   },
   "outputs": [],
   "source": [
    "dbDisconnect(mydb)"
   ]
  },
  {
   "cell_type": "markdown",
   "metadata": {
    "slideshow": {
     "slide_type": "slide"
    }
   },
   "source": [
    "## Import data from mySQL database"
   ]
  },
  {
   "cell_type": "code",
   "execution_count": 27,
   "metadata": {
    "collapsed": true,
    "run_control": {
     "frozen": false,
     "read_only": false
    },
    "scrolled": true,
    "slideshow": {
     "slide_type": "subslide"
    }
   },
   "outputs": [],
   "source": [
    "# install.packages(\"RMySQL\", repos = \"http://cran.us.r-project.org\")\n",
    "library(RMySQL)\n",
    "library(DBI)"
   ]
  },
  {
   "cell_type": "code",
   "execution_count": 22,
   "metadata": {
    "collapsed": true,
    "run_control": {
     "frozen": false,
     "read_only": false
    },
    "slideshow": {
     "slide_type": "fragment"
    }
   },
   "outputs": [],
   "source": [
    "mydb = dbConnect(MySQL(), user='root', password='m******3', dbname='contacts', host='localhost')"
   ]
  },
  {
   "cell_type": "code",
   "execution_count": 23,
   "metadata": {
    "run_control": {
     "frozen": false,
     "read_only": false
    },
    "slideshow": {
     "slide_type": "subslide"
    }
   },
   "outputs": [
    {
     "data": {
      "text/html": [
       "<ol class=list-inline>\n",
       "\t<li>'address'</li>\n",
       "\t<li>'email_address'</li>\n",
       "\t<li>'person'</li>\n",
       "\t<li>'person_address'</li>\n",
       "\t<li>'phone_number'</li>\n",
       "</ol>\n"
      ],
      "text/latex": [
       "\\begin{enumerate*}\n",
       "\\item 'address'\n",
       "\\item 'email\\_address'\n",
       "\\item 'person'\n",
       "\\item 'person\\_address'\n",
       "\\item 'phone\\_number'\n",
       "\\end{enumerate*}\n"
      ],
      "text/markdown": [
       "1. 'address'\n",
       "2. 'email_address'\n",
       "3. 'person'\n",
       "4. 'person_address'\n",
       "5. 'phone_number'\n",
       "\n",
       "\n"
      ],
      "text/plain": [
       "[1] \"address\"        \"email_address\"  \"person\"         \"person_address\"\n",
       "[5] \"phone_number\"  "
      ]
     },
     "metadata": {},
     "output_type": "display_data"
    }
   ],
   "source": [
    "dbListTables(mydb)"
   ]
  },
  {
   "cell_type": "code",
   "execution_count": 24,
   "metadata": {
    "run_control": {
     "frozen": false,
     "read_only": false
    },
    "slideshow": {
     "slide_type": "subslide"
    }
   },
   "outputs": [
    {
     "data": {
      "text/html": [
       "<ol class=list-inline>\n",
       "\t<li>'person_id'</li>\n",
       "\t<li>'person_first_name'</li>\n",
       "\t<li>'person_last_name'</li>\n",
       "\t<li>'person_contacted_number'</li>\n",
       "\t<li>'person_date_last_contacted'</li>\n",
       "\t<li>'person_date_added'</li>\n",
       "</ol>\n"
      ],
      "text/latex": [
       "\\begin{enumerate*}\n",
       "\\item 'person\\_id'\n",
       "\\item 'person\\_first\\_name'\n",
       "\\item 'person\\_last\\_name'\n",
       "\\item 'person\\_contacted\\_number'\n",
       "\\item 'person\\_date\\_last\\_contacted'\n",
       "\\item 'person\\_date\\_added'\n",
       "\\end{enumerate*}\n"
      ],
      "text/markdown": [
       "1. 'person_id'\n",
       "2. 'person_first_name'\n",
       "3. 'person_last_name'\n",
       "4. 'person_contacted_number'\n",
       "5. 'person_date_last_contacted'\n",
       "6. 'person_date_added'\n",
       "\n",
       "\n"
      ],
      "text/plain": [
       "[1] \"person_id\"                  \"person_first_name\"         \n",
       "[3] \"person_last_name\"           \"person_contacted_number\"   \n",
       "[5] \"person_date_last_contacted\" \"person_date_added\"         "
      ]
     },
     "metadata": {},
     "output_type": "display_data"
    }
   ],
   "source": [
    "dbListFields(mydb, 'person')"
   ]
  },
  {
   "cell_type": "code",
   "execution_count": 25,
   "metadata": {
    "collapsed": true,
    "run_control": {
     "frozen": false,
     "read_only": false
    },
    "slideshow": {
     "slide_type": "fragment"
    }
   },
   "outputs": [],
   "source": [
    "rs = dbSendQuery(mydb, \"select * from person\")\n",
    "# the results of this query remain on the MySQL server"
   ]
  },
  {
   "cell_type": "code",
   "execution_count": 26,
   "metadata": {
    "run_control": {
     "frozen": false,
     "read_only": false
    },
    "slideshow": {
     "slide_type": "subslide"
    }
   },
   "outputs": [
    {
     "data": {
      "text/html": [
       "<table>\n",
       "<thead><tr><th scope=col>person_id</th><th scope=col>person_first_name</th><th scope=col>person_last_name</th><th scope=col>person_contacted_number</th><th scope=col>person_date_last_contacted</th><th scope=col>person_date_added</th></tr></thead>\n",
       "<tbody>\n",
       "\t<tr><td>1                  </td><td>Jon                </td><td>Flanders           </td><td>5                  </td><td>2013-09-14 11:43:31</td><td>2013-01-14 11:43:31</td></tr>\n",
       "\t<tr><td>2                  </td><td>Shannon            </td><td>Ahern              </td><td>0                  </td><td>2013-08-14 11:43:31</td><td>2013-02-14 11:43:31</td></tr>\n",
       "\t<tr><td>3                  </td><td>Fritz              </td><td>Onion              </td><td>1                  </td><td>2013-07-14 11:43:31</td><td>2013-03-14 11:43:31</td></tr>\n",
       "</tbody>\n",
       "</table>\n"
      ],
      "text/latex": [
       "\\begin{tabular}{r|llllll}\n",
       " person\\_id & person\\_first\\_name & person\\_last\\_name & person\\_contacted\\_number & person\\_date\\_last\\_contacted & person\\_date\\_added\\\\\n",
       "\\hline\n",
       "\t 1                   & Jon                 & Flanders            & 5                   & 2013-09-14 11:43:31 & 2013-01-14 11:43:31\\\\\n",
       "\t 2                   & Shannon             & Ahern               & 0                   & 2013-08-14 11:43:31 & 2013-02-14 11:43:31\\\\\n",
       "\t 3                   & Fritz               & Onion               & 1                   & 2013-07-14 11:43:31 & 2013-03-14 11:43:31\\\\\n",
       "\\end{tabular}\n"
      ],
      "text/markdown": [
       "\n",
       "person_id | person_first_name | person_last_name | person_contacted_number | person_date_last_contacted | person_date_added | \n",
       "|---|---|---|\n",
       "| 1                   | Jon                 | Flanders            | 5                   | 2013-09-14 11:43:31 | 2013-01-14 11:43:31 | \n",
       "| 2                   | Shannon             | Ahern               | 0                   | 2013-08-14 11:43:31 | 2013-02-14 11:43:31 | \n",
       "| 3                   | Fritz               | Onion               | 1                   | 2013-07-14 11:43:31 | 2013-03-14 11:43:31 | \n",
       "\n",
       "\n"
      ],
      "text/plain": [
       "  person_id person_first_name person_last_name person_contacted_number\n",
       "1 1         Jon               Flanders         5                      \n",
       "2 2         Shannon           Ahern            0                      \n",
       "3 3         Fritz             Onion            1                      \n",
       "  person_date_last_contacted person_date_added  \n",
       "1 2013-09-14 11:43:31        2013-01-14 11:43:31\n",
       "2 2013-08-14 11:43:31        2013-02-14 11:43:31\n",
       "3 2013-07-14 11:43:31        2013-03-14 11:43:31"
      ]
     },
     "metadata": {},
     "output_type": "display_data"
    }
   ],
   "source": [
    "# to access the results in R we need to use the fetch function.\n",
    "data = fetch(rs, n = -1)\n",
    "data\n",
    "# This saves the results of the query as a data frame object. The n in the\n",
    "# function specifies the number of records to retrieve, using n=-1 retrieves all\n",
    "# pending records\n"
   ]
  },
  {
   "cell_type": "markdown",
   "metadata": {
    "slideshow": {
     "slide_type": "slide"
    }
   },
   "source": [
    "# File storage & hosting service"
   ]
  },
  {
   "cell_type": "markdown",
   "metadata": {
    "slideshow": {
     "slide_type": "subslide"
    }
   },
   "source": [
    "## Import data from Google drive (googlesheets package)\n",
    "* The googlesheets package with its gs_read() function which allows you to read in Google spreadsheets into R\n"
   ]
  },
  {
   "cell_type": "code",
   "execution_count": 43,
   "metadata": {
    "collapsed": true,
    "run_control": {
     "frozen": false,
     "read_only": false
    },
    "slideshow": {
     "slide_type": "fragment"
    }
   },
   "outputs": [],
   "source": [
    "# install.packages(\"googlesheets\", repos = \"http://cran.us.r-project.org\")\n",
    "######Importing Google Spreadsheets Into R ########\n",
    "library(googlesheets)"
   ]
  },
  {
   "cell_type": "code",
   "execution_count": 44,
   "metadata": {
    "run_control": {
     "frozen": false,
     "read_only": false
    },
    "slideshow": {
     "slide_type": "subslide"
    }
   },
   "outputs": [
    {
     "data": {
      "text/html": [
       "<table>\n",
       "<thead><tr><th scope=col>sheet_title</th><th scope=col>author</th><th scope=col>perm</th><th scope=col>version</th><th scope=col>updated</th><th scope=col>sheet_key</th><th scope=col>ws_feed</th><th scope=col>alternate</th><th scope=col>self</th><th scope=col>alt_key</th></tr></thead>\n",
       "<tbody>\n",
       "\t<tr><td>sample.xlsx                                                                                                 </td><td>sumendar                                                                                                    </td><td>rw                                                                                                          </td><td>new                                                                                                         </td><td>2018-01-25 00:33:53                                                                                         </td><td>1SrqxnCEph0cOahDAaiACfIH_G8Fqvw4HdieJv0M8EQM                                                                </td><td>https://spreadsheets.google.com/feeds/worksheets/1SrqxnCEph0cOahDAaiACfIH_G8Fqvw4HdieJv0M8EQM/private/full  </td><td>https://docs.google.com/spreadsheets/d/1SrqxnCEph0cOahDAaiACfIH_G8Fqvw4HdieJv0M8EQM/edit                    </td><td>https://spreadsheets.google.com/feeds/spreadsheets/private/full/1SrqxnCEph0cOahDAaiACfIH_G8Fqvw4HdieJv0M8EQM</td><td>NA                                                                                                          </td></tr>\n",
       "\t<tr><td>BBC Results - Lesson 1                                                                                      </td><td>liz                                                                                                         </td><td>r                                                                                                           </td><td>new                                                                                                         </td><td>2017-11-16 06:10:34                                                                                         </td><td>18yUpkEmTbVja4KUi2_JN8Y7QyPGzzJ_yRE_FrjS-a-A                                                                </td><td>https://spreadsheets.google.com/feeds/worksheets/18yUpkEmTbVja4KUi2_JN8Y7QyPGzzJ_yRE_FrjS-a-A/private/values</td><td>https://docs.google.com/spreadsheets/d/18yUpkEmTbVja4KUi2_JN8Y7QyPGzzJ_yRE_FrjS-a-A/edit                    </td><td>https://spreadsheets.google.com/feeds/spreadsheets/private/full/18yUpkEmTbVja4KUi2_JN8Y7QyPGzzJ_yRE_FrjS-a-A</td><td>NA                                                                                                          </td></tr>\n",
       "\t<tr><td>DSx1 Class Directory - Data Science: Data to Insights (Responses)                                           </td><td>mitpemarketing                                                                                              </td><td>r                                                                                                           </td><td>new                                                                                                         </td><td>2017-07-18 14:08:40                                                                                         </td><td>1WDibz0V8rB6AeHG1n56gYLOC7FxyEKt0B8ZfKcMMyR8                                                                </td><td>https://spreadsheets.google.com/feeds/worksheets/1WDibz0V8rB6AeHG1n56gYLOC7FxyEKt0B8ZfKcMMyR8/private/values</td><td>https://docs.google.com/spreadsheets/d/1WDibz0V8rB6AeHG1n56gYLOC7FxyEKt0B8ZfKcMMyR8/edit                    </td><td>https://spreadsheets.google.com/feeds/spreadsheets/private/full/1WDibz0V8rB6AeHG1n56gYLOC7FxyEKt0B8ZfKcMMyR8</td><td>NA                                                                                                          </td></tr>\n",
       "\t<tr><td>09_02.xlsx                                                                                                  </td><td>sumendar                                                                                                    </td><td>rw                                                                                                          </td><td>new                                                                                                         </td><td>2017-05-20 12:23:12                                                                                         </td><td>1rUcpJSz8lJ37noX__POiDC7769Aa9WfwNJaGJbyouUI                                                                </td><td>https://spreadsheets.google.com/feeds/worksheets/1rUcpJSz8lJ37noX__POiDC7769Aa9WfwNJaGJbyouUI/private/full  </td><td>https://docs.google.com/spreadsheets/d/1rUcpJSz8lJ37noX__POiDC7769Aa9WfwNJaGJbyouUI/edit                    </td><td>https://spreadsheets.google.com/feeds/spreadsheets/private/full/1rUcpJSz8lJ37noX__POiDC7769Aa9WfwNJaGJbyouUI</td><td>NA                                                                                                          </td></tr>\n",
       "\t<tr><td>09_01.xlsx                                                                                                  </td><td>sumendar                                                                                                    </td><td>rw                                                                                                          </td><td>new                                                                                                         </td><td>2017-05-20 12:23:11                                                                                         </td><td>1lQ4IkyDwmN2xcdtpHHAwUgf7jjlJMT1djANJizNl2S8                                                                </td><td>https://spreadsheets.google.com/feeds/worksheets/1lQ4IkyDwmN2xcdtpHHAwUgf7jjlJMT1djANJizNl2S8/private/full  </td><td>https://docs.google.com/spreadsheets/d/1lQ4IkyDwmN2xcdtpHHAwUgf7jjlJMT1djANJizNl2S8/edit                    </td><td>https://spreadsheets.google.com/feeds/spreadsheets/private/full/1lQ4IkyDwmN2xcdtpHHAwUgf7jjlJMT1djANJizNl2S8</td><td>NA                                                                                                          </td></tr>\n",
       "\t<tr><td>07_04.xlsx                                                                                                  </td><td>sumendar                                                                                                    </td><td>rw                                                                                                          </td><td>new                                                                                                         </td><td>2017-05-20 12:23:08                                                                                         </td><td>140h_WFxtJ7a4dew7j-Vyso2RA-rfmTG158_wGVf-gZs                                                                </td><td>https://spreadsheets.google.com/feeds/worksheets/140h_WFxtJ7a4dew7j-Vyso2RA-rfmTG158_wGVf-gZs/private/full  </td><td>https://docs.google.com/spreadsheets/d/140h_WFxtJ7a4dew7j-Vyso2RA-rfmTG158_wGVf-gZs/edit                    </td><td>https://spreadsheets.google.com/feeds/spreadsheets/private/full/140h_WFxtJ7a4dew7j-Vyso2RA-rfmTG158_wGVf-gZs</td><td>NA                                                                                                          </td></tr>\n",
       "\t<tr><td>01_04_toolpak.xlsx                                                                                          </td><td>sumendar                                                                                                    </td><td>rw                                                                                                          </td><td>new                                                                                                         </td><td>2017-05-20 11:48:34                                                                                         </td><td>1bYXZM2dQ16ShAYNQ021Dc4LNhUKZMOyB7irE-9k3kgc                                                                </td><td>https://spreadsheets.google.com/feeds/worksheets/1bYXZM2dQ16ShAYNQ021Dc4LNhUKZMOyB7irE-9k3kgc/private/full  </td><td>https://docs.google.com/spreadsheets/d/1bYXZM2dQ16ShAYNQ021Dc4LNhUKZMOyB7irE-9k3kgc/edit                    </td><td>https://spreadsheets.google.com/feeds/spreadsheets/private/full/1bYXZM2dQ16ShAYNQ021Dc4LNhUKZMOyB7irE-9k3kgc</td><td>NA                                                                                                          </td></tr>\n",
       "\t<tr><td>13_04_ttestind.xlsx                                                                                         </td><td>sumendar                                                                                                    </td><td>rw                                                                                                          </td><td>new                                                                                                         </td><td>2017-05-20 11:48:27                                                                                         </td><td>11YSjKXkRKTuo4SIyBokHZ3ZoOWzRk3jEN-jTlAx8Epo                                                                </td><td>https://spreadsheets.google.com/feeds/worksheets/11YSjKXkRKTuo4SIyBokHZ3ZoOWzRk3jEN-jTlAx8Epo/private/full  </td><td>https://docs.google.com/spreadsheets/d/11YSjKXkRKTuo4SIyBokHZ3ZoOWzRk3jEN-jTlAx8Epo/edit                    </td><td>https://spreadsheets.google.com/feeds/spreadsheets/private/full/11YSjKXkRKTuo4SIyBokHZ3ZoOWzRk3jEN-jTlAx8Epo</td><td>NA                                                                                                          </td></tr>\n",
       "\t<tr><td>12_01_chisq.xlsx                                                                                            </td><td>sumendar                                                                                                    </td><td>rw                                                                                                          </td><td>new                                                                                                         </td><td>2017-05-20 11:48:27                                                                                         </td><td>1ISbpY8GtO7lwp3xMcBsJZnReqly6iQwDdldgO-rDN90                                                                </td><td>https://spreadsheets.google.com/feeds/worksheets/1ISbpY8GtO7lwp3xMcBsJZnReqly6iQwDdldgO-rDN90/private/full  </td><td>https://docs.google.com/spreadsheets/d/1ISbpY8GtO7lwp3xMcBsJZnReqly6iQwDdldgO-rDN90/edit                    </td><td>https://spreadsheets.google.com/feeds/spreadsheets/private/full/1ISbpY8GtO7lwp3xMcBsJZnReqly6iQwDdldgO-rDN90</td><td>NA                                                                                                          </td></tr>\n",
       "\t<tr><td>01_03_excelgraphics.xlsx                                                                                    </td><td>sumendar                                                                                                    </td><td>rw                                                                                                          </td><td>new                                                                                                         </td><td>2017-05-20 11:48:27                                                                                         </td><td>10WAta0C6Du5rjpq8jcdgif4fIIgl62aIXUnh6z9U7H0                                                                </td><td>https://spreadsheets.google.com/feeds/worksheets/10WAta0C6Du5rjpq8jcdgif4fIIgl62aIXUnh6z9U7H0/private/full  </td><td>https://docs.google.com/spreadsheets/d/10WAta0C6Du5rjpq8jcdgif4fIIgl62aIXUnh6z9U7H0/edit                    </td><td>https://spreadsheets.google.com/feeds/spreadsheets/private/full/10WAta0C6Du5rjpq8jcdgif4fIIgl62aIXUnh6z9U7H0</td><td>NA                                                                                                          </td></tr>\n",
       "\t<tr><td>01_02_statfunctions.xlsx                                                                                    </td><td>sumendar                                                                                                    </td><td>rw                                                                                                          </td><td>new                                                                                                         </td><td>2017-05-20 11:48:27                                                                                         </td><td>1mmAsXFHT5tQl3LnRfqARG-QsdosHwqXkGh-FwWFpdoM                                                                </td><td>https://spreadsheets.google.com/feeds/worksheets/1mmAsXFHT5tQl3LnRfqARG-QsdosHwqXkGh-FwWFpdoM/private/full  </td><td>https://docs.google.com/spreadsheets/d/1mmAsXFHT5tQl3LnRfqARG-QsdosHwqXkGh-FwWFpdoM/edit                    </td><td>https://spreadsheets.google.com/feeds/spreadsheets/private/full/1mmAsXFHT5tQl3LnRfqARG-QsdosHwqXkGh-FwWFpdoM</td><td>NA                                                                                                          </td></tr>\n",
       "\t<tr><td>01_01_excelfunctions.xlsx                                                                                   </td><td>sumendar                                                                                                    </td><td>rw                                                                                                          </td><td>new                                                                                                         </td><td>2017-05-20 11:48:27                                                                                         </td><td>1euUrIFgLo5W7_sta6Gub3gzt88sfW2ZIBjYbVOS7Do0                                                                </td><td>https://spreadsheets.google.com/feeds/worksheets/1euUrIFgLo5W7_sta6Gub3gzt88sfW2ZIBjYbVOS7Do0/private/full  </td><td>https://docs.google.com/spreadsheets/d/1euUrIFgLo5W7_sta6Gub3gzt88sfW2ZIBjYbVOS7Do0/edit                    </td><td>https://spreadsheets.google.com/feeds/spreadsheets/private/full/1euUrIFgLo5W7_sta6Gub3gzt88sfW2ZIBjYbVOS7Do0</td><td>NA                                                                                                          </td></tr>\n",
       "\t<tr><td>14_03_matchedttest.xlsx                                                                                     </td><td>sumendar                                                                                                    </td><td>rw                                                                                                          </td><td>new                                                                                                         </td><td>2017-05-20 11:48:26                                                                                         </td><td>1kjMDPpYXOM4Pl7Kgll9_Zy3CAmMgP-24-LaN-t1DKHs                                                                </td><td>https://spreadsheets.google.com/feeds/worksheets/1kjMDPpYXOM4Pl7Kgll9_Zy3CAmMgP-24-LaN-t1DKHs/private/full  </td><td>https://docs.google.com/spreadsheets/d/1kjMDPpYXOM4Pl7Kgll9_Zy3CAmMgP-24-LaN-t1DKHs/edit                    </td><td>https://spreadsheets.google.com/feeds/spreadsheets/private/full/1kjMDPpYXOM4Pl7Kgll9_Zy3CAmMgP-24-LaN-t1DKHs</td><td>NA                                                                                                          </td></tr>\n",
       "\t<tr><td>15_01_ftest.xlsx                                                                                            </td><td>sumendar                                                                                                    </td><td>rw                                                                                                          </td><td>new                                                                                                         </td><td>2017-05-20 11:48:22                                                                                         </td><td>1giDpe1qRJCBdl2xlkXQRrrs_ku9VjDL2Y21DkwRInNA                                                                </td><td>https://spreadsheets.google.com/feeds/worksheets/1giDpe1qRJCBdl2xlkXQRrrs_ku9VjDL2Y21DkwRInNA/private/full  </td><td>https://docs.google.com/spreadsheets/d/1giDpe1qRJCBdl2xlkXQRrrs_ku9VjDL2Y21DkwRInNA/edit                    </td><td>https://spreadsheets.google.com/feeds/spreadsheets/private/full/1giDpe1qRJCBdl2xlkXQRrrs_ku9VjDL2Y21DkwRInNA</td><td>NA                                                                                                          </td></tr>\n",
       "\t<tr><td>19_03_twofactANOVA.xlsx                                                                                     </td><td>sumendar                                                                                                    </td><td>rw                                                                                                          </td><td>new                                                                                                         </td><td>2017-05-20 11:48:10                                                                                         </td><td>1k1z0QyXK6GW7A2_SUUlaTkPJ2eZuN6exgXhsfOj8D_g                                                                </td><td>https://spreadsheets.google.com/feeds/worksheets/1k1z0QyXK6GW7A2_SUUlaTkPJ2eZuN6exgXhsfOj8D_g/private/full  </td><td>https://docs.google.com/spreadsheets/d/1k1z0QyXK6GW7A2_SUUlaTkPJ2eZuN6exgXhsfOj8D_g/edit                    </td><td>https://spreadsheets.google.com/feeds/spreadsheets/private/full/1k1z0QyXK6GW7A2_SUUlaTkPJ2eZuN6exgXhsfOj8D_g</td><td>NA                                                                                                          </td></tr>\n",
       "\t<tr><td>20_03_linregANOVA.xlsx                                                                                      </td><td>sumendar                                                                                                    </td><td>rw                                                                                                          </td><td>new                                                                                                         </td><td>2017-05-20 11:48:10                                                                                         </td><td>1AKWKWiHeYc1BhZBF9_rjGaxBzLNPpsSd2SyRIVn7Dpc                                                                </td><td>https://spreadsheets.google.com/feeds/worksheets/1AKWKWiHeYc1BhZBF9_rjGaxBzLNPpsSd2SyRIVn7Dpc/private/full  </td><td>https://docs.google.com/spreadsheets/d/1AKWKWiHeYc1BhZBF9_rjGaxBzLNPpsSd2SyRIVn7Dpc/edit                    </td><td>https://spreadsheets.google.com/feeds/spreadsheets/private/full/1AKWKWiHeYc1BhZBF9_rjGaxBzLNPpsSd2SyRIVn7Dpc</td><td>NA                                                                                                          </td></tr>\n",
       "\t<tr><td>20_01_linreg.xlsx                                                                                           </td><td>sumendar                                                                                                    </td><td>rw                                                                                                          </td><td>new                                                                                                         </td><td>2017-05-20 11:48:10                                                                                         </td><td>1_ll3SDsKDlYMuPaQ9AlxORGu4bPYe2SYSrIlh2GDxUc                                                                </td><td>https://spreadsheets.google.com/feeds/worksheets/1_ll3SDsKDlYMuPaQ9AlxORGu4bPYe2SYSrIlh2GDxUc/private/full  </td><td>https://docs.google.com/spreadsheets/d/1_ll3SDsKDlYMuPaQ9AlxORGu4bPYe2SYSrIlh2GDxUc/edit                    </td><td>https://spreadsheets.google.com/feeds/spreadsheets/private/full/1_ll3SDsKDlYMuPaQ9AlxORGu4bPYe2SYSrIlh2GDxUc</td><td>NA                                                                                                          </td></tr>\n",
       "\t<tr><td>16_03_applyingANOVA.xlsx                                                                                    </td><td>sumendar                                                                                                    </td><td>rw                                                                                                          </td><td>new                                                                                                         </td><td>2017-05-20 11:48:10                                                                                         </td><td>1Ab5ApL5Ve0o_ls9IkAXGkJjKOEykG6xR7Iv1-srT7dk                                                                </td><td>https://spreadsheets.google.com/feeds/worksheets/1Ab5ApL5Ve0o_ls9IkAXGkJjKOEykG6xR7Iv1-srT7dk/private/full  </td><td>https://docs.google.com/spreadsheets/d/1Ab5ApL5Ve0o_ls9IkAXGkJjKOEykG6xR7Iv1-srT7dk/edit                    </td><td>https://spreadsheets.google.com/feeds/spreadsheets/private/full/1Ab5ApL5Ve0o_ls9IkAXGkJjKOEykG6xR7Iv1-srT7dk</td><td>NA                                                                                                          </td></tr>\n",
       "\t<tr><td>18_02_repmeasANOVA.xlsx                                                                                     </td><td>sumendar                                                                                                    </td><td>rw                                                                                                          </td><td>new                                                                                                         </td><td>2017-05-20 11:48:10                                                                                         </td><td>1NEuCFhlzfIe8jN_NSzCp60MGxp0ef7OQgxg_QDJVWog                                                                </td><td>https://spreadsheets.google.com/feeds/worksheets/1NEuCFhlzfIe8jN_NSzCp60MGxp0ef7OQgxg_QDJVWog/private/full  </td><td>https://docs.google.com/spreadsheets/d/1NEuCFhlzfIe8jN_NSzCp60MGxp0ef7OQgxg_QDJVWog/edit                    </td><td>https://spreadsheets.google.com/feeds/spreadsheets/private/full/1NEuCFhlzfIe8jN_NSzCp60MGxp0ef7OQgxg_QDJVWog</td><td>NA                                                                                                          </td></tr>\n",
       "\t<tr><td>20_02_varregline.xlsx                                                                                       </td><td>sumendar                                                                                                    </td><td>rw                                                                                                          </td><td>new                                                                                                         </td><td>2017-05-20 11:48:10                                                                                         </td><td>15YGPhRE5a7gBBrSGK5fitlY6wX6oAtNIMMQLvNkt-5A                                                                </td><td>https://spreadsheets.google.com/feeds/worksheets/15YGPhRE5a7gBBrSGK5fitlY6wX6oAtNIMMQLvNkt-5A/private/full  </td><td>https://docs.google.com/spreadsheets/d/15YGPhRE5a7gBBrSGK5fitlY6wX6oAtNIMMQLvNkt-5A/edit                    </td><td>https://spreadsheets.google.com/feeds/spreadsheets/private/full/15YGPhRE5a7gBBrSGK5fitlY6wX6oAtNIMMQLvNkt-5A</td><td>NA                                                                                                          </td></tr>\n",
       "\t<tr><td>20_04_multreg.xlsx                                                                                          </td><td>sumendar                                                                                                    </td><td>rw                                                                                                          </td><td>new                                                                                                         </td><td>2017-05-20 11:48:10                                                                                         </td><td>1V3Tqk539XTYhIrBymz2eKirFhTACqEKsk_tW7NBHBJo                                                                </td><td>https://spreadsheets.google.com/feeds/worksheets/1V3Tqk539XTYhIrBymz2eKirFhTACqEKsk_tW7NBHBJo/private/full  </td><td>https://docs.google.com/spreadsheets/d/1V3Tqk539XTYhIrBymz2eKirFhTACqEKsk_tW7NBHBJo/edit                    </td><td>https://spreadsheets.google.com/feeds/spreadsheets/private/full/1V3Tqk539XTYhIrBymz2eKirFhTACqEKsk_tW7NBHBJo</td><td>NA                                                                                                          </td></tr>\n",
       "\t<tr><td>21_02_corrcoeff.xlsx                                                                                        </td><td>sumendar                                                                                                    </td><td>rw                                                                                                          </td><td>new                                                                                                         </td><td>2017-05-20 11:48:10                                                                                         </td><td>17Zo18mX9JDoGfvxjfDh8vkVJK1Ln7XD6bX4t4sA03kQ                                                                </td><td>https://spreadsheets.google.com/feeds/worksheets/17Zo18mX9JDoGfvxjfDh8vkVJK1Ln7XD6bX4t4sA03kQ/private/full  </td><td>https://docs.google.com/spreadsheets/d/17Zo18mX9JDoGfvxjfDh8vkVJK1Ln7XD6bX4t4sA03kQ/edit                    </td><td>https://spreadsheets.google.com/feeds/spreadsheets/private/full/17Zo18mX9JDoGfvxjfDh8vkVJK1Ln7XD6bX4t4sA03kQ</td><td>NA                                                                                                          </td></tr>\n",
       "\t<tr><td>21-02 Examples.xlsx                                                                                         </td><td>sumendar                                                                                                    </td><td>rw                                                                                                          </td><td>new                                                                                                         </td><td>2017-05-20 11:48:09                                                                                         </td><td>18MRKiO4qgMAQq05JU44G4E6U3WL3wTS1hm6NLUx-clE                                                                </td><td>https://spreadsheets.google.com/feeds/worksheets/18MRKiO4qgMAQq05JU44G4E6U3WL3wTS1hm6NLUx-clE/private/full  </td><td>https://docs.google.com/spreadsheets/d/18MRKiO4qgMAQq05JU44G4E6U3WL3wTS1hm6NLUx-clE/edit                    </td><td>https://spreadsheets.google.com/feeds/spreadsheets/private/full/18MRKiO4qgMAQq05JU44G4E6U3WL3wTS1hm6NLUx-clE</td><td>NA                                                                                                          </td></tr>\n",
       "\t<tr><td>04_01_mean.xlsx                                                                                             </td><td>sumendar                                                                                                    </td><td>rw                                                                                                          </td><td>new                                                                                                         </td><td>2017-05-20 11:48:05                                                                                         </td><td>1fBK-3XnW6IHbfO4sKoydRSUAz2B45W6Vm0fp_yjic1A                                                                </td><td>https://spreadsheets.google.com/feeds/worksheets/1fBK-3XnW6IHbfO4sKoydRSUAz2B45W6Vm0fp_yjic1A/private/full  </td><td>https://docs.google.com/spreadsheets/d/1fBK-3XnW6IHbfO4sKoydRSUAz2B45W6Vm0fp_yjic1A/edit                    </td><td>https://spreadsheets.google.com/feeds/spreadsheets/private/full/1fBK-3XnW6IHbfO4sKoydRSUAz2B45W6Vm0fp_yjic1A</td><td>NA                                                                                                          </td></tr>\n",
       "\t<tr><td>05_01_variance.xlsx                                                                                         </td><td>sumendar                                                                                                    </td><td>rw                                                                                                          </td><td>new                                                                                                         </td><td>2017-05-20 11:47:54                                                                                         </td><td>1upedgkdcDSMLoBiOij8J5VWLmsDS8izmDPe1IpCu6zc                                                                </td><td>https://spreadsheets.google.com/feeds/worksheets/1upedgkdcDSMLoBiOij8J5VWLmsDS8izmDPe1IpCu6zc/private/full  </td><td>https://docs.google.com/spreadsheets/d/1upedgkdcDSMLoBiOij8J5VWLmsDS8izmDPe1IpCu6zc/edit                    </td><td>https://spreadsheets.google.com/feeds/spreadsheets/private/full/1upedgkdcDSMLoBiOij8J5VWLmsDS8izmDPe1IpCu6zc</td><td>NA                                                                                                          </td></tr>\n",
       "\t<tr><td>11_02.xlsx                                                                                                  </td><td>sumendar                                                                                                    </td><td>rw                                                                                                          </td><td>new                                                                                                         </td><td>2017-05-20 11:47:54                                                                                         </td><td>1wcaPTr2V2AuqxSQQBmiEEl2cZP2dsJUvyHVr7wk87-Y                                                                </td><td>https://spreadsheets.google.com/feeds/worksheets/1wcaPTr2V2AuqxSQQBmiEEl2cZP2dsJUvyHVr7wk87-Y/private/full  </td><td>https://docs.google.com/spreadsheets/d/1wcaPTr2V2AuqxSQQBmiEEl2cZP2dsJUvyHVr7wk87-Y/edit                    </td><td>https://spreadsheets.google.com/feeds/spreadsheets/private/full/1wcaPTr2V2AuqxSQQBmiEEl2cZP2dsJUvyHVr7wk87-Y</td><td>NA                                                                                                          </td></tr>\n",
       "\t<tr><td>04_03_mode.xlsx                                                                                             </td><td>sumendar                                                                                                    </td><td>rw                                                                                                          </td><td>new                                                                                                         </td><td>2017-05-20 11:47:54                                                                                         </td><td>163W1elF5Qd7QtAriRF6NIxyhdVSPC4T-wkcD6UcstnY                                                                </td><td>https://spreadsheets.google.com/feeds/worksheets/163W1elF5Qd7QtAriRF6NIxyhdVSPC4T-wkcD6UcstnY/private/full  </td><td>https://docs.google.com/spreadsheets/d/163W1elF5Qd7QtAriRF6NIxyhdVSPC4T-wkcD6UcstnY/edit                    </td><td>https://spreadsheets.google.com/feeds/spreadsheets/private/full/163W1elF5Qd7QtAriRF6NIxyhdVSPC4T-wkcD6UcstnY</td><td>NA                                                                                                          </td></tr>\n",
       "\t<tr><td>09_02_calcconfint.xlsx                                                                                      </td><td>sumendar                                                                                                    </td><td>rw                                                                                                          </td><td>new                                                                                                         </td><td>2017-05-20 11:47:54                                                                                         </td><td>1SFn0xrVGJG2P8YUphQ17k09xHiYztZmsvjuE0Phc3Yw                                                                </td><td>https://spreadsheets.google.com/feeds/worksheets/1SFn0xrVGJG2P8YUphQ17k09xHiYztZmsvjuE0Phc3Yw/private/full  </td><td>https://docs.google.com/spreadsheets/d/1SFn0xrVGJG2P8YUphQ17k09xHiYztZmsvjuE0Phc3Yw/edit                    </td><td>https://spreadsheets.google.com/feeds/spreadsheets/private/full/1SFn0xrVGJG2P8YUphQ17k09xHiYztZmsvjuE0Phc3Yw</td><td>NA                                                                                                          </td></tr>\n",
       "\t<tr><td>03_03countrules.xlsx                                                                                        </td><td>sumendar                                                                                                    </td><td>rw                                                                                                          </td><td>new                                                                                                         </td><td>2017-05-20 11:47:54                                                                                         </td><td>1eONq3eQCwf_FYGKNhB2JYWUYJod0u1QHto-l0MENob8                                                                </td><td>https://spreadsheets.google.com/feeds/worksheets/1eONq3eQCwf_FYGKNhB2JYWUYJod0u1QHto-l0MENob8/private/full  </td><td>https://docs.google.com/spreadsheets/d/1eONq3eQCwf_FYGKNhB2JYWUYJod0u1QHto-l0MENob8/edit                    </td><td>https://spreadsheets.google.com/feeds/spreadsheets/private/full/1eONq3eQCwf_FYGKNhB2JYWUYJod0u1QHto-l0MENob8</td><td>NA                                                                                                          </td></tr>\n",
       "\t<tr><td>04_02_median.xlsx                                                                                           </td><td>sumendar                                                                                                    </td><td>rw                                                                                                          </td><td>new                                                                                                         </td><td>2017-05-20 11:47:54                                                                                         </td><td>1FseyK_3D8_cCFpwHbhHLfEH8K8HSEgIYmQsBlZQJk9E                                                                </td><td>https://spreadsheets.google.com/feeds/worksheets/1FseyK_3D8_cCFpwHbhHLfEH8K8HSEgIYmQsBlZQJk9E/private/full  </td><td>https://docs.google.com/spreadsheets/d/1FseyK_3D8_cCFpwHbhHLfEH8K8HSEgIYmQsBlZQJk9E/edit                    </td><td>https://spreadsheets.google.com/feeds/spreadsheets/private/full/1FseyK_3D8_cCFpwHbhHLfEH8K8HSEgIYmQsBlZQJk9E</td><td>NA                                                                                                          </td></tr>\n",
       "\t<tr><td>...</td><td>...</td><td>...</td><td>...</td><td>...</td><td>...</td><td>...</td><td>...</td><td>...</td><td>...</td></tr>\n",
       "\t<tr><td>sampleCommaSepDS.csv                                                                                        </td><td>sumendar                                                                                                    </td><td>rw                                                                                                          </td><td>new                                                                                                         </td><td>2016-07-22 14:18:12                                                                                         </td><td>1HlEJhA61I5Fi22t41GoBGLZpnRHUxMDMIKT43eujN6E                                                                </td><td>https://spreadsheets.google.com/feeds/worksheets/1HlEJhA61I5Fi22t41GoBGLZpnRHUxMDMIKT43eujN6E/private/full  </td><td>https://docs.google.com/spreadsheets/d/1HlEJhA61I5Fi22t41GoBGLZpnRHUxMDMIKT43eujN6E/edit                    </td><td>https://spreadsheets.google.com/feeds/spreadsheets/private/full/1HlEJhA61I5Fi22t41GoBGLZpnRHUxMDMIKT43eujN6E</td><td>NA                                                                                                          </td></tr>\n",
       "\t<tr><td>potatoes.csv                                                                                                </td><td>sumendar                                                                                                    </td><td>rw                                                                                                          </td><td>new                                                                                                         </td><td>2016-07-22 14:18:05                                                                                         </td><td>1utzqhJaMS5rZIss8TqofldFxBh0WIS41beocf5qcxuk                                                                </td><td>https://spreadsheets.google.com/feeds/worksheets/1utzqhJaMS5rZIss8TqofldFxBh0WIS41beocf5qcxuk/private/full  </td><td>https://docs.google.com/spreadsheets/d/1utzqhJaMS5rZIss8TqofldFxBh0WIS41beocf5qcxuk/edit                    </td><td>https://spreadsheets.google.com/feeds/spreadsheets/private/full/1utzqhJaMS5rZIss8TqofldFxBh0WIS41beocf5qcxuk</td><td>NA                                                                                                          </td></tr>\n",
       "\t<tr><td>latitude.xlsx                                                                                               </td><td>sumendar                                                                                                    </td><td>rw                                                                                                          </td><td>new                                                                                                         </td><td>2016-07-22 14:18:00                                                                                         </td><td>1edaLuQ08o3WlUeypcDfcNPvDhoLn51q8qHi-qhI0z2U                                                                </td><td>https://spreadsheets.google.com/feeds/worksheets/1edaLuQ08o3WlUeypcDfcNPvDhoLn51q8qHi-qhI0z2U/private/full  </td><td>https://docs.google.com/spreadsheets/d/1edaLuQ08o3WlUeypcDfcNPvDhoLn51q8qHi-qhI0z2U/edit                    </td><td>https://spreadsheets.google.com/feeds/spreadsheets/private/full/1edaLuQ08o3WlUeypcDfcNPvDhoLn51q8qHi-qhI0z2U</td><td>NA                                                                                                          </td></tr>\n",
       "\t<tr><td>urbanpop.xls                                                                                                </td><td>sumendar                                                                                                    </td><td>rw                                                                                                          </td><td>new                                                                                                         </td><td>2016-07-22 14:17:52                                                                                         </td><td>12TLsyiBeOSRMbE7GmIQSmQHMybFFbLwm_nvU30FGy_k                                                                </td><td>https://spreadsheets.google.com/feeds/worksheets/12TLsyiBeOSRMbE7GmIQSmQHMybFFbLwm_nvU30FGy_k/private/full  </td><td>https://docs.google.com/spreadsheets/d/12TLsyiBeOSRMbE7GmIQSmQHMybFFbLwm_nvU30FGy_k/edit                    </td><td>https://spreadsheets.google.com/feeds/spreadsheets/private/full/12TLsyiBeOSRMbE7GmIQSmQHMybFFbLwm_nvU30FGy_k</td><td>NA                                                                                                          </td></tr>\n",
       "\t<tr><td>10th Class Phani High School Students Contact Details: 95 - 96 batch  (Responses)                           </td><td>sumendar                                                                                                    </td><td>rw                                                                                                          </td><td>new                                                                                                         </td><td>2016-06-29 16:07:27                                                                                         </td><td>1qwvGXomX2tNF-FNuAH5Q3-pYw5O9N8VFRB8jePFQIfg                                                                </td><td>https://spreadsheets.google.com/feeds/worksheets/1qwvGXomX2tNF-FNuAH5Q3-pYw5O9N8VFRB8jePFQIfg/private/full  </td><td>https://docs.google.com/spreadsheets/d/1qwvGXomX2tNF-FNuAH5Q3-pYw5O9N8VFRB8jePFQIfg/edit                    </td><td>https://spreadsheets.google.com/feeds/spreadsheets/private/full/1qwvGXomX2tNF-FNuAH5Q3-pYw5O9N8VFRB8jePFQIfg</td><td>NA                                                                                                          </td></tr>\n",
       "\t<tr><td>Alumni of 10th Class Phani High School Contact Details: 95 - 96 batch  (Responses)                          </td><td>sumendar                                                                                                    </td><td>rw                                                                                                          </td><td>new                                                                                                         </td><td>2016-06-29 16:07:25                                                                                         </td><td>1c7beVAgot88h4xuuIDx1FZhoeXafvSnYs9vPm07kDQ0                                                                </td><td>https://spreadsheets.google.com/feeds/worksheets/1c7beVAgot88h4xuuIDx1FZhoeXafvSnYs9vPm07kDQ0/private/full  </td><td>https://docs.google.com/spreadsheets/d/1c7beVAgot88h4xuuIDx1FZhoeXafvSnYs9vPm07kDQ0/edit                    </td><td>https://spreadsheets.google.com/feeds/spreadsheets/private/full/1c7beVAgot88h4xuuIDx1FZhoeXafvSnYs9vPm07kDQ0</td><td>NA                                                                                                          </td></tr>\n",
       "\t<tr><td>10th Class Phani High School Students Contact Details: 95 - 96 batch  (Responses)                           </td><td>sumendar                                                                                                    </td><td>rw                                                                                                          </td><td>new                                                                                                         </td><td>2016-06-29 16:07:24                                                                                         </td><td>1UkUQRbwlANTQq-Y5OaztgwxXfFNUZTGR9ww4A-NfJVA                                                                </td><td>https://spreadsheets.google.com/feeds/worksheets/1UkUQRbwlANTQq-Y5OaztgwxXfFNUZTGR9ww4A-NfJVA/private/full  </td><td>https://docs.google.com/spreadsheets/d/1UkUQRbwlANTQq-Y5OaztgwxXfFNUZTGR9ww4A-NfJVA/edit                    </td><td>https://spreadsheets.google.com/feeds/spreadsheets/private/full/1UkUQRbwlANTQq-Y5OaztgwxXfFNUZTGR9ww4A-NfJVA</td><td>NA                                                                                                          </td></tr>\n",
       "\t<tr><td>10th Class Phani High School Students Contact Details: 95 - 96 batch  (Responses)                           </td><td>sumendar                                                                                                    </td><td>rw                                                                                                          </td><td>new                                                                                                         </td><td>2016-06-29 16:07:23                                                                                         </td><td>1nCzbBkZfY05s5tVwZsTymx_VjU556NzmvK2alCTdyZg                                                                </td><td>https://spreadsheets.google.com/feeds/worksheets/1nCzbBkZfY05s5tVwZsTymx_VjU556NzmvK2alCTdyZg/private/full  </td><td>https://docs.google.com/spreadsheets/d/1nCzbBkZfY05s5tVwZsTymx_VjU556NzmvK2alCTdyZg/edit                    </td><td>https://spreadsheets.google.com/feeds/spreadsheets/private/full/1nCzbBkZfY05s5tVwZsTymx_VjU556NzmvK2alCTdyZg</td><td>NA                                                                                                          </td></tr>\n",
       "\t<tr><td>10th Class Phani High School Students Contact Details: 95 - 96 batch  (Responses)                           </td><td>sumendar                                                                                                    </td><td>rw                                                                                                          </td><td>new                                                                                                         </td><td>2016-06-29 16:07:23                                                                                         </td><td>1gJIjyPMjUvP1OHXcE1cJ4UxjjF4HHXj_bSlNFBoHHJw                                                                </td><td>https://spreadsheets.google.com/feeds/worksheets/1gJIjyPMjUvP1OHXcE1cJ4UxjjF4HHXj_bSlNFBoHHJw/private/full  </td><td>https://docs.google.com/spreadsheets/d/1gJIjyPMjUvP1OHXcE1cJ4UxjjF4HHXj_bSlNFBoHHJw/edit                    </td><td>https://spreadsheets.google.com/feeds/spreadsheets/private/full/1gJIjyPMjUvP1OHXcE1cJ4UxjjF4HHXj_bSlNFBoHHJw</td><td>NA                                                                                                          </td></tr>\n",
       "\t<tr><td>10th Class Phani High School Students Contact Details: 95 - 96 batch  (Responses)                           </td><td>sumendar                                                                                                    </td><td>rw                                                                                                          </td><td>new                                                                                                         </td><td>2016-06-29 16:07:22                                                                                         </td><td>1XEj0KZTvj2w1pdDCLGi4XovWHeHtelA58HNRGF9XofA                                                                </td><td>https://spreadsheets.google.com/feeds/worksheets/1XEj0KZTvj2w1pdDCLGi4XovWHeHtelA58HNRGF9XofA/private/full  </td><td>https://docs.google.com/spreadsheets/d/1XEj0KZTvj2w1pdDCLGi4XovWHeHtelA58HNRGF9XofA/edit                    </td><td>https://spreadsheets.google.com/feeds/spreadsheets/private/full/1XEj0KZTvj2w1pdDCLGi4XovWHeHtelA58HNRGF9XofA</td><td>NA                                                                                                          </td></tr>\n",
       "\t<tr><td>10th Class Phani High School Students Contact Details: 95 - 96 batch  (Responses)                           </td><td>sumendar                                                                                                    </td><td>rw                                                                                                          </td><td>new                                                                                                         </td><td>2016-06-29 16:07:22                                                                                         </td><td>1VhTE2V9w8YnqWBu5-he_i6t389aPdoKXb-OO-EJtedA                                                                </td><td>https://spreadsheets.google.com/feeds/worksheets/1VhTE2V9w8YnqWBu5-he_i6t389aPdoKXb-OO-EJtedA/private/full  </td><td>https://docs.google.com/spreadsheets/d/1VhTE2V9w8YnqWBu5-he_i6t389aPdoKXb-OO-EJtedA/edit                    </td><td>https://spreadsheets.google.com/feeds/spreadsheets/private/full/1VhTE2V9w8YnqWBu5-he_i6t389aPdoKXb-OO-EJtedA</td><td>NA                                                                                                          </td></tr>\n",
       "\t<tr><td>10th Class Phani High School Students Contact Details: 95 - 96 batch  (Responses)                           </td><td>sumendar                                                                                                    </td><td>rw                                                                                                          </td><td>new                                                                                                         </td><td>2016-06-29 16:07:21                                                                                         </td><td>1g8KWfjvijfQvoBJpqdhnH1pfUXElkuThUY7AFXnE7wk                                                                </td><td>https://spreadsheets.google.com/feeds/worksheets/1g8KWfjvijfQvoBJpqdhnH1pfUXElkuThUY7AFXnE7wk/private/full  </td><td>https://docs.google.com/spreadsheets/d/1g8KWfjvijfQvoBJpqdhnH1pfUXElkuThUY7AFXnE7wk/edit                    </td><td>https://spreadsheets.google.com/feeds/spreadsheets/private/full/1g8KWfjvijfQvoBJpqdhnH1pfUXElkuThUY7AFXnE7wk</td><td>NA                                                                                                          </td></tr>\n",
       "\t<tr><td>10th Class Phani High School Students Contact Details: 95 - 96 batch  (Responses)                           </td><td>sumendar                                                                                                    </td><td>rw                                                                                                          </td><td>new                                                                                                         </td><td>2016-06-29 16:07:21                                                                                         </td><td>1IEor2pi98lmcYufYJv5qvvMhK4FgKFjkhKuPj3O-CWs                                                                </td><td>https://spreadsheets.google.com/feeds/worksheets/1IEor2pi98lmcYufYJv5qvvMhK4FgKFjkhKuPj3O-CWs/private/full  </td><td>https://docs.google.com/spreadsheets/d/1IEor2pi98lmcYufYJv5qvvMhK4FgKFjkhKuPj3O-CWs/edit                    </td><td>https://spreadsheets.google.com/feeds/spreadsheets/private/full/1IEor2pi98lmcYufYJv5qvvMhK4FgKFjkhKuPj3O-CWs</td><td>NA                                                                                                          </td></tr>\n",
       "\t<tr><td>10th Class Phani High School Students Contact Details: 95 - 96 batch  (Responses)                           </td><td>sumendar                                                                                                    </td><td>rw                                                                                                          </td><td>new                                                                                                         </td><td>2016-06-29 16:07:21                                                                                         </td><td>1GXiwalCHSe5tuo_pIVqPw9JDqrU2zjpzFyYHO9PN49w                                                                </td><td>https://spreadsheets.google.com/feeds/worksheets/1GXiwalCHSe5tuo_pIVqPw9JDqrU2zjpzFyYHO9PN49w/private/full  </td><td>https://docs.google.com/spreadsheets/d/1GXiwalCHSe5tuo_pIVqPw9JDqrU2zjpzFyYHO9PN49w/edit                    </td><td>https://spreadsheets.google.com/feeds/spreadsheets/private/full/1GXiwalCHSe5tuo_pIVqPw9JDqrU2zjpzFyYHO9PN49w</td><td>NA                                                                                                          </td></tr>\n",
       "\t<tr><td>10th Class Phani High School Students Contact Details: 95 - 96 batch  (Responses)                           </td><td>sumendar                                                                                                    </td><td>rw                                                                                                          </td><td>new                                                                                                         </td><td>2016-06-29 16:07:19                                                                                         </td><td>1IZnilhaYWnwAv1yHOX9qH-9Sh_8fl703m8vb236E0m8                                                                </td><td>https://spreadsheets.google.com/feeds/worksheets/1IZnilhaYWnwAv1yHOX9qH-9Sh_8fl703m8vb236E0m8/private/full  </td><td>https://docs.google.com/spreadsheets/d/1IZnilhaYWnwAv1yHOX9qH-9Sh_8fl703m8vb236E0m8/edit                    </td><td>https://spreadsheets.google.com/feeds/spreadsheets/private/full/1IZnilhaYWnwAv1yHOX9qH-9Sh_8fl703m8vb236E0m8</td><td>NA                                                                                                          </td></tr>\n",
       "\t<tr><td>10th Class Phani High School Students Contact Details: 95 - 96 batch  (Responses)                           </td><td>sumendar                                                                                                    </td><td>rw                                                                                                          </td><td>new                                                                                                         </td><td>2016-06-29 16:07:19                                                                                         </td><td>1I8sDtPkBPX7Gu9Y89Zl2ni9JcH4SdRH4wfn0a55TmtA                                                                </td><td>https://spreadsheets.google.com/feeds/worksheets/1I8sDtPkBPX7Gu9Y89Zl2ni9JcH4SdRH4wfn0a55TmtA/private/full  </td><td>https://docs.google.com/spreadsheets/d/1I8sDtPkBPX7Gu9Y89Zl2ni9JcH4SdRH4wfn0a55TmtA/edit                    </td><td>https://spreadsheets.google.com/feeds/spreadsheets/private/full/1I8sDtPkBPX7Gu9Y89Zl2ni9JcH4SdRH4wfn0a55TmtA</td><td>NA                                                                                                          </td></tr>\n",
       "\t<tr><td>10th Class Phani High School Students Contact Details: 95 - 96 batch  (Responses)                           </td><td>sumendar                                                                                                    </td><td>rw                                                                                                          </td><td>new                                                                                                         </td><td>2016-06-29 16:07:18                                                                                         </td><td>1zHoXDEsX0EwCIshnrQkwy7UXPBR1s_180f8CRYubdJY                                                                </td><td>https://spreadsheets.google.com/feeds/worksheets/1zHoXDEsX0EwCIshnrQkwy7UXPBR1s_180f8CRYubdJY/private/full  </td><td>https://docs.google.com/spreadsheets/d/1zHoXDEsX0EwCIshnrQkwy7UXPBR1s_180f8CRYubdJY/edit                    </td><td>https://spreadsheets.google.com/feeds/spreadsheets/private/full/1zHoXDEsX0EwCIshnrQkwy7UXPBR1s_180f8CRYubdJY</td><td>NA                                                                                                          </td></tr>\n",
       "\t<tr><td>10th Class Phani High School Students Contact Details: 95 - 96 batch  (Responses)                           </td><td>sumendar                                                                                                    </td><td>rw                                                                                                          </td><td>new                                                                                                         </td><td>2016-06-29 16:07:17                                                                                         </td><td>1EqJDLdEB4sIpi30OIRKgU8TC_2a04yBq3rPf3LviVHM                                                                </td><td>https://spreadsheets.google.com/feeds/worksheets/1EqJDLdEB4sIpi30OIRKgU8TC_2a04yBq3rPf3LviVHM/private/full  </td><td>https://docs.google.com/spreadsheets/d/1EqJDLdEB4sIpi30OIRKgU8TC_2a04yBq3rPf3LviVHM/edit                    </td><td>https://spreadsheets.google.com/feeds/spreadsheets/private/full/1EqJDLdEB4sIpi30OIRKgU8TC_2a04yBq3rPf3LviVHM</td><td>NA                                                                                                          </td></tr>\n",
       "\t<tr><td>10th Class Phani High School Students Contact Details: 95 - 96 batch  (Responses)                           </td><td>sumendar                                                                                                    </td><td>rw                                                                                                          </td><td>new                                                                                                         </td><td>2016-06-29 16:07:17                                                                                         </td><td>1A9uX2A2sirSCPP8HbVx2eSb9IobMepiU_Wjbh2B8h9s                                                                </td><td>https://spreadsheets.google.com/feeds/worksheets/1A9uX2A2sirSCPP8HbVx2eSb9IobMepiU_Wjbh2B8h9s/private/full  </td><td>https://docs.google.com/spreadsheets/d/1A9uX2A2sirSCPP8HbVx2eSb9IobMepiU_Wjbh2B8h9s/edit                    </td><td>https://spreadsheets.google.com/feeds/spreadsheets/private/full/1A9uX2A2sirSCPP8HbVx2eSb9IobMepiU_Wjbh2B8h9s</td><td>NA                                                                                                          </td></tr>\n",
       "\t<tr><td>10th Class Phani High School Students Contact Details: 95 - 96 batch  (Responses)                           </td><td>sumendar                                                                                                    </td><td>rw                                                                                                          </td><td>new                                                                                                         </td><td>2016-06-29 16:07:17                                                                                         </td><td>178JxSmZz5wPMKNSLhibMG1-h8-f05_Kv736kOmp6Fho                                                                </td><td>https://spreadsheets.google.com/feeds/worksheets/178JxSmZz5wPMKNSLhibMG1-h8-f05_Kv736kOmp6Fho/private/full  </td><td>https://docs.google.com/spreadsheets/d/178JxSmZz5wPMKNSLhibMG1-h8-f05_Kv736kOmp6Fho/edit                    </td><td>https://spreadsheets.google.com/feeds/spreadsheets/private/full/178JxSmZz5wPMKNSLhibMG1-h8-f05_Kv736kOmp6Fho</td><td>NA                                                                                                          </td></tr>\n",
       "\t<tr><td>WCBDA_Project_Soccer_data                                                                                   </td><td>sumendar                                                                                                    </td><td>rw                                                                                                          </td><td>new                                                                                                         </td><td>2016-06-27 14:23:17                                                                                         </td><td>1dmZqdZMr3QgSUTsbAy6o3YO9jg2fdv7zNGiM6cgZf8M                                                                </td><td>https://spreadsheets.google.com/feeds/worksheets/1dmZqdZMr3QgSUTsbAy6o3YO9jg2fdv7zNGiM6cgZf8M/private/full  </td><td>https://docs.google.com/spreadsheets/d/1dmZqdZMr3QgSUTsbAy6o3YO9jg2fdv7zNGiM6cgZf8M/edit                    </td><td>https://spreadsheets.google.com/feeds/spreadsheets/private/full/1dmZqdZMr3QgSUTsbAy6o3YO9jg2fdv7zNGiM6cgZf8M</td><td>NA                                                                                                          </td></tr>\n",
       "\t<tr><td>Decision Stats Interviews                                                                                   </td><td>ohri2007                                                                                                    </td><td>r                                                                                                           </td><td>new                                                                                                         </td><td>2016-06-26 23:23:53                                                                                         </td><td>17AWR-oJzoscX_zbVI1lK7IXGcZTtL9PQwCoyqCaEnTk                                                                </td><td>https://spreadsheets.google.com/feeds/worksheets/17AWR-oJzoscX_zbVI1lK7IXGcZTtL9PQwCoyqCaEnTk/private/values</td><td>https://docs.google.com/spreadsheets/d/17AWR-oJzoscX_zbVI1lK7IXGcZTtL9PQwCoyqCaEnTk/edit                    </td><td>https://spreadsheets.google.com/feeds/spreadsheets/private/full/17AWR-oJzoscX_zbVI1lK7IXGcZTtL9PQwCoyqCaEnTk</td><td>NA                                                                                                          </td></tr>\n",
       "\t<tr><td>Keywords(Best) of Basic Statistics                                                                          </td><td>sumendar                                                                                                    </td><td>rw                                                                                                          </td><td>new                                                                                                         </td><td>2016-06-24 22:39:45                                                                                         </td><td>1LlHD4TZi7t4Y2GMFSGkBEHthNq0amPoyYW0_AxPm78Q                                                                </td><td>https://spreadsheets.google.com/feeds/worksheets/1LlHD4TZi7t4Y2GMFSGkBEHthNq0amPoyYW0_AxPm78Q/private/full  </td><td>https://docs.google.com/spreadsheets/d/1LlHD4TZi7t4Y2GMFSGkBEHthNq0amPoyYW0_AxPm78Q/edit                    </td><td>https://spreadsheets.google.com/feeds/spreadsheets/private/full/1LlHD4TZi7t4Y2GMFSGkBEHthNq0amPoyYW0_AxPm78Q</td><td>NA                                                                                                          </td></tr>\n",
       "\t<tr><td>Klout scores (Lesson 7)                                                                                     </td><td>liz                                                                                                         </td><td>r                                                                                                           </td><td>new                                                                                                         </td><td>2016-01-13 21:37:57                                                                                         </td><td>11A9tK-aRdukQ5lqTOO_yfQABJIUndmvehByu7JZtor8                                                                </td><td>https://spreadsheets.google.com/feeds/worksheets/11A9tK-aRdukQ5lqTOO_yfQABJIUndmvehByu7JZtor8/private/values</td><td>https://docs.google.com/spreadsheets/d/11A9tK-aRdukQ5lqTOO_yfQABJIUndmvehByu7JZtor8/edit                    </td><td>https://spreadsheets.google.com/feeds/spreadsheets/private/full/11A9tK-aRdukQ5lqTOO_yfQABJIUndmvehByu7JZtor8</td><td>NA                                                                                                          </td></tr>\n",
       "\t<tr><td>How many Facebook friends do Udacians have? - Lesson 3 [How many Facebook friends do you have?]             </td><td>liz                                                                                                         </td><td>r                                                                                                           </td><td>new                                                                                                         </td><td>2015-12-21 18:10:16                                                                                         </td><td>1tf3SIc7wUZtXQpSdnpysv8VuX9iSGMUYYnS5rAaKDfk                                                                </td><td>https://spreadsheets.google.com/feeds/worksheets/1tf3SIc7wUZtXQpSdnpysv8VuX9iSGMUYYnS5rAaKDfk/private/values</td><td>https://docs.google.com/spreadsheets/d/1tf3SIc7wUZtXQpSdnpysv8VuX9iSGMUYYnS5rAaKDfk/edit                    </td><td>https://spreadsheets.google.com/feeds/spreadsheets/private/full/1tf3SIc7wUZtXQpSdnpysv8VuX9iSGMUYYnS5rAaKDfk</td><td>NA                                                                                                          </td></tr>\n",
       "\t<tr><td>BBC Results - Lesson 1 [Should you get a good night's sleep?]                                               </td><td>liz                                                                                                         </td><td>r                                                                                                           </td><td>new                                                                                                         </td><td>2015-09-23 21:01:38                                                                                         </td><td>175n6b3gq2ePqnlkWCWaMeN8T0J-QeFJBL1iXuPwqF-c                                                                </td><td>https://spreadsheets.google.com/feeds/worksheets/175n6b3gq2ePqnlkWCWaMeN8T0J-QeFJBL1iXuPwqF-c/private/values</td><td>https://docs.google.com/spreadsheets/d/175n6b3gq2ePqnlkWCWaMeN8T0J-QeFJBL1iXuPwqF-c/edit                    </td><td>https://spreadsheets.google.com/feeds/spreadsheets/private/full/175n6b3gq2ePqnlkWCWaMeN8T0J-QeFJBL1iXuPwqF-c</td><td>NA                                                                                                          </td></tr>\n",
       "\t<tr><td>Word Search (Orientation)                                                                                   </td><td>liz                                                                                                         </td><td>r                                                                                                           </td><td>new                                                                                                         </td><td>2015-08-25 00:19:03                                                                                         </td><td>110tDSfShiQkkBuF4Kr4Ck2SsbtGRJBZOOCT5X3gm4gc                                                                </td><td>https://spreadsheets.google.com/feeds/worksheets/110tDSfShiQkkBuF4Kr4Ck2SsbtGRJBZOOCT5X3gm4gc/private/values</td><td>https://docs.google.com/spreadsheets/d/110tDSfShiQkkBuF4Kr4Ck2SsbtGRJBZOOCT5X3gm4gc/edit                    </td><td>https://spreadsheets.google.com/feeds/spreadsheets/private/full/110tDSfShiQkkBuF4Kr4Ck2SsbtGRJBZOOCT5X3gm4gc</td><td>NA                                                                                                          </td></tr>\n",
       "\t<tr><td>Correlations (Lesson 14)                                                                                    </td><td>liz                                                                                                         </td><td>r                                                                                                           </td><td>new                                                                                                         </td><td>2015-08-25 00:19:03                                                                                         </td><td>1jMLcMJkVb_lUo5SSyI30lD9rBvtGreZZ2fWKC7dBtOk                                                                </td><td>https://spreadsheets.google.com/feeds/worksheets/1jMLcMJkVb_lUo5SSyI30lD9rBvtGreZZ2fWKC7dBtOk/private/values</td><td>https://docs.google.com/spreadsheets/d/1jMLcMJkVb_lUo5SSyI30lD9rBvtGreZZ2fWKC7dBtOk/edit                    </td><td>https://spreadsheets.google.com/feeds/spreadsheets/private/full/1jMLcMJkVb_lUo5SSyI30lD9rBvtGreZZ2fWKC7dBtOk</td><td>NA                                                                                                          </td></tr>\n",
       "\t<tr><td>Child labour data                                                                                           </td><td>george.arnett22                                                                                             </td><td>r                                                                                                           </td><td>new                                                                                                         </td><td>2013-09-23 17:25:45                                                                                         </td><td>18ApnwssrY5qejLSZY2Y7T_G6X4Lp8BvyhBTOcOi4sNU                                                                </td><td>https://spreadsheets.google.com/feeds/worksheets/18ApnwssrY5qejLSZY2Y7T_G6X4Lp8BvyhBTOcOi4sNU/private/values</td><td>https://docs.google.com/spreadsheets/d/18ApnwssrY5qejLSZY2Y7T_G6X4Lp8BvyhBTOcOi4sNU/edit                    </td><td>https://spreadsheets.google.com/feeds/spreadsheets/private/full/18ApnwssrY5qejLSZY2Y7T_G6X4Lp8BvyhBTOcOi4sNU</td><td>NA                                                                                                          </td></tr>\n",
       "\t<tr><td>Snowfall (in) - Orientation Week                                                                            </td><td>liz                                                                                                         </td><td>r                                                                                                           </td><td>new                                                                                                         </td><td>2013-05-20 21:26:57                                                                                         </td><td>1gjWIQksotDpzMh1stSJh_WZjqIN3oN6jQ8Dlx5ZTUts                                                                </td><td>https://spreadsheets.google.com/feeds/worksheets/1gjWIQksotDpzMh1stSJh_WZjqIN3oN6jQ8Dlx5ZTUts/private/values</td><td>https://docs.google.com/spreadsheets/d/1gjWIQksotDpzMh1stSJh_WZjqIN3oN6jQ8Dlx5ZTUts/edit                    </td><td>https://spreadsheets.google.com/feeds/spreadsheets/private/full/1gjWIQksotDpzMh1stSJh_WZjqIN3oN6jQ8Dlx5ZTUts</td><td>NA                                                                                                          </td></tr>\n",
       "</tbody>\n",
       "</table>\n"
      ],
      "text/latex": [
       "\\begin{tabular}{r|llllllllll}\n",
       " sheet\\_title & author & perm & version & updated & sheet\\_key & ws\\_feed & alternate & self & alt\\_key\\\\\n",
       "\\hline\n",
       "\t sample.xlsx                                                                                                    & sumendar                                                                                                       & rw                                                                                                             & new                                                                                                            & 2018-01-25 00:33:53                                                                                            & 1SrqxnCEph0cOahDAaiACfIH\\_G8Fqvw4HdieJv0M8EQM                                                                 & https://spreadsheets.google.com/feeds/worksheets/1SrqxnCEph0cOahDAaiACfIH\\_G8Fqvw4HdieJv0M8EQM/private/full   & https://docs.google.com/spreadsheets/d/1SrqxnCEph0cOahDAaiACfIH\\_G8Fqvw4HdieJv0M8EQM/edit                     & https://spreadsheets.google.com/feeds/spreadsheets/private/full/1SrqxnCEph0cOahDAaiACfIH\\_G8Fqvw4HdieJv0M8EQM & NA                                                                                                            \\\\\n",
       "\t BBC Results - Lesson 1                                                                                             & liz                                                                                                                & r                                                                                                                  & new                                                                                                                & 2017-11-16 06:10:34                                                                                                & 18yUpkEmTbVja4KUi2\\_JN8Y7QyPGzzJ\\_yRE\\_FrjS-a-A                                                                 & https://spreadsheets.google.com/feeds/worksheets/18yUpkEmTbVja4KUi2\\_JN8Y7QyPGzzJ\\_yRE\\_FrjS-a-A/private/values & https://docs.google.com/spreadsheets/d/18yUpkEmTbVja4KUi2\\_JN8Y7QyPGzzJ\\_yRE\\_FrjS-a-A/edit                     & https://spreadsheets.google.com/feeds/spreadsheets/private/full/18yUpkEmTbVja4KUi2\\_JN8Y7QyPGzzJ\\_yRE\\_FrjS-a-A & NA                                                                                                                \\\\\n",
       "\t DSx1 Class Directory - Data Science: Data to Insights (Responses)                                            & mitpemarketing                                                                                               & r                                                                                                            & new                                                                                                          & 2017-07-18 14:08:40                                                                                          & 1WDibz0V8rB6AeHG1n56gYLOC7FxyEKt0B8ZfKcMMyR8                                                                 & https://spreadsheets.google.com/feeds/worksheets/1WDibz0V8rB6AeHG1n56gYLOC7FxyEKt0B8ZfKcMMyR8/private/values & https://docs.google.com/spreadsheets/d/1WDibz0V8rB6AeHG1n56gYLOC7FxyEKt0B8ZfKcMMyR8/edit                     & https://spreadsheets.google.com/feeds/spreadsheets/private/full/1WDibz0V8rB6AeHG1n56gYLOC7FxyEKt0B8ZfKcMMyR8 & NA                                                                                                          \\\\\n",
       "\t 09\\_02.xlsx                                                                                                     & sumendar                                                                                                         & rw                                                                                                               & new                                                                                                              & 2017-05-20 12:23:12                                                                                              & 1rUcpJSz8lJ37noX\\_\\_POiDC7769Aa9WfwNJaGJbyouUI                                                                 & https://spreadsheets.google.com/feeds/worksheets/1rUcpJSz8lJ37noX\\_\\_POiDC7769Aa9WfwNJaGJbyouUI/private/full   & https://docs.google.com/spreadsheets/d/1rUcpJSz8lJ37noX\\_\\_POiDC7769Aa9WfwNJaGJbyouUI/edit                     & https://spreadsheets.google.com/feeds/spreadsheets/private/full/1rUcpJSz8lJ37noX\\_\\_POiDC7769Aa9WfwNJaGJbyouUI & NA                                                                                                              \\\\\n",
       "\t 09\\_01.xlsx                                                                                                 & sumendar                                                                                                     & rw                                                                                                           & new                                                                                                          & 2017-05-20 12:23:11                                                                                          & 1lQ4IkyDwmN2xcdtpHHAwUgf7jjlJMT1djANJizNl2S8                                                                 & https://spreadsheets.google.com/feeds/worksheets/1lQ4IkyDwmN2xcdtpHHAwUgf7jjlJMT1djANJizNl2S8/private/full   & https://docs.google.com/spreadsheets/d/1lQ4IkyDwmN2xcdtpHHAwUgf7jjlJMT1djANJizNl2S8/edit                     & https://spreadsheets.google.com/feeds/spreadsheets/private/full/1lQ4IkyDwmN2xcdtpHHAwUgf7jjlJMT1djANJizNl2S8 & NA                                                                                                          \\\\\n",
       "\t 07\\_04.xlsx                                                                                                     & sumendar                                                                                                         & rw                                                                                                               & new                                                                                                              & 2017-05-20 12:23:08                                                                                              & 140h\\_WFxtJ7a4dew7j-Vyso2RA-rfmTG158\\_wGVf-gZs                                                                 & https://spreadsheets.google.com/feeds/worksheets/140h\\_WFxtJ7a4dew7j-Vyso2RA-rfmTG158\\_wGVf-gZs/private/full   & https://docs.google.com/spreadsheets/d/140h\\_WFxtJ7a4dew7j-Vyso2RA-rfmTG158\\_wGVf-gZs/edit                     & https://spreadsheets.google.com/feeds/spreadsheets/private/full/140h\\_WFxtJ7a4dew7j-Vyso2RA-rfmTG158\\_wGVf-gZs & NA                                                                                                              \\\\\n",
       "\t 01\\_04\\_toolpak.xlsx                                                                                       & sumendar                                                                                                     & rw                                                                                                           & new                                                                                                          & 2017-05-20 11:48:34                                                                                          & 1bYXZM2dQ16ShAYNQ021Dc4LNhUKZMOyB7irE-9k3kgc                                                                 & https://spreadsheets.google.com/feeds/worksheets/1bYXZM2dQ16ShAYNQ021Dc4LNhUKZMOyB7irE-9k3kgc/private/full   & https://docs.google.com/spreadsheets/d/1bYXZM2dQ16ShAYNQ021Dc4LNhUKZMOyB7irE-9k3kgc/edit                     & https://spreadsheets.google.com/feeds/spreadsheets/private/full/1bYXZM2dQ16ShAYNQ021Dc4LNhUKZMOyB7irE-9k3kgc & NA                                                                                                          \\\\\n",
       "\t 13\\_04\\_ttestind.xlsx                                                                                      & sumendar                                                                                                     & rw                                                                                                           & new                                                                                                          & 2017-05-20 11:48:27                                                                                          & 11YSjKXkRKTuo4SIyBokHZ3ZoOWzRk3jEN-jTlAx8Epo                                                                 & https://spreadsheets.google.com/feeds/worksheets/11YSjKXkRKTuo4SIyBokHZ3ZoOWzRk3jEN-jTlAx8Epo/private/full   & https://docs.google.com/spreadsheets/d/11YSjKXkRKTuo4SIyBokHZ3ZoOWzRk3jEN-jTlAx8Epo/edit                     & https://spreadsheets.google.com/feeds/spreadsheets/private/full/11YSjKXkRKTuo4SIyBokHZ3ZoOWzRk3jEN-jTlAx8Epo & NA                                                                                                          \\\\\n",
       "\t 12\\_01\\_chisq.xlsx                                                                                         & sumendar                                                                                                     & rw                                                                                                           & new                                                                                                          & 2017-05-20 11:48:27                                                                                          & 1ISbpY8GtO7lwp3xMcBsJZnReqly6iQwDdldgO-rDN90                                                                 & https://spreadsheets.google.com/feeds/worksheets/1ISbpY8GtO7lwp3xMcBsJZnReqly6iQwDdldgO-rDN90/private/full   & https://docs.google.com/spreadsheets/d/1ISbpY8GtO7lwp3xMcBsJZnReqly6iQwDdldgO-rDN90/edit                     & https://spreadsheets.google.com/feeds/spreadsheets/private/full/1ISbpY8GtO7lwp3xMcBsJZnReqly6iQwDdldgO-rDN90 & NA                                                                                                          \\\\\n",
       "\t 01\\_03\\_excelgraphics.xlsx                                                                                 & sumendar                                                                                                     & rw                                                                                                           & new                                                                                                          & 2017-05-20 11:48:27                                                                                          & 10WAta0C6Du5rjpq8jcdgif4fIIgl62aIXUnh6z9U7H0                                                                 & https://spreadsheets.google.com/feeds/worksheets/10WAta0C6Du5rjpq8jcdgif4fIIgl62aIXUnh6z9U7H0/private/full   & https://docs.google.com/spreadsheets/d/10WAta0C6Du5rjpq8jcdgif4fIIgl62aIXUnh6z9U7H0/edit                     & https://spreadsheets.google.com/feeds/spreadsheets/private/full/10WAta0C6Du5rjpq8jcdgif4fIIgl62aIXUnh6z9U7H0 & NA                                                                                                          \\\\\n",
       "\t 01\\_02\\_statfunctions.xlsx                                                                                 & sumendar                                                                                                     & rw                                                                                                           & new                                                                                                          & 2017-05-20 11:48:27                                                                                          & 1mmAsXFHT5tQl3LnRfqARG-QsdosHwqXkGh-FwWFpdoM                                                                 & https://spreadsheets.google.com/feeds/worksheets/1mmAsXFHT5tQl3LnRfqARG-QsdosHwqXkGh-FwWFpdoM/private/full   & https://docs.google.com/spreadsheets/d/1mmAsXFHT5tQl3LnRfqARG-QsdosHwqXkGh-FwWFpdoM/edit                     & https://spreadsheets.google.com/feeds/spreadsheets/private/full/1mmAsXFHT5tQl3LnRfqARG-QsdosHwqXkGh-FwWFpdoM & NA                                                                                                          \\\\\n",
       "\t 01\\_01\\_excelfunctions.xlsx                                                                                  & sumendar                                                                                                       & rw                                                                                                             & new                                                                                                            & 2017-05-20 11:48:27                                                                                            & 1euUrIFgLo5W7\\_sta6Gub3gzt88sfW2ZIBjYbVOS7Do0                                                                 & https://spreadsheets.google.com/feeds/worksheets/1euUrIFgLo5W7\\_sta6Gub3gzt88sfW2ZIBjYbVOS7Do0/private/full   & https://docs.google.com/spreadsheets/d/1euUrIFgLo5W7\\_sta6Gub3gzt88sfW2ZIBjYbVOS7Do0/edit                     & https://spreadsheets.google.com/feeds/spreadsheets/private/full/1euUrIFgLo5W7\\_sta6Gub3gzt88sfW2ZIBjYbVOS7Do0 & NA                                                                                                            \\\\\n",
       "\t 14\\_03\\_matchedttest.xlsx                                                                                    & sumendar                                                                                                       & rw                                                                                                             & new                                                                                                            & 2017-05-20 11:48:26                                                                                            & 1kjMDPpYXOM4Pl7Kgll9\\_Zy3CAmMgP-24-LaN-t1DKHs                                                                 & https://spreadsheets.google.com/feeds/worksheets/1kjMDPpYXOM4Pl7Kgll9\\_Zy3CAmMgP-24-LaN-t1DKHs/private/full   & https://docs.google.com/spreadsheets/d/1kjMDPpYXOM4Pl7Kgll9\\_Zy3CAmMgP-24-LaN-t1DKHs/edit                     & https://spreadsheets.google.com/feeds/spreadsheets/private/full/1kjMDPpYXOM4Pl7Kgll9\\_Zy3CAmMgP-24-LaN-t1DKHs & NA                                                                                                            \\\\\n",
       "\t 15\\_01\\_ftest.xlsx                                                                                           & sumendar                                                                                                       & rw                                                                                                             & new                                                                                                            & 2017-05-20 11:48:22                                                                                            & 1giDpe1qRJCBdl2xlkXQRrrs\\_ku9VjDL2Y21DkwRInNA                                                                 & https://spreadsheets.google.com/feeds/worksheets/1giDpe1qRJCBdl2xlkXQRrrs\\_ku9VjDL2Y21DkwRInNA/private/full   & https://docs.google.com/spreadsheets/d/1giDpe1qRJCBdl2xlkXQRrrs\\_ku9VjDL2Y21DkwRInNA/edit                     & https://spreadsheets.google.com/feeds/spreadsheets/private/full/1giDpe1qRJCBdl2xlkXQRrrs\\_ku9VjDL2Y21DkwRInNA & NA                                                                                                            \\\\\n",
       "\t 19\\_03\\_twofactANOVA.xlsx                                                                                      & sumendar                                                                                                         & rw                                                                                                               & new                                                                                                              & 2017-05-20 11:48:10                                                                                              & 1k1z0QyXK6GW7A2\\_SUUlaTkPJ2eZuN6exgXhsfOj8D\\_g                                                                 & https://spreadsheets.google.com/feeds/worksheets/1k1z0QyXK6GW7A2\\_SUUlaTkPJ2eZuN6exgXhsfOj8D\\_g/private/full   & https://docs.google.com/spreadsheets/d/1k1z0QyXK6GW7A2\\_SUUlaTkPJ2eZuN6exgXhsfOj8D\\_g/edit                     & https://spreadsheets.google.com/feeds/spreadsheets/private/full/1k1z0QyXK6GW7A2\\_SUUlaTkPJ2eZuN6exgXhsfOj8D\\_g & NA                                                                                                              \\\\\n",
       "\t 20\\_03\\_linregANOVA.xlsx                                                                                     & sumendar                                                                                                       & rw                                                                                                             & new                                                                                                            & 2017-05-20 11:48:10                                                                                            & 1AKWKWiHeYc1BhZBF9\\_rjGaxBzLNPpsSd2SyRIVn7Dpc                                                                 & https://spreadsheets.google.com/feeds/worksheets/1AKWKWiHeYc1BhZBF9\\_rjGaxBzLNPpsSd2SyRIVn7Dpc/private/full   & https://docs.google.com/spreadsheets/d/1AKWKWiHeYc1BhZBF9\\_rjGaxBzLNPpsSd2SyRIVn7Dpc/edit                     & https://spreadsheets.google.com/feeds/spreadsheets/private/full/1AKWKWiHeYc1BhZBF9\\_rjGaxBzLNPpsSd2SyRIVn7Dpc & NA                                                                                                            \\\\\n",
       "\t 20\\_01\\_linreg.xlsx                                                                                          & sumendar                                                                                                       & rw                                                                                                             & new                                                                                                            & 2017-05-20 11:48:10                                                                                            & 1\\_ll3SDsKDlYMuPaQ9AlxORGu4bPYe2SYSrIlh2GDxUc                                                                 & https://spreadsheets.google.com/feeds/worksheets/1\\_ll3SDsKDlYMuPaQ9AlxORGu4bPYe2SYSrIlh2GDxUc/private/full   & https://docs.google.com/spreadsheets/d/1\\_ll3SDsKDlYMuPaQ9AlxORGu4bPYe2SYSrIlh2GDxUc/edit                     & https://spreadsheets.google.com/feeds/spreadsheets/private/full/1\\_ll3SDsKDlYMuPaQ9AlxORGu4bPYe2SYSrIlh2GDxUc & NA                                                                                                            \\\\\n",
       "\t 16\\_03\\_applyingANOVA.xlsx                                                                                   & sumendar                                                                                                       & rw                                                                                                             & new                                                                                                            & 2017-05-20 11:48:10                                                                                            & 1Ab5ApL5Ve0o\\_ls9IkAXGkJjKOEykG6xR7Iv1-srT7dk                                                                 & https://spreadsheets.google.com/feeds/worksheets/1Ab5ApL5Ve0o\\_ls9IkAXGkJjKOEykG6xR7Iv1-srT7dk/private/full   & https://docs.google.com/spreadsheets/d/1Ab5ApL5Ve0o\\_ls9IkAXGkJjKOEykG6xR7Iv1-srT7dk/edit                     & https://spreadsheets.google.com/feeds/spreadsheets/private/full/1Ab5ApL5Ve0o\\_ls9IkAXGkJjKOEykG6xR7Iv1-srT7dk & NA                                                                                                            \\\\\n",
       "\t 18\\_02\\_repmeasANOVA.xlsx                                                                                      & sumendar                                                                                                         & rw                                                                                                               & new                                                                                                              & 2017-05-20 11:48:10                                                                                              & 1NEuCFhlzfIe8jN\\_NSzCp60MGxp0ef7OQgxg\\_QDJVWog                                                                 & https://spreadsheets.google.com/feeds/worksheets/1NEuCFhlzfIe8jN\\_NSzCp60MGxp0ef7OQgxg\\_QDJVWog/private/full   & https://docs.google.com/spreadsheets/d/1NEuCFhlzfIe8jN\\_NSzCp60MGxp0ef7OQgxg\\_QDJVWog/edit                     & https://spreadsheets.google.com/feeds/spreadsheets/private/full/1NEuCFhlzfIe8jN\\_NSzCp60MGxp0ef7OQgxg\\_QDJVWog & NA                                                                                                              \\\\\n",
       "\t 20\\_02\\_varregline.xlsx                                                                                    & sumendar                                                                                                     & rw                                                                                                           & new                                                                                                          & 2017-05-20 11:48:10                                                                                          & 15YGPhRE5a7gBBrSGK5fitlY6wX6oAtNIMMQLvNkt-5A                                                                 & https://spreadsheets.google.com/feeds/worksheets/15YGPhRE5a7gBBrSGK5fitlY6wX6oAtNIMMQLvNkt-5A/private/full   & https://docs.google.com/spreadsheets/d/15YGPhRE5a7gBBrSGK5fitlY6wX6oAtNIMMQLvNkt-5A/edit                     & https://spreadsheets.google.com/feeds/spreadsheets/private/full/15YGPhRE5a7gBBrSGK5fitlY6wX6oAtNIMMQLvNkt-5A & NA                                                                                                          \\\\\n",
       "\t 20\\_04\\_multreg.xlsx                                                                                         & sumendar                                                                                                       & rw                                                                                                             & new                                                                                                            & 2017-05-20 11:48:10                                                                                            & 1V3Tqk539XTYhIrBymz2eKirFhTACqEKsk\\_tW7NBHBJo                                                                 & https://spreadsheets.google.com/feeds/worksheets/1V3Tqk539XTYhIrBymz2eKirFhTACqEKsk\\_tW7NBHBJo/private/full   & https://docs.google.com/spreadsheets/d/1V3Tqk539XTYhIrBymz2eKirFhTACqEKsk\\_tW7NBHBJo/edit                     & https://spreadsheets.google.com/feeds/spreadsheets/private/full/1V3Tqk539XTYhIrBymz2eKirFhTACqEKsk\\_tW7NBHBJo & NA                                                                                                            \\\\\n",
       "\t 21\\_02\\_corrcoeff.xlsx                                                                                     & sumendar                                                                                                     & rw                                                                                                           & new                                                                                                          & 2017-05-20 11:48:10                                                                                          & 17Zo18mX9JDoGfvxjfDh8vkVJK1Ln7XD6bX4t4sA03kQ                                                                 & https://spreadsheets.google.com/feeds/worksheets/17Zo18mX9JDoGfvxjfDh8vkVJK1Ln7XD6bX4t4sA03kQ/private/full   & https://docs.google.com/spreadsheets/d/17Zo18mX9JDoGfvxjfDh8vkVJK1Ln7XD6bX4t4sA03kQ/edit                     & https://spreadsheets.google.com/feeds/spreadsheets/private/full/17Zo18mX9JDoGfvxjfDh8vkVJK1Ln7XD6bX4t4sA03kQ & NA                                                                                                          \\\\\n",
       "\t 21-02 Examples.xlsx                                                                                          & sumendar                                                                                                     & rw                                                                                                           & new                                                                                                          & 2017-05-20 11:48:09                                                                                          & 18MRKiO4qgMAQq05JU44G4E6U3WL3wTS1hm6NLUx-clE                                                                 & https://spreadsheets.google.com/feeds/worksheets/18MRKiO4qgMAQq05JU44G4E6U3WL3wTS1hm6NLUx-clE/private/full   & https://docs.google.com/spreadsheets/d/18MRKiO4qgMAQq05JU44G4E6U3WL3wTS1hm6NLUx-clE/edit                     & https://spreadsheets.google.com/feeds/spreadsheets/private/full/18MRKiO4qgMAQq05JU44G4E6U3WL3wTS1hm6NLUx-clE & NA                                                                                                          \\\\\n",
       "\t 04\\_01\\_mean.xlsx                                                                                            & sumendar                                                                                                       & rw                                                                                                             & new                                                                                                            & 2017-05-20 11:48:05                                                                                            & 1fBK-3XnW6IHbfO4sKoydRSUAz2B45W6Vm0fp\\_yjic1A                                                                 & https://spreadsheets.google.com/feeds/worksheets/1fBK-3XnW6IHbfO4sKoydRSUAz2B45W6Vm0fp\\_yjic1A/private/full   & https://docs.google.com/spreadsheets/d/1fBK-3XnW6IHbfO4sKoydRSUAz2B45W6Vm0fp\\_yjic1A/edit                     & https://spreadsheets.google.com/feeds/spreadsheets/private/full/1fBK-3XnW6IHbfO4sKoydRSUAz2B45W6Vm0fp\\_yjic1A & NA                                                                                                            \\\\\n",
       "\t 05\\_01\\_variance.xlsx                                                                                      & sumendar                                                                                                     & rw                                                                                                           & new                                                                                                          & 2017-05-20 11:47:54                                                                                          & 1upedgkdcDSMLoBiOij8J5VWLmsDS8izmDPe1IpCu6zc                                                                 & https://spreadsheets.google.com/feeds/worksheets/1upedgkdcDSMLoBiOij8J5VWLmsDS8izmDPe1IpCu6zc/private/full   & https://docs.google.com/spreadsheets/d/1upedgkdcDSMLoBiOij8J5VWLmsDS8izmDPe1IpCu6zc/edit                     & https://spreadsheets.google.com/feeds/spreadsheets/private/full/1upedgkdcDSMLoBiOij8J5VWLmsDS8izmDPe1IpCu6zc & NA                                                                                                          \\\\\n",
       "\t 11\\_02.xlsx                                                                                                 & sumendar                                                                                                     & rw                                                                                                           & new                                                                                                          & 2017-05-20 11:47:54                                                                                          & 1wcaPTr2V2AuqxSQQBmiEEl2cZP2dsJUvyHVr7wk87-Y                                                                 & https://spreadsheets.google.com/feeds/worksheets/1wcaPTr2V2AuqxSQQBmiEEl2cZP2dsJUvyHVr7wk87-Y/private/full   & https://docs.google.com/spreadsheets/d/1wcaPTr2V2AuqxSQQBmiEEl2cZP2dsJUvyHVr7wk87-Y/edit                     & https://spreadsheets.google.com/feeds/spreadsheets/private/full/1wcaPTr2V2AuqxSQQBmiEEl2cZP2dsJUvyHVr7wk87-Y & NA                                                                                                          \\\\\n",
       "\t 04\\_03\\_mode.xlsx                                                                                          & sumendar                                                                                                     & rw                                                                                                           & new                                                                                                          & 2017-05-20 11:47:54                                                                                          & 163W1elF5Qd7QtAriRF6NIxyhdVSPC4T-wkcD6UcstnY                                                                 & https://spreadsheets.google.com/feeds/worksheets/163W1elF5Qd7QtAriRF6NIxyhdVSPC4T-wkcD6UcstnY/private/full   & https://docs.google.com/spreadsheets/d/163W1elF5Qd7QtAriRF6NIxyhdVSPC4T-wkcD6UcstnY/edit                     & https://spreadsheets.google.com/feeds/spreadsheets/private/full/163W1elF5Qd7QtAriRF6NIxyhdVSPC4T-wkcD6UcstnY & NA                                                                                                          \\\\\n",
       "\t 09\\_02\\_calcconfint.xlsx                                                                                   & sumendar                                                                                                     & rw                                                                                                           & new                                                                                                          & 2017-05-20 11:47:54                                                                                          & 1SFn0xrVGJG2P8YUphQ17k09xHiYztZmsvjuE0Phc3Yw                                                                 & https://spreadsheets.google.com/feeds/worksheets/1SFn0xrVGJG2P8YUphQ17k09xHiYztZmsvjuE0Phc3Yw/private/full   & https://docs.google.com/spreadsheets/d/1SFn0xrVGJG2P8YUphQ17k09xHiYztZmsvjuE0Phc3Yw/edit                     & https://spreadsheets.google.com/feeds/spreadsheets/private/full/1SFn0xrVGJG2P8YUphQ17k09xHiYztZmsvjuE0Phc3Yw & NA                                                                                                          \\\\\n",
       "\t 03\\_03countrules.xlsx                                                                                         & sumendar                                                                                                       & rw                                                                                                             & new                                                                                                            & 2017-05-20 11:47:54                                                                                            & 1eONq3eQCwf\\_FYGKNhB2JYWUYJod0u1QHto-l0MENob8                                                                 & https://spreadsheets.google.com/feeds/worksheets/1eONq3eQCwf\\_FYGKNhB2JYWUYJod0u1QHto-l0MENob8/private/full   & https://docs.google.com/spreadsheets/d/1eONq3eQCwf\\_FYGKNhB2JYWUYJod0u1QHto-l0MENob8/edit                     & https://spreadsheets.google.com/feeds/spreadsheets/private/full/1eONq3eQCwf\\_FYGKNhB2JYWUYJod0u1QHto-l0MENob8 & NA                                                                                                            \\\\\n",
       "\t 04\\_02\\_median.xlsx                                                                                            & sumendar                                                                                                         & rw                                                                                                               & new                                                                                                              & 2017-05-20 11:47:54                                                                                              & 1FseyK\\_3D8\\_cCFpwHbhHLfEH8K8HSEgIYmQsBlZQJk9E                                                                 & https://spreadsheets.google.com/feeds/worksheets/1FseyK\\_3D8\\_cCFpwHbhHLfEH8K8HSEgIYmQsBlZQJk9E/private/full   & https://docs.google.com/spreadsheets/d/1FseyK\\_3D8\\_cCFpwHbhHLfEH8K8HSEgIYmQsBlZQJk9E/edit                     & https://spreadsheets.google.com/feeds/spreadsheets/private/full/1FseyK\\_3D8\\_cCFpwHbhHLfEH8K8HSEgIYmQsBlZQJk9E & NA                                                                                                              \\\\\n",
       "\t ... & ... & ... & ... & ... & ... & ... & ... & ... & ...\\\\\n",
       "\t sampleCommaSepDS.csv                                                                                         & sumendar                                                                                                     & rw                                                                                                           & new                                                                                                          & 2016-07-22 14:18:12                                                                                          & 1HlEJhA61I5Fi22t41GoBGLZpnRHUxMDMIKT43eujN6E                                                                 & https://spreadsheets.google.com/feeds/worksheets/1HlEJhA61I5Fi22t41GoBGLZpnRHUxMDMIKT43eujN6E/private/full   & https://docs.google.com/spreadsheets/d/1HlEJhA61I5Fi22t41GoBGLZpnRHUxMDMIKT43eujN6E/edit                     & https://spreadsheets.google.com/feeds/spreadsheets/private/full/1HlEJhA61I5Fi22t41GoBGLZpnRHUxMDMIKT43eujN6E & NA                                                                                                          \\\\\n",
       "\t potatoes.csv                                                                                                 & sumendar                                                                                                     & rw                                                                                                           & new                                                                                                          & 2016-07-22 14:18:05                                                                                          & 1utzqhJaMS5rZIss8TqofldFxBh0WIS41beocf5qcxuk                                                                 & https://spreadsheets.google.com/feeds/worksheets/1utzqhJaMS5rZIss8TqofldFxBh0WIS41beocf5qcxuk/private/full   & https://docs.google.com/spreadsheets/d/1utzqhJaMS5rZIss8TqofldFxBh0WIS41beocf5qcxuk/edit                     & https://spreadsheets.google.com/feeds/spreadsheets/private/full/1utzqhJaMS5rZIss8TqofldFxBh0WIS41beocf5qcxuk & NA                                                                                                          \\\\\n",
       "\t latitude.xlsx                                                                                                & sumendar                                                                                                     & rw                                                                                                           & new                                                                                                          & 2016-07-22 14:18:00                                                                                          & 1edaLuQ08o3WlUeypcDfcNPvDhoLn51q8qHi-qhI0z2U                                                                 & https://spreadsheets.google.com/feeds/worksheets/1edaLuQ08o3WlUeypcDfcNPvDhoLn51q8qHi-qhI0z2U/private/full   & https://docs.google.com/spreadsheets/d/1edaLuQ08o3WlUeypcDfcNPvDhoLn51q8qHi-qhI0z2U/edit                     & https://spreadsheets.google.com/feeds/spreadsheets/private/full/1edaLuQ08o3WlUeypcDfcNPvDhoLn51q8qHi-qhI0z2U & NA                                                                                                          \\\\\n",
       "\t urbanpop.xls                                                                                                     & sumendar                                                                                                         & rw                                                                                                               & new                                                                                                              & 2016-07-22 14:17:52                                                                                              & 12TLsyiBeOSRMbE7GmIQSmQHMybFFbLwm\\_nvU30FGy\\_k                                                                 & https://spreadsheets.google.com/feeds/worksheets/12TLsyiBeOSRMbE7GmIQSmQHMybFFbLwm\\_nvU30FGy\\_k/private/full   & https://docs.google.com/spreadsheets/d/12TLsyiBeOSRMbE7GmIQSmQHMybFFbLwm\\_nvU30FGy\\_k/edit                     & https://spreadsheets.google.com/feeds/spreadsheets/private/full/12TLsyiBeOSRMbE7GmIQSmQHMybFFbLwm\\_nvU30FGy\\_k & NA                                                                                                              \\\\\n",
       "\t 10th Class Phani High School Students Contact Details: 95 - 96 batch  (Responses)                            & sumendar                                                                                                     & rw                                                                                                           & new                                                                                                          & 2016-06-29 16:07:27                                                                                          & 1qwvGXomX2tNF-FNuAH5Q3-pYw5O9N8VFRB8jePFQIfg                                                                 & https://spreadsheets.google.com/feeds/worksheets/1qwvGXomX2tNF-FNuAH5Q3-pYw5O9N8VFRB8jePFQIfg/private/full   & https://docs.google.com/spreadsheets/d/1qwvGXomX2tNF-FNuAH5Q3-pYw5O9N8VFRB8jePFQIfg/edit                     & https://spreadsheets.google.com/feeds/spreadsheets/private/full/1qwvGXomX2tNF-FNuAH5Q3-pYw5O9N8VFRB8jePFQIfg & NA                                                                                                          \\\\\n",
       "\t Alumni of 10th Class Phani High School Contact Details: 95 - 96 batch  (Responses)                           & sumendar                                                                                                     & rw                                                                                                           & new                                                                                                          & 2016-06-29 16:07:25                                                                                          & 1c7beVAgot88h4xuuIDx1FZhoeXafvSnYs9vPm07kDQ0                                                                 & https://spreadsheets.google.com/feeds/worksheets/1c7beVAgot88h4xuuIDx1FZhoeXafvSnYs9vPm07kDQ0/private/full   & https://docs.google.com/spreadsheets/d/1c7beVAgot88h4xuuIDx1FZhoeXafvSnYs9vPm07kDQ0/edit                     & https://spreadsheets.google.com/feeds/spreadsheets/private/full/1c7beVAgot88h4xuuIDx1FZhoeXafvSnYs9vPm07kDQ0 & NA                                                                                                          \\\\\n",
       "\t 10th Class Phani High School Students Contact Details: 95 - 96 batch  (Responses)                            & sumendar                                                                                                     & rw                                                                                                           & new                                                                                                          & 2016-06-29 16:07:24                                                                                          & 1UkUQRbwlANTQq-Y5OaztgwxXfFNUZTGR9ww4A-NfJVA                                                                 & https://spreadsheets.google.com/feeds/worksheets/1UkUQRbwlANTQq-Y5OaztgwxXfFNUZTGR9ww4A-NfJVA/private/full   & https://docs.google.com/spreadsheets/d/1UkUQRbwlANTQq-Y5OaztgwxXfFNUZTGR9ww4A-NfJVA/edit                     & https://spreadsheets.google.com/feeds/spreadsheets/private/full/1UkUQRbwlANTQq-Y5OaztgwxXfFNUZTGR9ww4A-NfJVA & NA                                                                                                          \\\\\n",
       "\t 10th Class Phani High School Students Contact Details: 95 - 96 batch  (Responses)                              & sumendar                                                                                                       & rw                                                                                                             & new                                                                                                            & 2016-06-29 16:07:23                                                                                            & 1nCzbBkZfY05s5tVwZsTymx\\_VjU556NzmvK2alCTdyZg                                                                 & https://spreadsheets.google.com/feeds/worksheets/1nCzbBkZfY05s5tVwZsTymx\\_VjU556NzmvK2alCTdyZg/private/full   & https://docs.google.com/spreadsheets/d/1nCzbBkZfY05s5tVwZsTymx\\_VjU556NzmvK2alCTdyZg/edit                     & https://spreadsheets.google.com/feeds/spreadsheets/private/full/1nCzbBkZfY05s5tVwZsTymx\\_VjU556NzmvK2alCTdyZg & NA                                                                                                            \\\\\n",
       "\t 10th Class Phani High School Students Contact Details: 95 - 96 batch  (Responses)                              & sumendar                                                                                                       & rw                                                                                                             & new                                                                                                            & 2016-06-29 16:07:23                                                                                            & 1gJIjyPMjUvP1OHXcE1cJ4UxjjF4HHXj\\_bSlNFBoHHJw                                                                 & https://spreadsheets.google.com/feeds/worksheets/1gJIjyPMjUvP1OHXcE1cJ4UxjjF4HHXj\\_bSlNFBoHHJw/private/full   & https://docs.google.com/spreadsheets/d/1gJIjyPMjUvP1OHXcE1cJ4UxjjF4HHXj\\_bSlNFBoHHJw/edit                     & https://spreadsheets.google.com/feeds/spreadsheets/private/full/1gJIjyPMjUvP1OHXcE1cJ4UxjjF4HHXj\\_bSlNFBoHHJw & NA                                                                                                            \\\\\n",
       "\t 10th Class Phani High School Students Contact Details: 95 - 96 batch  (Responses)                            & sumendar                                                                                                     & rw                                                                                                           & new                                                                                                          & 2016-06-29 16:07:22                                                                                          & 1XEj0KZTvj2w1pdDCLGi4XovWHeHtelA58HNRGF9XofA                                                                 & https://spreadsheets.google.com/feeds/worksheets/1XEj0KZTvj2w1pdDCLGi4XovWHeHtelA58HNRGF9XofA/private/full   & https://docs.google.com/spreadsheets/d/1XEj0KZTvj2w1pdDCLGi4XovWHeHtelA58HNRGF9XofA/edit                     & https://spreadsheets.google.com/feeds/spreadsheets/private/full/1XEj0KZTvj2w1pdDCLGi4XovWHeHtelA58HNRGF9XofA & NA                                                                                                          \\\\\n",
       "\t 10th Class Phani High School Students Contact Details: 95 - 96 batch  (Responses)                              & sumendar                                                                                                       & rw                                                                                                             & new                                                                                                            & 2016-06-29 16:07:22                                                                                            & 1VhTE2V9w8YnqWBu5-he\\_i6t389aPdoKXb-OO-EJtedA                                                                 & https://spreadsheets.google.com/feeds/worksheets/1VhTE2V9w8YnqWBu5-he\\_i6t389aPdoKXb-OO-EJtedA/private/full   & https://docs.google.com/spreadsheets/d/1VhTE2V9w8YnqWBu5-he\\_i6t389aPdoKXb-OO-EJtedA/edit                     & https://spreadsheets.google.com/feeds/spreadsheets/private/full/1VhTE2V9w8YnqWBu5-he\\_i6t389aPdoKXb-OO-EJtedA & NA                                                                                                            \\\\\n",
       "\t 10th Class Phani High School Students Contact Details: 95 - 96 batch  (Responses)                            & sumendar                                                                                                     & rw                                                                                                           & new                                                                                                          & 2016-06-29 16:07:21                                                                                          & 1g8KWfjvijfQvoBJpqdhnH1pfUXElkuThUY7AFXnE7wk                                                                 & https://spreadsheets.google.com/feeds/worksheets/1g8KWfjvijfQvoBJpqdhnH1pfUXElkuThUY7AFXnE7wk/private/full   & https://docs.google.com/spreadsheets/d/1g8KWfjvijfQvoBJpqdhnH1pfUXElkuThUY7AFXnE7wk/edit                     & https://spreadsheets.google.com/feeds/spreadsheets/private/full/1g8KWfjvijfQvoBJpqdhnH1pfUXElkuThUY7AFXnE7wk & NA                                                                                                          \\\\\n",
       "\t 10th Class Phani High School Students Contact Details: 95 - 96 batch  (Responses)                            & sumendar                                                                                                     & rw                                                                                                           & new                                                                                                          & 2016-06-29 16:07:21                                                                                          & 1IEor2pi98lmcYufYJv5qvvMhK4FgKFjkhKuPj3O-CWs                                                                 & https://spreadsheets.google.com/feeds/worksheets/1IEor2pi98lmcYufYJv5qvvMhK4FgKFjkhKuPj3O-CWs/private/full   & https://docs.google.com/spreadsheets/d/1IEor2pi98lmcYufYJv5qvvMhK4FgKFjkhKuPj3O-CWs/edit                     & https://spreadsheets.google.com/feeds/spreadsheets/private/full/1IEor2pi98lmcYufYJv5qvvMhK4FgKFjkhKuPj3O-CWs & NA                                                                                                          \\\\\n",
       "\t 10th Class Phani High School Students Contact Details: 95 - 96 batch  (Responses)                              & sumendar                                                                                                       & rw                                                                                                             & new                                                                                                            & 2016-06-29 16:07:21                                                                                            & 1GXiwalCHSe5tuo\\_pIVqPw9JDqrU2zjpzFyYHO9PN49w                                                                 & https://spreadsheets.google.com/feeds/worksheets/1GXiwalCHSe5tuo\\_pIVqPw9JDqrU2zjpzFyYHO9PN49w/private/full   & https://docs.google.com/spreadsheets/d/1GXiwalCHSe5tuo\\_pIVqPw9JDqrU2zjpzFyYHO9PN49w/edit                     & https://spreadsheets.google.com/feeds/spreadsheets/private/full/1GXiwalCHSe5tuo\\_pIVqPw9JDqrU2zjpzFyYHO9PN49w & NA                                                                                                            \\\\\n",
       "\t 10th Class Phani High School Students Contact Details: 95 - 96 batch  (Responses)                              & sumendar                                                                                                       & rw                                                                                                             & new                                                                                                            & 2016-06-29 16:07:19                                                                                            & 1IZnilhaYWnwAv1yHOX9qH-9Sh\\_8fl703m8vb236E0m8                                                                 & https://spreadsheets.google.com/feeds/worksheets/1IZnilhaYWnwAv1yHOX9qH-9Sh\\_8fl703m8vb236E0m8/private/full   & https://docs.google.com/spreadsheets/d/1IZnilhaYWnwAv1yHOX9qH-9Sh\\_8fl703m8vb236E0m8/edit                     & https://spreadsheets.google.com/feeds/spreadsheets/private/full/1IZnilhaYWnwAv1yHOX9qH-9Sh\\_8fl703m8vb236E0m8 & NA                                                                                                            \\\\\n",
       "\t 10th Class Phani High School Students Contact Details: 95 - 96 batch  (Responses)                            & sumendar                                                                                                     & rw                                                                                                           & new                                                                                                          & 2016-06-29 16:07:19                                                                                          & 1I8sDtPkBPX7Gu9Y89Zl2ni9JcH4SdRH4wfn0a55TmtA                                                                 & https://spreadsheets.google.com/feeds/worksheets/1I8sDtPkBPX7Gu9Y89Zl2ni9JcH4SdRH4wfn0a55TmtA/private/full   & https://docs.google.com/spreadsheets/d/1I8sDtPkBPX7Gu9Y89Zl2ni9JcH4SdRH4wfn0a55TmtA/edit                     & https://spreadsheets.google.com/feeds/spreadsheets/private/full/1I8sDtPkBPX7Gu9Y89Zl2ni9JcH4SdRH4wfn0a55TmtA & NA                                                                                                          \\\\\n",
       "\t 10th Class Phani High School Students Contact Details: 95 - 96 batch  (Responses)                              & sumendar                                                                                                       & rw                                                                                                             & new                                                                                                            & 2016-06-29 16:07:18                                                                                            & 1zHoXDEsX0EwCIshnrQkwy7UXPBR1s\\_180f8CRYubdJY                                                                 & https://spreadsheets.google.com/feeds/worksheets/1zHoXDEsX0EwCIshnrQkwy7UXPBR1s\\_180f8CRYubdJY/private/full   & https://docs.google.com/spreadsheets/d/1zHoXDEsX0EwCIshnrQkwy7UXPBR1s\\_180f8CRYubdJY/edit                     & https://spreadsheets.google.com/feeds/spreadsheets/private/full/1zHoXDEsX0EwCIshnrQkwy7UXPBR1s\\_180f8CRYubdJY & NA                                                                                                            \\\\\n",
       "\t 10th Class Phani High School Students Contact Details: 95 - 96 batch  (Responses)                              & sumendar                                                                                                       & rw                                                                                                             & new                                                                                                            & 2016-06-29 16:07:17                                                                                            & 1EqJDLdEB4sIpi30OIRKgU8TC\\_2a04yBq3rPf3LviVHM                                                                 & https://spreadsheets.google.com/feeds/worksheets/1EqJDLdEB4sIpi30OIRKgU8TC\\_2a04yBq3rPf3LviVHM/private/full   & https://docs.google.com/spreadsheets/d/1EqJDLdEB4sIpi30OIRKgU8TC\\_2a04yBq3rPf3LviVHM/edit                     & https://spreadsheets.google.com/feeds/spreadsheets/private/full/1EqJDLdEB4sIpi30OIRKgU8TC\\_2a04yBq3rPf3LviVHM & NA                                                                                                            \\\\\n",
       "\t 10th Class Phani High School Students Contact Details: 95 - 96 batch  (Responses)                              & sumendar                                                                                                       & rw                                                                                                             & new                                                                                                            & 2016-06-29 16:07:17                                                                                            & 1A9uX2A2sirSCPP8HbVx2eSb9IobMepiU\\_Wjbh2B8h9s                                                                 & https://spreadsheets.google.com/feeds/worksheets/1A9uX2A2sirSCPP8HbVx2eSb9IobMepiU\\_Wjbh2B8h9s/private/full   & https://docs.google.com/spreadsheets/d/1A9uX2A2sirSCPP8HbVx2eSb9IobMepiU\\_Wjbh2B8h9s/edit                     & https://spreadsheets.google.com/feeds/spreadsheets/private/full/1A9uX2A2sirSCPP8HbVx2eSb9IobMepiU\\_Wjbh2B8h9s & NA                                                                                                            \\\\\n",
       "\t 10th Class Phani High School Students Contact Details: 95 - 96 batch  (Responses)                              & sumendar                                                                                                       & rw                                                                                                             & new                                                                                                            & 2016-06-29 16:07:17                                                                                            & 178JxSmZz5wPMKNSLhibMG1-h8-f05\\_Kv736kOmp6Fho                                                                 & https://spreadsheets.google.com/feeds/worksheets/178JxSmZz5wPMKNSLhibMG1-h8-f05\\_Kv736kOmp6Fho/private/full   & https://docs.google.com/spreadsheets/d/178JxSmZz5wPMKNSLhibMG1-h8-f05\\_Kv736kOmp6Fho/edit                     & https://spreadsheets.google.com/feeds/spreadsheets/private/full/178JxSmZz5wPMKNSLhibMG1-h8-f05\\_Kv736kOmp6Fho & NA                                                                                                            \\\\\n",
       "\t WCBDA\\_Project\\_Soccer\\_data                                                                              & sumendar                                                                                                     & rw                                                                                                           & new                                                                                                          & 2016-06-27 14:23:17                                                                                          & 1dmZqdZMr3QgSUTsbAy6o3YO9jg2fdv7zNGiM6cgZf8M                                                                 & https://spreadsheets.google.com/feeds/worksheets/1dmZqdZMr3QgSUTsbAy6o3YO9jg2fdv7zNGiM6cgZf8M/private/full   & https://docs.google.com/spreadsheets/d/1dmZqdZMr3QgSUTsbAy6o3YO9jg2fdv7zNGiM6cgZf8M/edit                     & https://spreadsheets.google.com/feeds/spreadsheets/private/full/1dmZqdZMr3QgSUTsbAy6o3YO9jg2fdv7zNGiM6cgZf8M & NA                                                                                                          \\\\\n",
       "\t Decision Stats Interviews                                                                                      & ohri2007                                                                                                       & r                                                                                                              & new                                                                                                            & 2016-06-26 23:23:53                                                                                            & 17AWR-oJzoscX\\_zbVI1lK7IXGcZTtL9PQwCoyqCaEnTk                                                                 & https://spreadsheets.google.com/feeds/worksheets/17AWR-oJzoscX\\_zbVI1lK7IXGcZTtL9PQwCoyqCaEnTk/private/values & https://docs.google.com/spreadsheets/d/17AWR-oJzoscX\\_zbVI1lK7IXGcZTtL9PQwCoyqCaEnTk/edit                     & https://spreadsheets.google.com/feeds/spreadsheets/private/full/17AWR-oJzoscX\\_zbVI1lK7IXGcZTtL9PQwCoyqCaEnTk & NA                                                                                                            \\\\\n",
       "\t Keywords(Best) of Basic Statistics                                                                             & sumendar                                                                                                       & rw                                                                                                             & new                                                                                                            & 2016-06-24 22:39:45                                                                                            & 1LlHD4TZi7t4Y2GMFSGkBEHthNq0amPoyYW0\\_AxPm78Q                                                                 & https://spreadsheets.google.com/feeds/worksheets/1LlHD4TZi7t4Y2GMFSGkBEHthNq0amPoyYW0\\_AxPm78Q/private/full   & https://docs.google.com/spreadsheets/d/1LlHD4TZi7t4Y2GMFSGkBEHthNq0amPoyYW0\\_AxPm78Q/edit                     & https://spreadsheets.google.com/feeds/spreadsheets/private/full/1LlHD4TZi7t4Y2GMFSGkBEHthNq0amPoyYW0\\_AxPm78Q & NA                                                                                                            \\\\\n",
       "\t Klout scores (Lesson 7)                                                                                        & liz                                                                                                            & r                                                                                                              & new                                                                                                            & 2016-01-13 21:37:57                                                                                            & 11A9tK-aRdukQ5lqTOO\\_yfQABJIUndmvehByu7JZtor8                                                                 & https://spreadsheets.google.com/feeds/worksheets/11A9tK-aRdukQ5lqTOO\\_yfQABJIUndmvehByu7JZtor8/private/values & https://docs.google.com/spreadsheets/d/11A9tK-aRdukQ5lqTOO\\_yfQABJIUndmvehByu7JZtor8/edit                     & https://spreadsheets.google.com/feeds/spreadsheets/private/full/11A9tK-aRdukQ5lqTOO\\_yfQABJIUndmvehByu7JZtor8 & NA                                                                                                            \\\\\n",
       "\t How many Facebook friends do Udacians have? - Lesson 3 {[}How many Facebook friends do you have?{]}          & liz                                                                                                          & r                                                                                                            & new                                                                                                          & 2015-12-21 18:10:16                                                                                          & 1tf3SIc7wUZtXQpSdnpysv8VuX9iSGMUYYnS5rAaKDfk                                                                 & https://spreadsheets.google.com/feeds/worksheets/1tf3SIc7wUZtXQpSdnpysv8VuX9iSGMUYYnS5rAaKDfk/private/values & https://docs.google.com/spreadsheets/d/1tf3SIc7wUZtXQpSdnpysv8VuX9iSGMUYYnS5rAaKDfk/edit                     & https://spreadsheets.google.com/feeds/spreadsheets/private/full/1tf3SIc7wUZtXQpSdnpysv8VuX9iSGMUYYnS5rAaKDfk & NA                                                                                                          \\\\\n",
       "\t BBC Results - Lesson 1 {[}Should you get a good night's sleep?{]}                                            & liz                                                                                                          & r                                                                                                            & new                                                                                                          & 2015-09-23 21:01:38                                                                                          & 175n6b3gq2ePqnlkWCWaMeN8T0J-QeFJBL1iXuPwqF-c                                                                 & https://spreadsheets.google.com/feeds/worksheets/175n6b3gq2ePqnlkWCWaMeN8T0J-QeFJBL1iXuPwqF-c/private/values & https://docs.google.com/spreadsheets/d/175n6b3gq2ePqnlkWCWaMeN8T0J-QeFJBL1iXuPwqF-c/edit                     & https://spreadsheets.google.com/feeds/spreadsheets/private/full/175n6b3gq2ePqnlkWCWaMeN8T0J-QeFJBL1iXuPwqF-c & NA                                                                                                          \\\\\n",
       "\t Word Search (Orientation)                                                                                    & liz                                                                                                          & r                                                                                                            & new                                                                                                          & 2015-08-25 00:19:03                                                                                          & 110tDSfShiQkkBuF4Kr4Ck2SsbtGRJBZOOCT5X3gm4gc                                                                 & https://spreadsheets.google.com/feeds/worksheets/110tDSfShiQkkBuF4Kr4Ck2SsbtGRJBZOOCT5X3gm4gc/private/values & https://docs.google.com/spreadsheets/d/110tDSfShiQkkBuF4Kr4Ck2SsbtGRJBZOOCT5X3gm4gc/edit                     & https://spreadsheets.google.com/feeds/spreadsheets/private/full/110tDSfShiQkkBuF4Kr4Ck2SsbtGRJBZOOCT5X3gm4gc & NA                                                                                                          \\\\\n",
       "\t Correlations (Lesson 14)                                                                                       & liz                                                                                                            & r                                                                                                              & new                                                                                                            & 2015-08-25 00:19:03                                                                                            & 1jMLcMJkVb\\_lUo5SSyI30lD9rBvtGreZZ2fWKC7dBtOk                                                                 & https://spreadsheets.google.com/feeds/worksheets/1jMLcMJkVb\\_lUo5SSyI30lD9rBvtGreZZ2fWKC7dBtOk/private/values & https://docs.google.com/spreadsheets/d/1jMLcMJkVb\\_lUo5SSyI30lD9rBvtGreZZ2fWKC7dBtOk/edit                     & https://spreadsheets.google.com/feeds/spreadsheets/private/full/1jMLcMJkVb\\_lUo5SSyI30lD9rBvtGreZZ2fWKC7dBtOk & NA                                                                                                            \\\\\n",
       "\t Child labour data                                                                                              & george.arnett22                                                                                                & r                                                                                                              & new                                                                                                            & 2013-09-23 17:25:45                                                                                            & 18ApnwssrY5qejLSZY2Y7T\\_G6X4Lp8BvyhBTOcOi4sNU                                                                 & https://spreadsheets.google.com/feeds/worksheets/18ApnwssrY5qejLSZY2Y7T\\_G6X4Lp8BvyhBTOcOi4sNU/private/values & https://docs.google.com/spreadsheets/d/18ApnwssrY5qejLSZY2Y7T\\_G6X4Lp8BvyhBTOcOi4sNU/edit                     & https://spreadsheets.google.com/feeds/spreadsheets/private/full/18ApnwssrY5qejLSZY2Y7T\\_G6X4Lp8BvyhBTOcOi4sNU & NA                                                                                                            \\\\\n",
       "\t Snowfall (in) - Orientation Week                                                                               & liz                                                                                                            & r                                                                                                              & new                                                                                                            & 2013-05-20 21:26:57                                                                                            & 1gjWIQksotDpzMh1stSJh\\_WZjqIN3oN6jQ8Dlx5ZTUts                                                                 & https://spreadsheets.google.com/feeds/worksheets/1gjWIQksotDpzMh1stSJh\\_WZjqIN3oN6jQ8Dlx5ZTUts/private/values & https://docs.google.com/spreadsheets/d/1gjWIQksotDpzMh1stSJh\\_WZjqIN3oN6jQ8Dlx5ZTUts/edit                     & https://spreadsheets.google.com/feeds/spreadsheets/private/full/1gjWIQksotDpzMh1stSJh\\_WZjqIN3oN6jQ8Dlx5ZTUts & NA                                                                                                            \\\\\n",
       "\\end{tabular}\n"
      ],
      "text/markdown": [
       "\n",
       "sheet_title | author | perm | version | updated | sheet_key | ws_feed | alternate | self | alt_key | \n",
       "|---|---|---|---|---|---|---|---|---|---|---|---|---|---|---|---|---|---|---|---|---|---|---|---|---|---|---|---|---|---|---|---|---|---|---|---|---|---|---|---|---|---|---|---|---|---|---|---|---|---|---|---|---|---|---|---|---|---|---|---|---|\n",
       "| sample.xlsx                                                                                                  | sumendar                                                                                                     | rw                                                                                                           | new                                                                                                          | 2018-01-25 00:33:53                                                                                          | 1SrqxnCEph0cOahDAaiACfIH_G8Fqvw4HdieJv0M8EQM                                                                 | https://spreadsheets.google.com/feeds/worksheets/1SrqxnCEph0cOahDAaiACfIH_G8Fqvw4HdieJv0M8EQM/private/full   | https://docs.google.com/spreadsheets/d/1SrqxnCEph0cOahDAaiACfIH_G8Fqvw4HdieJv0M8EQM/edit                     | https://spreadsheets.google.com/feeds/spreadsheets/private/full/1SrqxnCEph0cOahDAaiACfIH_G8Fqvw4HdieJv0M8EQM | NA                                                                                                           | \n",
       "| BBC Results - Lesson 1                                                                                       | liz                                                                                                          | r                                                                                                            | new                                                                                                          | 2017-11-16 06:10:34                                                                                          | 18yUpkEmTbVja4KUi2_JN8Y7QyPGzzJ_yRE_FrjS-a-A                                                                 | https://spreadsheets.google.com/feeds/worksheets/18yUpkEmTbVja4KUi2_JN8Y7QyPGzzJ_yRE_FrjS-a-A/private/values | https://docs.google.com/spreadsheets/d/18yUpkEmTbVja4KUi2_JN8Y7QyPGzzJ_yRE_FrjS-a-A/edit                     | https://spreadsheets.google.com/feeds/spreadsheets/private/full/18yUpkEmTbVja4KUi2_JN8Y7QyPGzzJ_yRE_FrjS-a-A | NA                                                                                                           | \n",
       "| DSx1 Class Directory - Data Science: Data to Insights (Responses)                                            | mitpemarketing                                                                                               | r                                                                                                            | new                                                                                                          | 2017-07-18 14:08:40                                                                                          | 1WDibz0V8rB6AeHG1n56gYLOC7FxyEKt0B8ZfKcMMyR8                                                                 | https://spreadsheets.google.com/feeds/worksheets/1WDibz0V8rB6AeHG1n56gYLOC7FxyEKt0B8ZfKcMMyR8/private/values | https://docs.google.com/spreadsheets/d/1WDibz0V8rB6AeHG1n56gYLOC7FxyEKt0B8ZfKcMMyR8/edit                     | https://spreadsheets.google.com/feeds/spreadsheets/private/full/1WDibz0V8rB6AeHG1n56gYLOC7FxyEKt0B8ZfKcMMyR8 | NA                                                                                                           | \n",
       "| 09_02.xlsx                                                                                                   | sumendar                                                                                                     | rw                                                                                                           | new                                                                                                          | 2017-05-20 12:23:12                                                                                          | 1rUcpJSz8lJ37noX__POiDC7769Aa9WfwNJaGJbyouUI                                                                 | https://spreadsheets.google.com/feeds/worksheets/1rUcpJSz8lJ37noX__POiDC7769Aa9WfwNJaGJbyouUI/private/full   | https://docs.google.com/spreadsheets/d/1rUcpJSz8lJ37noX__POiDC7769Aa9WfwNJaGJbyouUI/edit                     | https://spreadsheets.google.com/feeds/spreadsheets/private/full/1rUcpJSz8lJ37noX__POiDC7769Aa9WfwNJaGJbyouUI | NA                                                                                                           | \n",
       "| 09_01.xlsx                                                                                                   | sumendar                                                                                                     | rw                                                                                                           | new                                                                                                          | 2017-05-20 12:23:11                                                                                          | 1lQ4IkyDwmN2xcdtpHHAwUgf7jjlJMT1djANJizNl2S8                                                                 | https://spreadsheets.google.com/feeds/worksheets/1lQ4IkyDwmN2xcdtpHHAwUgf7jjlJMT1djANJizNl2S8/private/full   | https://docs.google.com/spreadsheets/d/1lQ4IkyDwmN2xcdtpHHAwUgf7jjlJMT1djANJizNl2S8/edit                     | https://spreadsheets.google.com/feeds/spreadsheets/private/full/1lQ4IkyDwmN2xcdtpHHAwUgf7jjlJMT1djANJizNl2S8 | NA                                                                                                           | \n",
       "| 07_04.xlsx                                                                                                   | sumendar                                                                                                     | rw                                                                                                           | new                                                                                                          | 2017-05-20 12:23:08                                                                                          | 140h_WFxtJ7a4dew7j-Vyso2RA-rfmTG158_wGVf-gZs                                                                 | https://spreadsheets.google.com/feeds/worksheets/140h_WFxtJ7a4dew7j-Vyso2RA-rfmTG158_wGVf-gZs/private/full   | https://docs.google.com/spreadsheets/d/140h_WFxtJ7a4dew7j-Vyso2RA-rfmTG158_wGVf-gZs/edit                     | https://spreadsheets.google.com/feeds/spreadsheets/private/full/140h_WFxtJ7a4dew7j-Vyso2RA-rfmTG158_wGVf-gZs | NA                                                                                                           | \n",
       "| 01_04_toolpak.xlsx                                                                                           | sumendar                                                                                                     | rw                                                                                                           | new                                                                                                          | 2017-05-20 11:48:34                                                                                          | 1bYXZM2dQ16ShAYNQ021Dc4LNhUKZMOyB7irE-9k3kgc                                                                 | https://spreadsheets.google.com/feeds/worksheets/1bYXZM2dQ16ShAYNQ021Dc4LNhUKZMOyB7irE-9k3kgc/private/full   | https://docs.google.com/spreadsheets/d/1bYXZM2dQ16ShAYNQ021Dc4LNhUKZMOyB7irE-9k3kgc/edit                     | https://spreadsheets.google.com/feeds/spreadsheets/private/full/1bYXZM2dQ16ShAYNQ021Dc4LNhUKZMOyB7irE-9k3kgc | NA                                                                                                           | \n",
       "| 13_04_ttestind.xlsx                                                                                          | sumendar                                                                                                     | rw                                                                                                           | new                                                                                                          | 2017-05-20 11:48:27                                                                                          | 11YSjKXkRKTuo4SIyBokHZ3ZoOWzRk3jEN-jTlAx8Epo                                                                 | https://spreadsheets.google.com/feeds/worksheets/11YSjKXkRKTuo4SIyBokHZ3ZoOWzRk3jEN-jTlAx8Epo/private/full   | https://docs.google.com/spreadsheets/d/11YSjKXkRKTuo4SIyBokHZ3ZoOWzRk3jEN-jTlAx8Epo/edit                     | https://spreadsheets.google.com/feeds/spreadsheets/private/full/11YSjKXkRKTuo4SIyBokHZ3ZoOWzRk3jEN-jTlAx8Epo | NA                                                                                                           | \n",
       "| 12_01_chisq.xlsx                                                                                             | sumendar                                                                                                     | rw                                                                                                           | new                                                                                                          | 2017-05-20 11:48:27                                                                                          | 1ISbpY8GtO7lwp3xMcBsJZnReqly6iQwDdldgO-rDN90                                                                 | https://spreadsheets.google.com/feeds/worksheets/1ISbpY8GtO7lwp3xMcBsJZnReqly6iQwDdldgO-rDN90/private/full   | https://docs.google.com/spreadsheets/d/1ISbpY8GtO7lwp3xMcBsJZnReqly6iQwDdldgO-rDN90/edit                     | https://spreadsheets.google.com/feeds/spreadsheets/private/full/1ISbpY8GtO7lwp3xMcBsJZnReqly6iQwDdldgO-rDN90 | NA                                                                                                           | \n",
       "| 01_03_excelgraphics.xlsx                                                                                     | sumendar                                                                                                     | rw                                                                                                           | new                                                                                                          | 2017-05-20 11:48:27                                                                                          | 10WAta0C6Du5rjpq8jcdgif4fIIgl62aIXUnh6z9U7H0                                                                 | https://spreadsheets.google.com/feeds/worksheets/10WAta0C6Du5rjpq8jcdgif4fIIgl62aIXUnh6z9U7H0/private/full   | https://docs.google.com/spreadsheets/d/10WAta0C6Du5rjpq8jcdgif4fIIgl62aIXUnh6z9U7H0/edit                     | https://spreadsheets.google.com/feeds/spreadsheets/private/full/10WAta0C6Du5rjpq8jcdgif4fIIgl62aIXUnh6z9U7H0 | NA                                                                                                           | \n",
       "| 01_02_statfunctions.xlsx                                                                                     | sumendar                                                                                                     | rw                                                                                                           | new                                                                                                          | 2017-05-20 11:48:27                                                                                          | 1mmAsXFHT5tQl3LnRfqARG-QsdosHwqXkGh-FwWFpdoM                                                                 | https://spreadsheets.google.com/feeds/worksheets/1mmAsXFHT5tQl3LnRfqARG-QsdosHwqXkGh-FwWFpdoM/private/full   | https://docs.google.com/spreadsheets/d/1mmAsXFHT5tQl3LnRfqARG-QsdosHwqXkGh-FwWFpdoM/edit                     | https://spreadsheets.google.com/feeds/spreadsheets/private/full/1mmAsXFHT5tQl3LnRfqARG-QsdosHwqXkGh-FwWFpdoM | NA                                                                                                           | \n",
       "| 01_01_excelfunctions.xlsx                                                                                    | sumendar                                                                                                     | rw                                                                                                           | new                                                                                                          | 2017-05-20 11:48:27                                                                                          | 1euUrIFgLo5W7_sta6Gub3gzt88sfW2ZIBjYbVOS7Do0                                                                 | https://spreadsheets.google.com/feeds/worksheets/1euUrIFgLo5W7_sta6Gub3gzt88sfW2ZIBjYbVOS7Do0/private/full   | https://docs.google.com/spreadsheets/d/1euUrIFgLo5W7_sta6Gub3gzt88sfW2ZIBjYbVOS7Do0/edit                     | https://spreadsheets.google.com/feeds/spreadsheets/private/full/1euUrIFgLo5W7_sta6Gub3gzt88sfW2ZIBjYbVOS7Do0 | NA                                                                                                           | \n",
       "| 14_03_matchedttest.xlsx                                                                                      | sumendar                                                                                                     | rw                                                                                                           | new                                                                                                          | 2017-05-20 11:48:26                                                                                          | 1kjMDPpYXOM4Pl7Kgll9_Zy3CAmMgP-24-LaN-t1DKHs                                                                 | https://spreadsheets.google.com/feeds/worksheets/1kjMDPpYXOM4Pl7Kgll9_Zy3CAmMgP-24-LaN-t1DKHs/private/full   | https://docs.google.com/spreadsheets/d/1kjMDPpYXOM4Pl7Kgll9_Zy3CAmMgP-24-LaN-t1DKHs/edit                     | https://spreadsheets.google.com/feeds/spreadsheets/private/full/1kjMDPpYXOM4Pl7Kgll9_Zy3CAmMgP-24-LaN-t1DKHs | NA                                                                                                           | \n",
       "| 15_01_ftest.xlsx                                                                                             | sumendar                                                                                                     | rw                                                                                                           | new                                                                                                          | 2017-05-20 11:48:22                                                                                          | 1giDpe1qRJCBdl2xlkXQRrrs_ku9VjDL2Y21DkwRInNA                                                                 | https://spreadsheets.google.com/feeds/worksheets/1giDpe1qRJCBdl2xlkXQRrrs_ku9VjDL2Y21DkwRInNA/private/full   | https://docs.google.com/spreadsheets/d/1giDpe1qRJCBdl2xlkXQRrrs_ku9VjDL2Y21DkwRInNA/edit                     | https://spreadsheets.google.com/feeds/spreadsheets/private/full/1giDpe1qRJCBdl2xlkXQRrrs_ku9VjDL2Y21DkwRInNA | NA                                                                                                           | \n",
       "| 19_03_twofactANOVA.xlsx                                                                                      | sumendar                                                                                                     | rw                                                                                                           | new                                                                                                          | 2017-05-20 11:48:10                                                                                          | 1k1z0QyXK6GW7A2_SUUlaTkPJ2eZuN6exgXhsfOj8D_g                                                                 | https://spreadsheets.google.com/feeds/worksheets/1k1z0QyXK6GW7A2_SUUlaTkPJ2eZuN6exgXhsfOj8D_g/private/full   | https://docs.google.com/spreadsheets/d/1k1z0QyXK6GW7A2_SUUlaTkPJ2eZuN6exgXhsfOj8D_g/edit                     | https://spreadsheets.google.com/feeds/spreadsheets/private/full/1k1z0QyXK6GW7A2_SUUlaTkPJ2eZuN6exgXhsfOj8D_g | NA                                                                                                           | \n",
       "| 20_03_linregANOVA.xlsx                                                                                       | sumendar                                                                                                     | rw                                                                                                           | new                                                                                                          | 2017-05-20 11:48:10                                                                                          | 1AKWKWiHeYc1BhZBF9_rjGaxBzLNPpsSd2SyRIVn7Dpc                                                                 | https://spreadsheets.google.com/feeds/worksheets/1AKWKWiHeYc1BhZBF9_rjGaxBzLNPpsSd2SyRIVn7Dpc/private/full   | https://docs.google.com/spreadsheets/d/1AKWKWiHeYc1BhZBF9_rjGaxBzLNPpsSd2SyRIVn7Dpc/edit                     | https://spreadsheets.google.com/feeds/spreadsheets/private/full/1AKWKWiHeYc1BhZBF9_rjGaxBzLNPpsSd2SyRIVn7Dpc | NA                                                                                                           | \n",
       "| 20_01_linreg.xlsx                                                                                            | sumendar                                                                                                     | rw                                                                                                           | new                                                                                                          | 2017-05-20 11:48:10                                                                                          | 1_ll3SDsKDlYMuPaQ9AlxORGu4bPYe2SYSrIlh2GDxUc                                                                 | https://spreadsheets.google.com/feeds/worksheets/1_ll3SDsKDlYMuPaQ9AlxORGu4bPYe2SYSrIlh2GDxUc/private/full   | https://docs.google.com/spreadsheets/d/1_ll3SDsKDlYMuPaQ9AlxORGu4bPYe2SYSrIlh2GDxUc/edit                     | https://spreadsheets.google.com/feeds/spreadsheets/private/full/1_ll3SDsKDlYMuPaQ9AlxORGu4bPYe2SYSrIlh2GDxUc | NA                                                                                                           | \n",
       "| 16_03_applyingANOVA.xlsx                                                                                     | sumendar                                                                                                     | rw                                                                                                           | new                                                                                                          | 2017-05-20 11:48:10                                                                                          | 1Ab5ApL5Ve0o_ls9IkAXGkJjKOEykG6xR7Iv1-srT7dk                                                                 | https://spreadsheets.google.com/feeds/worksheets/1Ab5ApL5Ve0o_ls9IkAXGkJjKOEykG6xR7Iv1-srT7dk/private/full   | https://docs.google.com/spreadsheets/d/1Ab5ApL5Ve0o_ls9IkAXGkJjKOEykG6xR7Iv1-srT7dk/edit                     | https://spreadsheets.google.com/feeds/spreadsheets/private/full/1Ab5ApL5Ve0o_ls9IkAXGkJjKOEykG6xR7Iv1-srT7dk | NA                                                                                                           | \n",
       "| 18_02_repmeasANOVA.xlsx                                                                                      | sumendar                                                                                                     | rw                                                                                                           | new                                                                                                          | 2017-05-20 11:48:10                                                                                          | 1NEuCFhlzfIe8jN_NSzCp60MGxp0ef7OQgxg_QDJVWog                                                                 | https://spreadsheets.google.com/feeds/worksheets/1NEuCFhlzfIe8jN_NSzCp60MGxp0ef7OQgxg_QDJVWog/private/full   | https://docs.google.com/spreadsheets/d/1NEuCFhlzfIe8jN_NSzCp60MGxp0ef7OQgxg_QDJVWog/edit                     | https://spreadsheets.google.com/feeds/spreadsheets/private/full/1NEuCFhlzfIe8jN_NSzCp60MGxp0ef7OQgxg_QDJVWog | NA                                                                                                           | \n",
       "| 20_02_varregline.xlsx                                                                                        | sumendar                                                                                                     | rw                                                                                                           | new                                                                                                          | 2017-05-20 11:48:10                                                                                          | 15YGPhRE5a7gBBrSGK5fitlY6wX6oAtNIMMQLvNkt-5A                                                                 | https://spreadsheets.google.com/feeds/worksheets/15YGPhRE5a7gBBrSGK5fitlY6wX6oAtNIMMQLvNkt-5A/private/full   | https://docs.google.com/spreadsheets/d/15YGPhRE5a7gBBrSGK5fitlY6wX6oAtNIMMQLvNkt-5A/edit                     | https://spreadsheets.google.com/feeds/spreadsheets/private/full/15YGPhRE5a7gBBrSGK5fitlY6wX6oAtNIMMQLvNkt-5A | NA                                                                                                           | \n",
       "| 20_04_multreg.xlsx                                                                                           | sumendar                                                                                                     | rw                                                                                                           | new                                                                                                          | 2017-05-20 11:48:10                                                                                          | 1V3Tqk539XTYhIrBymz2eKirFhTACqEKsk_tW7NBHBJo                                                                 | https://spreadsheets.google.com/feeds/worksheets/1V3Tqk539XTYhIrBymz2eKirFhTACqEKsk_tW7NBHBJo/private/full   | https://docs.google.com/spreadsheets/d/1V3Tqk539XTYhIrBymz2eKirFhTACqEKsk_tW7NBHBJo/edit                     | https://spreadsheets.google.com/feeds/spreadsheets/private/full/1V3Tqk539XTYhIrBymz2eKirFhTACqEKsk_tW7NBHBJo | NA                                                                                                           | \n",
       "| 21_02_corrcoeff.xlsx                                                                                         | sumendar                                                                                                     | rw                                                                                                           | new                                                                                                          | 2017-05-20 11:48:10                                                                                          | 17Zo18mX9JDoGfvxjfDh8vkVJK1Ln7XD6bX4t4sA03kQ                                                                 | https://spreadsheets.google.com/feeds/worksheets/17Zo18mX9JDoGfvxjfDh8vkVJK1Ln7XD6bX4t4sA03kQ/private/full   | https://docs.google.com/spreadsheets/d/17Zo18mX9JDoGfvxjfDh8vkVJK1Ln7XD6bX4t4sA03kQ/edit                     | https://spreadsheets.google.com/feeds/spreadsheets/private/full/17Zo18mX9JDoGfvxjfDh8vkVJK1Ln7XD6bX4t4sA03kQ | NA                                                                                                           | \n",
       "| 21-02 Examples.xlsx                                                                                          | sumendar                                                                                                     | rw                                                                                                           | new                                                                                                          | 2017-05-20 11:48:09                                                                                          | 18MRKiO4qgMAQq05JU44G4E6U3WL3wTS1hm6NLUx-clE                                                                 | https://spreadsheets.google.com/feeds/worksheets/18MRKiO4qgMAQq05JU44G4E6U3WL3wTS1hm6NLUx-clE/private/full   | https://docs.google.com/spreadsheets/d/18MRKiO4qgMAQq05JU44G4E6U3WL3wTS1hm6NLUx-clE/edit                     | https://spreadsheets.google.com/feeds/spreadsheets/private/full/18MRKiO4qgMAQq05JU44G4E6U3WL3wTS1hm6NLUx-clE | NA                                                                                                           | \n",
       "| 04_01_mean.xlsx                                                                                              | sumendar                                                                                                     | rw                                                                                                           | new                                                                                                          | 2017-05-20 11:48:05                                                                                          | 1fBK-3XnW6IHbfO4sKoydRSUAz2B45W6Vm0fp_yjic1A                                                                 | https://spreadsheets.google.com/feeds/worksheets/1fBK-3XnW6IHbfO4sKoydRSUAz2B45W6Vm0fp_yjic1A/private/full   | https://docs.google.com/spreadsheets/d/1fBK-3XnW6IHbfO4sKoydRSUAz2B45W6Vm0fp_yjic1A/edit                     | https://spreadsheets.google.com/feeds/spreadsheets/private/full/1fBK-3XnW6IHbfO4sKoydRSUAz2B45W6Vm0fp_yjic1A | NA                                                                                                           | \n",
       "| 05_01_variance.xlsx                                                                                          | sumendar                                                                                                     | rw                                                                                                           | new                                                                                                          | 2017-05-20 11:47:54                                                                                          | 1upedgkdcDSMLoBiOij8J5VWLmsDS8izmDPe1IpCu6zc                                                                 | https://spreadsheets.google.com/feeds/worksheets/1upedgkdcDSMLoBiOij8J5VWLmsDS8izmDPe1IpCu6zc/private/full   | https://docs.google.com/spreadsheets/d/1upedgkdcDSMLoBiOij8J5VWLmsDS8izmDPe1IpCu6zc/edit                     | https://spreadsheets.google.com/feeds/spreadsheets/private/full/1upedgkdcDSMLoBiOij8J5VWLmsDS8izmDPe1IpCu6zc | NA                                                                                                           | \n",
       "| 11_02.xlsx                                                                                                   | sumendar                                                                                                     | rw                                                                                                           | new                                                                                                          | 2017-05-20 11:47:54                                                                                          | 1wcaPTr2V2AuqxSQQBmiEEl2cZP2dsJUvyHVr7wk87-Y                                                                 | https://spreadsheets.google.com/feeds/worksheets/1wcaPTr2V2AuqxSQQBmiEEl2cZP2dsJUvyHVr7wk87-Y/private/full   | https://docs.google.com/spreadsheets/d/1wcaPTr2V2AuqxSQQBmiEEl2cZP2dsJUvyHVr7wk87-Y/edit                     | https://spreadsheets.google.com/feeds/spreadsheets/private/full/1wcaPTr2V2AuqxSQQBmiEEl2cZP2dsJUvyHVr7wk87-Y | NA                                                                                                           | \n",
       "| 04_03_mode.xlsx                                                                                              | sumendar                                                                                                     | rw                                                                                                           | new                                                                                                          | 2017-05-20 11:47:54                                                                                          | 163W1elF5Qd7QtAriRF6NIxyhdVSPC4T-wkcD6UcstnY                                                                 | https://spreadsheets.google.com/feeds/worksheets/163W1elF5Qd7QtAriRF6NIxyhdVSPC4T-wkcD6UcstnY/private/full   | https://docs.google.com/spreadsheets/d/163W1elF5Qd7QtAriRF6NIxyhdVSPC4T-wkcD6UcstnY/edit                     | https://spreadsheets.google.com/feeds/spreadsheets/private/full/163W1elF5Qd7QtAriRF6NIxyhdVSPC4T-wkcD6UcstnY | NA                                                                                                           | \n",
       "| 09_02_calcconfint.xlsx                                                                                       | sumendar                                                                                                     | rw                                                                                                           | new                                                                                                          | 2017-05-20 11:47:54                                                                                          | 1SFn0xrVGJG2P8YUphQ17k09xHiYztZmsvjuE0Phc3Yw                                                                 | https://spreadsheets.google.com/feeds/worksheets/1SFn0xrVGJG2P8YUphQ17k09xHiYztZmsvjuE0Phc3Yw/private/full   | https://docs.google.com/spreadsheets/d/1SFn0xrVGJG2P8YUphQ17k09xHiYztZmsvjuE0Phc3Yw/edit                     | https://spreadsheets.google.com/feeds/spreadsheets/private/full/1SFn0xrVGJG2P8YUphQ17k09xHiYztZmsvjuE0Phc3Yw | NA                                                                                                           | \n",
       "| 03_03countrules.xlsx                                                                                         | sumendar                                                                                                     | rw                                                                                                           | new                                                                                                          | 2017-05-20 11:47:54                                                                                          | 1eONq3eQCwf_FYGKNhB2JYWUYJod0u1QHto-l0MENob8                                                                 | https://spreadsheets.google.com/feeds/worksheets/1eONq3eQCwf_FYGKNhB2JYWUYJod0u1QHto-l0MENob8/private/full   | https://docs.google.com/spreadsheets/d/1eONq3eQCwf_FYGKNhB2JYWUYJod0u1QHto-l0MENob8/edit                     | https://spreadsheets.google.com/feeds/spreadsheets/private/full/1eONq3eQCwf_FYGKNhB2JYWUYJod0u1QHto-l0MENob8 | NA                                                                                                           | \n",
       "| 04_02_median.xlsx                                                                                            | sumendar                                                                                                     | rw                                                                                                           | new                                                                                                          | 2017-05-20 11:47:54                                                                                          | 1FseyK_3D8_cCFpwHbhHLfEH8K8HSEgIYmQsBlZQJk9E                                                                 | https://spreadsheets.google.com/feeds/worksheets/1FseyK_3D8_cCFpwHbhHLfEH8K8HSEgIYmQsBlZQJk9E/private/full   | https://docs.google.com/spreadsheets/d/1FseyK_3D8_cCFpwHbhHLfEH8K8HSEgIYmQsBlZQJk9E/edit                     | https://spreadsheets.google.com/feeds/spreadsheets/private/full/1FseyK_3D8_cCFpwHbhHLfEH8K8HSEgIYmQsBlZQJk9E | NA                                                                                                           | \n",
       "| ... | ... | ... | ... | ... | ... | ... | ... | ... | ... | \n",
       "| sampleCommaSepDS.csv                                                                                         | sumendar                                                                                                     | rw                                                                                                           | new                                                                                                          | 2016-07-22 14:18:12                                                                                          | 1HlEJhA61I5Fi22t41GoBGLZpnRHUxMDMIKT43eujN6E                                                                 | https://spreadsheets.google.com/feeds/worksheets/1HlEJhA61I5Fi22t41GoBGLZpnRHUxMDMIKT43eujN6E/private/full   | https://docs.google.com/spreadsheets/d/1HlEJhA61I5Fi22t41GoBGLZpnRHUxMDMIKT43eujN6E/edit                     | https://spreadsheets.google.com/feeds/spreadsheets/private/full/1HlEJhA61I5Fi22t41GoBGLZpnRHUxMDMIKT43eujN6E | NA                                                                                                           | \n",
       "| potatoes.csv                                                                                                 | sumendar                                                                                                     | rw                                                                                                           | new                                                                                                          | 2016-07-22 14:18:05                                                                                          | 1utzqhJaMS5rZIss8TqofldFxBh0WIS41beocf5qcxuk                                                                 | https://spreadsheets.google.com/feeds/worksheets/1utzqhJaMS5rZIss8TqofldFxBh0WIS41beocf5qcxuk/private/full   | https://docs.google.com/spreadsheets/d/1utzqhJaMS5rZIss8TqofldFxBh0WIS41beocf5qcxuk/edit                     | https://spreadsheets.google.com/feeds/spreadsheets/private/full/1utzqhJaMS5rZIss8TqofldFxBh0WIS41beocf5qcxuk | NA                                                                                                           | \n",
       "| latitude.xlsx                                                                                                | sumendar                                                                                                     | rw                                                                                                           | new                                                                                                          | 2016-07-22 14:18:00                                                                                          | 1edaLuQ08o3WlUeypcDfcNPvDhoLn51q8qHi-qhI0z2U                                                                 | https://spreadsheets.google.com/feeds/worksheets/1edaLuQ08o3WlUeypcDfcNPvDhoLn51q8qHi-qhI0z2U/private/full   | https://docs.google.com/spreadsheets/d/1edaLuQ08o3WlUeypcDfcNPvDhoLn51q8qHi-qhI0z2U/edit                     | https://spreadsheets.google.com/feeds/spreadsheets/private/full/1edaLuQ08o3WlUeypcDfcNPvDhoLn51q8qHi-qhI0z2U | NA                                                                                                           | \n",
       "| urbanpop.xls                                                                                                 | sumendar                                                                                                     | rw                                                                                                           | new                                                                                                          | 2016-07-22 14:17:52                                                                                          | 12TLsyiBeOSRMbE7GmIQSmQHMybFFbLwm_nvU30FGy_k                                                                 | https://spreadsheets.google.com/feeds/worksheets/12TLsyiBeOSRMbE7GmIQSmQHMybFFbLwm_nvU30FGy_k/private/full   | https://docs.google.com/spreadsheets/d/12TLsyiBeOSRMbE7GmIQSmQHMybFFbLwm_nvU30FGy_k/edit                     | https://spreadsheets.google.com/feeds/spreadsheets/private/full/12TLsyiBeOSRMbE7GmIQSmQHMybFFbLwm_nvU30FGy_k | NA                                                                                                           | \n",
       "| 10th Class Phani High School Students Contact Details: 95 - 96 batch  (Responses)                            | sumendar                                                                                                     | rw                                                                                                           | new                                                                                                          | 2016-06-29 16:07:27                                                                                          | 1qwvGXomX2tNF-FNuAH5Q3-pYw5O9N8VFRB8jePFQIfg                                                                 | https://spreadsheets.google.com/feeds/worksheets/1qwvGXomX2tNF-FNuAH5Q3-pYw5O9N8VFRB8jePFQIfg/private/full   | https://docs.google.com/spreadsheets/d/1qwvGXomX2tNF-FNuAH5Q3-pYw5O9N8VFRB8jePFQIfg/edit                     | https://spreadsheets.google.com/feeds/spreadsheets/private/full/1qwvGXomX2tNF-FNuAH5Q3-pYw5O9N8VFRB8jePFQIfg | NA                                                                                                           | \n",
       "| Alumni of 10th Class Phani High School Contact Details: 95 - 96 batch  (Responses)                           | sumendar                                                                                                     | rw                                                                                                           | new                                                                                                          | 2016-06-29 16:07:25                                                                                          | 1c7beVAgot88h4xuuIDx1FZhoeXafvSnYs9vPm07kDQ0                                                                 | https://spreadsheets.google.com/feeds/worksheets/1c7beVAgot88h4xuuIDx1FZhoeXafvSnYs9vPm07kDQ0/private/full   | https://docs.google.com/spreadsheets/d/1c7beVAgot88h4xuuIDx1FZhoeXafvSnYs9vPm07kDQ0/edit                     | https://spreadsheets.google.com/feeds/spreadsheets/private/full/1c7beVAgot88h4xuuIDx1FZhoeXafvSnYs9vPm07kDQ0 | NA                                                                                                           | \n",
       "| 10th Class Phani High School Students Contact Details: 95 - 96 batch  (Responses)                            | sumendar                                                                                                     | rw                                                                                                           | new                                                                                                          | 2016-06-29 16:07:24                                                                                          | 1UkUQRbwlANTQq-Y5OaztgwxXfFNUZTGR9ww4A-NfJVA                                                                 | https://spreadsheets.google.com/feeds/worksheets/1UkUQRbwlANTQq-Y5OaztgwxXfFNUZTGR9ww4A-NfJVA/private/full   | https://docs.google.com/spreadsheets/d/1UkUQRbwlANTQq-Y5OaztgwxXfFNUZTGR9ww4A-NfJVA/edit                     | https://spreadsheets.google.com/feeds/spreadsheets/private/full/1UkUQRbwlANTQq-Y5OaztgwxXfFNUZTGR9ww4A-NfJVA | NA                                                                                                           | \n",
       "| 10th Class Phani High School Students Contact Details: 95 - 96 batch  (Responses)                            | sumendar                                                                                                     | rw                                                                                                           | new                                                                                                          | 2016-06-29 16:07:23                                                                                          | 1nCzbBkZfY05s5tVwZsTymx_VjU556NzmvK2alCTdyZg                                                                 | https://spreadsheets.google.com/feeds/worksheets/1nCzbBkZfY05s5tVwZsTymx_VjU556NzmvK2alCTdyZg/private/full   | https://docs.google.com/spreadsheets/d/1nCzbBkZfY05s5tVwZsTymx_VjU556NzmvK2alCTdyZg/edit                     | https://spreadsheets.google.com/feeds/spreadsheets/private/full/1nCzbBkZfY05s5tVwZsTymx_VjU556NzmvK2alCTdyZg | NA                                                                                                           | \n",
       "| 10th Class Phani High School Students Contact Details: 95 - 96 batch  (Responses)                            | sumendar                                                                                                     | rw                                                                                                           | new                                                                                                          | 2016-06-29 16:07:23                                                                                          | 1gJIjyPMjUvP1OHXcE1cJ4UxjjF4HHXj_bSlNFBoHHJw                                                                 | https://spreadsheets.google.com/feeds/worksheets/1gJIjyPMjUvP1OHXcE1cJ4UxjjF4HHXj_bSlNFBoHHJw/private/full   | https://docs.google.com/spreadsheets/d/1gJIjyPMjUvP1OHXcE1cJ4UxjjF4HHXj_bSlNFBoHHJw/edit                     | https://spreadsheets.google.com/feeds/spreadsheets/private/full/1gJIjyPMjUvP1OHXcE1cJ4UxjjF4HHXj_bSlNFBoHHJw | NA                                                                                                           | \n",
       "| 10th Class Phani High School Students Contact Details: 95 - 96 batch  (Responses)                            | sumendar                                                                                                     | rw                                                                                                           | new                                                                                                          | 2016-06-29 16:07:22                                                                                          | 1XEj0KZTvj2w1pdDCLGi4XovWHeHtelA58HNRGF9XofA                                                                 | https://spreadsheets.google.com/feeds/worksheets/1XEj0KZTvj2w1pdDCLGi4XovWHeHtelA58HNRGF9XofA/private/full   | https://docs.google.com/spreadsheets/d/1XEj0KZTvj2w1pdDCLGi4XovWHeHtelA58HNRGF9XofA/edit                     | https://spreadsheets.google.com/feeds/spreadsheets/private/full/1XEj0KZTvj2w1pdDCLGi4XovWHeHtelA58HNRGF9XofA | NA                                                                                                           | \n",
       "| 10th Class Phani High School Students Contact Details: 95 - 96 batch  (Responses)                            | sumendar                                                                                                     | rw                                                                                                           | new                                                                                                          | 2016-06-29 16:07:22                                                                                          | 1VhTE2V9w8YnqWBu5-he_i6t389aPdoKXb-OO-EJtedA                                                                 | https://spreadsheets.google.com/feeds/worksheets/1VhTE2V9w8YnqWBu5-he_i6t389aPdoKXb-OO-EJtedA/private/full   | https://docs.google.com/spreadsheets/d/1VhTE2V9w8YnqWBu5-he_i6t389aPdoKXb-OO-EJtedA/edit                     | https://spreadsheets.google.com/feeds/spreadsheets/private/full/1VhTE2V9w8YnqWBu5-he_i6t389aPdoKXb-OO-EJtedA | NA                                                                                                           | \n",
       "| 10th Class Phani High School Students Contact Details: 95 - 96 batch  (Responses)                            | sumendar                                                                                                     | rw                                                                                                           | new                                                                                                          | 2016-06-29 16:07:21                                                                                          | 1g8KWfjvijfQvoBJpqdhnH1pfUXElkuThUY7AFXnE7wk                                                                 | https://spreadsheets.google.com/feeds/worksheets/1g8KWfjvijfQvoBJpqdhnH1pfUXElkuThUY7AFXnE7wk/private/full   | https://docs.google.com/spreadsheets/d/1g8KWfjvijfQvoBJpqdhnH1pfUXElkuThUY7AFXnE7wk/edit                     | https://spreadsheets.google.com/feeds/spreadsheets/private/full/1g8KWfjvijfQvoBJpqdhnH1pfUXElkuThUY7AFXnE7wk | NA                                                                                                           | \n",
       "| 10th Class Phani High School Students Contact Details: 95 - 96 batch  (Responses)                            | sumendar                                                                                                     | rw                                                                                                           | new                                                                                                          | 2016-06-29 16:07:21                                                                                          | 1IEor2pi98lmcYufYJv5qvvMhK4FgKFjkhKuPj3O-CWs                                                                 | https://spreadsheets.google.com/feeds/worksheets/1IEor2pi98lmcYufYJv5qvvMhK4FgKFjkhKuPj3O-CWs/private/full   | https://docs.google.com/spreadsheets/d/1IEor2pi98lmcYufYJv5qvvMhK4FgKFjkhKuPj3O-CWs/edit                     | https://spreadsheets.google.com/feeds/spreadsheets/private/full/1IEor2pi98lmcYufYJv5qvvMhK4FgKFjkhKuPj3O-CWs | NA                                                                                                           | \n",
       "| 10th Class Phani High School Students Contact Details: 95 - 96 batch  (Responses)                            | sumendar                                                                                                     | rw                                                                                                           | new                                                                                                          | 2016-06-29 16:07:21                                                                                          | 1GXiwalCHSe5tuo_pIVqPw9JDqrU2zjpzFyYHO9PN49w                                                                 | https://spreadsheets.google.com/feeds/worksheets/1GXiwalCHSe5tuo_pIVqPw9JDqrU2zjpzFyYHO9PN49w/private/full   | https://docs.google.com/spreadsheets/d/1GXiwalCHSe5tuo_pIVqPw9JDqrU2zjpzFyYHO9PN49w/edit                     | https://spreadsheets.google.com/feeds/spreadsheets/private/full/1GXiwalCHSe5tuo_pIVqPw9JDqrU2zjpzFyYHO9PN49w | NA                                                                                                           | \n",
       "| 10th Class Phani High School Students Contact Details: 95 - 96 batch  (Responses)                            | sumendar                                                                                                     | rw                                                                                                           | new                                                                                                          | 2016-06-29 16:07:19                                                                                          | 1IZnilhaYWnwAv1yHOX9qH-9Sh_8fl703m8vb236E0m8                                                                 | https://spreadsheets.google.com/feeds/worksheets/1IZnilhaYWnwAv1yHOX9qH-9Sh_8fl703m8vb236E0m8/private/full   | https://docs.google.com/spreadsheets/d/1IZnilhaYWnwAv1yHOX9qH-9Sh_8fl703m8vb236E0m8/edit                     | https://spreadsheets.google.com/feeds/spreadsheets/private/full/1IZnilhaYWnwAv1yHOX9qH-9Sh_8fl703m8vb236E0m8 | NA                                                                                                           | \n",
       "| 10th Class Phani High School Students Contact Details: 95 - 96 batch  (Responses)                            | sumendar                                                                                                     | rw                                                                                                           | new                                                                                                          | 2016-06-29 16:07:19                                                                                          | 1I8sDtPkBPX7Gu9Y89Zl2ni9JcH4SdRH4wfn0a55TmtA                                                                 | https://spreadsheets.google.com/feeds/worksheets/1I8sDtPkBPX7Gu9Y89Zl2ni9JcH4SdRH4wfn0a55TmtA/private/full   | https://docs.google.com/spreadsheets/d/1I8sDtPkBPX7Gu9Y89Zl2ni9JcH4SdRH4wfn0a55TmtA/edit                     | https://spreadsheets.google.com/feeds/spreadsheets/private/full/1I8sDtPkBPX7Gu9Y89Zl2ni9JcH4SdRH4wfn0a55TmtA | NA                                                                                                           | \n",
       "| 10th Class Phani High School Students Contact Details: 95 - 96 batch  (Responses)                            | sumendar                                                                                                     | rw                                                                                                           | new                                                                                                          | 2016-06-29 16:07:18                                                                                          | 1zHoXDEsX0EwCIshnrQkwy7UXPBR1s_180f8CRYubdJY                                                                 | https://spreadsheets.google.com/feeds/worksheets/1zHoXDEsX0EwCIshnrQkwy7UXPBR1s_180f8CRYubdJY/private/full   | https://docs.google.com/spreadsheets/d/1zHoXDEsX0EwCIshnrQkwy7UXPBR1s_180f8CRYubdJY/edit                     | https://spreadsheets.google.com/feeds/spreadsheets/private/full/1zHoXDEsX0EwCIshnrQkwy7UXPBR1s_180f8CRYubdJY | NA                                                                                                           | \n",
       "| 10th Class Phani High School Students Contact Details: 95 - 96 batch  (Responses)                            | sumendar                                                                                                     | rw                                                                                                           | new                                                                                                          | 2016-06-29 16:07:17                                                                                          | 1EqJDLdEB4sIpi30OIRKgU8TC_2a04yBq3rPf3LviVHM                                                                 | https://spreadsheets.google.com/feeds/worksheets/1EqJDLdEB4sIpi30OIRKgU8TC_2a04yBq3rPf3LviVHM/private/full   | https://docs.google.com/spreadsheets/d/1EqJDLdEB4sIpi30OIRKgU8TC_2a04yBq3rPf3LviVHM/edit                     | https://spreadsheets.google.com/feeds/spreadsheets/private/full/1EqJDLdEB4sIpi30OIRKgU8TC_2a04yBq3rPf3LviVHM | NA                                                                                                           | \n",
       "| 10th Class Phani High School Students Contact Details: 95 - 96 batch  (Responses)                            | sumendar                                                                                                     | rw                                                                                                           | new                                                                                                          | 2016-06-29 16:07:17                                                                                          | 1A9uX2A2sirSCPP8HbVx2eSb9IobMepiU_Wjbh2B8h9s                                                                 | https://spreadsheets.google.com/feeds/worksheets/1A9uX2A2sirSCPP8HbVx2eSb9IobMepiU_Wjbh2B8h9s/private/full   | https://docs.google.com/spreadsheets/d/1A9uX2A2sirSCPP8HbVx2eSb9IobMepiU_Wjbh2B8h9s/edit                     | https://spreadsheets.google.com/feeds/spreadsheets/private/full/1A9uX2A2sirSCPP8HbVx2eSb9IobMepiU_Wjbh2B8h9s | NA                                                                                                           | \n",
       "| 10th Class Phani High School Students Contact Details: 95 - 96 batch  (Responses)                            | sumendar                                                                                                     | rw                                                                                                           | new                                                                                                          | 2016-06-29 16:07:17                                                                                          | 178JxSmZz5wPMKNSLhibMG1-h8-f05_Kv736kOmp6Fho                                                                 | https://spreadsheets.google.com/feeds/worksheets/178JxSmZz5wPMKNSLhibMG1-h8-f05_Kv736kOmp6Fho/private/full   | https://docs.google.com/spreadsheets/d/178JxSmZz5wPMKNSLhibMG1-h8-f05_Kv736kOmp6Fho/edit                     | https://spreadsheets.google.com/feeds/spreadsheets/private/full/178JxSmZz5wPMKNSLhibMG1-h8-f05_Kv736kOmp6Fho | NA                                                                                                           | \n",
       "| WCBDA_Project_Soccer_data                                                                                    | sumendar                                                                                                     | rw                                                                                                           | new                                                                                                          | 2016-06-27 14:23:17                                                                                          | 1dmZqdZMr3QgSUTsbAy6o3YO9jg2fdv7zNGiM6cgZf8M                                                                 | https://spreadsheets.google.com/feeds/worksheets/1dmZqdZMr3QgSUTsbAy6o3YO9jg2fdv7zNGiM6cgZf8M/private/full   | https://docs.google.com/spreadsheets/d/1dmZqdZMr3QgSUTsbAy6o3YO9jg2fdv7zNGiM6cgZf8M/edit                     | https://spreadsheets.google.com/feeds/spreadsheets/private/full/1dmZqdZMr3QgSUTsbAy6o3YO9jg2fdv7zNGiM6cgZf8M | NA                                                                                                           | \n",
       "| Decision Stats Interviews                                                                                    | ohri2007                                                                                                     | r                                                                                                            | new                                                                                                          | 2016-06-26 23:23:53                                                                                          | 17AWR-oJzoscX_zbVI1lK7IXGcZTtL9PQwCoyqCaEnTk                                                                 | https://spreadsheets.google.com/feeds/worksheets/17AWR-oJzoscX_zbVI1lK7IXGcZTtL9PQwCoyqCaEnTk/private/values | https://docs.google.com/spreadsheets/d/17AWR-oJzoscX_zbVI1lK7IXGcZTtL9PQwCoyqCaEnTk/edit                     | https://spreadsheets.google.com/feeds/spreadsheets/private/full/17AWR-oJzoscX_zbVI1lK7IXGcZTtL9PQwCoyqCaEnTk | NA                                                                                                           | \n",
       "| Keywords(Best) of Basic Statistics                                                                           | sumendar                                                                                                     | rw                                                                                                           | new                                                                                                          | 2016-06-24 22:39:45                                                                                          | 1LlHD4TZi7t4Y2GMFSGkBEHthNq0amPoyYW0_AxPm78Q                                                                 | https://spreadsheets.google.com/feeds/worksheets/1LlHD4TZi7t4Y2GMFSGkBEHthNq0amPoyYW0_AxPm78Q/private/full   | https://docs.google.com/spreadsheets/d/1LlHD4TZi7t4Y2GMFSGkBEHthNq0amPoyYW0_AxPm78Q/edit                     | https://spreadsheets.google.com/feeds/spreadsheets/private/full/1LlHD4TZi7t4Y2GMFSGkBEHthNq0amPoyYW0_AxPm78Q | NA                                                                                                           | \n",
       "| Klout scores (Lesson 7)                                                                                      | liz                                                                                                          | r                                                                                                            | new                                                                                                          | 2016-01-13 21:37:57                                                                                          | 11A9tK-aRdukQ5lqTOO_yfQABJIUndmvehByu7JZtor8                                                                 | https://spreadsheets.google.com/feeds/worksheets/11A9tK-aRdukQ5lqTOO_yfQABJIUndmvehByu7JZtor8/private/values | https://docs.google.com/spreadsheets/d/11A9tK-aRdukQ5lqTOO_yfQABJIUndmvehByu7JZtor8/edit                     | https://spreadsheets.google.com/feeds/spreadsheets/private/full/11A9tK-aRdukQ5lqTOO_yfQABJIUndmvehByu7JZtor8 | NA                                                                                                           | \n",
       "| How many Facebook friends do Udacians have? - Lesson 3 [How many Facebook friends do you have?]              | liz                                                                                                          | r                                                                                                            | new                                                                                                          | 2015-12-21 18:10:16                                                                                          | 1tf3SIc7wUZtXQpSdnpysv8VuX9iSGMUYYnS5rAaKDfk                                                                 | https://spreadsheets.google.com/feeds/worksheets/1tf3SIc7wUZtXQpSdnpysv8VuX9iSGMUYYnS5rAaKDfk/private/values | https://docs.google.com/spreadsheets/d/1tf3SIc7wUZtXQpSdnpysv8VuX9iSGMUYYnS5rAaKDfk/edit                     | https://spreadsheets.google.com/feeds/spreadsheets/private/full/1tf3SIc7wUZtXQpSdnpysv8VuX9iSGMUYYnS5rAaKDfk | NA                                                                                                           | \n",
       "| BBC Results - Lesson 1 [Should you get a good night's sleep?]                                                | liz                                                                                                          | r                                                                                                            | new                                                                                                          | 2015-09-23 21:01:38                                                                                          | 175n6b3gq2ePqnlkWCWaMeN8T0J-QeFJBL1iXuPwqF-c                                                                 | https://spreadsheets.google.com/feeds/worksheets/175n6b3gq2ePqnlkWCWaMeN8T0J-QeFJBL1iXuPwqF-c/private/values | https://docs.google.com/spreadsheets/d/175n6b3gq2ePqnlkWCWaMeN8T0J-QeFJBL1iXuPwqF-c/edit                     | https://spreadsheets.google.com/feeds/spreadsheets/private/full/175n6b3gq2ePqnlkWCWaMeN8T0J-QeFJBL1iXuPwqF-c | NA                                                                                                           | \n",
       "| Word Search (Orientation)                                                                                    | liz                                                                                                          | r                                                                                                            | new                                                                                                          | 2015-08-25 00:19:03                                                                                          | 110tDSfShiQkkBuF4Kr4Ck2SsbtGRJBZOOCT5X3gm4gc                                                                 | https://spreadsheets.google.com/feeds/worksheets/110tDSfShiQkkBuF4Kr4Ck2SsbtGRJBZOOCT5X3gm4gc/private/values | https://docs.google.com/spreadsheets/d/110tDSfShiQkkBuF4Kr4Ck2SsbtGRJBZOOCT5X3gm4gc/edit                     | https://spreadsheets.google.com/feeds/spreadsheets/private/full/110tDSfShiQkkBuF4Kr4Ck2SsbtGRJBZOOCT5X3gm4gc | NA                                                                                                           | \n",
       "| Correlations (Lesson 14)                                                                                     | liz                                                                                                          | r                                                                                                            | new                                                                                                          | 2015-08-25 00:19:03                                                                                          | 1jMLcMJkVb_lUo5SSyI30lD9rBvtGreZZ2fWKC7dBtOk                                                                 | https://spreadsheets.google.com/feeds/worksheets/1jMLcMJkVb_lUo5SSyI30lD9rBvtGreZZ2fWKC7dBtOk/private/values | https://docs.google.com/spreadsheets/d/1jMLcMJkVb_lUo5SSyI30lD9rBvtGreZZ2fWKC7dBtOk/edit                     | https://spreadsheets.google.com/feeds/spreadsheets/private/full/1jMLcMJkVb_lUo5SSyI30lD9rBvtGreZZ2fWKC7dBtOk | NA                                                                                                           | \n",
       "| Child labour data                                                                                            | george.arnett22                                                                                              | r                                                                                                            | new                                                                                                          | 2013-09-23 17:25:45                                                                                          | 18ApnwssrY5qejLSZY2Y7T_G6X4Lp8BvyhBTOcOi4sNU                                                                 | https://spreadsheets.google.com/feeds/worksheets/18ApnwssrY5qejLSZY2Y7T_G6X4Lp8BvyhBTOcOi4sNU/private/values | https://docs.google.com/spreadsheets/d/18ApnwssrY5qejLSZY2Y7T_G6X4Lp8BvyhBTOcOi4sNU/edit                     | https://spreadsheets.google.com/feeds/spreadsheets/private/full/18ApnwssrY5qejLSZY2Y7T_G6X4Lp8BvyhBTOcOi4sNU | NA                                                                                                           | \n",
       "| Snowfall (in) - Orientation Week                                                                             | liz                                                                                                          | r                                                                                                            | new                                                                                                          | 2013-05-20 21:26:57                                                                                          | 1gjWIQksotDpzMh1stSJh_WZjqIN3oN6jQ8Dlx5ZTUts                                                                 | https://spreadsheets.google.com/feeds/worksheets/1gjWIQksotDpzMh1stSJh_WZjqIN3oN6jQ8Dlx5ZTUts/private/values | https://docs.google.com/spreadsheets/d/1gjWIQksotDpzMh1stSJh_WZjqIN3oN6jQ8Dlx5ZTUts/edit                     | https://spreadsheets.google.com/feeds/spreadsheets/private/full/1gjWIQksotDpzMh1stSJh_WZjqIN3oN6jQ8Dlx5ZTUts | NA                                                                                                           | \n",
       "\n",
       "\n"
      ],
      "text/plain": [
       "    sheet_title                                                                                    \n",
       "1   sample.xlsx                                                                                    \n",
       "2   BBC Results - Lesson 1                                                                         \n",
       "3   DSx1 Class Directory - Data Science: Data to Insights (Responses)                              \n",
       "4   09_02.xlsx                                                                                     \n",
       "5   09_01.xlsx                                                                                     \n",
       "6   07_04.xlsx                                                                                     \n",
       "7   01_04_toolpak.xlsx                                                                             \n",
       "8   13_04_ttestind.xlsx                                                                            \n",
       "9   12_01_chisq.xlsx                                                                               \n",
       "10  01_03_excelgraphics.xlsx                                                                       \n",
       "11  01_02_statfunctions.xlsx                                                                       \n",
       "12  01_01_excelfunctions.xlsx                                                                      \n",
       "13  14_03_matchedttest.xlsx                                                                        \n",
       "14  15_01_ftest.xlsx                                                                               \n",
       "15  19_03_twofactANOVA.xlsx                                                                        \n",
       "16  20_03_linregANOVA.xlsx                                                                         \n",
       "17  20_01_linreg.xlsx                                                                              \n",
       "18  16_03_applyingANOVA.xlsx                                                                       \n",
       "19  18_02_repmeasANOVA.xlsx                                                                        \n",
       "20  20_02_varregline.xlsx                                                                          \n",
       "21  20_04_multreg.xlsx                                                                             \n",
       "22  21_02_corrcoeff.xlsx                                                                           \n",
       "23  21-02 Examples.xlsx                                                                            \n",
       "24  04_01_mean.xlsx                                                                                \n",
       "25  05_01_variance.xlsx                                                                            \n",
       "26  11_02.xlsx                                                                                     \n",
       "27  04_03_mode.xlsx                                                                                \n",
       "28  09_02_calcconfint.xlsx                                                                         \n",
       "29  03_03countrules.xlsx                                                                           \n",
       "30  04_02_median.xlsx                                                                              \n",
       "... ...                                                                                            \n",
       "302 sampleCommaSepDS.csv                                                                           \n",
       "303 potatoes.csv                                                                                   \n",
       "304 latitude.xlsx                                                                                  \n",
       "305 urbanpop.xls                                                                                   \n",
       "306 10th Class Phani High School Students Contact Details: 95 - 96 batch  (Responses)              \n",
       "307 Alumni of 10th Class Phani High School Contact Details: 95 - 96 batch  (Responses)             \n",
       "308 10th Class Phani High School Students Contact Details: 95 - 96 batch  (Responses)              \n",
       "309 10th Class Phani High School Students Contact Details: 95 - 96 batch  (Responses)              \n",
       "310 10th Class Phani High School Students Contact Details: 95 - 96 batch  (Responses)              \n",
       "311 10th Class Phani High School Students Contact Details: 95 - 96 batch  (Responses)              \n",
       "312 10th Class Phani High School Students Contact Details: 95 - 96 batch  (Responses)              \n",
       "313 10th Class Phani High School Students Contact Details: 95 - 96 batch  (Responses)              \n",
       "314 10th Class Phani High School Students Contact Details: 95 - 96 batch  (Responses)              \n",
       "315 10th Class Phani High School Students Contact Details: 95 - 96 batch  (Responses)              \n",
       "316 10th Class Phani High School Students Contact Details: 95 - 96 batch  (Responses)              \n",
       "317 10th Class Phani High School Students Contact Details: 95 - 96 batch  (Responses)              \n",
       "318 10th Class Phani High School Students Contact Details: 95 - 96 batch  (Responses)              \n",
       "319 10th Class Phani High School Students Contact Details: 95 - 96 batch  (Responses)              \n",
       "320 10th Class Phani High School Students Contact Details: 95 - 96 batch  (Responses)              \n",
       "321 10th Class Phani High School Students Contact Details: 95 - 96 batch  (Responses)              \n",
       "322 WCBDA_Project_Soccer_data                                                                      \n",
       "323 Decision Stats Interviews                                                                      \n",
       "324 Keywords(Best) of Basic Statistics                                                             \n",
       "325 Klout scores (Lesson 7)                                                                        \n",
       "326 How many Facebook friends do Udacians have? - Lesson 3 [How many Facebook friends do you have?]\n",
       "327 BBC Results - Lesson 1 [Should you get a good night's sleep?]                                  \n",
       "328 Word Search (Orientation)                                                                      \n",
       "329 Correlations (Lesson 14)                                                                       \n",
       "330 Child labour data                                                                              \n",
       "331 Snowfall (in) - Orientation Week                                                               \n",
       "    author          perm version updated            \n",
       "1   sumendar        rw   new     2018-01-25 00:33:53\n",
       "2   liz             r    new     2017-11-16 06:10:34\n",
       "3   mitpemarketing  r    new     2017-07-18 14:08:40\n",
       "4   sumendar        rw   new     2017-05-20 12:23:12\n",
       "5   sumendar        rw   new     2017-05-20 12:23:11\n",
       "6   sumendar        rw   new     2017-05-20 12:23:08\n",
       "7   sumendar        rw   new     2017-05-20 11:48:34\n",
       "8   sumendar        rw   new     2017-05-20 11:48:27\n",
       "9   sumendar        rw   new     2017-05-20 11:48:27\n",
       "10  sumendar        rw   new     2017-05-20 11:48:27\n",
       "11  sumendar        rw   new     2017-05-20 11:48:27\n",
       "12  sumendar        rw   new     2017-05-20 11:48:27\n",
       "13  sumendar        rw   new     2017-05-20 11:48:26\n",
       "14  sumendar        rw   new     2017-05-20 11:48:22\n",
       "15  sumendar        rw   new     2017-05-20 11:48:10\n",
       "16  sumendar        rw   new     2017-05-20 11:48:10\n",
       "17  sumendar        rw   new     2017-05-20 11:48:10\n",
       "18  sumendar        rw   new     2017-05-20 11:48:10\n",
       "19  sumendar        rw   new     2017-05-20 11:48:10\n",
       "20  sumendar        rw   new     2017-05-20 11:48:10\n",
       "21  sumendar        rw   new     2017-05-20 11:48:10\n",
       "22  sumendar        rw   new     2017-05-20 11:48:10\n",
       "23  sumendar        rw   new     2017-05-20 11:48:09\n",
       "24  sumendar        rw   new     2017-05-20 11:48:05\n",
       "25  sumendar        rw   new     2017-05-20 11:47:54\n",
       "26  sumendar        rw   new     2017-05-20 11:47:54\n",
       "27  sumendar        rw   new     2017-05-20 11:47:54\n",
       "28  sumendar        rw   new     2017-05-20 11:47:54\n",
       "29  sumendar        rw   new     2017-05-20 11:47:54\n",
       "30  sumendar        rw   new     2017-05-20 11:47:54\n",
       "... ...             ...  ...     ...                \n",
       "302 sumendar        rw   new     2016-07-22 14:18:12\n",
       "303 sumendar        rw   new     2016-07-22 14:18:05\n",
       "304 sumendar        rw   new     2016-07-22 14:18:00\n",
       "305 sumendar        rw   new     2016-07-22 14:17:52\n",
       "306 sumendar        rw   new     2016-06-29 16:07:27\n",
       "307 sumendar        rw   new     2016-06-29 16:07:25\n",
       "308 sumendar        rw   new     2016-06-29 16:07:24\n",
       "309 sumendar        rw   new     2016-06-29 16:07:23\n",
       "310 sumendar        rw   new     2016-06-29 16:07:23\n",
       "311 sumendar        rw   new     2016-06-29 16:07:22\n",
       "312 sumendar        rw   new     2016-06-29 16:07:22\n",
       "313 sumendar        rw   new     2016-06-29 16:07:21\n",
       "314 sumendar        rw   new     2016-06-29 16:07:21\n",
       "315 sumendar        rw   new     2016-06-29 16:07:21\n",
       "316 sumendar        rw   new     2016-06-29 16:07:19\n",
       "317 sumendar        rw   new     2016-06-29 16:07:19\n",
       "318 sumendar        rw   new     2016-06-29 16:07:18\n",
       "319 sumendar        rw   new     2016-06-29 16:07:17\n",
       "320 sumendar        rw   new     2016-06-29 16:07:17\n",
       "321 sumendar        rw   new     2016-06-29 16:07:17\n",
       "322 sumendar        rw   new     2016-06-27 14:23:17\n",
       "323 ohri2007        r    new     2016-06-26 23:23:53\n",
       "324 sumendar        rw   new     2016-06-24 22:39:45\n",
       "325 liz             r    new     2016-01-13 21:37:57\n",
       "326 liz             r    new     2015-12-21 18:10:16\n",
       "327 liz             r    new     2015-09-23 21:01:38\n",
       "328 liz             r    new     2015-08-25 00:19:03\n",
       "329 liz             r    new     2015-08-25 00:19:03\n",
       "330 george.arnett22 r    new     2013-09-23 17:25:45\n",
       "331 liz             r    new     2013-05-20 21:26:57\n",
       "    sheet_key                                   \n",
       "1   1SrqxnCEph0cOahDAaiACfIH_G8Fqvw4HdieJv0M8EQM\n",
       "2   18yUpkEmTbVja4KUi2_JN8Y7QyPGzzJ_yRE_FrjS-a-A\n",
       "3   1WDibz0V8rB6AeHG1n56gYLOC7FxyEKt0B8ZfKcMMyR8\n",
       "4   1rUcpJSz8lJ37noX__POiDC7769Aa9WfwNJaGJbyouUI\n",
       "5   1lQ4IkyDwmN2xcdtpHHAwUgf7jjlJMT1djANJizNl2S8\n",
       "6   140h_WFxtJ7a4dew7j-Vyso2RA-rfmTG158_wGVf-gZs\n",
       "7   1bYXZM2dQ16ShAYNQ021Dc4LNhUKZMOyB7irE-9k3kgc\n",
       "8   11YSjKXkRKTuo4SIyBokHZ3ZoOWzRk3jEN-jTlAx8Epo\n",
       "9   1ISbpY8GtO7lwp3xMcBsJZnReqly6iQwDdldgO-rDN90\n",
       "10  10WAta0C6Du5rjpq8jcdgif4fIIgl62aIXUnh6z9U7H0\n",
       "11  1mmAsXFHT5tQl3LnRfqARG-QsdosHwqXkGh-FwWFpdoM\n",
       "12  1euUrIFgLo5W7_sta6Gub3gzt88sfW2ZIBjYbVOS7Do0\n",
       "13  1kjMDPpYXOM4Pl7Kgll9_Zy3CAmMgP-24-LaN-t1DKHs\n",
       "14  1giDpe1qRJCBdl2xlkXQRrrs_ku9VjDL2Y21DkwRInNA\n",
       "15  1k1z0QyXK6GW7A2_SUUlaTkPJ2eZuN6exgXhsfOj8D_g\n",
       "16  1AKWKWiHeYc1BhZBF9_rjGaxBzLNPpsSd2SyRIVn7Dpc\n",
       "17  1_ll3SDsKDlYMuPaQ9AlxORGu4bPYe2SYSrIlh2GDxUc\n",
       "18  1Ab5ApL5Ve0o_ls9IkAXGkJjKOEykG6xR7Iv1-srT7dk\n",
       "19  1NEuCFhlzfIe8jN_NSzCp60MGxp0ef7OQgxg_QDJVWog\n",
       "20  15YGPhRE5a7gBBrSGK5fitlY6wX6oAtNIMMQLvNkt-5A\n",
       "21  1V3Tqk539XTYhIrBymz2eKirFhTACqEKsk_tW7NBHBJo\n",
       "22  17Zo18mX9JDoGfvxjfDh8vkVJK1Ln7XD6bX4t4sA03kQ\n",
       "23  18MRKiO4qgMAQq05JU44G4E6U3WL3wTS1hm6NLUx-clE\n",
       "24  1fBK-3XnW6IHbfO4sKoydRSUAz2B45W6Vm0fp_yjic1A\n",
       "25  1upedgkdcDSMLoBiOij8J5VWLmsDS8izmDPe1IpCu6zc\n",
       "26  1wcaPTr2V2AuqxSQQBmiEEl2cZP2dsJUvyHVr7wk87-Y\n",
       "27  163W1elF5Qd7QtAriRF6NIxyhdVSPC4T-wkcD6UcstnY\n",
       "28  1SFn0xrVGJG2P8YUphQ17k09xHiYztZmsvjuE0Phc3Yw\n",
       "29  1eONq3eQCwf_FYGKNhB2JYWUYJod0u1QHto-l0MENob8\n",
       "30  1FseyK_3D8_cCFpwHbhHLfEH8K8HSEgIYmQsBlZQJk9E\n",
       "... ...                                         \n",
       "302 1HlEJhA61I5Fi22t41GoBGLZpnRHUxMDMIKT43eujN6E\n",
       "303 1utzqhJaMS5rZIss8TqofldFxBh0WIS41beocf5qcxuk\n",
       "304 1edaLuQ08o3WlUeypcDfcNPvDhoLn51q8qHi-qhI0z2U\n",
       "305 12TLsyiBeOSRMbE7GmIQSmQHMybFFbLwm_nvU30FGy_k\n",
       "306 1qwvGXomX2tNF-FNuAH5Q3-pYw5O9N8VFRB8jePFQIfg\n",
       "307 1c7beVAgot88h4xuuIDx1FZhoeXafvSnYs9vPm07kDQ0\n",
       "308 1UkUQRbwlANTQq-Y5OaztgwxXfFNUZTGR9ww4A-NfJVA\n",
       "309 1nCzbBkZfY05s5tVwZsTymx_VjU556NzmvK2alCTdyZg\n",
       "310 1gJIjyPMjUvP1OHXcE1cJ4UxjjF4HHXj_bSlNFBoHHJw\n",
       "311 1XEj0KZTvj2w1pdDCLGi4XovWHeHtelA58HNRGF9XofA\n",
       "312 1VhTE2V9w8YnqWBu5-he_i6t389aPdoKXb-OO-EJtedA\n",
       "313 1g8KWfjvijfQvoBJpqdhnH1pfUXElkuThUY7AFXnE7wk\n",
       "314 1IEor2pi98lmcYufYJv5qvvMhK4FgKFjkhKuPj3O-CWs\n",
       "315 1GXiwalCHSe5tuo_pIVqPw9JDqrU2zjpzFyYHO9PN49w\n",
       "316 1IZnilhaYWnwAv1yHOX9qH-9Sh_8fl703m8vb236E0m8\n",
       "317 1I8sDtPkBPX7Gu9Y89Zl2ni9JcH4SdRH4wfn0a55TmtA\n",
       "318 1zHoXDEsX0EwCIshnrQkwy7UXPBR1s_180f8CRYubdJY\n",
       "319 1EqJDLdEB4sIpi30OIRKgU8TC_2a04yBq3rPf3LviVHM\n",
       "320 1A9uX2A2sirSCPP8HbVx2eSb9IobMepiU_Wjbh2B8h9s\n",
       "321 178JxSmZz5wPMKNSLhibMG1-h8-f05_Kv736kOmp6Fho\n",
       "322 1dmZqdZMr3QgSUTsbAy6o3YO9jg2fdv7zNGiM6cgZf8M\n",
       "323 17AWR-oJzoscX_zbVI1lK7IXGcZTtL9PQwCoyqCaEnTk\n",
       "324 1LlHD4TZi7t4Y2GMFSGkBEHthNq0amPoyYW0_AxPm78Q\n",
       "325 11A9tK-aRdukQ5lqTOO_yfQABJIUndmvehByu7JZtor8\n",
       "326 1tf3SIc7wUZtXQpSdnpysv8VuX9iSGMUYYnS5rAaKDfk\n",
       "327 175n6b3gq2ePqnlkWCWaMeN8T0J-QeFJBL1iXuPwqF-c\n",
       "328 110tDSfShiQkkBuF4Kr4Ck2SsbtGRJBZOOCT5X3gm4gc\n",
       "329 1jMLcMJkVb_lUo5SSyI30lD9rBvtGreZZ2fWKC7dBtOk\n",
       "330 18ApnwssrY5qejLSZY2Y7T_G6X4Lp8BvyhBTOcOi4sNU\n",
       "331 1gjWIQksotDpzMh1stSJh_WZjqIN3oN6jQ8Dlx5ZTUts\n",
       "    ws_feed                                                                                                     \n",
       "1   https://spreadsheets.google.com/feeds/worksheets/1SrqxnCEph0cOahDAaiACfIH_G8Fqvw4HdieJv0M8EQM/private/full  \n",
       "2   https://spreadsheets.google.com/feeds/worksheets/18yUpkEmTbVja4KUi2_JN8Y7QyPGzzJ_yRE_FrjS-a-A/private/values\n",
       "3   https://spreadsheets.google.com/feeds/worksheets/1WDibz0V8rB6AeHG1n56gYLOC7FxyEKt0B8ZfKcMMyR8/private/values\n",
       "4   https://spreadsheets.google.com/feeds/worksheets/1rUcpJSz8lJ37noX__POiDC7769Aa9WfwNJaGJbyouUI/private/full  \n",
       "5   https://spreadsheets.google.com/feeds/worksheets/1lQ4IkyDwmN2xcdtpHHAwUgf7jjlJMT1djANJizNl2S8/private/full  \n",
       "6   https://spreadsheets.google.com/feeds/worksheets/140h_WFxtJ7a4dew7j-Vyso2RA-rfmTG158_wGVf-gZs/private/full  \n",
       "7   https://spreadsheets.google.com/feeds/worksheets/1bYXZM2dQ16ShAYNQ021Dc4LNhUKZMOyB7irE-9k3kgc/private/full  \n",
       "8   https://spreadsheets.google.com/feeds/worksheets/11YSjKXkRKTuo4SIyBokHZ3ZoOWzRk3jEN-jTlAx8Epo/private/full  \n",
       "9   https://spreadsheets.google.com/feeds/worksheets/1ISbpY8GtO7lwp3xMcBsJZnReqly6iQwDdldgO-rDN90/private/full  \n",
       "10  https://spreadsheets.google.com/feeds/worksheets/10WAta0C6Du5rjpq8jcdgif4fIIgl62aIXUnh6z9U7H0/private/full  \n",
       "11  https://spreadsheets.google.com/feeds/worksheets/1mmAsXFHT5tQl3LnRfqARG-QsdosHwqXkGh-FwWFpdoM/private/full  \n",
       "12  https://spreadsheets.google.com/feeds/worksheets/1euUrIFgLo5W7_sta6Gub3gzt88sfW2ZIBjYbVOS7Do0/private/full  \n",
       "13  https://spreadsheets.google.com/feeds/worksheets/1kjMDPpYXOM4Pl7Kgll9_Zy3CAmMgP-24-LaN-t1DKHs/private/full  \n",
       "14  https://spreadsheets.google.com/feeds/worksheets/1giDpe1qRJCBdl2xlkXQRrrs_ku9VjDL2Y21DkwRInNA/private/full  \n",
       "15  https://spreadsheets.google.com/feeds/worksheets/1k1z0QyXK6GW7A2_SUUlaTkPJ2eZuN6exgXhsfOj8D_g/private/full  \n",
       "16  https://spreadsheets.google.com/feeds/worksheets/1AKWKWiHeYc1BhZBF9_rjGaxBzLNPpsSd2SyRIVn7Dpc/private/full  \n",
       "17  https://spreadsheets.google.com/feeds/worksheets/1_ll3SDsKDlYMuPaQ9AlxORGu4bPYe2SYSrIlh2GDxUc/private/full  \n",
       "18  https://spreadsheets.google.com/feeds/worksheets/1Ab5ApL5Ve0o_ls9IkAXGkJjKOEykG6xR7Iv1-srT7dk/private/full  \n",
       "19  https://spreadsheets.google.com/feeds/worksheets/1NEuCFhlzfIe8jN_NSzCp60MGxp0ef7OQgxg_QDJVWog/private/full  \n",
       "20  https://spreadsheets.google.com/feeds/worksheets/15YGPhRE5a7gBBrSGK5fitlY6wX6oAtNIMMQLvNkt-5A/private/full  \n",
       "21  https://spreadsheets.google.com/feeds/worksheets/1V3Tqk539XTYhIrBymz2eKirFhTACqEKsk_tW7NBHBJo/private/full  \n",
       "22  https://spreadsheets.google.com/feeds/worksheets/17Zo18mX9JDoGfvxjfDh8vkVJK1Ln7XD6bX4t4sA03kQ/private/full  \n",
       "23  https://spreadsheets.google.com/feeds/worksheets/18MRKiO4qgMAQq05JU44G4E6U3WL3wTS1hm6NLUx-clE/private/full  \n",
       "24  https://spreadsheets.google.com/feeds/worksheets/1fBK-3XnW6IHbfO4sKoydRSUAz2B45W6Vm0fp_yjic1A/private/full  \n",
       "25  https://spreadsheets.google.com/feeds/worksheets/1upedgkdcDSMLoBiOij8J5VWLmsDS8izmDPe1IpCu6zc/private/full  \n",
       "26  https://spreadsheets.google.com/feeds/worksheets/1wcaPTr2V2AuqxSQQBmiEEl2cZP2dsJUvyHVr7wk87-Y/private/full  \n",
       "27  https://spreadsheets.google.com/feeds/worksheets/163W1elF5Qd7QtAriRF6NIxyhdVSPC4T-wkcD6UcstnY/private/full  \n",
       "28  https://spreadsheets.google.com/feeds/worksheets/1SFn0xrVGJG2P8YUphQ17k09xHiYztZmsvjuE0Phc3Yw/private/full  \n",
       "29  https://spreadsheets.google.com/feeds/worksheets/1eONq3eQCwf_FYGKNhB2JYWUYJod0u1QHto-l0MENob8/private/full  \n",
       "30  https://spreadsheets.google.com/feeds/worksheets/1FseyK_3D8_cCFpwHbhHLfEH8K8HSEgIYmQsBlZQJk9E/private/full  \n",
       "... ...                                                                                                         \n",
       "302 https://spreadsheets.google.com/feeds/worksheets/1HlEJhA61I5Fi22t41GoBGLZpnRHUxMDMIKT43eujN6E/private/full  \n",
       "303 https://spreadsheets.google.com/feeds/worksheets/1utzqhJaMS5rZIss8TqofldFxBh0WIS41beocf5qcxuk/private/full  \n",
       "304 https://spreadsheets.google.com/feeds/worksheets/1edaLuQ08o3WlUeypcDfcNPvDhoLn51q8qHi-qhI0z2U/private/full  \n",
       "305 https://spreadsheets.google.com/feeds/worksheets/12TLsyiBeOSRMbE7GmIQSmQHMybFFbLwm_nvU30FGy_k/private/full  \n",
       "306 https://spreadsheets.google.com/feeds/worksheets/1qwvGXomX2tNF-FNuAH5Q3-pYw5O9N8VFRB8jePFQIfg/private/full  \n",
       "307 https://spreadsheets.google.com/feeds/worksheets/1c7beVAgot88h4xuuIDx1FZhoeXafvSnYs9vPm07kDQ0/private/full  \n",
       "308 https://spreadsheets.google.com/feeds/worksheets/1UkUQRbwlANTQq-Y5OaztgwxXfFNUZTGR9ww4A-NfJVA/private/full  \n",
       "309 https://spreadsheets.google.com/feeds/worksheets/1nCzbBkZfY05s5tVwZsTymx_VjU556NzmvK2alCTdyZg/private/full  \n",
       "310 https://spreadsheets.google.com/feeds/worksheets/1gJIjyPMjUvP1OHXcE1cJ4UxjjF4HHXj_bSlNFBoHHJw/private/full  \n",
       "311 https://spreadsheets.google.com/feeds/worksheets/1XEj0KZTvj2w1pdDCLGi4XovWHeHtelA58HNRGF9XofA/private/full  \n",
       "312 https://spreadsheets.google.com/feeds/worksheets/1VhTE2V9w8YnqWBu5-he_i6t389aPdoKXb-OO-EJtedA/private/full  \n",
       "313 https://spreadsheets.google.com/feeds/worksheets/1g8KWfjvijfQvoBJpqdhnH1pfUXElkuThUY7AFXnE7wk/private/full  \n",
       "314 https://spreadsheets.google.com/feeds/worksheets/1IEor2pi98lmcYufYJv5qvvMhK4FgKFjkhKuPj3O-CWs/private/full  \n",
       "315 https://spreadsheets.google.com/feeds/worksheets/1GXiwalCHSe5tuo_pIVqPw9JDqrU2zjpzFyYHO9PN49w/private/full  \n",
       "316 https://spreadsheets.google.com/feeds/worksheets/1IZnilhaYWnwAv1yHOX9qH-9Sh_8fl703m8vb236E0m8/private/full  \n",
       "317 https://spreadsheets.google.com/feeds/worksheets/1I8sDtPkBPX7Gu9Y89Zl2ni9JcH4SdRH4wfn0a55TmtA/private/full  \n",
       "318 https://spreadsheets.google.com/feeds/worksheets/1zHoXDEsX0EwCIshnrQkwy7UXPBR1s_180f8CRYubdJY/private/full  \n",
       "319 https://spreadsheets.google.com/feeds/worksheets/1EqJDLdEB4sIpi30OIRKgU8TC_2a04yBq3rPf3LviVHM/private/full  \n",
       "320 https://spreadsheets.google.com/feeds/worksheets/1A9uX2A2sirSCPP8HbVx2eSb9IobMepiU_Wjbh2B8h9s/private/full  \n",
       "321 https://spreadsheets.google.com/feeds/worksheets/178JxSmZz5wPMKNSLhibMG1-h8-f05_Kv736kOmp6Fho/private/full  \n",
       "322 https://spreadsheets.google.com/feeds/worksheets/1dmZqdZMr3QgSUTsbAy6o3YO9jg2fdv7zNGiM6cgZf8M/private/full  \n",
       "323 https://spreadsheets.google.com/feeds/worksheets/17AWR-oJzoscX_zbVI1lK7IXGcZTtL9PQwCoyqCaEnTk/private/values\n",
       "324 https://spreadsheets.google.com/feeds/worksheets/1LlHD4TZi7t4Y2GMFSGkBEHthNq0amPoyYW0_AxPm78Q/private/full  \n",
       "325 https://spreadsheets.google.com/feeds/worksheets/11A9tK-aRdukQ5lqTOO_yfQABJIUndmvehByu7JZtor8/private/values\n",
       "326 https://spreadsheets.google.com/feeds/worksheets/1tf3SIc7wUZtXQpSdnpysv8VuX9iSGMUYYnS5rAaKDfk/private/values\n",
       "327 https://spreadsheets.google.com/feeds/worksheets/175n6b3gq2ePqnlkWCWaMeN8T0J-QeFJBL1iXuPwqF-c/private/values\n",
       "328 https://spreadsheets.google.com/feeds/worksheets/110tDSfShiQkkBuF4Kr4Ck2SsbtGRJBZOOCT5X3gm4gc/private/values\n",
       "329 https://spreadsheets.google.com/feeds/worksheets/1jMLcMJkVb_lUo5SSyI30lD9rBvtGreZZ2fWKC7dBtOk/private/values\n",
       "330 https://spreadsheets.google.com/feeds/worksheets/18ApnwssrY5qejLSZY2Y7T_G6X4Lp8BvyhBTOcOi4sNU/private/values\n",
       "331 https://spreadsheets.google.com/feeds/worksheets/1gjWIQksotDpzMh1stSJh_WZjqIN3oN6jQ8Dlx5ZTUts/private/values\n",
       "    alternate                                                                               \n",
       "1   https://docs.google.com/spreadsheets/d/1SrqxnCEph0cOahDAaiACfIH_G8Fqvw4HdieJv0M8EQM/edit\n",
       "2   https://docs.google.com/spreadsheets/d/18yUpkEmTbVja4KUi2_JN8Y7QyPGzzJ_yRE_FrjS-a-A/edit\n",
       "3   https://docs.google.com/spreadsheets/d/1WDibz0V8rB6AeHG1n56gYLOC7FxyEKt0B8ZfKcMMyR8/edit\n",
       "4   https://docs.google.com/spreadsheets/d/1rUcpJSz8lJ37noX__POiDC7769Aa9WfwNJaGJbyouUI/edit\n",
       "5   https://docs.google.com/spreadsheets/d/1lQ4IkyDwmN2xcdtpHHAwUgf7jjlJMT1djANJizNl2S8/edit\n",
       "6   https://docs.google.com/spreadsheets/d/140h_WFxtJ7a4dew7j-Vyso2RA-rfmTG158_wGVf-gZs/edit\n",
       "7   https://docs.google.com/spreadsheets/d/1bYXZM2dQ16ShAYNQ021Dc4LNhUKZMOyB7irE-9k3kgc/edit\n",
       "8   https://docs.google.com/spreadsheets/d/11YSjKXkRKTuo4SIyBokHZ3ZoOWzRk3jEN-jTlAx8Epo/edit\n",
       "9   https://docs.google.com/spreadsheets/d/1ISbpY8GtO7lwp3xMcBsJZnReqly6iQwDdldgO-rDN90/edit\n",
       "10  https://docs.google.com/spreadsheets/d/10WAta0C6Du5rjpq8jcdgif4fIIgl62aIXUnh6z9U7H0/edit\n",
       "11  https://docs.google.com/spreadsheets/d/1mmAsXFHT5tQl3LnRfqARG-QsdosHwqXkGh-FwWFpdoM/edit\n",
       "12  https://docs.google.com/spreadsheets/d/1euUrIFgLo5W7_sta6Gub3gzt88sfW2ZIBjYbVOS7Do0/edit\n",
       "13  https://docs.google.com/spreadsheets/d/1kjMDPpYXOM4Pl7Kgll9_Zy3CAmMgP-24-LaN-t1DKHs/edit\n",
       "14  https://docs.google.com/spreadsheets/d/1giDpe1qRJCBdl2xlkXQRrrs_ku9VjDL2Y21DkwRInNA/edit\n",
       "15  https://docs.google.com/spreadsheets/d/1k1z0QyXK6GW7A2_SUUlaTkPJ2eZuN6exgXhsfOj8D_g/edit\n",
       "16  https://docs.google.com/spreadsheets/d/1AKWKWiHeYc1BhZBF9_rjGaxBzLNPpsSd2SyRIVn7Dpc/edit\n",
       "17  https://docs.google.com/spreadsheets/d/1_ll3SDsKDlYMuPaQ9AlxORGu4bPYe2SYSrIlh2GDxUc/edit\n",
       "18  https://docs.google.com/spreadsheets/d/1Ab5ApL5Ve0o_ls9IkAXGkJjKOEykG6xR7Iv1-srT7dk/edit\n",
       "19  https://docs.google.com/spreadsheets/d/1NEuCFhlzfIe8jN_NSzCp60MGxp0ef7OQgxg_QDJVWog/edit\n",
       "20  https://docs.google.com/spreadsheets/d/15YGPhRE5a7gBBrSGK5fitlY6wX6oAtNIMMQLvNkt-5A/edit\n",
       "21  https://docs.google.com/spreadsheets/d/1V3Tqk539XTYhIrBymz2eKirFhTACqEKsk_tW7NBHBJo/edit\n",
       "22  https://docs.google.com/spreadsheets/d/17Zo18mX9JDoGfvxjfDh8vkVJK1Ln7XD6bX4t4sA03kQ/edit\n",
       "23  https://docs.google.com/spreadsheets/d/18MRKiO4qgMAQq05JU44G4E6U3WL3wTS1hm6NLUx-clE/edit\n",
       "24  https://docs.google.com/spreadsheets/d/1fBK-3XnW6IHbfO4sKoydRSUAz2B45W6Vm0fp_yjic1A/edit\n",
       "25  https://docs.google.com/spreadsheets/d/1upedgkdcDSMLoBiOij8J5VWLmsDS8izmDPe1IpCu6zc/edit\n",
       "26  https://docs.google.com/spreadsheets/d/1wcaPTr2V2AuqxSQQBmiEEl2cZP2dsJUvyHVr7wk87-Y/edit\n",
       "27  https://docs.google.com/spreadsheets/d/163W1elF5Qd7QtAriRF6NIxyhdVSPC4T-wkcD6UcstnY/edit\n",
       "28  https://docs.google.com/spreadsheets/d/1SFn0xrVGJG2P8YUphQ17k09xHiYztZmsvjuE0Phc3Yw/edit\n",
       "29  https://docs.google.com/spreadsheets/d/1eONq3eQCwf_FYGKNhB2JYWUYJod0u1QHto-l0MENob8/edit\n",
       "30  https://docs.google.com/spreadsheets/d/1FseyK_3D8_cCFpwHbhHLfEH8K8HSEgIYmQsBlZQJk9E/edit\n",
       "... ...                                                                                     \n",
       "302 https://docs.google.com/spreadsheets/d/1HlEJhA61I5Fi22t41GoBGLZpnRHUxMDMIKT43eujN6E/edit\n",
       "303 https://docs.google.com/spreadsheets/d/1utzqhJaMS5rZIss8TqofldFxBh0WIS41beocf5qcxuk/edit\n",
       "304 https://docs.google.com/spreadsheets/d/1edaLuQ08o3WlUeypcDfcNPvDhoLn51q8qHi-qhI0z2U/edit\n",
       "305 https://docs.google.com/spreadsheets/d/12TLsyiBeOSRMbE7GmIQSmQHMybFFbLwm_nvU30FGy_k/edit\n",
       "306 https://docs.google.com/spreadsheets/d/1qwvGXomX2tNF-FNuAH5Q3-pYw5O9N8VFRB8jePFQIfg/edit\n",
       "307 https://docs.google.com/spreadsheets/d/1c7beVAgot88h4xuuIDx1FZhoeXafvSnYs9vPm07kDQ0/edit\n",
       "308 https://docs.google.com/spreadsheets/d/1UkUQRbwlANTQq-Y5OaztgwxXfFNUZTGR9ww4A-NfJVA/edit\n",
       "309 https://docs.google.com/spreadsheets/d/1nCzbBkZfY05s5tVwZsTymx_VjU556NzmvK2alCTdyZg/edit\n",
       "310 https://docs.google.com/spreadsheets/d/1gJIjyPMjUvP1OHXcE1cJ4UxjjF4HHXj_bSlNFBoHHJw/edit\n",
       "311 https://docs.google.com/spreadsheets/d/1XEj0KZTvj2w1pdDCLGi4XovWHeHtelA58HNRGF9XofA/edit\n",
       "312 https://docs.google.com/spreadsheets/d/1VhTE2V9w8YnqWBu5-he_i6t389aPdoKXb-OO-EJtedA/edit\n",
       "313 https://docs.google.com/spreadsheets/d/1g8KWfjvijfQvoBJpqdhnH1pfUXElkuThUY7AFXnE7wk/edit\n",
       "314 https://docs.google.com/spreadsheets/d/1IEor2pi98lmcYufYJv5qvvMhK4FgKFjkhKuPj3O-CWs/edit\n",
       "315 https://docs.google.com/spreadsheets/d/1GXiwalCHSe5tuo_pIVqPw9JDqrU2zjpzFyYHO9PN49w/edit\n",
       "316 https://docs.google.com/spreadsheets/d/1IZnilhaYWnwAv1yHOX9qH-9Sh_8fl703m8vb236E0m8/edit\n",
       "317 https://docs.google.com/spreadsheets/d/1I8sDtPkBPX7Gu9Y89Zl2ni9JcH4SdRH4wfn0a55TmtA/edit\n",
       "318 https://docs.google.com/spreadsheets/d/1zHoXDEsX0EwCIshnrQkwy7UXPBR1s_180f8CRYubdJY/edit\n",
       "319 https://docs.google.com/spreadsheets/d/1EqJDLdEB4sIpi30OIRKgU8TC_2a04yBq3rPf3LviVHM/edit\n",
       "320 https://docs.google.com/spreadsheets/d/1A9uX2A2sirSCPP8HbVx2eSb9IobMepiU_Wjbh2B8h9s/edit\n",
       "321 https://docs.google.com/spreadsheets/d/178JxSmZz5wPMKNSLhibMG1-h8-f05_Kv736kOmp6Fho/edit\n",
       "322 https://docs.google.com/spreadsheets/d/1dmZqdZMr3QgSUTsbAy6o3YO9jg2fdv7zNGiM6cgZf8M/edit\n",
       "323 https://docs.google.com/spreadsheets/d/17AWR-oJzoscX_zbVI1lK7IXGcZTtL9PQwCoyqCaEnTk/edit\n",
       "324 https://docs.google.com/spreadsheets/d/1LlHD4TZi7t4Y2GMFSGkBEHthNq0amPoyYW0_AxPm78Q/edit\n",
       "325 https://docs.google.com/spreadsheets/d/11A9tK-aRdukQ5lqTOO_yfQABJIUndmvehByu7JZtor8/edit\n",
       "326 https://docs.google.com/spreadsheets/d/1tf3SIc7wUZtXQpSdnpysv8VuX9iSGMUYYnS5rAaKDfk/edit\n",
       "327 https://docs.google.com/spreadsheets/d/175n6b3gq2ePqnlkWCWaMeN8T0J-QeFJBL1iXuPwqF-c/edit\n",
       "328 https://docs.google.com/spreadsheets/d/110tDSfShiQkkBuF4Kr4Ck2SsbtGRJBZOOCT5X3gm4gc/edit\n",
       "329 https://docs.google.com/spreadsheets/d/1jMLcMJkVb_lUo5SSyI30lD9rBvtGreZZ2fWKC7dBtOk/edit\n",
       "330 https://docs.google.com/spreadsheets/d/18ApnwssrY5qejLSZY2Y7T_G6X4Lp8BvyhBTOcOi4sNU/edit\n",
       "331 https://docs.google.com/spreadsheets/d/1gjWIQksotDpzMh1stSJh_WZjqIN3oN6jQ8Dlx5ZTUts/edit\n",
       "    self                                                                                                        \n",
       "1   https://spreadsheets.google.com/feeds/spreadsheets/private/full/1SrqxnCEph0cOahDAaiACfIH_G8Fqvw4HdieJv0M8EQM\n",
       "2   https://spreadsheets.google.com/feeds/spreadsheets/private/full/18yUpkEmTbVja4KUi2_JN8Y7QyPGzzJ_yRE_FrjS-a-A\n",
       "3   https://spreadsheets.google.com/feeds/spreadsheets/private/full/1WDibz0V8rB6AeHG1n56gYLOC7FxyEKt0B8ZfKcMMyR8\n",
       "4   https://spreadsheets.google.com/feeds/spreadsheets/private/full/1rUcpJSz8lJ37noX__POiDC7769Aa9WfwNJaGJbyouUI\n",
       "5   https://spreadsheets.google.com/feeds/spreadsheets/private/full/1lQ4IkyDwmN2xcdtpHHAwUgf7jjlJMT1djANJizNl2S8\n",
       "6   https://spreadsheets.google.com/feeds/spreadsheets/private/full/140h_WFxtJ7a4dew7j-Vyso2RA-rfmTG158_wGVf-gZs\n",
       "7   https://spreadsheets.google.com/feeds/spreadsheets/private/full/1bYXZM2dQ16ShAYNQ021Dc4LNhUKZMOyB7irE-9k3kgc\n",
       "8   https://spreadsheets.google.com/feeds/spreadsheets/private/full/11YSjKXkRKTuo4SIyBokHZ3ZoOWzRk3jEN-jTlAx8Epo\n",
       "9   https://spreadsheets.google.com/feeds/spreadsheets/private/full/1ISbpY8GtO7lwp3xMcBsJZnReqly6iQwDdldgO-rDN90\n",
       "10  https://spreadsheets.google.com/feeds/spreadsheets/private/full/10WAta0C6Du5rjpq8jcdgif4fIIgl62aIXUnh6z9U7H0\n",
       "11  https://spreadsheets.google.com/feeds/spreadsheets/private/full/1mmAsXFHT5tQl3LnRfqARG-QsdosHwqXkGh-FwWFpdoM\n",
       "12  https://spreadsheets.google.com/feeds/spreadsheets/private/full/1euUrIFgLo5W7_sta6Gub3gzt88sfW2ZIBjYbVOS7Do0\n",
       "13  https://spreadsheets.google.com/feeds/spreadsheets/private/full/1kjMDPpYXOM4Pl7Kgll9_Zy3CAmMgP-24-LaN-t1DKHs\n",
       "14  https://spreadsheets.google.com/feeds/spreadsheets/private/full/1giDpe1qRJCBdl2xlkXQRrrs_ku9VjDL2Y21DkwRInNA\n",
       "15  https://spreadsheets.google.com/feeds/spreadsheets/private/full/1k1z0QyXK6GW7A2_SUUlaTkPJ2eZuN6exgXhsfOj8D_g\n",
       "16  https://spreadsheets.google.com/feeds/spreadsheets/private/full/1AKWKWiHeYc1BhZBF9_rjGaxBzLNPpsSd2SyRIVn7Dpc\n",
       "17  https://spreadsheets.google.com/feeds/spreadsheets/private/full/1_ll3SDsKDlYMuPaQ9AlxORGu4bPYe2SYSrIlh2GDxUc\n",
       "18  https://spreadsheets.google.com/feeds/spreadsheets/private/full/1Ab5ApL5Ve0o_ls9IkAXGkJjKOEykG6xR7Iv1-srT7dk\n",
       "19  https://spreadsheets.google.com/feeds/spreadsheets/private/full/1NEuCFhlzfIe8jN_NSzCp60MGxp0ef7OQgxg_QDJVWog\n",
       "20  https://spreadsheets.google.com/feeds/spreadsheets/private/full/15YGPhRE5a7gBBrSGK5fitlY6wX6oAtNIMMQLvNkt-5A\n",
       "21  https://spreadsheets.google.com/feeds/spreadsheets/private/full/1V3Tqk539XTYhIrBymz2eKirFhTACqEKsk_tW7NBHBJo\n",
       "22  https://spreadsheets.google.com/feeds/spreadsheets/private/full/17Zo18mX9JDoGfvxjfDh8vkVJK1Ln7XD6bX4t4sA03kQ\n",
       "23  https://spreadsheets.google.com/feeds/spreadsheets/private/full/18MRKiO4qgMAQq05JU44G4E6U3WL3wTS1hm6NLUx-clE\n",
       "24  https://spreadsheets.google.com/feeds/spreadsheets/private/full/1fBK-3XnW6IHbfO4sKoydRSUAz2B45W6Vm0fp_yjic1A\n",
       "25  https://spreadsheets.google.com/feeds/spreadsheets/private/full/1upedgkdcDSMLoBiOij8J5VWLmsDS8izmDPe1IpCu6zc\n",
       "26  https://spreadsheets.google.com/feeds/spreadsheets/private/full/1wcaPTr2V2AuqxSQQBmiEEl2cZP2dsJUvyHVr7wk87-Y\n",
       "27  https://spreadsheets.google.com/feeds/spreadsheets/private/full/163W1elF5Qd7QtAriRF6NIxyhdVSPC4T-wkcD6UcstnY\n",
       "28  https://spreadsheets.google.com/feeds/spreadsheets/private/full/1SFn0xrVGJG2P8YUphQ17k09xHiYztZmsvjuE0Phc3Yw\n",
       "29  https://spreadsheets.google.com/feeds/spreadsheets/private/full/1eONq3eQCwf_FYGKNhB2JYWUYJod0u1QHto-l0MENob8\n",
       "30  https://spreadsheets.google.com/feeds/spreadsheets/private/full/1FseyK_3D8_cCFpwHbhHLfEH8K8HSEgIYmQsBlZQJk9E\n",
       "... ...                                                                                                         \n",
       "302 https://spreadsheets.google.com/feeds/spreadsheets/private/full/1HlEJhA61I5Fi22t41GoBGLZpnRHUxMDMIKT43eujN6E\n",
       "303 https://spreadsheets.google.com/feeds/spreadsheets/private/full/1utzqhJaMS5rZIss8TqofldFxBh0WIS41beocf5qcxuk\n",
       "304 https://spreadsheets.google.com/feeds/spreadsheets/private/full/1edaLuQ08o3WlUeypcDfcNPvDhoLn51q8qHi-qhI0z2U\n",
       "305 https://spreadsheets.google.com/feeds/spreadsheets/private/full/12TLsyiBeOSRMbE7GmIQSmQHMybFFbLwm_nvU30FGy_k\n",
       "306 https://spreadsheets.google.com/feeds/spreadsheets/private/full/1qwvGXomX2tNF-FNuAH5Q3-pYw5O9N8VFRB8jePFQIfg\n",
       "307 https://spreadsheets.google.com/feeds/spreadsheets/private/full/1c7beVAgot88h4xuuIDx1FZhoeXafvSnYs9vPm07kDQ0\n",
       "308 https://spreadsheets.google.com/feeds/spreadsheets/private/full/1UkUQRbwlANTQq-Y5OaztgwxXfFNUZTGR9ww4A-NfJVA\n",
       "309 https://spreadsheets.google.com/feeds/spreadsheets/private/full/1nCzbBkZfY05s5tVwZsTymx_VjU556NzmvK2alCTdyZg\n",
       "310 https://spreadsheets.google.com/feeds/spreadsheets/private/full/1gJIjyPMjUvP1OHXcE1cJ4UxjjF4HHXj_bSlNFBoHHJw\n",
       "311 https://spreadsheets.google.com/feeds/spreadsheets/private/full/1XEj0KZTvj2w1pdDCLGi4XovWHeHtelA58HNRGF9XofA\n",
       "312 https://spreadsheets.google.com/feeds/spreadsheets/private/full/1VhTE2V9w8YnqWBu5-he_i6t389aPdoKXb-OO-EJtedA\n",
       "313 https://spreadsheets.google.com/feeds/spreadsheets/private/full/1g8KWfjvijfQvoBJpqdhnH1pfUXElkuThUY7AFXnE7wk\n",
       "314 https://spreadsheets.google.com/feeds/spreadsheets/private/full/1IEor2pi98lmcYufYJv5qvvMhK4FgKFjkhKuPj3O-CWs\n",
       "315 https://spreadsheets.google.com/feeds/spreadsheets/private/full/1GXiwalCHSe5tuo_pIVqPw9JDqrU2zjpzFyYHO9PN49w\n",
       "316 https://spreadsheets.google.com/feeds/spreadsheets/private/full/1IZnilhaYWnwAv1yHOX9qH-9Sh_8fl703m8vb236E0m8\n",
       "317 https://spreadsheets.google.com/feeds/spreadsheets/private/full/1I8sDtPkBPX7Gu9Y89Zl2ni9JcH4SdRH4wfn0a55TmtA\n",
       "318 https://spreadsheets.google.com/feeds/spreadsheets/private/full/1zHoXDEsX0EwCIshnrQkwy7UXPBR1s_180f8CRYubdJY\n",
       "319 https://spreadsheets.google.com/feeds/spreadsheets/private/full/1EqJDLdEB4sIpi30OIRKgU8TC_2a04yBq3rPf3LviVHM\n",
       "320 https://spreadsheets.google.com/feeds/spreadsheets/private/full/1A9uX2A2sirSCPP8HbVx2eSb9IobMepiU_Wjbh2B8h9s\n",
       "321 https://spreadsheets.google.com/feeds/spreadsheets/private/full/178JxSmZz5wPMKNSLhibMG1-h8-f05_Kv736kOmp6Fho\n",
       "322 https://spreadsheets.google.com/feeds/spreadsheets/private/full/1dmZqdZMr3QgSUTsbAy6o3YO9jg2fdv7zNGiM6cgZf8M\n",
       "323 https://spreadsheets.google.com/feeds/spreadsheets/private/full/17AWR-oJzoscX_zbVI1lK7IXGcZTtL9PQwCoyqCaEnTk\n",
       "324 https://spreadsheets.google.com/feeds/spreadsheets/private/full/1LlHD4TZi7t4Y2GMFSGkBEHthNq0amPoyYW0_AxPm78Q\n",
       "325 https://spreadsheets.google.com/feeds/spreadsheets/private/full/11A9tK-aRdukQ5lqTOO_yfQABJIUndmvehByu7JZtor8\n",
       "326 https://spreadsheets.google.com/feeds/spreadsheets/private/full/1tf3SIc7wUZtXQpSdnpysv8VuX9iSGMUYYnS5rAaKDfk\n",
       "327 https://spreadsheets.google.com/feeds/spreadsheets/private/full/175n6b3gq2ePqnlkWCWaMeN8T0J-QeFJBL1iXuPwqF-c\n",
       "328 https://spreadsheets.google.com/feeds/spreadsheets/private/full/110tDSfShiQkkBuF4Kr4Ck2SsbtGRJBZOOCT5X3gm4gc\n",
       "329 https://spreadsheets.google.com/feeds/spreadsheets/private/full/1jMLcMJkVb_lUo5SSyI30lD9rBvtGreZZ2fWKC7dBtOk\n",
       "330 https://spreadsheets.google.com/feeds/spreadsheets/private/full/18ApnwssrY5qejLSZY2Y7T_G6X4Lp8BvyhBTOcOi4sNU\n",
       "331 https://spreadsheets.google.com/feeds/spreadsheets/private/full/1gjWIQksotDpzMh1stSJh_WZjqIN3oN6jQ8Dlx5ZTUts\n",
       "    alt_key\n",
       "1   NA     \n",
       "2   NA     \n",
       "3   NA     \n",
       "4   NA     \n",
       "5   NA     \n",
       "6   NA     \n",
       "7   NA     \n",
       "8   NA     \n",
       "9   NA     \n",
       "10  NA     \n",
       "11  NA     \n",
       "12  NA     \n",
       "13  NA     \n",
       "14  NA     \n",
       "15  NA     \n",
       "16  NA     \n",
       "17  NA     \n",
       "18  NA     \n",
       "19  NA     \n",
       "20  NA     \n",
       "21  NA     \n",
       "22  NA     \n",
       "23  NA     \n",
       "24  NA     \n",
       "25  NA     \n",
       "26  NA     \n",
       "27  NA     \n",
       "28  NA     \n",
       "29  NA     \n",
       "30  NA     \n",
       "... ...    \n",
       "302 NA     \n",
       "303 NA     \n",
       "304 NA     \n",
       "305 NA     \n",
       "306 NA     \n",
       "307 NA     \n",
       "308 NA     \n",
       "309 NA     \n",
       "310 NA     \n",
       "311 NA     \n",
       "312 NA     \n",
       "313 NA     \n",
       "314 NA     \n",
       "315 NA     \n",
       "316 NA     \n",
       "317 NA     \n",
       "318 NA     \n",
       "319 NA     \n",
       "320 NA     \n",
       "321 NA     \n",
       "322 NA     \n",
       "323 NA     \n",
       "324 NA     \n",
       "325 NA     \n",
       "326 NA     \n",
       "327 NA     \n",
       "328 NA     \n",
       "329 NA     \n",
       "330 NA     \n",
       "331 NA     "
      ]
     },
     "metadata": {},
     "output_type": "display_data"
    }
   ],
   "source": [
    "(my_sheets <- gs_ls()) # dispalys list of sheets available in the drive\n",
    "# Let the browser start up and complete the authentication process. "
   ]
  },
  {
   "cell_type": "code",
   "execution_count": 45,
   "metadata": {
    "run_control": {
     "frozen": false,
     "read_only": false
    },
    "slideshow": {
     "slide_type": "fragment"
    }
   },
   "outputs": [
    {
     "name": "stderr",
     "output_type": "stream",
     "text": [
      "Sheet successfully identified: \"sample.xlsx\"\n"
     ]
    }
   ],
   "source": [
    "# Then, if you want to read in the data or edit it, you have to register it. You can do this by specifying your spreadsheet by title\n",
    "# or by key:\n",
    "data <- gs_title(\"sample.xlsx\") # Specifying the sheet by title"
   ]
  },
  {
   "cell_type": "code",
   "execution_count": 46,
   "metadata": {
    "run_control": {
     "frozen": false,
     "read_only": false
    },
    "scrolled": false,
    "slideshow": {
     "slide_type": "subslide"
    }
   },
   "outputs": [
    {
     "name": "stderr",
     "output_type": "stream",
     "text": [
      "Accessing worksheet titled 'Sales Data'.\n",
      "Parsed with column specification:\n",
      "cols(\n",
      "  `Serial No.` = col_integer(),\n",
      "  `Transaction Date` = col_character(),\n",
      "  Product = col_character(),\n",
      "  Price = col_integer(),\n",
      "  Payment_Type = col_character(),\n",
      "  Name = col_character(),\n",
      "  City = col_character(),\n",
      "  State = col_character(),\n",
      "  Country = col_character(),\n",
      "  Latitude = col_double(),\n",
      "  Longitude = col_double()\n",
      ")\n"
     ]
    },
    {
     "data": {
      "text/html": [
       "<table>\n",
       "<thead><tr><th scope=col>Serial No.</th><th scope=col>Transaction Date</th><th scope=col>Product</th><th scope=col>Price</th><th scope=col>Payment_Type</th><th scope=col>Name</th><th scope=col>City</th><th scope=col>State</th><th scope=col>Country</th><th scope=col>Latitude</th><th scope=col>Longitude</th></tr></thead>\n",
       "<tbody>\n",
       "\t<tr><td> 1               </td><td>2/1/16 6:17      </td><td>Product6         </td><td>2100             </td><td>Mastercard       </td><td>Carolina         </td><td>Basildon         </td><td>England          </td><td>United Kingdom   </td><td> 51.50000        </td><td>  -1.116667      </td></tr>\n",
       "\t<tr><td> 2               </td><td>2/1/16 4:53      </td><td>Product6         </td><td>2100             </td><td>Visa             </td><td>Betina           </td><td>Parkville        </td><td>MO               </td><td>United States    </td><td> 39.19500        </td><td> -94.681940      </td></tr>\n",
       "\t<tr><td> 3               </td><td>2/1/16 13:08     </td><td>Product1         </td><td> 250             </td><td>Mastercard       </td><td>Federica E Andrea</td><td>Astoria          </td><td>OR               </td><td>United States    </td><td> 46.18806        </td><td>-123.830000      </td></tr>\n",
       "\t<tr><td> 4               </td><td>3/1/16 14:44     </td><td>Product6         </td><td>2100             </td><td>Visa             </td><td>Gouya            </td><td>Echuca           </td><td>Victoria         </td><td>Australia        </td><td>-36.13333        </td><td> 144.750000      </td></tr>\n",
       "\t<tr><td> 5               </td><td>4/1/16 12:56     </td><td>Product1         </td><td> 250             </td><td>Visa             </td><td>Gerd W           </td><td>Cahaba Heights   </td><td>AL               </td><td>United States    </td><td> 33.52056        </td><td> -86.802500      </td></tr>\n",
       "\t<tr><td> 6               </td><td>4/1/16 13:19     </td><td>Product5         </td><td>1800             </td><td>Visa             </td><td>Laurence         </td><td>Mickleton        </td><td>NJ               </td><td>United States    </td><td> 39.79000        </td><td> -75.238060      </td></tr>\n",
       "\t<tr><td> 7               </td><td>4/1/16 20:11     </td><td>Product6         </td><td>2100             </td><td>Mastercard       </td><td>Fleur            </td><td>Peoria           </td><td>IL               </td><td>United States    </td><td> 40.69361        </td><td> -89.588890      </td></tr>\n",
       "\t<tr><td> 8               </td><td>2/1/16 20:09     </td><td>Product7         </td><td>3600             </td><td>Mastercard       </td><td>Adam             </td><td>Martin           </td><td>TN               </td><td>United States    </td><td> 36.34333        </td><td> -88.850280      </td></tr>\n",
       "\t<tr><td> 9               </td><td>4/1/16 13:17     </td><td>Product5         </td><td>1800             </td><td>Mastercard       </td><td>Renee Elisabeth  </td><td>Tel Aviv         </td><td>Tel Aviv         </td><td>Israel           </td><td> 32.06667        </td><td>  34.766667      </td></tr>\n",
       "\t<tr><td>10               </td><td>4/1/16 14:11     </td><td>Product1         </td><td> 250             </td><td>Visa             </td><td>Aidan            </td><td>Chatou           </td><td>Ile-de-France    </td><td>France           </td><td> 48.88333        </td><td>   2.150000      </td></tr>\n",
       "\t<tr><td>11               </td><td>5/1/16 2:42      </td><td>Product1         </td><td> 250             </td><td>Diners           </td><td>Stacy            </td><td>New York         </td><td>NY               </td><td>United States    </td><td> 40.71417        </td><td> -74.006390      </td></tr>\n",
       "\t<tr><td>12               </td><td>5/1/16 5:39      </td><td>Product7         </td><td>3600             </td><td>Amex             </td><td>Heidi            </td><td>Eindhoven        </td><td>Noord-Brabant    </td><td>Netherlands      </td><td> 51.45000        </td><td>   5.466667      </td></tr>\n",
       "\t<tr><td>13               </td><td>2/1/16 9:16      </td><td>Product1         </td><td> 250             </td><td>Mastercard       </td><td>Sean             </td><td>Shavano Park     </td><td>TX               </td><td>United States    </td><td> 29.42389        </td><td> -98.493330      </td></tr>\n",
       "\t<tr><td>14               </td><td>5/1/16 10:08     </td><td>Product6         </td><td>2100             </td><td>Visa             </td><td>Georgia          </td><td>Eagle            </td><td>ID               </td><td>United States    </td><td> 43.69556        </td><td>-116.353060      </td></tr>\n",
       "\t<tr><td>15               </td><td>2/1/16 14:18     </td><td>Product6         </td><td>2100             </td><td>Visa             </td><td>Richard          </td><td>Riverside        </td><td>NJ               </td><td>United States    </td><td> 40.03222        </td><td> -74.957780      </td></tr>\n",
       "\t<tr><td>16               </td><td>4/1/16 1:05      </td><td>Product8         </td><td>7500             </td><td>Diners           </td><td>Leanne           </td><td>Julianstown      </td><td>Meath            </td><td>Ireland          </td><td> 53.67722        </td><td>  -6.319167      </td></tr>\n",
       "\t<tr><td>17               </td><td>5/1/16 11:37     </td><td>Product1         </td><td> 250             </td><td>Visa             </td><td>Janet            </td><td>Ottawa           </td><td>Ontario          </td><td>Canada           </td><td> 45.41667        </td><td> -75.700000      </td></tr>\n",
       "\t<tr><td>18               </td><td>6/1/16 5:02      </td><td>Product8         </td><td>7500             </td><td>Diners           </td><td>Barbara          </td><td>Hyderabad        </td><td>Andhra Pradesh   </td><td>India            </td><td> 17.38333        </td><td>  78.466667      </td></tr>\n",
       "\t<tr><td>19               </td><td>6/1/16 7:45      </td><td>Product5         </td><td>1800             </td><td>Visa             </td><td>Sabine           </td><td>London           </td><td>England          </td><td>United Kingdom   </td><td> 51.52721        </td><td>   0.145590      </td></tr>\n",
       "\t<tr><td>20               </td><td>2/1/16 7:35      </td><td>Product5         </td><td>1800             </td><td>Diners           </td><td>Hani             </td><td>Salt Lake City   </td><td>UT               </td><td>United States    </td><td> 40.76083        </td><td>-111.890280      </td></tr>\n",
       "\t<tr><td>21               </td><td>6/1/16 12:56     </td><td>Product5         </td><td>1800             </td><td>Visa             </td><td>Jeremy           </td><td>Manchester       </td><td>England          </td><td>United Kingdom   </td><td> 53.50000        </td><td>  -2.216667      </td></tr>\n",
       "\t<tr><td>22               </td><td>1/1/16 11:05     </td><td>Product3         </td><td>1200             </td><td>Diners           </td><td>Janis            </td><td>Ballynora        </td><td>Cork             </td><td>Ireland          </td><td> 51.86306        </td><td>  -8.580000      </td></tr>\n",
       "\t<tr><td>23               </td><td>5/1/16 4:10      </td><td>Product1         </td><td> 250             </td><td>Mastercard       </td><td>Nicola           </td><td>Roodepoort       </td><td>Gauteng          </td><td>South Africa     </td><td>-26.16667        </td><td>  27.866667      </td></tr>\n",
       "\t<tr><td>24               </td><td>6/1/16 7:18      </td><td>Product1         </td><td> 250             </td><td>Visa             </td><td>Asuman           </td><td>Chula Vista      </td><td>CA               </td><td>United States    </td><td> 32.64000        </td><td>-117.083330      </td></tr>\n",
       "\t<tr><td>25               </td><td>2/1/16 1:11      </td><td>Product7         </td><td>3600             </td><td>Mastercard       </td><td>Lena             </td><td>Kuopio           </td><td>Ita-Suomen Laani </td><td>Finland          </td><td> 62.90000        </td><td>  27.683333      </td></tr>\n",
       "\t<tr><td>26               </td><td>1/1/16 2:24      </td><td>Product1         </td><td> 250             </td><td>Visa             </td><td>Lisa             </td><td>Sugar Land       </td><td>TX               </td><td>United States    </td><td> 29.61944        </td><td> -95.634720      </td></tr>\n",
       "\t<tr><td>27               </td><td>7/1/16 8:08      </td><td>Product5         </td><td>1800             </td><td>Diners           </td><td>Bryan Kerrene    </td><td>New York         </td><td>NY               </td><td>United States    </td><td> 40.71417        </td><td> -74.006390      </td></tr>\n",
       "\t<tr><td>28               </td><td>2/1/16 2:57      </td><td>Product4         </td><td>1250             </td><td>Visa             </td><td>Chris            </td><td>London           </td><td>England          </td><td>United Kingdom   </td><td> 51.52721        </td><td>   0.145590      </td></tr>\n",
       "\t<tr><td>29               </td><td>1/1/16 20:21     </td><td>NA               </td><td>2100             </td><td>Visa             </td><td>Maxine           </td><td>Morton           </td><td>IL               </td><td>United States    </td><td> 40.61278        </td><td> -89.459170      </td></tr>\n",
       "\t<tr><td>30               </td><td>8/1/16 0:42      </td><td>Product6         </td><td>2100             </td><td>Visa             </td><td>Family           </td><td>Los Gatos        </td><td>CA               </td><td>United States    </td><td> 37.22667        </td><td>-121.973610      </td></tr>\n",
       "\t<tr><td>...</td><td>...</td><td>...</td><td>...</td><td>...</td><td>...</td><td>...</td><td>...</td><td>...</td><td>...</td><td>...</td></tr>\n",
       "\t<tr><td>969               </td><td>2/1/16 17:24      </td><td>Product1          </td><td> 250              </td><td>Diners            </td><td>Clara             </td><td>Perth             </td><td>Western Australia </td><td>Australia         </td><td>-31.93333         </td><td> 115.8333333      </td></tr>\n",
       "\t<tr><td>970               </td><td>7/1/16 18:15      </td><td>Product1          </td><td> 250              </td><td>Mastercard        </td><td>Selma             </td><td>Greenville        </td><td>TX                </td><td>United States     </td><td> 33.13833         </td><td> -96.1105600      </td></tr>\n",
       "\t<tr><td>971               </td><td>3/1/16 21:19      </td><td>Product6          </td><td>2100              </td><td>Visa              </td><td>Doug              </td><td>Pls Vrds Est      </td><td>CA                </td><td>United States     </td><td> 33.80056         </td><td>-118.3891700      </td></tr>\n",
       "\t<tr><td>972               </td><td>4/1/16 5:13       </td><td>Product6          </td><td>2100              </td><td>Visa              </td><td>Lauren            </td><td>Hradec Kralove    </td><td>East Bohemia      </td><td>Czech Republic    </td><td> 50.21167         </td><td>  15.8441667      </td></tr>\n",
       "\t<tr><td>973               </td><td>4/1/16 9:28       </td><td>Product7          </td><td>3600              </td><td>Visa              </td><td>Jen               </td><td>Maidstone         </td><td>England           </td><td>United Kingdom    </td><td> 51.26667         </td><td>   0.5166667      </td></tr>\n",
       "\t<tr><td>974               </td><td>2/1/16 4:34       </td><td>Product7          </td><td>3600              </td><td>Visa              </td><td>Gladys            </td><td>Saint Albans      </td><td>England           </td><td>United Kingdom    </td><td> 51.75000         </td><td>  -0.3333333      </td></tr>\n",
       "\t<tr><td>975               </td><td>1/22/16 11:10     </td><td>Product8          </td><td>7500              </td><td>Mastercard        </td><td>Gustavo           </td><td>Voluntari         </td><td>Bucuresti         </td><td>Romania           </td><td> 44.46667         </td><td>  26.1333333      </td></tr>\n",
       "\t<tr><td>976               </td><td>7/1/16 12:06      </td><td>Product1          </td><td> 250              </td><td>Visa              </td><td>Erica             </td><td>Nadur             </td><td>NA                </td><td>Malta             </td><td> 36.03778         </td><td>  14.2941667      </td></tr>\n",
       "\t<tr><td>977               </td><td>1/29/16 13:25     </td><td>Product7          </td><td>3600              </td><td>Diners            </td><td>Hale              </td><td>Morrison          </td><td>CO                </td><td>United States     </td><td> 39.65361         </td><td>-105.1905600      </td></tr>\n",
       "\t<tr><td>978               </td><td>1/27/16 2:57      </td><td>Product7          </td><td>3600              </td><td>Visa              </td><td>Rosemary          </td><td>Cobham            </td><td>England           </td><td>United Kingdom    </td><td> 51.38333         </td><td>   0.4000000      </td></tr>\n",
       "\t<tr><td>979               </td><td>7/1/16 13:19      </td><td>Product7          </td><td>3600              </td><td>Visa              </td><td>Darian            </td><td>Izmir             </td><td>Izmir             </td><td>Turkey            </td><td> 38.40722         </td><td>  27.1502778      </td></tr>\n",
       "\t<tr><td>980               </td><td>1/23/16 10:04     </td><td>Product2          </td><td> 800              </td><td>Mastercard        </td><td>Kevin             </td><td>Hollywood         </td><td>CA                </td><td>United States     </td><td> 34.09833         </td><td>-118.3258300      </td></tr>\n",
       "\t<tr><td>981               </td><td>1/19/16 4:55      </td><td>Product1          </td><td> 250              </td><td>Visa              </td><td>Alyssa            </td><td>Brighton          </td><td>England           </td><td>United Kingdom    </td><td> 50.83333         </td><td>  -0.1500000      </td></tr>\n",
       "\t<tr><td>982               </td><td>1/28/16 22:02     </td><td>Product1          </td><td> 250              </td><td>Visa              </td><td>Hale              </td><td>Hawera            </td><td>Taranaki          </td><td>New Zealand       </td><td>-39.59167         </td><td> 174.2833333      </td></tr>\n",
       "\t<tr><td>983               </td><td>4/1/16 18:57      </td><td>Product6          </td><td>2100              </td><td>Mastercard        </td><td>Keli              </td><td>Worongary         </td><td>Queensland        </td><td>Australia         </td><td>-28.05000         </td><td> 153.3500000      </td></tr>\n",
       "\t<tr><td>984               </td><td>12/1/16 20:31     </td><td>Product3          </td><td>1200              </td><td>Visa              </td><td>Glen              </td><td>Atlantida         </td><td>Guatemala         </td><td>Guatemala         </td><td> 14.65000         </td><td> -90.4833333      </td></tr>\n",
       "\t<tr><td>985               </td><td>1/24/16 12:00     </td><td>Product7          </td><td>3600              </td><td>Visa              </td><td>T                 </td><td>El Escorial       </td><td>Madrid            </td><td>Spain             </td><td> 40.58333         </td><td>  -4.1166667      </td></tr>\n",
       "\t<tr><td>986               </td><td>1/28/16 11:19     </td><td>Product4          </td><td>1250              </td><td>Visa              </td><td>Christal          </td><td>Morrison          </td><td>CO                </td><td>United States     </td><td> 39.65361         </td><td>-105.1905600      </td></tr>\n",
       "\t<tr><td>987               </td><td>7/1/16 17:48      </td><td>Product6          </td><td>2100              </td><td>Mastercard        </td><td>Alex              </td><td>Augusta           </td><td>GA                </td><td>United States     </td><td> 33.51722         </td><td> -82.0758300      </td></tr>\n",
       "\t<tr><td>988               </td><td>1/23/16 12:42     </td><td>Product1          </td><td> 250              </td><td>Mastercard        </td><td>Anke              </td><td>Avalon            </td><td>New South Wales   </td><td>Australia         </td><td>-33.63333         </td><td> 151.3333333      </td></tr>\n",
       "\t<tr><td>989               </td><td>7/1/16 19:48      </td><td>Product8          </td><td>7500              </td><td>Mastercard        </td><td>Tricia            </td><td>Sydney            </td><td>New South Wales   </td><td>Australia         </td><td>-33.88333         </td><td> 151.2166667      </td></tr>\n",
       "\t<tr><td>990               </td><td>1/26/16 11:19     </td><td>Product7          </td><td>3600              </td><td>Mastercard        </td><td>Smith             </td><td>Lahti             </td><td>Etela-Suomen Laani</td><td>Finland           </td><td> 60.96667         </td><td>  25.6666667      </td></tr>\n",
       "\t<tr><td>991               </td><td>5/1/16 13:23      </td><td>Product5          </td><td>1800              </td><td>Visa              </td><td>Macy              </td><td>Inner City        </td><td>Vienna            </td><td>Austria           </td><td> 48.21667         </td><td>  16.3666667      </td></tr>\n",
       "\t<tr><td>992               </td><td>1/26/16 13:41     </td><td>Product2          </td><td> 800              </td><td>Mastercard        </td><td>Lesleigh          </td><td>Baden             </td><td>Aargau            </td><td>Switzerland       </td><td> 47.46667         </td><td>   8.3000000      </td></tr>\n",
       "\t<tr><td>993               </td><td>1/20/16 10:42     </td><td>NA                </td><td>1800              </td><td>Diners            </td><td>Esther            </td><td>Huddersfield      </td><td>England           </td><td>United Kingdom    </td><td> 53.65000         </td><td>  -1.7833333      </td></tr>\n",
       "\t<tr><td>994               </td><td>1/22/16 14:25     </td><td>Product6          </td><td>2100              </td><td>Visa              </td><td>Hans-Joerg        </td><td>Belfast           </td><td>Northern Ireland  </td><td>United Kingdom    </td><td> 54.58333         </td><td>  -5.9333333      </td></tr>\n",
       "\t<tr><td>995               </td><td>1/28/16 5:36      </td><td>Product8          </td><td>7500              </td><td>Visa              </td><td>Christiane        </td><td>Black River       </td><td>Black River       </td><td>Mauritius         </td><td>-20.36028         </td><td>  57.3661111      </td></tr>\n",
       "\t<tr><td>996               </td><td>1/1/16 4:24       </td><td>Product6          </td><td>2100              </td><td>Amex              </td><td>Pamela            </td><td>Skaneateles       </td><td>NY                </td><td>United States     </td><td> 42.94694         </td><td> -76.4294400      </td></tr>\n",
       "\t<tr><td>997               </td><td>8/1/16 11:55      </td><td>Product8          </td><td>7500              </td><td>Diners            </td><td>Julie             </td><td>Haverhill         </td><td>England           </td><td>United Kingdom    </td><td> 52.08333         </td><td>   0.4333333      </td></tr>\n",
       "\t<tr><td>998               </td><td>12/1/16 21:30     </td><td>Product4          </td><td>1250              </td><td>Visa              </td><td>Julia             </td><td>Madison           </td><td>WI                </td><td>United States     </td><td> 43.07306         </td><td> -89.4011100      </td></tr>\n",
       "</tbody>\n",
       "</table>\n"
      ],
      "text/latex": [
       "\\begin{tabular}{r|lllllllllll}\n",
       " Serial No. & Transaction Date & Product & Price & Payment\\_Type & Name & City & State & Country & Latitude & Longitude\\\\\n",
       "\\hline\n",
       "\t  1                & 2/1/16 6:17       & Product6          & 2100              & Mastercard        & Carolina          & Basildon          & England           & United Kingdom    &  51.50000         &   -1.116667      \\\\\n",
       "\t  2                & 2/1/16 4:53       & Product6          & 2100              & Visa              & Betina            & Parkville         & MO                & United States     &  39.19500         &  -94.681940      \\\\\n",
       "\t  3                & 2/1/16 13:08      & Product1          &  250              & Mastercard        & Federica E Andrea & Astoria           & OR                & United States     &  46.18806         & -123.830000      \\\\\n",
       "\t  4                & 3/1/16 14:44      & Product6          & 2100              & Visa              & Gouya             & Echuca            & Victoria          & Australia         & -36.13333         &  144.750000      \\\\\n",
       "\t  5                & 4/1/16 12:56      & Product1          &  250              & Visa              & Gerd W            & Cahaba Heights    & AL                & United States     &  33.52056         &  -86.802500      \\\\\n",
       "\t  6                & 4/1/16 13:19      & Product5          & 1800              & Visa              & Laurence          & Mickleton         & NJ                & United States     &  39.79000         &  -75.238060      \\\\\n",
       "\t  7                & 4/1/16 20:11      & Product6          & 2100              & Mastercard        & Fleur             & Peoria            & IL                & United States     &  40.69361         &  -89.588890      \\\\\n",
       "\t  8                & 2/1/16 20:09      & Product7          & 3600              & Mastercard        & Adam              & Martin            & TN                & United States     &  36.34333         &  -88.850280      \\\\\n",
       "\t  9                & 4/1/16 13:17      & Product5          & 1800              & Mastercard        & Renee Elisabeth   & Tel Aviv          & Tel Aviv          & Israel            &  32.06667         &   34.766667      \\\\\n",
       "\t 10                & 4/1/16 14:11      & Product1          &  250              & Visa              & Aidan             & Chatou            & Ile-de-France     & France            &  48.88333         &    2.150000      \\\\\n",
       "\t 11                & 5/1/16 2:42       & Product1          &  250              & Diners            & Stacy             & New York          & NY                & United States     &  40.71417         &  -74.006390      \\\\\n",
       "\t 12                & 5/1/16 5:39       & Product7          & 3600              & Amex              & Heidi             & Eindhoven         & Noord-Brabant     & Netherlands       &  51.45000         &    5.466667      \\\\\n",
       "\t 13                & 2/1/16 9:16       & Product1          &  250              & Mastercard        & Sean              & Shavano Park      & TX                & United States     &  29.42389         &  -98.493330      \\\\\n",
       "\t 14                & 5/1/16 10:08      & Product6          & 2100              & Visa              & Georgia           & Eagle             & ID                & United States     &  43.69556         & -116.353060      \\\\\n",
       "\t 15                & 2/1/16 14:18      & Product6          & 2100              & Visa              & Richard           & Riverside         & NJ                & United States     &  40.03222         &  -74.957780      \\\\\n",
       "\t 16                & 4/1/16 1:05       & Product8          & 7500              & Diners            & Leanne            & Julianstown       & Meath             & Ireland           &  53.67722         &   -6.319167      \\\\\n",
       "\t 17                & 5/1/16 11:37      & Product1          &  250              & Visa              & Janet             & Ottawa            & Ontario           & Canada            &  45.41667         &  -75.700000      \\\\\n",
       "\t 18                & 6/1/16 5:02       & Product8          & 7500              & Diners            & Barbara           & Hyderabad         & Andhra Pradesh    & India             &  17.38333         &   78.466667      \\\\\n",
       "\t 19                & 6/1/16 7:45       & Product5          & 1800              & Visa              & Sabine            & London            & England           & United Kingdom    &  51.52721         &    0.145590      \\\\\n",
       "\t 20                & 2/1/16 7:35       & Product5          & 1800              & Diners            & Hani              & Salt Lake City    & UT                & United States     &  40.76083         & -111.890280      \\\\\n",
       "\t 21                & 6/1/16 12:56      & Product5          & 1800              & Visa              & Jeremy            & Manchester        & England           & United Kingdom    &  53.50000         &   -2.216667      \\\\\n",
       "\t 22                & 1/1/16 11:05      & Product3          & 1200              & Diners            & Janis             & Ballynora         & Cork              & Ireland           &  51.86306         &   -8.580000      \\\\\n",
       "\t 23                & 5/1/16 4:10       & Product1          &  250              & Mastercard        & Nicola            & Roodepoort        & Gauteng           & South Africa      & -26.16667         &   27.866667      \\\\\n",
       "\t 24                & 6/1/16 7:18       & Product1          &  250              & Visa              & Asuman            & Chula Vista       & CA                & United States     &  32.64000         & -117.083330      \\\\\n",
       "\t 25                & 2/1/16 1:11       & Product7          & 3600              & Mastercard        & Lena              & Kuopio            & Ita-Suomen Laani  & Finland           &  62.90000         &   27.683333      \\\\\n",
       "\t 26                & 1/1/16 2:24       & Product1          &  250              & Visa              & Lisa              & Sugar Land        & TX                & United States     &  29.61944         &  -95.634720      \\\\\n",
       "\t 27                & 7/1/16 8:08       & Product5          & 1800              & Diners            & Bryan Kerrene     & New York          & NY                & United States     &  40.71417         &  -74.006390      \\\\\n",
       "\t 28                & 2/1/16 2:57       & Product4          & 1250              & Visa              & Chris             & London            & England           & United Kingdom    &  51.52721         &    0.145590      \\\\\n",
       "\t 29                & 1/1/16 20:21      & NA                & 2100              & Visa              & Maxine            & Morton            & IL                & United States     &  40.61278         &  -89.459170      \\\\\n",
       "\t 30                & 8/1/16 0:42       & Product6          & 2100              & Visa              & Family            & Los Gatos         & CA                & United States     &  37.22667         & -121.973610      \\\\\n",
       "\t ... & ... & ... & ... & ... & ... & ... & ... & ... & ... & ...\\\\\n",
       "\t 969                & 2/1/16 17:24       & Product1           &  250               & Diners             & Clara              & Perth              & Western Australia  & Australia          & -31.93333          &  115.8333333      \\\\\n",
       "\t 970                & 7/1/16 18:15       & Product1           &  250               & Mastercard         & Selma              & Greenville         & TX                 & United States      &  33.13833          &  -96.1105600      \\\\\n",
       "\t 971                & 3/1/16 21:19       & Product6           & 2100               & Visa               & Doug               & Pls Vrds Est       & CA                 & United States      &  33.80056          & -118.3891700      \\\\\n",
       "\t 972                & 4/1/16 5:13        & Product6           & 2100               & Visa               & Lauren             & Hradec Kralove     & East Bohemia       & Czech Republic     &  50.21167          &   15.8441667      \\\\\n",
       "\t 973                & 4/1/16 9:28        & Product7           & 3600               & Visa               & Jen                & Maidstone          & England            & United Kingdom     &  51.26667          &    0.5166667      \\\\\n",
       "\t 974                & 2/1/16 4:34        & Product7           & 3600               & Visa               & Gladys             & Saint Albans       & England            & United Kingdom     &  51.75000          &   -0.3333333      \\\\\n",
       "\t 975                & 1/22/16 11:10      & Product8           & 7500               & Mastercard         & Gustavo            & Voluntari          & Bucuresti          & Romania            &  44.46667          &   26.1333333      \\\\\n",
       "\t 976                & 7/1/16 12:06       & Product1           &  250               & Visa               & Erica              & Nadur              & NA                 & Malta              &  36.03778          &   14.2941667      \\\\\n",
       "\t 977                & 1/29/16 13:25      & Product7           & 3600               & Diners             & Hale               & Morrison           & CO                 & United States      &  39.65361          & -105.1905600      \\\\\n",
       "\t 978                & 1/27/16 2:57       & Product7           & 3600               & Visa               & Rosemary           & Cobham             & England            & United Kingdom     &  51.38333          &    0.4000000      \\\\\n",
       "\t 979                & 7/1/16 13:19       & Product7           & 3600               & Visa               & Darian             & Izmir              & Izmir              & Turkey             &  38.40722          &   27.1502778      \\\\\n",
       "\t 980                & 1/23/16 10:04      & Product2           &  800               & Mastercard         & Kevin              & Hollywood          & CA                 & United States      &  34.09833          & -118.3258300      \\\\\n",
       "\t 981                & 1/19/16 4:55       & Product1           &  250               & Visa               & Alyssa             & Brighton           & England            & United Kingdom     &  50.83333          &   -0.1500000      \\\\\n",
       "\t 982                & 1/28/16 22:02      & Product1           &  250               & Visa               & Hale               & Hawera             & Taranaki           & New Zealand        & -39.59167          &  174.2833333      \\\\\n",
       "\t 983                & 4/1/16 18:57       & Product6           & 2100               & Mastercard         & Keli               & Worongary          & Queensland         & Australia          & -28.05000          &  153.3500000      \\\\\n",
       "\t 984                & 12/1/16 20:31      & Product3           & 1200               & Visa               & Glen               & Atlantida          & Guatemala          & Guatemala          &  14.65000          &  -90.4833333      \\\\\n",
       "\t 985                & 1/24/16 12:00      & Product7           & 3600               & Visa               & T                  & El Escorial        & Madrid             & Spain              &  40.58333          &   -4.1166667      \\\\\n",
       "\t 986                & 1/28/16 11:19      & Product4           & 1250               & Visa               & Christal           & Morrison           & CO                 & United States      &  39.65361          & -105.1905600      \\\\\n",
       "\t 987                & 7/1/16 17:48       & Product6           & 2100               & Mastercard         & Alex               & Augusta            & GA                 & United States      &  33.51722          &  -82.0758300      \\\\\n",
       "\t 988                & 1/23/16 12:42      & Product1           &  250               & Mastercard         & Anke               & Avalon             & New South Wales    & Australia          & -33.63333          &  151.3333333      \\\\\n",
       "\t 989                & 7/1/16 19:48       & Product8           & 7500               & Mastercard         & Tricia             & Sydney             & New South Wales    & Australia          & -33.88333          &  151.2166667      \\\\\n",
       "\t 990                & 1/26/16 11:19      & Product7           & 3600               & Mastercard         & Smith              & Lahti              & Etela-Suomen Laani & Finland            &  60.96667          &   25.6666667      \\\\\n",
       "\t 991                & 5/1/16 13:23       & Product5           & 1800               & Visa               & Macy               & Inner City         & Vienna             & Austria            &  48.21667          &   16.3666667      \\\\\n",
       "\t 992                & 1/26/16 13:41      & Product2           &  800               & Mastercard         & Lesleigh           & Baden              & Aargau             & Switzerland        &  47.46667          &    8.3000000      \\\\\n",
       "\t 993                & 1/20/16 10:42      & NA                 & 1800               & Diners             & Esther             & Huddersfield       & England            & United Kingdom     &  53.65000          &   -1.7833333      \\\\\n",
       "\t 994                & 1/22/16 14:25      & Product6           & 2100               & Visa               & Hans-Joerg         & Belfast            & Northern Ireland   & United Kingdom     &  54.58333          &   -5.9333333      \\\\\n",
       "\t 995                & 1/28/16 5:36       & Product8           & 7500               & Visa               & Christiane         & Black River        & Black River        & Mauritius          & -20.36028          &   57.3661111      \\\\\n",
       "\t 996                & 1/1/16 4:24        & Product6           & 2100               & Amex               & Pamela             & Skaneateles        & NY                 & United States      &  42.94694          &  -76.4294400      \\\\\n",
       "\t 997                & 8/1/16 11:55       & Product8           & 7500               & Diners             & Julie              & Haverhill          & England            & United Kingdom     &  52.08333          &    0.4333333      \\\\\n",
       "\t 998                & 12/1/16 21:30      & Product4           & 1250               & Visa               & Julia              & Madison            & WI                 & United States      &  43.07306          &  -89.4011100      \\\\\n",
       "\\end{tabular}\n"
      ],
      "text/markdown": [
       "\n",
       "Serial No. | Transaction Date | Product | Price | Payment_Type | Name | City | State | Country | Latitude | Longitude | \n",
       "|---|---|---|---|---|---|---|---|---|---|---|---|---|---|---|---|---|---|---|---|---|---|---|---|---|---|---|---|---|---|---|---|---|---|---|---|---|---|---|---|---|---|---|---|---|---|---|---|---|---|---|---|---|---|---|---|---|---|---|---|---|\n",
       "|  1                | 2/1/16 6:17       | Product6          | 2100              | Mastercard        | Carolina          | Basildon          | England           | United Kingdom    |  51.50000         |   -1.116667       | \n",
       "|  2                | 2/1/16 4:53       | Product6          | 2100              | Visa              | Betina            | Parkville         | MO                | United States     |  39.19500         |  -94.681940       | \n",
       "|  3                | 2/1/16 13:08      | Product1          |  250              | Mastercard        | Federica E Andrea | Astoria           | OR                | United States     |  46.18806         | -123.830000       | \n",
       "|  4                | 3/1/16 14:44      | Product6          | 2100              | Visa              | Gouya             | Echuca            | Victoria          | Australia         | -36.13333         |  144.750000       | \n",
       "|  5                | 4/1/16 12:56      | Product1          |  250              | Visa              | Gerd W            | Cahaba Heights    | AL                | United States     |  33.52056         |  -86.802500       | \n",
       "|  6                | 4/1/16 13:19      | Product5          | 1800              | Visa              | Laurence          | Mickleton         | NJ                | United States     |  39.79000         |  -75.238060       | \n",
       "|  7                | 4/1/16 20:11      | Product6          | 2100              | Mastercard        | Fleur             | Peoria            | IL                | United States     |  40.69361         |  -89.588890       | \n",
       "|  8                | 2/1/16 20:09      | Product7          | 3600              | Mastercard        | Adam              | Martin            | TN                | United States     |  36.34333         |  -88.850280       | \n",
       "|  9                | 4/1/16 13:17      | Product5          | 1800              | Mastercard        | Renee Elisabeth   | Tel Aviv          | Tel Aviv          | Israel            |  32.06667         |   34.766667       | \n",
       "| 10                | 4/1/16 14:11      | Product1          |  250              | Visa              | Aidan             | Chatou            | Ile-de-France     | France            |  48.88333         |    2.150000       | \n",
       "| 11                | 5/1/16 2:42       | Product1          |  250              | Diners            | Stacy             | New York          | NY                | United States     |  40.71417         |  -74.006390       | \n",
       "| 12                | 5/1/16 5:39       | Product7          | 3600              | Amex              | Heidi             | Eindhoven         | Noord-Brabant     | Netherlands       |  51.45000         |    5.466667       | \n",
       "| 13                | 2/1/16 9:16       | Product1          |  250              | Mastercard        | Sean              | Shavano Park      | TX                | United States     |  29.42389         |  -98.493330       | \n",
       "| 14                | 5/1/16 10:08      | Product6          | 2100              | Visa              | Georgia           | Eagle             | ID                | United States     |  43.69556         | -116.353060       | \n",
       "| 15                | 2/1/16 14:18      | Product6          | 2100              | Visa              | Richard           | Riverside         | NJ                | United States     |  40.03222         |  -74.957780       | \n",
       "| 16                | 4/1/16 1:05       | Product8          | 7500              | Diners            | Leanne            | Julianstown       | Meath             | Ireland           |  53.67722         |   -6.319167       | \n",
       "| 17                | 5/1/16 11:37      | Product1          |  250              | Visa              | Janet             | Ottawa            | Ontario           | Canada            |  45.41667         |  -75.700000       | \n",
       "| 18                | 6/1/16 5:02       | Product8          | 7500              | Diners            | Barbara           | Hyderabad         | Andhra Pradesh    | India             |  17.38333         |   78.466667       | \n",
       "| 19                | 6/1/16 7:45       | Product5          | 1800              | Visa              | Sabine            | London            | England           | United Kingdom    |  51.52721         |    0.145590       | \n",
       "| 20                | 2/1/16 7:35       | Product5          | 1800              | Diners            | Hani              | Salt Lake City    | UT                | United States     |  40.76083         | -111.890280       | \n",
       "| 21                | 6/1/16 12:56      | Product5          | 1800              | Visa              | Jeremy            | Manchester        | England           | United Kingdom    |  53.50000         |   -2.216667       | \n",
       "| 22                | 1/1/16 11:05      | Product3          | 1200              | Diners            | Janis             | Ballynora         | Cork              | Ireland           |  51.86306         |   -8.580000       | \n",
       "| 23                | 5/1/16 4:10       | Product1          |  250              | Mastercard        | Nicola            | Roodepoort        | Gauteng           | South Africa      | -26.16667         |   27.866667       | \n",
       "| 24                | 6/1/16 7:18       | Product1          |  250              | Visa              | Asuman            | Chula Vista       | CA                | United States     |  32.64000         | -117.083330       | \n",
       "| 25                | 2/1/16 1:11       | Product7          | 3600              | Mastercard        | Lena              | Kuopio            | Ita-Suomen Laani  | Finland           |  62.90000         |   27.683333       | \n",
       "| 26                | 1/1/16 2:24       | Product1          |  250              | Visa              | Lisa              | Sugar Land        | TX                | United States     |  29.61944         |  -95.634720       | \n",
       "| 27                | 7/1/16 8:08       | Product5          | 1800              | Diners            | Bryan Kerrene     | New York          | NY                | United States     |  40.71417         |  -74.006390       | \n",
       "| 28                | 2/1/16 2:57       | Product4          | 1250              | Visa              | Chris             | London            | England           | United Kingdom    |  51.52721         |    0.145590       | \n",
       "| 29                | 1/1/16 20:21      | NA                | 2100              | Visa              | Maxine            | Morton            | IL                | United States     |  40.61278         |  -89.459170       | \n",
       "| 30                | 8/1/16 0:42       | Product6          | 2100              | Visa              | Family            | Los Gatos         | CA                | United States     |  37.22667         | -121.973610       | \n",
       "| ... | ... | ... | ... | ... | ... | ... | ... | ... | ... | ... | \n",
       "| 969                | 2/1/16 17:24       | Product1           |  250               | Diners             | Clara              | Perth              | Western Australia  | Australia          | -31.93333          |  115.8333333       | \n",
       "| 970                | 7/1/16 18:15       | Product1           |  250               | Mastercard         | Selma              | Greenville         | TX                 | United States      |  33.13833          |  -96.1105600       | \n",
       "| 971                | 3/1/16 21:19       | Product6           | 2100               | Visa               | Doug               | Pls Vrds Est       | CA                 | United States      |  33.80056          | -118.3891700       | \n",
       "| 972                | 4/1/16 5:13        | Product6           | 2100               | Visa               | Lauren             | Hradec Kralove     | East Bohemia       | Czech Republic     |  50.21167          |   15.8441667       | \n",
       "| 973                | 4/1/16 9:28        | Product7           | 3600               | Visa               | Jen                | Maidstone          | England            | United Kingdom     |  51.26667          |    0.5166667       | \n",
       "| 974                | 2/1/16 4:34        | Product7           | 3600               | Visa               | Gladys             | Saint Albans       | England            | United Kingdom     |  51.75000          |   -0.3333333       | \n",
       "| 975                | 1/22/16 11:10      | Product8           | 7500               | Mastercard         | Gustavo            | Voluntari          | Bucuresti          | Romania            |  44.46667          |   26.1333333       | \n",
       "| 976                | 7/1/16 12:06       | Product1           |  250               | Visa               | Erica              | Nadur              | NA                 | Malta              |  36.03778          |   14.2941667       | \n",
       "| 977                | 1/29/16 13:25      | Product7           | 3600               | Diners             | Hale               | Morrison           | CO                 | United States      |  39.65361          | -105.1905600       | \n",
       "| 978                | 1/27/16 2:57       | Product7           | 3600               | Visa               | Rosemary           | Cobham             | England            | United Kingdom     |  51.38333          |    0.4000000       | \n",
       "| 979                | 7/1/16 13:19       | Product7           | 3600               | Visa               | Darian             | Izmir              | Izmir              | Turkey             |  38.40722          |   27.1502778       | \n",
       "| 980                | 1/23/16 10:04      | Product2           |  800               | Mastercard         | Kevin              | Hollywood          | CA                 | United States      |  34.09833          | -118.3258300       | \n",
       "| 981                | 1/19/16 4:55       | Product1           |  250               | Visa               | Alyssa             | Brighton           | England            | United Kingdom     |  50.83333          |   -0.1500000       | \n",
       "| 982                | 1/28/16 22:02      | Product1           |  250               | Visa               | Hale               | Hawera             | Taranaki           | New Zealand        | -39.59167          |  174.2833333       | \n",
       "| 983                | 4/1/16 18:57       | Product6           | 2100               | Mastercard         | Keli               | Worongary          | Queensland         | Australia          | -28.05000          |  153.3500000       | \n",
       "| 984                | 12/1/16 20:31      | Product3           | 1200               | Visa               | Glen               | Atlantida          | Guatemala          | Guatemala          |  14.65000          |  -90.4833333       | \n",
       "| 985                | 1/24/16 12:00      | Product7           | 3600               | Visa               | T                  | El Escorial        | Madrid             | Spain              |  40.58333          |   -4.1166667       | \n",
       "| 986                | 1/28/16 11:19      | Product4           | 1250               | Visa               | Christal           | Morrison           | CO                 | United States      |  39.65361          | -105.1905600       | \n",
       "| 987                | 7/1/16 17:48       | Product6           | 2100               | Mastercard         | Alex               | Augusta            | GA                 | United States      |  33.51722          |  -82.0758300       | \n",
       "| 988                | 1/23/16 12:42      | Product1           |  250               | Mastercard         | Anke               | Avalon             | New South Wales    | Australia          | -33.63333          |  151.3333333       | \n",
       "| 989                | 7/1/16 19:48       | Product8           | 7500               | Mastercard         | Tricia             | Sydney             | New South Wales    | Australia          | -33.88333          |  151.2166667       | \n",
       "| 990                | 1/26/16 11:19      | Product7           | 3600               | Mastercard         | Smith              | Lahti              | Etela-Suomen Laani | Finland            |  60.96667          |   25.6666667       | \n",
       "| 991                | 5/1/16 13:23       | Product5           | 1800               | Visa               | Macy               | Inner City         | Vienna             | Austria            |  48.21667          |   16.3666667       | \n",
       "| 992                | 1/26/16 13:41      | Product2           |  800               | Mastercard         | Lesleigh           | Baden              | Aargau             | Switzerland        |  47.46667          |    8.3000000       | \n",
       "| 993                | 1/20/16 10:42      | NA                 | 1800               | Diners             | Esther             | Huddersfield       | England            | United Kingdom     |  53.65000          |   -1.7833333       | \n",
       "| 994                | 1/22/16 14:25      | Product6           | 2100               | Visa               | Hans-Joerg         | Belfast            | Northern Ireland   | United Kingdom     |  54.58333          |   -5.9333333       | \n",
       "| 995                | 1/28/16 5:36       | Product8           | 7500               | Visa               | Christiane         | Black River        | Black River        | Mauritius          | -20.36028          |   57.3661111       | \n",
       "| 996                | 1/1/16 4:24        | Product6           | 2100               | Amex               | Pamela             | Skaneateles        | NY                 | United States      |  42.94694          |  -76.4294400       | \n",
       "| 997                | 8/1/16 11:55       | Product8           | 7500               | Diners             | Julie              | Haverhill          | England            | United Kingdom     |  52.08333          |    0.4333333       | \n",
       "| 998                | 12/1/16 21:30      | Product4           | 1250               | Visa               | Julia              | Madison            | WI                 | United States      |  43.07306          |  -89.4011100       | \n",
       "\n",
       "\n"
      ],
      "text/plain": [
       "    Serial No. Transaction Date Product  Price Payment_Type Name             \n",
       "1    1         2/1/16 6:17      Product6 2100  Mastercard   Carolina         \n",
       "2    2         2/1/16 4:53      Product6 2100  Visa         Betina           \n",
       "3    3         2/1/16 13:08     Product1  250  Mastercard   Federica E Andrea\n",
       "4    4         3/1/16 14:44     Product6 2100  Visa         Gouya            \n",
       "5    5         4/1/16 12:56     Product1  250  Visa         Gerd W           \n",
       "6    6         4/1/16 13:19     Product5 1800  Visa         Laurence         \n",
       "7    7         4/1/16 20:11     Product6 2100  Mastercard   Fleur            \n",
       "8    8         2/1/16 20:09     Product7 3600  Mastercard   Adam             \n",
       "9    9         4/1/16 13:17     Product5 1800  Mastercard   Renee Elisabeth  \n",
       "10  10         4/1/16 14:11     Product1  250  Visa         Aidan            \n",
       "11  11         5/1/16 2:42      Product1  250  Diners       Stacy            \n",
       "12  12         5/1/16 5:39      Product7 3600  Amex         Heidi            \n",
       "13  13         2/1/16 9:16      Product1  250  Mastercard   Sean             \n",
       "14  14         5/1/16 10:08     Product6 2100  Visa         Georgia          \n",
       "15  15         2/1/16 14:18     Product6 2100  Visa         Richard          \n",
       "16  16         4/1/16 1:05      Product8 7500  Diners       Leanne           \n",
       "17  17         5/1/16 11:37     Product1  250  Visa         Janet            \n",
       "18  18         6/1/16 5:02      Product8 7500  Diners       Barbara          \n",
       "19  19         6/1/16 7:45      Product5 1800  Visa         Sabine           \n",
       "20  20         2/1/16 7:35      Product5 1800  Diners       Hani             \n",
       "21  21         6/1/16 12:56     Product5 1800  Visa         Jeremy           \n",
       "22  22         1/1/16 11:05     Product3 1200  Diners       Janis            \n",
       "23  23         5/1/16 4:10      Product1  250  Mastercard   Nicola           \n",
       "24  24         6/1/16 7:18      Product1  250  Visa         Asuman           \n",
       "25  25         2/1/16 1:11      Product7 3600  Mastercard   Lena             \n",
       "26  26         1/1/16 2:24      Product1  250  Visa         Lisa             \n",
       "27  27         7/1/16 8:08      Product5 1800  Diners       Bryan Kerrene    \n",
       "28  28         2/1/16 2:57      Product4 1250  Visa         Chris            \n",
       "29  29         1/1/16 20:21     NA       2100  Visa         Maxine           \n",
       "30  30         8/1/16 0:42      Product6 2100  Visa         Family           \n",
       "... ...        ...              ...      ...   ...          ...              \n",
       "969 969        2/1/16 17:24     Product1  250  Diners       Clara            \n",
       "970 970        7/1/16 18:15     Product1  250  Mastercard   Selma            \n",
       "971 971        3/1/16 21:19     Product6 2100  Visa         Doug             \n",
       "972 972        4/1/16 5:13      Product6 2100  Visa         Lauren           \n",
       "973 973        4/1/16 9:28      Product7 3600  Visa         Jen              \n",
       "974 974        2/1/16 4:34      Product7 3600  Visa         Gladys           \n",
       "975 975        1/22/16 11:10    Product8 7500  Mastercard   Gustavo          \n",
       "976 976        7/1/16 12:06     Product1  250  Visa         Erica            \n",
       "977 977        1/29/16 13:25    Product7 3600  Diners       Hale             \n",
       "978 978        1/27/16 2:57     Product7 3600  Visa         Rosemary         \n",
       "979 979        7/1/16 13:19     Product7 3600  Visa         Darian           \n",
       "980 980        1/23/16 10:04    Product2  800  Mastercard   Kevin            \n",
       "981 981        1/19/16 4:55     Product1  250  Visa         Alyssa           \n",
       "982 982        1/28/16 22:02    Product1  250  Visa         Hale             \n",
       "983 983        4/1/16 18:57     Product6 2100  Mastercard   Keli             \n",
       "984 984        12/1/16 20:31    Product3 1200  Visa         Glen             \n",
       "985 985        1/24/16 12:00    Product7 3600  Visa         T                \n",
       "986 986        1/28/16 11:19    Product4 1250  Visa         Christal         \n",
       "987 987        7/1/16 17:48     Product6 2100  Mastercard   Alex             \n",
       "988 988        1/23/16 12:42    Product1  250  Mastercard   Anke             \n",
       "989 989        7/1/16 19:48     Product8 7500  Mastercard   Tricia           \n",
       "990 990        1/26/16 11:19    Product7 3600  Mastercard   Smith            \n",
       "991 991        5/1/16 13:23     Product5 1800  Visa         Macy             \n",
       "992 992        1/26/16 13:41    Product2  800  Mastercard   Lesleigh         \n",
       "993 993        1/20/16 10:42    NA       1800  Diners       Esther           \n",
       "994 994        1/22/16 14:25    Product6 2100  Visa         Hans-Joerg       \n",
       "995 995        1/28/16 5:36     Product8 7500  Visa         Christiane       \n",
       "996 996        1/1/16 4:24      Product6 2100  Amex         Pamela           \n",
       "997 997        8/1/16 11:55     Product8 7500  Diners       Julie            \n",
       "998 998        12/1/16 21:30    Product4 1250  Visa         Julia            \n",
       "    City           State              Country        Latitude  Longitude   \n",
       "1   Basildon       England            United Kingdom  51.50000   -1.116667 \n",
       "2   Parkville      MO                 United States   39.19500  -94.681940 \n",
       "3   Astoria        OR                 United States   46.18806 -123.830000 \n",
       "4   Echuca         Victoria           Australia      -36.13333  144.750000 \n",
       "5   Cahaba Heights AL                 United States   33.52056  -86.802500 \n",
       "6   Mickleton      NJ                 United States   39.79000  -75.238060 \n",
       "7   Peoria         IL                 United States   40.69361  -89.588890 \n",
       "8   Martin         TN                 United States   36.34333  -88.850280 \n",
       "9   Tel Aviv       Tel Aviv           Israel          32.06667   34.766667 \n",
       "10  Chatou         Ile-de-France      France          48.88333    2.150000 \n",
       "11  New York       NY                 United States   40.71417  -74.006390 \n",
       "12  Eindhoven      Noord-Brabant      Netherlands     51.45000    5.466667 \n",
       "13  Shavano Park   TX                 United States   29.42389  -98.493330 \n",
       "14  Eagle          ID                 United States   43.69556 -116.353060 \n",
       "15  Riverside      NJ                 United States   40.03222  -74.957780 \n",
       "16  Julianstown    Meath              Ireland         53.67722   -6.319167 \n",
       "17  Ottawa         Ontario            Canada          45.41667  -75.700000 \n",
       "18  Hyderabad      Andhra Pradesh     India           17.38333   78.466667 \n",
       "19  London         England            United Kingdom  51.52721    0.145590 \n",
       "20  Salt Lake City UT                 United States   40.76083 -111.890280 \n",
       "21  Manchester     England            United Kingdom  53.50000   -2.216667 \n",
       "22  Ballynora      Cork               Ireland         51.86306   -8.580000 \n",
       "23  Roodepoort     Gauteng            South Africa   -26.16667   27.866667 \n",
       "24  Chula Vista    CA                 United States   32.64000 -117.083330 \n",
       "25  Kuopio         Ita-Suomen Laani   Finland         62.90000   27.683333 \n",
       "26  Sugar Land     TX                 United States   29.61944  -95.634720 \n",
       "27  New York       NY                 United States   40.71417  -74.006390 \n",
       "28  London         England            United Kingdom  51.52721    0.145590 \n",
       "29  Morton         IL                 United States   40.61278  -89.459170 \n",
       "30  Los Gatos      CA                 United States   37.22667 -121.973610 \n",
       "... ...            ...                ...            ...       ...         \n",
       "969 Perth          Western Australia  Australia      -31.93333  115.8333333\n",
       "970 Greenville     TX                 United States   33.13833  -96.1105600\n",
       "971 Pls Vrds Est   CA                 United States   33.80056 -118.3891700\n",
       "972 Hradec Kralove East Bohemia       Czech Republic  50.21167   15.8441667\n",
       "973 Maidstone      England            United Kingdom  51.26667    0.5166667\n",
       "974 Saint Albans   England            United Kingdom  51.75000   -0.3333333\n",
       "975 Voluntari      Bucuresti          Romania         44.46667   26.1333333\n",
       "976 Nadur          NA                 Malta           36.03778   14.2941667\n",
       "977 Morrison       CO                 United States   39.65361 -105.1905600\n",
       "978 Cobham         England            United Kingdom  51.38333    0.4000000\n",
       "979 Izmir          Izmir              Turkey          38.40722   27.1502778\n",
       "980 Hollywood      CA                 United States   34.09833 -118.3258300\n",
       "981 Brighton       England            United Kingdom  50.83333   -0.1500000\n",
       "982 Hawera         Taranaki           New Zealand    -39.59167  174.2833333\n",
       "983 Worongary      Queensland         Australia      -28.05000  153.3500000\n",
       "984 Atlantida      Guatemala          Guatemala       14.65000  -90.4833333\n",
       "985 El Escorial    Madrid             Spain           40.58333   -4.1166667\n",
       "986 Morrison       CO                 United States   39.65361 -105.1905600\n",
       "987 Augusta        GA                 United States   33.51722  -82.0758300\n",
       "988 Avalon         New South Wales    Australia      -33.63333  151.3333333\n",
       "989 Sydney         New South Wales    Australia      -33.88333  151.2166667\n",
       "990 Lahti          Etela-Suomen Laani Finland         60.96667   25.6666667\n",
       "991 Inner City     Vienna             Austria         48.21667   16.3666667\n",
       "992 Baden          Aargau             Switzerland     47.46667    8.3000000\n",
       "993 Huddersfield   England            United Kingdom  53.65000   -1.7833333\n",
       "994 Belfast        Northern Ireland   United Kingdom  54.58333   -5.9333333\n",
       "995 Black River    Black River        Mauritius      -20.36028   57.3661111\n",
       "996 Skaneateles    NY                 United States   42.94694  -76.4294400\n",
       "997 Haverhill      England            United Kingdom  52.08333    0.4333333\n",
       "998 Madison        WI                 United States   43.07306  -89.4011100"
      ]
     },
     "metadata": {},
     "output_type": "display_data"
    }
   ],
   "source": [
    "# data <- gs_key()\n",
    "# Next, you can read in the data:\n",
    "gs_read(data)"
   ]
  },
  {
   "cell_type": "markdown",
   "metadata": {
    "slideshow": {
     "slide_type": "slide"
    }
   },
   "source": [
    "**further references:**     \n",
    "https://cran.r-project.org/web/packages/googlesheets/vignettes/basic-usage.html  \n",
    "https://rawgit.com/jennybc/googlesheets/master/vignettes/basic-usage.html  \n",
    "https://github.com/jennybc/googlesheets  "
   ]
  },
  {
   "cell_type": "markdown",
   "metadata": {
    "slideshow": {
     "slide_type": "slide"
    }
   },
   "source": [
    "# Social Media"
   ]
  },
  {
   "cell_type": "markdown",
   "metadata": {
    "slideshow": {
     "slide_type": "slide"
    }
   },
   "source": [
    "## Import data from facebook"
   ]
  },
  {
   "cell_type": "code",
   "execution_count": 3,
   "metadata": {
    "scrolled": true,
    "slideshow": {
     "slide_type": "subslide"
    }
   },
   "outputs": [
    {
     "name": "stderr",
     "output_type": "stream",
     "text": [
      "Installing package into 'C:/Users/Suman/Documents/R/win-library/3.4'\n",
      "(as 'lib' is unspecified)\n"
     ]
    },
    {
     "name": "stdout",
     "output_type": "stream",
     "text": [
      "package 'Rfacebook' successfully unpacked and MD5 sums checked\n",
      "\n",
      "The downloaded binary packages are in\n",
      "\tC:\\Users\\Suman\\AppData\\Local\\Temp\\RtmpEpmPws\\downloaded_packages\n"
     ]
    }
   ],
   "source": [
    "# install required packages\n",
    "# install.packages(\"Rfacebook\", repos = \"http://cran.us.r-project.org\")"
   ]
  },
  {
   "cell_type": "code",
   "execution_count": 4,
   "metadata": {
    "slideshow": {
     "slide_type": "subslide"
    }
   },
   "outputs": [
    {
     "name": "stderr",
     "output_type": "stream",
     "text": [
      "Warning message:\n",
      "\"package 'Rfacebook' was built under R version 3.4.3\"Loading required package: httr\n",
      "Warning message:\n",
      "\"package 'httr' was built under R version 3.4.3\"Loading required package: rjson\n",
      "Loading required package: httpuv\n",
      "\n",
      "Attaching package: 'Rfacebook'\n",
      "\n",
      "The following object is masked from 'package:methods':\n",
      "\n",
      "    getGroup\n",
      "\n"
     ]
    }
   ],
   "source": [
    "library(Rfacebook)"
   ]
  },
  {
   "cell_type": "code",
   "execution_count": 1,
   "metadata": {
    "collapsed": true,
    "slideshow": {
     "slide_type": "subslide"
    }
   },
   "outputs": [],
   "source": [
    "token <- \"EAACEdEose0cBAChYjZAF9sJvru3cXdMUt5cfMqgeFsW9wAyM3ZAnTBmBs0wX6Xob93aZCZAdJhxwGBMLRH3SfUXFvJm9zK3QH48u6YXaFf6uXbaZAaBRgoMbIQuB3dMVwMsEgvkQUL1zoXZAMf7X3ZAOEiJYLMVP6S5tgdPFvJ6gGJydnfrLLtLsVRz1qNp8HRHL9moG7NnMAZDZD\""
   ]
  },
  {
   "cell_type": "code",
   "execution_count": 5,
   "metadata": {
    "slideshow": {
     "slide_type": "fragment"
    }
   },
   "outputs": [
    {
     "data": {
      "text/html": [
       "'DataScience Telangana Portal'"
      ],
      "text/latex": [
       "'DataScience Telangana Portal'"
      ],
      "text/markdown": [
       "'DataScience Telangana Portal'"
      ],
      "text/plain": [
       "[1] \"DataScience Telangana Portal\""
      ]
     },
     "metadata": {},
     "output_type": "display_data"
    }
   ],
   "source": [
    "me <- getUsers(\"me\", token=token)\n",
    "me$name"
   ]
  },
  {
   "cell_type": "code",
   "execution_count": 7,
   "metadata": {
    "scrolled": false,
    "slideshow": {
     "slide_type": "subslide"
    }
   },
   "outputs": [
    {
     "name": "stderr",
     "output_type": "stream",
     "text": [
      "Only friends who use the application will be returned\n",
      "See ?getFriends for more details\n"
     ]
    },
    {
     "data": {
      "text/html": [
       "<table>\n",
       "<thead><tr><th scope=col>name</th><th scope=col>id</th></tr></thead>\n",
       "<tbody>\n",
       "\t<tr><td>Luis Benites Sánchez       </td><td>544886275                  </td></tr>\n",
       "\t<tr><td>Aftab Sheikh               </td><td>10152518814041645          </td></tr>\n",
       "\t<tr><td>Durga Viswanath Gadiraju   </td><td>10152607777806523          </td></tr>\n",
       "\t<tr><td>Tibor Kurina               </td><td>10203106755531405          </td></tr>\n",
       "\t<tr><td>Tzu-Ching Wu               </td><td>10201792213915583          </td></tr>\n",
       "\t<tr><td>Alexsandro Cardoso Carvalho</td><td>1358265277557179           </td></tr>\n",
       "\t<tr><td>Fernando Amaral            </td><td>100003117542791            </td></tr>\n",
       "\t<tr><td>Nss Saro                   </td><td>100003496551332            </td></tr>\n",
       "\t<tr><td>Abhishek Cxl               </td><td>1819422961614232           </td></tr>\n",
       "\t<tr><td>Ryo Eng                    </td><td>1458726501031159           </td></tr>\n",
       "\t<tr><td>Orienit Hadoop             </td><td>1447594722146040           </td></tr>\n",
       "\t<tr><td>Ricardo Fit-big Data       </td><td>129144230778124            </td></tr>\n",
       "\t<tr><td>Emma Smith                 </td><td>131449437398322            </td></tr>\n",
       "</tbody>\n",
       "</table>\n"
      ],
      "text/latex": [
       "\\begin{tabular}{r|ll}\n",
       " name & id\\\\\n",
       "\\hline\n",
       "\t Luis Benites Sánchez        & 544886275                  \\\\\n",
       "\t Aftab Sheikh                & 10152518814041645          \\\\\n",
       "\t Durga Viswanath Gadiraju    & 10152607777806523          \\\\\n",
       "\t Tibor Kurina                & 10203106755531405          \\\\\n",
       "\t Tzu-Ching Wu                & 10201792213915583          \\\\\n",
       "\t Alexsandro Cardoso Carvalho & 1358265277557179           \\\\\n",
       "\t Fernando Amaral             & 100003117542791            \\\\\n",
       "\t Nss Saro                    & 100003496551332            \\\\\n",
       "\t Abhishek Cxl                & 1819422961614232           \\\\\n",
       "\t Ryo Eng                     & 1458726501031159           \\\\\n",
       "\t Orienit Hadoop              & 1447594722146040           \\\\\n",
       "\t Ricardo Fit-big Data        & 129144230778124            \\\\\n",
       "\t Emma Smith                  & 131449437398322            \\\\\n",
       "\\end{tabular}\n"
      ],
      "text/markdown": [
       "\n",
       "name | id | \n",
       "|---|---|---|---|---|---|---|---|---|---|---|---|---|\n",
       "| Luis Benites Sánchez        | 544886275                   | \n",
       "| Aftab Sheikh                | 10152518814041645           | \n",
       "| Durga Viswanath Gadiraju    | 10152607777806523           | \n",
       "| Tibor Kurina                | 10203106755531405           | \n",
       "| Tzu-Ching Wu                | 10201792213915583           | \n",
       "| Alexsandro Cardoso Carvalho | 1358265277557179            | \n",
       "| Fernando Amaral             | 100003117542791             | \n",
       "| Nss Saro                    | 100003496551332             | \n",
       "| Abhishek Cxl                | 1819422961614232            | \n",
       "| Ryo Eng                     | 1458726501031159            | \n",
       "| Orienit Hadoop              | 1447594722146040            | \n",
       "| Ricardo Fit-big Data        | 129144230778124             | \n",
       "| Emma Smith                  | 131449437398322             | \n",
       "\n",
       "\n"
      ],
      "text/plain": [
       "   name                        id               \n",
       "1  Luis Benites Sánchez        544886275        \n",
       "2  Aftab Sheikh                10152518814041645\n",
       "3  Durga Viswanath Gadiraju    10152607777806523\n",
       "4  Tibor Kurina                10203106755531405\n",
       "5  Tzu-Ching Wu                10201792213915583\n",
       "6  Alexsandro Cardoso Carvalho 1358265277557179 \n",
       "7  Fernando Amaral             100003117542791  \n",
       "8  Nss Saro                    100003496551332  \n",
       "9  Abhishek Cxl                1819422961614232 \n",
       "10 Ryo Eng                     1458726501031159 \n",
       "11 Orienit Hadoop              1447594722146040 \n",
       "12 Ricardo Fit-big Data        129144230778124  \n",
       "13 Emma Smith                  131449437398322  "
      ]
     },
     "metadata": {},
     "output_type": "display_data"
    },
    {
     "data": {
      "text/plain": [
       "\n",
       "   Bangalore, India      Chennai, India           Hyderabad          Lima, Peru \n",
       "                  1                   1                   1                   1 \n",
       "Mumbai, Maharashtra       Novo Hamburgo Santo André, Brazil \n",
       "                  1                   1                   1 "
      ]
     },
     "metadata": {},
     "output_type": "display_data"
    }
   ],
   "source": [
    "my_friends <- getFriends(token, simplify=TRUE)\n",
    "my_friends_info <- getUsers(my_friends$id, token=token, private_info=TRUE)\n",
    "my_friends\n",
    "table(my_friends_info$location)"
   ]
  },
  {
   "cell_type": "code",
   "execution_count": 10,
   "metadata": {
    "slideshow": {
     "slide_type": "subslide"
    }
   },
   "outputs": [
    {
     "data": {
      "text/html": [
       "'Orienit'"
      ],
      "text/latex": [
       "'Orienit'"
      ],
      "text/markdown": [
       "'Orienit'"
      ],
      "text/plain": [
       "[1] \"Orienit\""
      ]
     },
     "metadata": {},
     "output_type": "display_data"
    }
   ],
   "source": [
    "Hyderabad_resident <- subset(my_friends_info$first_name,my_friends_info$location == \"Hyderabad\")\n",
    "Hyderabad_resident"
   ]
  },
  {
   "cell_type": "code",
   "execution_count": 11,
   "metadata": {
    "scrolled": true,
    "slideshow": {
     "slide_type": "fragment"
    }
   },
   "outputs": [
    {
     "data": {
      "text/plain": [
       "\n",
       "Married  Single \n",
       "      4       2 "
      ]
     },
     "metadata": {},
     "output_type": "display_data"
    }
   ],
   "source": [
    "table(my_friends_info$relationship_status)"
   ]
  },
  {
   "cell_type": "markdown",
   "metadata": {
    "run_control": {
     "frozen": false,
     "read_only": false
    },
    "slideshow": {
     "slide_type": "slide"
    }
   },
   "source": [
    "## Import data from twitter"
   ]
  },
  {
   "cell_type": "code",
   "execution_count": 14,
   "metadata": {
    "slideshow": {
     "slide_type": "subslide"
    }
   },
   "outputs": [
    {
     "name": "stderr",
     "output_type": "stream",
     "text": [
      "Installing package into 'C:/Users/Suman/Documents/R/win-library/3.4'\n",
      "(as 'lib' is unspecified)\n"
     ]
    },
    {
     "name": "stdout",
     "output_type": "stream",
     "text": [
      "package 'twitteR' successfully unpacked and MD5 sums checked\n",
      "\n",
      "The downloaded binary packages are in\n",
      "\tC:\\Users\\Suman\\AppData\\Local\\Temp\\RtmpEpmPws\\downloaded_packages\n"
     ]
    },
    {
     "name": "stderr",
     "output_type": "stream",
     "text": [
      "Installing package into 'C:/Users/Suman/Documents/R/win-library/3.4'\n",
      "(as 'lib' is unspecified)\n"
     ]
    },
    {
     "name": "stdout",
     "output_type": "stream",
     "text": [
      "package 'ROAuth' successfully unpacked and MD5 sums checked\n",
      "\n",
      "The downloaded binary packages are in\n",
      "\tC:\\Users\\Suman\\AppData\\Local\\Temp\\RtmpEpmPws\\downloaded_packages\n"
     ]
    }
   ],
   "source": [
    "install.packages(\"twitteR\", repos = \"http://cran.us.r-project.org\")\n",
    "install.packages(\"ROAuth\", repos = \"http://cran.us.r-project.org\")"
   ]
  },
  {
   "cell_type": "code",
   "execution_count": 15,
   "metadata": {
    "slideshow": {
     "slide_type": "subslide"
    }
   },
   "outputs": [
    {
     "name": "stderr",
     "output_type": "stream",
     "text": [
      "Warning message:\n",
      "\"package 'twitteR' was built under R version 3.4.3\"\n",
      "Attaching package: 'twitteR'\n",
      "\n",
      "The following object is masked from 'package:Rfacebook':\n",
      "\n",
      "    updateStatus\n",
      "\n",
      "Warning message:\n",
      "\"package 'ROAuth' was built under R version 3.4.3\""
     ]
    }
   ],
   "source": [
    "library(\"twitteR\")\n",
    "library(\"ROAuth\")"
   ]
  },
  {
   "cell_type": "code",
   "execution_count": 23,
   "metadata": {
    "slideshow": {
     "slide_type": "subslide"
    }
   },
   "outputs": [
    {
     "name": "stdout",
     "output_type": "stream",
     "text": [
      "[1] \"Using direct authentication\"\n"
     ]
    }
   ],
   "source": [
    "consumer_key <- \"xikRm6padPuy7oHZOlY1ry0wQ\"\n",
    "consumer_secret <- \"miGJullosrblyWIv71QCK2NQUgOaVgn4gCX6pp0kjbjipDu4oR\"\n",
    "access_token <- \"56349305-y3gTCLu06cVSq3q3mZCTq3kvQ4vqftzLOkrQtzero\"\n",
    "\n",
    "access_secret <- \"MaOoq0rgatB0vG8P0E0H7sTNU4xy78oIT5YMboi84VRYs\"\n",
    "options(httr_oauth_cache=T) #This will enable the use of a local file to cache OAuth access credentials between R sessions.\n",
    "setup_twitter_oauth(consumer_key,\n",
    "                    consumer_secret,\n",
    "                    access_token,\n",
    "                    access_secret)"
   ]
  },
  {
   "cell_type": "code",
   "execution_count": 24,
   "metadata": {
    "slideshow": {
     "slide_type": "subslide"
    }
   },
   "outputs": [
    {
     "data": {
      "text/html": [
       "'Hyderabad, Telangana'"
      ],
      "text/latex": [
       "'Hyderabad, Telangana'"
      ],
      "text/markdown": [
       "'Hyderabad, Telangana'"
      ],
      "text/plain": [
       "[1] \"Hyderabad, Telangana\""
      ]
     },
     "metadata": {},
     "output_type": "display_data"
    }
   ],
   "source": [
    "lucaspuente <- getUser(\"sumendar\")\n",
    "location(lucaspuente)"
   ]
  },
  {
   "cell_type": "code",
   "execution_count": 25,
   "metadata": {
    "slideshow": {
     "slide_type": "subslide"
    }
   },
   "outputs": [
    {
     "data": {
      "text/html": [
       "282"
      ],
      "text/latex": [
       "282"
      ],
      "text/markdown": [
       "282"
      ],
      "text/plain": [
       "[1] 282"
      ]
     },
     "metadata": {},
     "output_type": "display_data"
    }
   ],
   "source": [
    "lucaspuente_follower_IDs<-lucaspuente$getFollowers(retryOnRateLimit=180)\n",
    "length(lucaspuente_follower_IDs)"
   ]
  },
  {
   "cell_type": "code",
   "execution_count": 26,
   "metadata": {
    "slideshow": {
     "slide_type": "subslide"
    }
   },
   "outputs": [
    {
     "name": "stderr",
     "output_type": "stream",
     "text": [
      "Loading required package: data.table\n"
     ]
    }
   ],
   "source": [
    "if (!require(\"data.table\")) {\n",
    "  install.packages(\"data.table\", repos=\"http://cran.rstudio.com/\") \n",
    "  library(\"data.table\")\n",
    "}\n",
    "lucaspuente_followers_df = rbindlist(lapply(lucaspuente_follower_IDs,as.data.frame))"
   ]
  },
  {
   "cell_type": "code",
   "execution_count": 27,
   "metadata": {
    "slideshow": {
     "slide_type": "fragment"
    }
   },
   "outputs": [
    {
     "data": {
      "text/html": [
       "<ol class=list-inline>\n",
       "\t<li>'Huntsville, AL'</li>\n",
       "\t<li>''</li>\n",
       "\t<li>''</li>\n",
       "\t<li>'PARADEEP/RAMGUNDAM'</li>\n",
       "\t<li>'Internet'</li>\n",
       "\t<li>'Kuala Lumpur, Malaysia'</li>\n",
       "\t<li>'Santa Clara, CA'</li>\n",
       "\t<li>'Austin, TX'</li>\n",
       "\t<li>'ブログ Call of Venture'</li>\n",
       "\t<li>'New York, NY'</li>\n",
       "</ol>\n"
      ],
      "text/latex": [
       "\\begin{enumerate*}\n",
       "\\item 'Huntsville, AL'\n",
       "\\item ''\n",
       "\\item ''\n",
       "\\item 'PARADEEP/RAMGUNDAM'\n",
       "\\item 'Internet'\n",
       "\\item 'Kuala Lumpur, Malaysia'\n",
       "\\item 'Santa Clara, CA'\n",
       "\\item 'Austin, TX'\n",
       "\\item 'ブログ Call of Venture'\n",
       "\\item 'New York, NY'\n",
       "\\end{enumerate*}\n"
      ],
      "text/markdown": [
       "1. 'Huntsville, AL'\n",
       "2. ''\n",
       "3. ''\n",
       "4. 'PARADEEP/RAMGUNDAM'\n",
       "5. 'Internet'\n",
       "6. 'Kuala Lumpur, Malaysia'\n",
       "7. 'Santa Clara, CA'\n",
       "8. 'Austin, TX'\n",
       "9. 'ブログ Call of Venture'\n",
       "10. 'New York, NY'\n",
       "\n",
       "\n"
      ],
      "text/plain": [
       " [1] \"Huntsville, AL\"         \"\"                       \"\"                      \n",
       " [4] \"PARADEEP/RAMGUNDAM\"     \"Internet\"               \"Kuala Lumpur, Malaysia\"\n",
       " [7] \"Santa Clara, CA\"        \"Austin, TX\"             \"<U+30D6><U+30ED><U+30B0> Call of Venture\"\n",
       "[10] \"New York, NY\"          "
      ]
     },
     "metadata": {},
     "output_type": "display_data"
    }
   ],
   "source": [
    "head(lucaspuente_followers_df$location, 10)"
   ]
  }
 ],
 "metadata": {
  "celltoolbar": "Slideshow",
  "hide_input": false,
  "kernelspec": {
   "display_name": "R",
   "language": "R",
   "name": "ir"
  },
  "language_info": {
   "codemirror_mode": "r",
   "file_extension": ".r",
   "mimetype": "text/x-r-source",
   "name": "R",
   "pygments_lexer": "r",
   "version": "3.4.2"
  },
  "nav_menu": {},
  "toc": {
   "navigate_menu": true,
   "number_sections": false,
   "sideBar": false,
   "threshold": 6,
   "toc_cell": true,
   "toc_section_display": "block",
   "toc_window_display": false
  },
  "toc_position": {
   "height": "406px",
   "left": "1px",
   "right": "20px",
   "top": "107px",
   "width": "212px"
  }
 },
 "nbformat": 4,
 "nbformat_minor": 2
}
