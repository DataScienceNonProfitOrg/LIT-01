{
 "cells": [
  {
   "cell_type": "markdown",
   "metadata": {
    "slideshow": {
     "slide_type": "slide"
    }
   },
   "source": [
    "## Install packages"
   ]
  },
  {
   "cell_type": "code",
   "execution_count": 1,
   "metadata": {
    "collapsed": true,
    "run_control": {
     "frozen": false,
     "read_only": false
    },
    "slideshow": {
     "slide_type": "slide"
    }
   },
   "outputs": [],
   "source": [
    "# install.packages('caTools', repos = 'https://cran.r-project.org')"
   ]
  },
  {
   "cell_type": "markdown",
   "metadata": {
    "run_control": {
     "frozen": false,
     "read_only": false
    },
    "slideshow": {
     "slide_type": "slide"
    }
   },
   "source": [
    "## Importing libraries"
   ]
  },
  {
   "cell_type": "code",
   "execution_count": 2,
   "metadata": {
    "run_control": {
     "frozen": false,
     "read_only": false
    },
    "slideshow": {
     "slide_type": "slide"
    }
   },
   "outputs": [
    {
     "name": "stderr",
     "output_type": "stream",
     "text": [
      "Warning message:\n",
      "\"package 'caTools' was built under R version 3.4.3\""
     ]
    }
   ],
   "source": [
    "library(caTools)  # for splitting data"
   ]
  },
  {
   "cell_type": "markdown",
   "metadata": {
    "slideshow": {
     "slide_type": "slide"
    }
   },
   "source": [
    "## Import the dataset"
   ]
  },
  {
   "cell_type": "code",
   "execution_count": 3,
   "metadata": {
    "collapsed": true,
    "run_control": {
     "frozen": false,
     "read_only": false
    },
    "slideshow": {
     "slide_type": "slide"
    }
   },
   "outputs": [],
   "source": [
    "# Importing the dataset\n",
    "dataset = read.csv('data/Salary_Data.csv')"
   ]
  },
  {
   "cell_type": "code",
   "execution_count": 4,
   "metadata": {
    "run_control": {
     "frozen": false,
     "read_only": false
    },
    "scrolled": true,
    "slideshow": {
     "slide_type": "subslide"
    }
   },
   "outputs": [
    {
     "data": {
      "text/html": [
       "<table>\n",
       "<thead><tr><th scope=col>YearsExperience</th><th scope=col>Salary</th></tr></thead>\n",
       "<tbody>\n",
       "\t<tr><td> 1.1  </td><td> 39343</td></tr>\n",
       "\t<tr><td> 1.3  </td><td> 46205</td></tr>\n",
       "\t<tr><td> 1.5  </td><td> 37731</td></tr>\n",
       "\t<tr><td> 2.0  </td><td> 43525</td></tr>\n",
       "\t<tr><td> 2.2  </td><td> 39891</td></tr>\n",
       "\t<tr><td> 2.9  </td><td> 56642</td></tr>\n",
       "\t<tr><td> 3.0  </td><td> 60150</td></tr>\n",
       "\t<tr><td> 3.2  </td><td> 54445</td></tr>\n",
       "\t<tr><td> 3.2  </td><td> 64445</td></tr>\n",
       "\t<tr><td> 3.7  </td><td> 57189</td></tr>\n",
       "\t<tr><td> 3.9  </td><td> 63218</td></tr>\n",
       "\t<tr><td> 4.0  </td><td> 55794</td></tr>\n",
       "\t<tr><td> 4.0  </td><td> 56957</td></tr>\n",
       "\t<tr><td> 4.1  </td><td> 57081</td></tr>\n",
       "\t<tr><td> 4.5  </td><td> 61111</td></tr>\n",
       "\t<tr><td> 4.9  </td><td> 67938</td></tr>\n",
       "\t<tr><td> 5.1  </td><td> 66029</td></tr>\n",
       "\t<tr><td> 5.3  </td><td> 83088</td></tr>\n",
       "\t<tr><td> 5.9  </td><td> 81363</td></tr>\n",
       "\t<tr><td> 6.0  </td><td> 93940</td></tr>\n",
       "\t<tr><td> 6.8  </td><td> 91738</td></tr>\n",
       "\t<tr><td> 7.1  </td><td> 98273</td></tr>\n",
       "\t<tr><td> 7.9  </td><td>101302</td></tr>\n",
       "\t<tr><td> 8.2  </td><td>113812</td></tr>\n",
       "\t<tr><td> 8.7  </td><td>109431</td></tr>\n",
       "\t<tr><td> 9.0  </td><td>105582</td></tr>\n",
       "\t<tr><td> 9.5  </td><td>116969</td></tr>\n",
       "\t<tr><td> 9.6  </td><td>112635</td></tr>\n",
       "\t<tr><td>10.3  </td><td>122391</td></tr>\n",
       "\t<tr><td>10.5  </td><td>121872</td></tr>\n",
       "</tbody>\n",
       "</table>\n"
      ],
      "text/latex": [
       "\\begin{tabular}{r|ll}\n",
       " YearsExperience & Salary\\\\\n",
       "\\hline\n",
       "\t  1.1   &  39343\\\\\n",
       "\t  1.3   &  46205\\\\\n",
       "\t  1.5   &  37731\\\\\n",
       "\t  2.0   &  43525\\\\\n",
       "\t  2.2   &  39891\\\\\n",
       "\t  2.9   &  56642\\\\\n",
       "\t  3.0   &  60150\\\\\n",
       "\t  3.2   &  54445\\\\\n",
       "\t  3.2   &  64445\\\\\n",
       "\t  3.7   &  57189\\\\\n",
       "\t  3.9   &  63218\\\\\n",
       "\t  4.0   &  55794\\\\\n",
       "\t  4.0   &  56957\\\\\n",
       "\t  4.1   &  57081\\\\\n",
       "\t  4.5   &  61111\\\\\n",
       "\t  4.9   &  67938\\\\\n",
       "\t  5.1   &  66029\\\\\n",
       "\t  5.3   &  83088\\\\\n",
       "\t  5.9   &  81363\\\\\n",
       "\t  6.0   &  93940\\\\\n",
       "\t  6.8   &  91738\\\\\n",
       "\t  7.1   &  98273\\\\\n",
       "\t  7.9   & 101302\\\\\n",
       "\t  8.2   & 113812\\\\\n",
       "\t  8.7   & 109431\\\\\n",
       "\t  9.0   & 105582\\\\\n",
       "\t  9.5   & 116969\\\\\n",
       "\t  9.6   & 112635\\\\\n",
       "\t 10.3   & 122391\\\\\n",
       "\t 10.5   & 121872\\\\\n",
       "\\end{tabular}\n"
      ],
      "text/markdown": [
       "\n",
       "YearsExperience | Salary | \n",
       "|---|---|---|---|---|---|---|---|---|---|---|---|---|---|---|---|---|---|---|---|---|---|---|---|---|---|---|---|---|---|\n",
       "|  1.1   |  39343 | \n",
       "|  1.3   |  46205 | \n",
       "|  1.5   |  37731 | \n",
       "|  2.0   |  43525 | \n",
       "|  2.2   |  39891 | \n",
       "|  2.9   |  56642 | \n",
       "|  3.0   |  60150 | \n",
       "|  3.2   |  54445 | \n",
       "|  3.2   |  64445 | \n",
       "|  3.7   |  57189 | \n",
       "|  3.9   |  63218 | \n",
       "|  4.0   |  55794 | \n",
       "|  4.0   |  56957 | \n",
       "|  4.1   |  57081 | \n",
       "|  4.5   |  61111 | \n",
       "|  4.9   |  67938 | \n",
       "|  5.1   |  66029 | \n",
       "|  5.3   |  83088 | \n",
       "|  5.9   |  81363 | \n",
       "|  6.0   |  93940 | \n",
       "|  6.8   |  91738 | \n",
       "|  7.1   |  98273 | \n",
       "|  7.9   | 101302 | \n",
       "|  8.2   | 113812 | \n",
       "|  8.7   | 109431 | \n",
       "|  9.0   | 105582 | \n",
       "|  9.5   | 116969 | \n",
       "|  9.6   | 112635 | \n",
       "| 10.3   | 122391 | \n",
       "| 10.5   | 121872 | \n",
       "\n",
       "\n"
      ],
      "text/plain": [
       "   YearsExperience Salary\n",
       "1   1.1             39343\n",
       "2   1.3             46205\n",
       "3   1.5             37731\n",
       "4   2.0             43525\n",
       "5   2.2             39891\n",
       "6   2.9             56642\n",
       "7   3.0             60150\n",
       "8   3.2             54445\n",
       "9   3.2             64445\n",
       "10  3.7             57189\n",
       "11  3.9             63218\n",
       "12  4.0             55794\n",
       "13  4.0             56957\n",
       "14  4.1             57081\n",
       "15  4.5             61111\n",
       "16  4.9             67938\n",
       "17  5.1             66029\n",
       "18  5.3             83088\n",
       "19  5.9             81363\n",
       "20  6.0             93940\n",
       "21  6.8             91738\n",
       "22  7.1             98273\n",
       "23  7.9            101302\n",
       "24  8.2            113812\n",
       "25  8.7            109431\n",
       "26  9.0            105582\n",
       "27  9.5            116969\n",
       "28  9.6            112635\n",
       "29 10.3            122391\n",
       "30 10.5            121872"
      ]
     },
     "metadata": {},
     "output_type": "display_data"
    }
   ],
   "source": [
    "dataset"
   ]
  },
  {
   "cell_type": "markdown",
   "metadata": {
    "slideshow": {
     "slide_type": "slide"
    }
   },
   "source": [
    "## Split dataset into train and test"
   ]
  },
  {
   "cell_type": "markdown",
   "metadata": {
    "slideshow": {
     "slide_type": "slide"
    }
   },
   "source": [
    "## Splitting the dataset into the Training set and Test set"
   ]
  },
  {
   "cell_type": "code",
   "execution_count": 5,
   "metadata": {
    "collapsed": true,
    "slideshow": {
     "slide_type": "subslide"
    }
   },
   "outputs": [],
   "source": [
    "set.seed(123)\n",
    "split = sample.split(dataset$Salary, SplitRatio = 2/3)\n",
    "training_set = subset(dataset, split == TRUE)\n",
    "test_set = subset(dataset, split == FALSE)\n",
    "\n",
    "# Feature Scaling\n",
    "# training_set = scale(training_set)\n",
    "# test_set = scale(test_set)"
   ]
  },
  {
   "cell_type": "markdown",
   "metadata": {
    "slideshow": {
     "slide_type": "slide"
    }
   },
   "source": [
    "## Fitting Simple Linear Regression to the Training set"
   ]
  },
  {
   "cell_type": "code",
   "execution_count": 6,
   "metadata": {
    "collapsed": true,
    "slideshow": {
     "slide_type": "fragment"
    }
   },
   "outputs": [],
   "source": [
    "regressor = lm(formula = Salary ~ YearsExperience,\n",
    "               data = training_set)\n",
    "\n"
   ]
  },
  {
   "cell_type": "markdown",
   "metadata": {
    "slideshow": {
     "slide_type": "slide"
    }
   },
   "source": [
    "## Predicting the Test set results"
   ]
  },
  {
   "cell_type": "code",
   "execution_count": 7,
   "metadata": {
    "collapsed": true,
    "slideshow": {
     "slide_type": "fragment"
    }
   },
   "outputs": [],
   "source": [
    "y_pred = predict(regressor, newdata = test_set)"
   ]
  },
  {
   "cell_type": "markdown",
   "metadata": {
    "slideshow": {
     "slide_type": "slide"
    }
   },
   "source": [
    "## Visualising the Training set results"
   ]
  },
  {
   "cell_type": "code",
   "execution_count": 8,
   "metadata": {
    "slideshow": {
     "slide_type": "subslide"
    }
   },
   "outputs": [
    {
     "name": "stderr",
     "output_type": "stream",
     "text": [
      "Warning message:\n",
      "\"package 'ggplot2' was built under R version 3.4.3\""
     ]
    },
    {
     "data": {},
     "metadata": {},
     "output_type": "display_data"
    },
    {
     "data": {
      "image/png": "[encoded data removed]",
      "text/plain": [
       "plot without title"
      ]
     },
     "metadata": {},
     "output_type": "display_data"
    }
   ],
   "source": [
    "library(ggplot2)\n",
    "ggplot() +\n",
    "  geom_point(aes(x = training_set$YearsExperience, y = training_set$Salary),\n",
    "             colour = 'red') +\n",
    "  geom_line(aes(x = training_set$YearsExperience, y = predict(regressor, newdata = training_set)),\n",
    "            colour = 'blue') +\n",
    "  ggtitle('Salary vs Experience (Training set)') +\n",
    "  xlab('Years of experience') +\n",
    "  ylab('Salary')"
   ]
  },
  {
   "cell_type": "markdown",
   "metadata": {
    "slideshow": {
     "slide_type": "slide"
    }
   },
   "source": [
    "## Visualising the Test set results"
   ]
  },
  {
   "cell_type": "code",
   "execution_count": 9,
   "metadata": {
    "run_control": {
     "frozen": false,
     "read_only": false
    },
    "slideshow": {
     "slide_type": "subslide"
    }
   },
   "outputs": [
    {
     "data": {},
     "metadata": {},
     "output_type": "display_data"
    },
    {
     "data": {
      "image/png": "[encoded data removed]",
      "text/plain": [
       "plot without title"
      ]
     },
     "metadata": {},
     "output_type": "display_data"
    }
   ],
   "source": [
    "library(ggplot2)\n",
    "ggplot() +\n",
    "  geom_point(aes(x = test_set$YearsExperience, y = test_set$Salary),\n",
    "             colour = 'red') +\n",
    "  geom_line(aes(x = training_set$YearsExperience, y = predict(regressor, newdata = training_set)),\n",
    "            colour = 'blue') +\n",
    "  ggtitle('Salary vs Experience (Test set)') +\n",
    "  xlab('Years of experience') +\n",
    "  ylab('Salary')"
   ]
  }
 ],
 "metadata": {
  "celltoolbar": "Slideshow",
  "hide_input": false,
  "kernelspec": {
   "display_name": "R",
   "language": "R",
   "name": "ir"
  },
  "language_info": {
   "codemirror_mode": "r",
   "file_extension": ".r",
   "mimetype": "text/x-r-source",
   "name": "R",
   "pygments_lexer": "r",
   "version": "3.4.2"
  },
  "nav_menu": {
   "height": "148px",
   "width": "362px"
  },
  "toc": {
   "navigate_menu": true,
   "number_sections": true,
   "sideBar": true,
   "threshold": 6,
   "toc_cell": false,
   "toc_section_display": "block",
   "toc_window_display": false
  }
 },
 "nbformat": 4,
 "nbformat_minor": 2
}
