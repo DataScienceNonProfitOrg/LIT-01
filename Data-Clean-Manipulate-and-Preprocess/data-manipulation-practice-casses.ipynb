{
 "cells": [
  {
   "cell_type": "markdown",
   "metadata": {
    "collapsed": true
   },
   "source": [
    "## Basic Data Manipulations with R"
   ]
  },
  {
   "cell_type": "markdown",
   "metadata": {},
   "source": [
    "### Replacing / Recoding values\n",
    "* By 'recoding', it means replacing existing value(s) with the new value(s"
   ]
  },
  {
   "cell_type": "markdown",
   "metadata": {},
   "source": [
    "**Create Dummy Data**"
   ]
  },
  {
   "cell_type": "code",
   "execution_count": 1,
   "metadata": {},
   "outputs": [],
   "source": [
    "mydata = data.frame(State = ifelse(sign(rnorm(25))==-1,'Delhi','Goa'), Q1= sample(1:25))"
   ]
  },
  {
   "cell_type": "code",
   "execution_count": 2,
   "metadata": {},
   "outputs": [
    {
     "data": {
      "text/html": [
       "<table>\n",
       "<thead><tr><th scope=col>State</th><th scope=col>Q1</th></tr></thead>\n",
       "<tbody>\n",
       "\t<tr><td>Goa  </td><td>11   </td></tr>\n",
       "\t<tr><td>Goa  </td><td> 8   </td></tr>\n",
       "\t<tr><td>Delhi</td><td> 5   </td></tr>\n",
       "\t<tr><td>Delhi</td><td> 1   </td></tr>\n",
       "\t<tr><td>Delhi</td><td>16   </td></tr>\n",
       "\t<tr><td>Delhi</td><td>14   </td></tr>\n",
       "</tbody>\n",
       "</table>\n"
      ],
      "text/latex": [
       "\\begin{tabular}{r|ll}\n",
       " State & Q1\\\\\n",
       "\\hline\n",
       "\t Goa   & 11   \\\\\n",
       "\t Goa   &  8   \\\\\n",
       "\t Delhi &  5   \\\\\n",
       "\t Delhi &  1   \\\\\n",
       "\t Delhi & 16   \\\\\n",
       "\t Delhi & 14   \\\\\n",
       "\\end{tabular}\n"
      ],
      "text/markdown": [
       "\n",
       "State | Q1 | \n",
       "|---|---|---|---|---|---|\n",
       "| Goa   | 11    | \n",
       "| Goa   |  8    | \n",
       "| Delhi |  5    | \n",
       "| Delhi |  1    | \n",
       "| Delhi | 16    | \n",
       "| Delhi | 14    | \n",
       "\n",
       "\n"
      ],
      "text/plain": [
       "  State Q1\n",
       "1 Goa   11\n",
       "2 Goa    8\n",
       "3 Delhi  5\n",
       "4 Delhi  1\n",
       "5 Delhi 16\n",
       "6 Delhi 14"
      ]
     },
     "metadata": {},
     "output_type": "display_data"
    }
   ],
   "source": [
    "head(mydata)"
   ]
  },
  {
   "cell_type": "markdown",
   "metadata": {},
   "source": [
    "**In this example, we are replacing 1 with 6 in Q1 variable**"
   ]
  },
  {
   "cell_type": "code",
   "execution_count": 3,
   "metadata": {},
   "outputs": [],
   "source": [
    "mydata$Q1[mydata$Q1==1] <- 6"
   ]
  },
  {
   "cell_type": "code",
   "execution_count": 5,
   "metadata": {},
   "outputs": [
    {
     "data": {
      "text/html": [
       "<table>\n",
       "<thead><tr><th scope=col>State</th><th scope=col>Q1</th></tr></thead>\n",
       "<tbody>\n",
       "\t<tr><td>Goa  </td><td>11   </td></tr>\n",
       "\t<tr><td>Goa  </td><td> 8   </td></tr>\n",
       "\t<tr><td>Delhi</td><td> 5   </td></tr>\n",
       "\t<tr><td>Delhi</td><td> 6   </td></tr>\n",
       "\t<tr><td>Delhi</td><td>16   </td></tr>\n",
       "\t<tr><td>Delhi</td><td>14   </td></tr>\n",
       "</tbody>\n",
       "</table>\n"
      ],
      "text/latex": [
       "\\begin{tabular}{r|ll}\n",
       " State & Q1\\\\\n",
       "\\hline\n",
       "\t Goa   & 11   \\\\\n",
       "\t Goa   &  8   \\\\\n",
       "\t Delhi &  5   \\\\\n",
       "\t Delhi &  6   \\\\\n",
       "\t Delhi & 16   \\\\\n",
       "\t Delhi & 14   \\\\\n",
       "\\end{tabular}\n"
      ],
      "text/markdown": [
       "\n",
       "State | Q1 | \n",
       "|---|---|---|---|---|---|\n",
       "| Goa   | 11    | \n",
       "| Goa   |  8    | \n",
       "| Delhi |  5    | \n",
       "| Delhi |  6    | \n",
       "| Delhi | 16    | \n",
       "| Delhi | 14    | \n",
       "\n",
       "\n"
      ],
      "text/plain": [
       "  State Q1\n",
       "1 Goa   11\n",
       "2 Goa    8\n",
       "3 Delhi  5\n",
       "4 Delhi  6\n",
       "5 Delhi 16\n",
       "6 Delhi 14"
      ]
     },
     "metadata": {},
     "output_type": "display_data"
    }
   ],
   "source": [
    "head(mydata)"
   ]
  },
  {
   "cell_type": "markdown",
   "metadata": {},
   "source": [
    "**In this example, we are replacing \"Delhi\" with \"Mumbai\" in State variable. We need to convert the variable from factor to character.**"
   ]
  },
  {
   "cell_type": "code",
   "execution_count": 6,
   "metadata": {},
   "outputs": [],
   "source": [
    "mydata$State = as.character(mydata$State)\n",
    "mydata$State[mydata$State=='Delhi'] <- 'Mumbai'"
   ]
  },
  {
   "cell_type": "code",
   "execution_count": 7,
   "metadata": {},
   "outputs": [
    {
     "data": {
      "text/html": [
       "<table>\n",
       "<thead><tr><th scope=col>State</th><th scope=col>Q1</th></tr></thead>\n",
       "<tbody>\n",
       "\t<tr><td>Goa   </td><td>11    </td></tr>\n",
       "\t<tr><td>Goa   </td><td> 8    </td></tr>\n",
       "\t<tr><td>Mumbai</td><td> 5    </td></tr>\n",
       "\t<tr><td>Mumbai</td><td> 6    </td></tr>\n",
       "\t<tr><td>Mumbai</td><td>16    </td></tr>\n",
       "\t<tr><td>Mumbai</td><td>14    </td></tr>\n",
       "\t<tr><td>Goa   </td><td>23    </td></tr>\n",
       "\t<tr><td>Goa   </td><td>25    </td></tr>\n",
       "\t<tr><td>Goa   </td><td>17    </td></tr>\n",
       "\t<tr><td>Goa   </td><td> 3    </td></tr>\n",
       "\t<tr><td>Mumbai</td><td>24    </td></tr>\n",
       "\t<tr><td>Goa   </td><td>15    </td></tr>\n",
       "\t<tr><td>Mumbai</td><td>13    </td></tr>\n",
       "\t<tr><td>Mumbai</td><td>18    </td></tr>\n",
       "\t<tr><td>Goa   </td><td>22    </td></tr>\n",
       "\t<tr><td>Goa   </td><td>12    </td></tr>\n",
       "\t<tr><td>Goa   </td><td> 4    </td></tr>\n",
       "\t<tr><td>Mumbai</td><td>19    </td></tr>\n",
       "\t<tr><td>Goa   </td><td> 9    </td></tr>\n",
       "\t<tr><td>Goa   </td><td> 6    </td></tr>\n",
       "\t<tr><td>Goa   </td><td>20    </td></tr>\n",
       "\t<tr><td>Mumbai</td><td>10    </td></tr>\n",
       "\t<tr><td>Mumbai</td><td> 2    </td></tr>\n",
       "\t<tr><td>Mumbai</td><td> 7    </td></tr>\n",
       "\t<tr><td>Goa   </td><td>21    </td></tr>\n",
       "</tbody>\n",
       "</table>\n"
      ],
      "text/latex": [
       "\\begin{tabular}{r|ll}\n",
       " State & Q1\\\\\n",
       "\\hline\n",
       "\t Goa    & 11    \\\\\n",
       "\t Goa    &  8    \\\\\n",
       "\t Mumbai &  5    \\\\\n",
       "\t Mumbai &  6    \\\\\n",
       "\t Mumbai & 16    \\\\\n",
       "\t Mumbai & 14    \\\\\n",
       "\t Goa    & 23    \\\\\n",
       "\t Goa    & 25    \\\\\n",
       "\t Goa    & 17    \\\\\n",
       "\t Goa    &  3    \\\\\n",
       "\t Mumbai & 24    \\\\\n",
       "\t Goa    & 15    \\\\\n",
       "\t Mumbai & 13    \\\\\n",
       "\t Mumbai & 18    \\\\\n",
       "\t Goa    & 22    \\\\\n",
       "\t Goa    & 12    \\\\\n",
       "\t Goa    &  4    \\\\\n",
       "\t Mumbai & 19    \\\\\n",
       "\t Goa    &  9    \\\\\n",
       "\t Goa    &  6    \\\\\n",
       "\t Goa    & 20    \\\\\n",
       "\t Mumbai & 10    \\\\\n",
       "\t Mumbai &  2    \\\\\n",
       "\t Mumbai &  7    \\\\\n",
       "\t Goa    & 21    \\\\\n",
       "\\end{tabular}\n"
      ],
      "text/markdown": [
       "\n",
       "State | Q1 | \n",
       "|---|---|---|---|---|---|---|---|---|---|---|---|---|---|---|---|---|---|---|---|---|---|---|---|---|\n",
       "| Goa    | 11     | \n",
       "| Goa    |  8     | \n",
       "| Mumbai |  5     | \n",
       "| Mumbai |  6     | \n",
       "| Mumbai | 16     | \n",
       "| Mumbai | 14     | \n",
       "| Goa    | 23     | \n",
       "| Goa    | 25     | \n",
       "| Goa    | 17     | \n",
       "| Goa    |  3     | \n",
       "| Mumbai | 24     | \n",
       "| Goa    | 15     | \n",
       "| Mumbai | 13     | \n",
       "| Mumbai | 18     | \n",
       "| Goa    | 22     | \n",
       "| Goa    | 12     | \n",
       "| Goa    |  4     | \n",
       "| Mumbai | 19     | \n",
       "| Goa    |  9     | \n",
       "| Goa    |  6     | \n",
       "| Goa    | 20     | \n",
       "| Mumbai | 10     | \n",
       "| Mumbai |  2     | \n",
       "| Mumbai |  7     | \n",
       "| Goa    | 21     | \n",
       "\n",
       "\n"
      ],
      "text/plain": [
       "   State  Q1\n",
       "1  Goa    11\n",
       "2  Goa     8\n",
       "3  Mumbai  5\n",
       "4  Mumbai  6\n",
       "5  Mumbai 16\n",
       "6  Mumbai 14\n",
       "7  Goa    23\n",
       "8  Goa    25\n",
       "9  Goa    17\n",
       "10 Goa     3\n",
       "11 Mumbai 24\n",
       "12 Goa    15\n",
       "13 Mumbai 13\n",
       "14 Mumbai 18\n",
       "15 Goa    22\n",
       "16 Goa    12\n",
       "17 Goa     4\n",
       "18 Mumbai 19\n",
       "19 Goa     9\n",
       "20 Goa     6\n",
       "21 Goa    20\n",
       "22 Mumbai 10\n",
       "23 Mumbai  2\n",
       "24 Mumbai  7\n",
       "25 Goa    21"
      ]
     },
     "metadata": {},
     "output_type": "display_data"
    }
   ],
   "source": [
    "mydata"
   ]
  },
  {
   "cell_type": "markdown",
   "metadata": {},
   "source": [
    "**In this example, we are replacing 2 and 3 with NA values in whole dataset.**"
   ]
  },
  {
   "cell_type": "code",
   "execution_count": 8,
   "metadata": {},
   "outputs": [],
   "source": [
    "mydata[mydata == 2 | mydata == 3] <- NA"
   ]
  },
  {
   "cell_type": "code",
   "execution_count": 9,
   "metadata": {},
   "outputs": [
    {
     "data": {
      "text/html": [
       "<table>\n",
       "<thead><tr><th scope=col>State</th><th scope=col>Q1</th></tr></thead>\n",
       "<tbody>\n",
       "\t<tr><td>Goa   </td><td>11    </td></tr>\n",
       "\t<tr><td>Goa   </td><td> 8    </td></tr>\n",
       "\t<tr><td>Mumbai</td><td> 5    </td></tr>\n",
       "\t<tr><td>Mumbai</td><td> 6    </td></tr>\n",
       "\t<tr><td>Mumbai</td><td>16    </td></tr>\n",
       "\t<tr><td>Mumbai</td><td>14    </td></tr>\n",
       "\t<tr><td>Goa   </td><td>23    </td></tr>\n",
       "\t<tr><td>Goa   </td><td>25    </td></tr>\n",
       "\t<tr><td>Goa   </td><td>17    </td></tr>\n",
       "\t<tr><td>Goa   </td><td>NA    </td></tr>\n",
       "\t<tr><td>Mumbai</td><td>24    </td></tr>\n",
       "\t<tr><td>Goa   </td><td>15    </td></tr>\n",
       "\t<tr><td>Mumbai</td><td>13    </td></tr>\n",
       "\t<tr><td>Mumbai</td><td>18    </td></tr>\n",
       "\t<tr><td>Goa   </td><td>22    </td></tr>\n",
       "\t<tr><td>Goa   </td><td>12    </td></tr>\n",
       "\t<tr><td>Goa   </td><td> 4    </td></tr>\n",
       "\t<tr><td>Mumbai</td><td>19    </td></tr>\n",
       "\t<tr><td>Goa   </td><td> 9    </td></tr>\n",
       "\t<tr><td>Goa   </td><td> 6    </td></tr>\n",
       "\t<tr><td>Goa   </td><td>20    </td></tr>\n",
       "\t<tr><td>Mumbai</td><td>10    </td></tr>\n",
       "\t<tr><td>Mumbai</td><td>NA    </td></tr>\n",
       "\t<tr><td>Mumbai</td><td> 7    </td></tr>\n",
       "\t<tr><td>Goa   </td><td>21    </td></tr>\n",
       "</tbody>\n",
       "</table>\n"
      ],
      "text/latex": [
       "\\begin{tabular}{r|ll}\n",
       " State & Q1\\\\\n",
       "\\hline\n",
       "\t Goa    & 11    \\\\\n",
       "\t Goa    &  8    \\\\\n",
       "\t Mumbai &  5    \\\\\n",
       "\t Mumbai &  6    \\\\\n",
       "\t Mumbai & 16    \\\\\n",
       "\t Mumbai & 14    \\\\\n",
       "\t Goa    & 23    \\\\\n",
       "\t Goa    & 25    \\\\\n",
       "\t Goa    & 17    \\\\\n",
       "\t Goa    & NA    \\\\\n",
       "\t Mumbai & 24    \\\\\n",
       "\t Goa    & 15    \\\\\n",
       "\t Mumbai & 13    \\\\\n",
       "\t Mumbai & 18    \\\\\n",
       "\t Goa    & 22    \\\\\n",
       "\t Goa    & 12    \\\\\n",
       "\t Goa    &  4    \\\\\n",
       "\t Mumbai & 19    \\\\\n",
       "\t Goa    &  9    \\\\\n",
       "\t Goa    &  6    \\\\\n",
       "\t Goa    & 20    \\\\\n",
       "\t Mumbai & 10    \\\\\n",
       "\t Mumbai & NA    \\\\\n",
       "\t Mumbai &  7    \\\\\n",
       "\t Goa    & 21    \\\\\n",
       "\\end{tabular}\n"
      ],
      "text/markdown": [
       "\n",
       "State | Q1 | \n",
       "|---|---|---|---|---|---|---|---|---|---|---|---|---|---|---|---|---|---|---|---|---|---|---|---|---|\n",
       "| Goa    | 11     | \n",
       "| Goa    |  8     | \n",
       "| Mumbai |  5     | \n",
       "| Mumbai |  6     | \n",
       "| Mumbai | 16     | \n",
       "| Mumbai | 14     | \n",
       "| Goa    | 23     | \n",
       "| Goa    | 25     | \n",
       "| Goa    | 17     | \n",
       "| Goa    | NA     | \n",
       "| Mumbai | 24     | \n",
       "| Goa    | 15     | \n",
       "| Mumbai | 13     | \n",
       "| Mumbai | 18     | \n",
       "| Goa    | 22     | \n",
       "| Goa    | 12     | \n",
       "| Goa    |  4     | \n",
       "| Mumbai | 19     | \n",
       "| Goa    |  9     | \n",
       "| Goa    |  6     | \n",
       "| Goa    | 20     | \n",
       "| Mumbai | 10     | \n",
       "| Mumbai | NA     | \n",
       "| Mumbai |  7     | \n",
       "| Goa    | 21     | \n",
       "\n",
       "\n"
      ],
      "text/plain": [
       "   State  Q1\n",
       "1  Goa    11\n",
       "2  Goa     8\n",
       "3  Mumbai  5\n",
       "4  Mumbai  6\n",
       "5  Mumbai 16\n",
       "6  Mumbai 14\n",
       "7  Goa    23\n",
       "8  Goa    25\n",
       "9  Goa    17\n",
       "10 Goa    NA\n",
       "11 Mumbai 24\n",
       "12 Goa    15\n",
       "13 Mumbai 13\n",
       "14 Mumbai 18\n",
       "15 Goa    22\n",
       "16 Goa    12\n",
       "17 Goa     4\n",
       "18 Mumbai 19\n",
       "19 Goa     9\n",
       "20 Goa     6\n",
       "21 Goa    20\n",
       "22 Mumbai 10\n",
       "23 Mumbai NA\n",
       "24 Mumbai  7\n",
       "25 Goa    21"
      ]
     },
     "metadata": {},
     "output_type": "display_data"
    }
   ],
   "source": [
    "mydata"
   ]
  },
  {
   "cell_type": "markdown",
   "metadata": {},
   "source": [
    "**Another method**"
   ]
  },
  {
   "cell_type": "code",
   "execution_count": null,
   "metadata": {},
   "outputs": [],
   "source": [
    "# You have to first install the car package.\n",
    "# Install the car package\n",
    "# install.packages(\"car\", repos = \"https://cran.r-project.org/\")"
   ]
  },
  {
   "cell_type": "code",
   "execution_count": 10,
   "metadata": {},
   "outputs": [
    {
     "name": "stderr",
     "output_type": "stream",
     "text": [
      "Installing package into '/home/nbuser/R'\n",
      "(as 'lib' is unspecified)\n"
     ]
    }
   ],
   "source": [
    "# Load the car package\n",
    "library(\"car\")\n",
    "\n",
    "# Recode 1 to 6\n",
    "mydata$Q1 <- recode(mydata$Q1, \"1=6\")"
   ]
  },
  {
   "cell_type": "code",
   "execution_count": 11,
   "metadata": {},
   "outputs": [
    {
     "data": {
      "text/html": [
       "<table>\n",
       "<thead><tr><th scope=col>State</th><th scope=col>Q1</th></tr></thead>\n",
       "<tbody>\n",
       "\t<tr><td>Goa   </td><td>11    </td></tr>\n",
       "\t<tr><td>Goa   </td><td> 8    </td></tr>\n",
       "\t<tr><td>Mumbai</td><td> 5    </td></tr>\n",
       "\t<tr><td>Mumbai</td><td> 6    </td></tr>\n",
       "\t<tr><td>Mumbai</td><td>16    </td></tr>\n",
       "\t<tr><td>Mumbai</td><td>14    </td></tr>\n",
       "\t<tr><td>Goa   </td><td>23    </td></tr>\n",
       "\t<tr><td>Goa   </td><td>25    </td></tr>\n",
       "\t<tr><td>Goa   </td><td>17    </td></tr>\n",
       "\t<tr><td>Goa   </td><td>NA    </td></tr>\n",
       "\t<tr><td>Mumbai</td><td>24    </td></tr>\n",
       "\t<tr><td>Goa   </td><td>15    </td></tr>\n",
       "\t<tr><td>Mumbai</td><td>13    </td></tr>\n",
       "\t<tr><td>Mumbai</td><td>18    </td></tr>\n",
       "\t<tr><td>Goa   </td><td>22    </td></tr>\n",
       "\t<tr><td>Goa   </td><td>12    </td></tr>\n",
       "\t<tr><td>Goa   </td><td> 4    </td></tr>\n",
       "\t<tr><td>Mumbai</td><td>19    </td></tr>\n",
       "\t<tr><td>Goa   </td><td> 9    </td></tr>\n",
       "\t<tr><td>Goa   </td><td> 6    </td></tr>\n",
       "\t<tr><td>Goa   </td><td>20    </td></tr>\n",
       "\t<tr><td>Mumbai</td><td>10    </td></tr>\n",
       "\t<tr><td>Mumbai</td><td>NA    </td></tr>\n",
       "\t<tr><td>Mumbai</td><td> 7    </td></tr>\n",
       "\t<tr><td>Goa   </td><td>21    </td></tr>\n",
       "</tbody>\n",
       "</table>\n"
      ],
      "text/latex": [
       "\\begin{tabular}{r|ll}\n",
       " State & Q1\\\\\n",
       "\\hline\n",
       "\t Goa    & 11    \\\\\n",
       "\t Goa    &  8    \\\\\n",
       "\t Mumbai &  5    \\\\\n",
       "\t Mumbai &  6    \\\\\n",
       "\t Mumbai & 16    \\\\\n",
       "\t Mumbai & 14    \\\\\n",
       "\t Goa    & 23    \\\\\n",
       "\t Goa    & 25    \\\\\n",
       "\t Goa    & 17    \\\\\n",
       "\t Goa    & NA    \\\\\n",
       "\t Mumbai & 24    \\\\\n",
       "\t Goa    & 15    \\\\\n",
       "\t Mumbai & 13    \\\\\n",
       "\t Mumbai & 18    \\\\\n",
       "\t Goa    & 22    \\\\\n",
       "\t Goa    & 12    \\\\\n",
       "\t Goa    &  4    \\\\\n",
       "\t Mumbai & 19    \\\\\n",
       "\t Goa    &  9    \\\\\n",
       "\t Goa    &  6    \\\\\n",
       "\t Goa    & 20    \\\\\n",
       "\t Mumbai & 10    \\\\\n",
       "\t Mumbai & NA    \\\\\n",
       "\t Mumbai &  7    \\\\\n",
       "\t Goa    & 21    \\\\\n",
       "\\end{tabular}\n"
      ],
      "text/markdown": [
       "\n",
       "State | Q1 | \n",
       "|---|---|---|---|---|---|---|---|---|---|---|---|---|---|---|---|---|---|---|---|---|---|---|---|---|\n",
       "| Goa    | 11     | \n",
       "| Goa    |  8     | \n",
       "| Mumbai |  5     | \n",
       "| Mumbai |  6     | \n",
       "| Mumbai | 16     | \n",
       "| Mumbai | 14     | \n",
       "| Goa    | 23     | \n",
       "| Goa    | 25     | \n",
       "| Goa    | 17     | \n",
       "| Goa    | NA     | \n",
       "| Mumbai | 24     | \n",
       "| Goa    | 15     | \n",
       "| Mumbai | 13     | \n",
       "| Mumbai | 18     | \n",
       "| Goa    | 22     | \n",
       "| Goa    | 12     | \n",
       "| Goa    |  4     | \n",
       "| Mumbai | 19     | \n",
       "| Goa    |  9     | \n",
       "| Goa    |  6     | \n",
       "| Goa    | 20     | \n",
       "| Mumbai | 10     | \n",
       "| Mumbai | NA     | \n",
       "| Mumbai |  7     | \n",
       "| Goa    | 21     | \n",
       "\n",
       "\n"
      ],
      "text/plain": [
       "   State  Q1\n",
       "1  Goa    11\n",
       "2  Goa     8\n",
       "3  Mumbai  5\n",
       "4  Mumbai  6\n",
       "5  Mumbai 16\n",
       "6  Mumbai 14\n",
       "7  Goa    23\n",
       "8  Goa    25\n",
       "9  Goa    17\n",
       "10 Goa    NA\n",
       "11 Mumbai 24\n",
       "12 Goa    15\n",
       "13 Mumbai 13\n",
       "14 Mumbai 18\n",
       "15 Goa    22\n",
       "16 Goa    12\n",
       "17 Goa     4\n",
       "18 Mumbai 19\n",
       "19 Goa     9\n",
       "20 Goa     6\n",
       "21 Goa    20\n",
       "22 Mumbai 10\n",
       "23 Mumbai NA\n",
       "24 Mumbai  7\n",
       "25 Goa    21"
      ]
     },
     "metadata": {},
     "output_type": "display_data"
    }
   ],
   "source": [
    "mydata"
   ]
  },
  {
   "cell_type": "markdown",
   "metadata": {},
   "source": [
    "**Recoding a given range**"
   ]
  },
  {
   "cell_type": "code",
   "execution_count": 12,
   "metadata": {},
   "outputs": [],
   "source": [
    "# Recoding 1 through 4 to 0 and 5 and 6 to 1\n",
    "mydata$Q1 <- recode(mydata$Q1, \"1:4=0; 5:6=1\")\n",
    "\n",
    "# You don't need to specify lowest and highest value of a range.\n",
    "# The lo keyword tells recode to start the range at the lowest value.\n",
    "# The hi keyword tells recode to end the range at the highest value."
   ]
  },
  {
   "cell_type": "code",
   "execution_count": 13,
   "metadata": {},
   "outputs": [
    {
     "data": {
      "text/html": [
       "<table>\n",
       "<thead><tr><th scope=col>State</th><th scope=col>Q1</th></tr></thead>\n",
       "<tbody>\n",
       "\t<tr><td>Goa   </td><td>11    </td></tr>\n",
       "\t<tr><td>Goa   </td><td> 8    </td></tr>\n",
       "\t<tr><td>Mumbai</td><td> 1    </td></tr>\n",
       "\t<tr><td>Mumbai</td><td> 1    </td></tr>\n",
       "\t<tr><td>Mumbai</td><td>16    </td></tr>\n",
       "\t<tr><td>Mumbai</td><td>14    </td></tr>\n",
       "\t<tr><td>Goa   </td><td>23    </td></tr>\n",
       "\t<tr><td>Goa   </td><td>25    </td></tr>\n",
       "\t<tr><td>Goa   </td><td>17    </td></tr>\n",
       "\t<tr><td>Goa   </td><td>NA    </td></tr>\n",
       "\t<tr><td>Mumbai</td><td>24    </td></tr>\n",
       "\t<tr><td>Goa   </td><td>15    </td></tr>\n",
       "\t<tr><td>Mumbai</td><td>13    </td></tr>\n",
       "\t<tr><td>Mumbai</td><td>18    </td></tr>\n",
       "\t<tr><td>Goa   </td><td>22    </td></tr>\n",
       "\t<tr><td>Goa   </td><td>12    </td></tr>\n",
       "\t<tr><td>Goa   </td><td> 0    </td></tr>\n",
       "\t<tr><td>Mumbai</td><td>19    </td></tr>\n",
       "\t<tr><td>Goa   </td><td> 9    </td></tr>\n",
       "\t<tr><td>Goa   </td><td> 1    </td></tr>\n",
       "\t<tr><td>Goa   </td><td>20    </td></tr>\n",
       "\t<tr><td>Mumbai</td><td>10    </td></tr>\n",
       "\t<tr><td>Mumbai</td><td>NA    </td></tr>\n",
       "\t<tr><td>Mumbai</td><td> 7    </td></tr>\n",
       "\t<tr><td>Goa   </td><td>21    </td></tr>\n",
       "</tbody>\n",
       "</table>\n"
      ],
      "text/latex": [
       "\\begin{tabular}{r|ll}\n",
       " State & Q1\\\\\n",
       "\\hline\n",
       "\t Goa    & 11    \\\\\n",
       "\t Goa    &  8    \\\\\n",
       "\t Mumbai &  1    \\\\\n",
       "\t Mumbai &  1    \\\\\n",
       "\t Mumbai & 16    \\\\\n",
       "\t Mumbai & 14    \\\\\n",
       "\t Goa    & 23    \\\\\n",
       "\t Goa    & 25    \\\\\n",
       "\t Goa    & 17    \\\\\n",
       "\t Goa    & NA    \\\\\n",
       "\t Mumbai & 24    \\\\\n",
       "\t Goa    & 15    \\\\\n",
       "\t Mumbai & 13    \\\\\n",
       "\t Mumbai & 18    \\\\\n",
       "\t Goa    & 22    \\\\\n",
       "\t Goa    & 12    \\\\\n",
       "\t Goa    &  0    \\\\\n",
       "\t Mumbai & 19    \\\\\n",
       "\t Goa    &  9    \\\\\n",
       "\t Goa    &  1    \\\\\n",
       "\t Goa    & 20    \\\\\n",
       "\t Mumbai & 10    \\\\\n",
       "\t Mumbai & NA    \\\\\n",
       "\t Mumbai &  7    \\\\\n",
       "\t Goa    & 21    \\\\\n",
       "\\end{tabular}\n"
      ],
      "text/markdown": [
       "\n",
       "State | Q1 | \n",
       "|---|---|---|---|---|---|---|---|---|---|---|---|---|---|---|---|---|---|---|---|---|---|---|---|---|\n",
       "| Goa    | 11     | \n",
       "| Goa    |  8     | \n",
       "| Mumbai |  1     | \n",
       "| Mumbai |  1     | \n",
       "| Mumbai | 16     | \n",
       "| Mumbai | 14     | \n",
       "| Goa    | 23     | \n",
       "| Goa    | 25     | \n",
       "| Goa    | 17     | \n",
       "| Goa    | NA     | \n",
       "| Mumbai | 24     | \n",
       "| Goa    | 15     | \n",
       "| Mumbai | 13     | \n",
       "| Mumbai | 18     | \n",
       "| Goa    | 22     | \n",
       "| Goa    | 12     | \n",
       "| Goa    |  0     | \n",
       "| Mumbai | 19     | \n",
       "| Goa    |  9     | \n",
       "| Goa    |  1     | \n",
       "| Goa    | 20     | \n",
       "| Mumbai | 10     | \n",
       "| Mumbai | NA     | \n",
       "| Mumbai |  7     | \n",
       "| Goa    | 21     | \n",
       "\n",
       "\n"
      ],
      "text/plain": [
       "   State  Q1\n",
       "1  Goa    11\n",
       "2  Goa     8\n",
       "3  Mumbai  1\n",
       "4  Mumbai  1\n",
       "5  Mumbai 16\n",
       "6  Mumbai 14\n",
       "7  Goa    23\n",
       "8  Goa    25\n",
       "9  Goa    17\n",
       "10 Goa    NA\n",
       "11 Mumbai 24\n",
       "12 Goa    15\n",
       "13 Mumbai 13\n",
       "14 Mumbai 18\n",
       "15 Goa    22\n",
       "16 Goa    12\n",
       "17 Goa     0\n",
       "18 Mumbai 19\n",
       "19 Goa     9\n",
       "20 Goa     1\n",
       "21 Goa    20\n",
       "22 Mumbai 10\n",
       "23 Mumbai NA\n",
       "24 Mumbai  7\n",
       "25 Goa    21"
      ]
     },
     "metadata": {},
     "output_type": "display_data"
    }
   ],
   "source": [
    "mydata"
   ]
  },
  {
   "cell_type": "code",
   "execution_count": 14,
   "metadata": {},
   "outputs": [],
   "source": [
    "# Recoding lowest value through 4 to 0 and 5 to highest value to 1\n",
    "mydata$Q1 <- recode(mydata$Q1, \"lo:4=0; 5:hi=1\")"
   ]
  },
  {
   "cell_type": "code",
   "execution_count": 15,
   "metadata": {},
   "outputs": [
    {
     "data": {
      "text/html": [
       "<table>\n",
       "<thead><tr><th scope=col>State</th><th scope=col>Q1</th></tr></thead>\n",
       "<tbody>\n",
       "\t<tr><td>Goa   </td><td> 1    </td></tr>\n",
       "\t<tr><td>Goa   </td><td> 1    </td></tr>\n",
       "\t<tr><td>Mumbai</td><td> 0    </td></tr>\n",
       "\t<tr><td>Mumbai</td><td> 0    </td></tr>\n",
       "\t<tr><td>Mumbai</td><td> 1    </td></tr>\n",
       "\t<tr><td>Mumbai</td><td> 1    </td></tr>\n",
       "\t<tr><td>Goa   </td><td> 1    </td></tr>\n",
       "\t<tr><td>Goa   </td><td> 1    </td></tr>\n",
       "\t<tr><td>Goa   </td><td> 1    </td></tr>\n",
       "\t<tr><td>Goa   </td><td>NA    </td></tr>\n",
       "\t<tr><td>Mumbai</td><td> 1    </td></tr>\n",
       "\t<tr><td>Goa   </td><td> 1    </td></tr>\n",
       "\t<tr><td>Mumbai</td><td> 1    </td></tr>\n",
       "\t<tr><td>Mumbai</td><td> 1    </td></tr>\n",
       "\t<tr><td>Goa   </td><td> 1    </td></tr>\n",
       "\t<tr><td>Goa   </td><td> 1    </td></tr>\n",
       "\t<tr><td>Goa   </td><td> 0    </td></tr>\n",
       "\t<tr><td>Mumbai</td><td> 1    </td></tr>\n",
       "\t<tr><td>Goa   </td><td> 1    </td></tr>\n",
       "\t<tr><td>Goa   </td><td> 0    </td></tr>\n",
       "\t<tr><td>Goa   </td><td> 1    </td></tr>\n",
       "\t<tr><td>Mumbai</td><td> 1    </td></tr>\n",
       "\t<tr><td>Mumbai</td><td>NA    </td></tr>\n",
       "\t<tr><td>Mumbai</td><td> 1    </td></tr>\n",
       "\t<tr><td>Goa   </td><td> 1    </td></tr>\n",
       "</tbody>\n",
       "</table>\n"
      ],
      "text/latex": [
       "\\begin{tabular}{r|ll}\n",
       " State & Q1\\\\\n",
       "\\hline\n",
       "\t Goa    &  1    \\\\\n",
       "\t Goa    &  1    \\\\\n",
       "\t Mumbai &  0    \\\\\n",
       "\t Mumbai &  0    \\\\\n",
       "\t Mumbai &  1    \\\\\n",
       "\t Mumbai &  1    \\\\\n",
       "\t Goa    &  1    \\\\\n",
       "\t Goa    &  1    \\\\\n",
       "\t Goa    &  1    \\\\\n",
       "\t Goa    & NA    \\\\\n",
       "\t Mumbai &  1    \\\\\n",
       "\t Goa    &  1    \\\\\n",
       "\t Mumbai &  1    \\\\\n",
       "\t Mumbai &  1    \\\\\n",
       "\t Goa    &  1    \\\\\n",
       "\t Goa    &  1    \\\\\n",
       "\t Goa    &  0    \\\\\n",
       "\t Mumbai &  1    \\\\\n",
       "\t Goa    &  1    \\\\\n",
       "\t Goa    &  0    \\\\\n",
       "\t Goa    &  1    \\\\\n",
       "\t Mumbai &  1    \\\\\n",
       "\t Mumbai & NA    \\\\\n",
       "\t Mumbai &  1    \\\\\n",
       "\t Goa    &  1    \\\\\n",
       "\\end{tabular}\n"
      ],
      "text/markdown": [
       "\n",
       "State | Q1 | \n",
       "|---|---|---|---|---|---|---|---|---|---|---|---|---|---|---|---|---|---|---|---|---|---|---|---|---|\n",
       "| Goa    |  1     | \n",
       "| Goa    |  1     | \n",
       "| Mumbai |  0     | \n",
       "| Mumbai |  0     | \n",
       "| Mumbai |  1     | \n",
       "| Mumbai |  1     | \n",
       "| Goa    |  1     | \n",
       "| Goa    |  1     | \n",
       "| Goa    |  1     | \n",
       "| Goa    | NA     | \n",
       "| Mumbai |  1     | \n",
       "| Goa    |  1     | \n",
       "| Mumbai |  1     | \n",
       "| Mumbai |  1     | \n",
       "| Goa    |  1     | \n",
       "| Goa    |  1     | \n",
       "| Goa    |  0     | \n",
       "| Mumbai |  1     | \n",
       "| Goa    |  1     | \n",
       "| Goa    |  0     | \n",
       "| Goa    |  1     | \n",
       "| Mumbai |  1     | \n",
       "| Mumbai | NA     | \n",
       "| Mumbai |  1     | \n",
       "| Goa    |  1     | \n",
       "\n",
       "\n"
      ],
      "text/plain": [
       "   State  Q1\n",
       "1  Goa     1\n",
       "2  Goa     1\n",
       "3  Mumbai  0\n",
       "4  Mumbai  0\n",
       "5  Mumbai  1\n",
       "6  Mumbai  1\n",
       "7  Goa     1\n",
       "8  Goa     1\n",
       "9  Goa     1\n",
       "10 Goa    NA\n",
       "11 Mumbai  1\n",
       "12 Goa     1\n",
       "13 Mumbai  1\n",
       "14 Mumbai  1\n",
       "15 Goa     1\n",
       "16 Goa     1\n",
       "17 Goa     0\n",
       "18 Mumbai  1\n",
       "19 Goa     1\n",
       "20 Goa     0\n",
       "21 Goa     1\n",
       "22 Mumbai  1\n",
       "23 Mumbai NA\n",
       "24 Mumbai  1\n",
       "25 Goa     1"
      ]
     },
     "metadata": {},
     "output_type": "display_data"
    }
   ],
   "source": [
    "mydata"
   ]
  },
  {
   "cell_type": "markdown",
   "metadata": {},
   "source": [
    "**You can specify else condition in the recode statement. It means how to treat remaining values that was not already recoded.**"
   ]
  },
  {
   "cell_type": "code",
   "execution_count": 16,
   "metadata": {},
   "outputs": [],
   "source": [
    "# Recoding lowest value through 4 to 0, 5 and 6 to 1, remaining values to 3,\n",
    "mydata$Q1 <- recode(mydata$Q1, \"lo:4=0; 5:6=1;else = 3\")"
   ]
  },
  {
   "cell_type": "code",
   "execution_count": 17,
   "metadata": {
    "scrolled": false
   },
   "outputs": [
    {
     "data": {
      "text/html": [
       "<table>\n",
       "<thead><tr><th scope=col>State</th><th scope=col>Q1</th></tr></thead>\n",
       "<tbody>\n",
       "\t<tr><td>Goa   </td><td>0     </td></tr>\n",
       "\t<tr><td>Goa   </td><td>0     </td></tr>\n",
       "\t<tr><td>Mumbai</td><td>0     </td></tr>\n",
       "\t<tr><td>Mumbai</td><td>0     </td></tr>\n",
       "\t<tr><td>Mumbai</td><td>0     </td></tr>\n",
       "\t<tr><td>Mumbai</td><td>0     </td></tr>\n",
       "\t<tr><td>Goa   </td><td>0     </td></tr>\n",
       "\t<tr><td>Goa   </td><td>0     </td></tr>\n",
       "\t<tr><td>Goa   </td><td>0     </td></tr>\n",
       "\t<tr><td>Goa   </td><td>3     </td></tr>\n",
       "\t<tr><td>Mumbai</td><td>0     </td></tr>\n",
       "\t<tr><td>Goa   </td><td>0     </td></tr>\n",
       "\t<tr><td>Mumbai</td><td>0     </td></tr>\n",
       "\t<tr><td>Mumbai</td><td>0     </td></tr>\n",
       "\t<tr><td>Goa   </td><td>0     </td></tr>\n",
       "\t<tr><td>Goa   </td><td>0     </td></tr>\n",
       "\t<tr><td>Goa   </td><td>0     </td></tr>\n",
       "\t<tr><td>Mumbai</td><td>0     </td></tr>\n",
       "\t<tr><td>Goa   </td><td>0     </td></tr>\n",
       "\t<tr><td>Goa   </td><td>0     </td></tr>\n",
       "\t<tr><td>Goa   </td><td>0     </td></tr>\n",
       "\t<tr><td>Mumbai</td><td>0     </td></tr>\n",
       "\t<tr><td>Mumbai</td><td>3     </td></tr>\n",
       "\t<tr><td>Mumbai</td><td>0     </td></tr>\n",
       "\t<tr><td>Goa   </td><td>0     </td></tr>\n",
       "</tbody>\n",
       "</table>\n"
      ],
      "text/latex": [
       "\\begin{tabular}{r|ll}\n",
       " State & Q1\\\\\n",
       "\\hline\n",
       "\t Goa    & 0     \\\\\n",
       "\t Goa    & 0     \\\\\n",
       "\t Mumbai & 0     \\\\\n",
       "\t Mumbai & 0     \\\\\n",
       "\t Mumbai & 0     \\\\\n",
       "\t Mumbai & 0     \\\\\n",
       "\t Goa    & 0     \\\\\n",
       "\t Goa    & 0     \\\\\n",
       "\t Goa    & 0     \\\\\n",
       "\t Goa    & 3     \\\\\n",
       "\t Mumbai & 0     \\\\\n",
       "\t Goa    & 0     \\\\\n",
       "\t Mumbai & 0     \\\\\n",
       "\t Mumbai & 0     \\\\\n",
       "\t Goa    & 0     \\\\\n",
       "\t Goa    & 0     \\\\\n",
       "\t Goa    & 0     \\\\\n",
       "\t Mumbai & 0     \\\\\n",
       "\t Goa    & 0     \\\\\n",
       "\t Goa    & 0     \\\\\n",
       "\t Goa    & 0     \\\\\n",
       "\t Mumbai & 0     \\\\\n",
       "\t Mumbai & 3     \\\\\n",
       "\t Mumbai & 0     \\\\\n",
       "\t Goa    & 0     \\\\\n",
       "\\end{tabular}\n"
      ],
      "text/markdown": [
       "\n",
       "State | Q1 | \n",
       "|---|---|---|---|---|---|---|---|---|---|---|---|---|---|---|---|---|---|---|---|---|---|---|---|---|\n",
       "| Goa    | 0      | \n",
       "| Goa    | 0      | \n",
       "| Mumbai | 0      | \n",
       "| Mumbai | 0      | \n",
       "| Mumbai | 0      | \n",
       "| Mumbai | 0      | \n",
       "| Goa    | 0      | \n",
       "| Goa    | 0      | \n",
       "| Goa    | 0      | \n",
       "| Goa    | 3      | \n",
       "| Mumbai | 0      | \n",
       "| Goa    | 0      | \n",
       "| Mumbai | 0      | \n",
       "| Mumbai | 0      | \n",
       "| Goa    | 0      | \n",
       "| Goa    | 0      | \n",
       "| Goa    | 0      | \n",
       "| Mumbai | 0      | \n",
       "| Goa    | 0      | \n",
       "| Goa    | 0      | \n",
       "| Goa    | 0      | \n",
       "| Mumbai | 0      | \n",
       "| Mumbai | 3      | \n",
       "| Mumbai | 0      | \n",
       "| Goa    | 0      | \n",
       "\n",
       "\n"
      ],
      "text/plain": [
       "   State  Q1\n",
       "1  Goa    0 \n",
       "2  Goa    0 \n",
       "3  Mumbai 0 \n",
       "4  Mumbai 0 \n",
       "5  Mumbai 0 \n",
       "6  Mumbai 0 \n",
       "7  Goa    0 \n",
       "8  Goa    0 \n",
       "9  Goa    0 \n",
       "10 Goa    3 \n",
       "11 Mumbai 0 \n",
       "12 Goa    0 \n",
       "13 Mumbai 0 \n",
       "14 Mumbai 0 \n",
       "15 Goa    0 \n",
       "16 Goa    0 \n",
       "17 Goa    0 \n",
       "18 Mumbai 0 \n",
       "19 Goa    0 \n",
       "20 Goa    0 \n",
       "21 Goa    0 \n",
       "22 Mumbai 0 \n",
       "23 Mumbai 3 \n",
       "24 Mumbai 0 \n",
       "25 Goa    0 "
      ]
     },
     "metadata": {},
     "output_type": "display_data"
    }
   ],
   "source": [
    "mydata"
   ]
  },
  {
   "cell_type": "markdown",
   "metadata": {},
   "source": [
    "## Recoding to a new column"
   ]
  },
  {
   "cell_type": "code",
   "execution_count": null,
   "metadata": {},
   "outputs": [],
   "source": [
    "# Create a new column called Ques1\n",
    "mydata$Ques1<- recode(mydata$Q1, \"1:4=0; 5:6=1\")\n",
    "# Note : Make sure you have installed and loaded \"car\" package before running the above syntax."
   ]
  },
  {
   "cell_type": "markdown",
   "metadata": {},
   "source": [
    "**How to use IF ELSE Statement**\n",
    "\n"
   ]
  },
  {
   "cell_type": "code",
   "execution_count": null,
   "metadata": {},
   "outputs": [],
   "source": [
    "# Sample Data\n",
    "samples = data.frame(x =c(rep(1:10)), y=letters[1:10])"
   ]
  },
  {
   "cell_type": "markdown",
   "metadata": {},
   "source": [
    "**If a value of variable x is greater than 6, create a new variable called t1 and write 2 against the corresponding values else make it 1.**"
   ]
  },
  {
   "cell_type": "code",
   "execution_count": null,
   "metadata": {},
   "outputs": [],
   "source": [
    "samples$t1 = ifelse(samples$x>6,2,1)"
   ]
  },
  {
   "cell_type": "markdown",
   "metadata": {},
   "source": [
    "**How to use AND Condition**"
   ]
  },
  {
   "cell_type": "code",
   "execution_count": null,
   "metadata": {},
   "outputs": [],
   "source": [
    "samples$t3 = ifelse(samples$x>1 & samples$y==\"b\" ,2,1)"
   ]
  },
  {
   "cell_type": "markdown",
   "metadata": {},
   "source": [
    "**How to use NESTED IF ELSE Statement **"
   ]
  },
  {
   "cell_type": "code",
   "execution_count": null,
   "metadata": {},
   "outputs": [],
   "source": [
    "samples$t4 = ifelse(samples$x>=1 & samples$x<=4,1,ifelse(samples$x>=5 & samples$x<=7,2,3))"
   ]
  },
  {
   "cell_type": "markdown",
   "metadata": {},
   "source": [
    "## Renaming variables"
   ]
  },
  {
   "cell_type": "code",
   "execution_count": 18,
   "metadata": {},
   "outputs": [
    {
     "name": "stderr",
     "output_type": "stream",
     "text": [
      "Installing package into '/home/nbuser/R'\n",
      "(as 'lib' is unspecified)\n"
     ]
    }
   ],
   "source": [
    "# To rename variables, you have to first install the dplyr package.\n",
    "\n",
    "# Install the plyr package\n",
    "install.packages(\"dplyr\", repos=\"https://cran.r-project.org/\")"
   ]
  },
  {
   "cell_type": "code",
   "execution_count": 19,
   "metadata": {},
   "outputs": [
    {
     "name": "stderr",
     "output_type": "stream",
     "text": [
      "\n",
      "Attaching package: 'dplyr'\n",
      "\n",
      "The following object is masked from 'package:car':\n",
      "\n",
      "    recode\n",
      "\n",
      "The following objects are masked from 'package:stats':\n",
      "\n",
      "    filter, lag\n",
      "\n",
      "The following objects are masked from 'package:base':\n",
      "\n",
      "    intersect, setdiff, setequal, union\n",
      "\n"
     ]
    }
   ],
   "source": [
    "# Load the plyr package\n",
    "library(dplyr)\n",
    "\n",
    "# Rename Q1 variable to var1\n",
    "mydata <- rename(mydata, var1 = Q1)"
   ]
  },
  {
   "cell_type": "markdown",
   "metadata": {},
   "source": [
    "## Keeping and Dropping Variables"
   ]
  },
  {
   "cell_type": "code",
   "execution_count": 20,
   "metadata": {},
   "outputs": [],
   "source": [
    "# In this example, we keep only first two variables .\n",
    "mydata1 <- mydata[1:2]"
   ]
  },
  {
   "cell_type": "code",
   "execution_count": 21,
   "metadata": {},
   "outputs": [
    {
     "data": {
      "text/html": [
       "<table>\n",
       "<thead><tr><th scope=col>State</th><th scope=col>var1</th></tr></thead>\n",
       "<tbody>\n",
       "\t<tr><td>Goa   </td><td>0     </td></tr>\n",
       "\t<tr><td>Goa   </td><td>0     </td></tr>\n",
       "\t<tr><td>Mumbai</td><td>0     </td></tr>\n",
       "\t<tr><td>Mumbai</td><td>0     </td></tr>\n",
       "\t<tr><td>Mumbai</td><td>0     </td></tr>\n",
       "\t<tr><td>Mumbai</td><td>0     </td></tr>\n",
       "\t<tr><td>Goa   </td><td>0     </td></tr>\n",
       "\t<tr><td>Goa   </td><td>0     </td></tr>\n",
       "\t<tr><td>Goa   </td><td>0     </td></tr>\n",
       "\t<tr><td>Goa   </td><td>3     </td></tr>\n",
       "\t<tr><td>Mumbai</td><td>0     </td></tr>\n",
       "\t<tr><td>Goa   </td><td>0     </td></tr>\n",
       "\t<tr><td>Mumbai</td><td>0     </td></tr>\n",
       "\t<tr><td>Mumbai</td><td>0     </td></tr>\n",
       "\t<tr><td>Goa   </td><td>0     </td></tr>\n",
       "\t<tr><td>Goa   </td><td>0     </td></tr>\n",
       "\t<tr><td>Goa   </td><td>0     </td></tr>\n",
       "\t<tr><td>Mumbai</td><td>0     </td></tr>\n",
       "\t<tr><td>Goa   </td><td>0     </td></tr>\n",
       "\t<tr><td>Goa   </td><td>0     </td></tr>\n",
       "\t<tr><td>Goa   </td><td>0     </td></tr>\n",
       "\t<tr><td>Mumbai</td><td>0     </td></tr>\n",
       "\t<tr><td>Mumbai</td><td>3     </td></tr>\n",
       "\t<tr><td>Mumbai</td><td>0     </td></tr>\n",
       "\t<tr><td>Goa   </td><td>0     </td></tr>\n",
       "</tbody>\n",
       "</table>\n"
      ],
      "text/latex": [
       "\\begin{tabular}{r|ll}\n",
       " State & var1\\\\\n",
       "\\hline\n",
       "\t Goa    & 0     \\\\\n",
       "\t Goa    & 0     \\\\\n",
       "\t Mumbai & 0     \\\\\n",
       "\t Mumbai & 0     \\\\\n",
       "\t Mumbai & 0     \\\\\n",
       "\t Mumbai & 0     \\\\\n",
       "\t Goa    & 0     \\\\\n",
       "\t Goa    & 0     \\\\\n",
       "\t Goa    & 0     \\\\\n",
       "\t Goa    & 3     \\\\\n",
       "\t Mumbai & 0     \\\\\n",
       "\t Goa    & 0     \\\\\n",
       "\t Mumbai & 0     \\\\\n",
       "\t Mumbai & 0     \\\\\n",
       "\t Goa    & 0     \\\\\n",
       "\t Goa    & 0     \\\\\n",
       "\t Goa    & 0     \\\\\n",
       "\t Mumbai & 0     \\\\\n",
       "\t Goa    & 0     \\\\\n",
       "\t Goa    & 0     \\\\\n",
       "\t Goa    & 0     \\\\\n",
       "\t Mumbai & 0     \\\\\n",
       "\t Mumbai & 3     \\\\\n",
       "\t Mumbai & 0     \\\\\n",
       "\t Goa    & 0     \\\\\n",
       "\\end{tabular}\n"
      ],
      "text/markdown": [
       "\n",
       "State | var1 | \n",
       "|---|---|---|---|---|---|---|---|---|---|---|---|---|---|---|---|---|---|---|---|---|---|---|---|---|\n",
       "| Goa    | 0      | \n",
       "| Goa    | 0      | \n",
       "| Mumbai | 0      | \n",
       "| Mumbai | 0      | \n",
       "| Mumbai | 0      | \n",
       "| Mumbai | 0      | \n",
       "| Goa    | 0      | \n",
       "| Goa    | 0      | \n",
       "| Goa    | 0      | \n",
       "| Goa    | 3      | \n",
       "| Mumbai | 0      | \n",
       "| Goa    | 0      | \n",
       "| Mumbai | 0      | \n",
       "| Mumbai | 0      | \n",
       "| Goa    | 0      | \n",
       "| Goa    | 0      | \n",
       "| Goa    | 0      | \n",
       "| Mumbai | 0      | \n",
       "| Goa    | 0      | \n",
       "| Goa    | 0      | \n",
       "| Goa    | 0      | \n",
       "| Mumbai | 0      | \n",
       "| Mumbai | 3      | \n",
       "| Mumbai | 0      | \n",
       "| Goa    | 0      | \n",
       "\n",
       "\n"
      ],
      "text/plain": [
       "   State  var1\n",
       "1  Goa    0   \n",
       "2  Goa    0   \n",
       "3  Mumbai 0   \n",
       "4  Mumbai 0   \n",
       "5  Mumbai 0   \n",
       "6  Mumbai 0   \n",
       "7  Goa    0   \n",
       "8  Goa    0   \n",
       "9  Goa    0   \n",
       "10 Goa    3   \n",
       "11 Mumbai 0   \n",
       "12 Goa    0   \n",
       "13 Mumbai 0   \n",
       "14 Mumbai 0   \n",
       "15 Goa    0   \n",
       "16 Goa    0   \n",
       "17 Goa    0   \n",
       "18 Mumbai 0   \n",
       "19 Goa    0   \n",
       "20 Goa    0   \n",
       "21 Goa    0   \n",
       "22 Mumbai 0   \n",
       "23 Mumbai 3   \n",
       "24 Mumbai 0   \n",
       "25 Goa    0   "
      ]
     },
     "metadata": {},
     "output_type": "display_data"
    }
   ],
   "source": [
    "mydata1"
   ]
  },
  {
   "cell_type": "code",
   "execution_count": null,
   "metadata": {},
   "outputs": [],
   "source": [
    "# Dropping Q3 variable\n",
    "mydata$Q3 <- NULL\n",
    "\n",
    "# Dropping multiple variables by their names\n",
    "df = subset(mydata, select = -c(x,z) )"
   ]
  },
  {
   "cell_type": "markdown",
   "metadata": {},
   "source": [
    "## Subset data (Selecting Observations)\n",
    "* By 'subsetting' data, it implies filtering rows (observations)."
   ]
  },
  {
   "cell_type": "code",
   "execution_count": 23,
   "metadata": {},
   "outputs": [],
   "source": [
    "# Create Sample Data\n",
    "mydata = data.frame(Name = ifelse(sign(rnorm(25))==-1,'ABC','DEF'), age = sample(1:25))"
   ]
  },
  {
   "cell_type": "code",
   "execution_count": 24,
   "metadata": {},
   "outputs": [
    {
     "data": {
      "text/html": [
       "<table>\n",
       "<thead><tr><th scope=col>Name</th><th scope=col>age</th></tr></thead>\n",
       "<tbody>\n",
       "\t<tr><td>ABC</td><td>20 </td></tr>\n",
       "\t<tr><td>ABC</td><td>10 </td></tr>\n",
       "\t<tr><td>ABC</td><td>17 </td></tr>\n",
       "\t<tr><td>DEF</td><td>25 </td></tr>\n",
       "\t<tr><td>ABC</td><td> 5 </td></tr>\n",
       "\t<tr><td>DEF</td><td>24 </td></tr>\n",
       "\t<tr><td>DEF</td><td>15 </td></tr>\n",
       "\t<tr><td>DEF</td><td> 8 </td></tr>\n",
       "\t<tr><td>DEF</td><td> 3 </td></tr>\n",
       "\t<tr><td>ABC</td><td>13 </td></tr>\n",
       "\t<tr><td>DEF</td><td> 4 </td></tr>\n",
       "\t<tr><td>ABC</td><td>22 </td></tr>\n",
       "\t<tr><td>DEF</td><td>11 </td></tr>\n",
       "\t<tr><td>DEF</td><td> 6 </td></tr>\n",
       "\t<tr><td>ABC</td><td>14 </td></tr>\n",
       "\t<tr><td>ABC</td><td>16 </td></tr>\n",
       "\t<tr><td>ABC</td><td>19 </td></tr>\n",
       "\t<tr><td>ABC</td><td>23 </td></tr>\n",
       "\t<tr><td>DEF</td><td>12 </td></tr>\n",
       "\t<tr><td>ABC</td><td> 2 </td></tr>\n",
       "\t<tr><td>DEF</td><td>18 </td></tr>\n",
       "\t<tr><td>ABC</td><td> 7 </td></tr>\n",
       "\t<tr><td>DEF</td><td> 9 </td></tr>\n",
       "\t<tr><td>ABC</td><td> 1 </td></tr>\n",
       "\t<tr><td>ABC</td><td>21 </td></tr>\n",
       "</tbody>\n",
       "</table>\n"
      ],
      "text/latex": [
       "\\begin{tabular}{r|ll}\n",
       " Name & age\\\\\n",
       "\\hline\n",
       "\t ABC & 20 \\\\\n",
       "\t ABC & 10 \\\\\n",
       "\t ABC & 17 \\\\\n",
       "\t DEF & 25 \\\\\n",
       "\t ABC &  5 \\\\\n",
       "\t DEF & 24 \\\\\n",
       "\t DEF & 15 \\\\\n",
       "\t DEF &  8 \\\\\n",
       "\t DEF &  3 \\\\\n",
       "\t ABC & 13 \\\\\n",
       "\t DEF &  4 \\\\\n",
       "\t ABC & 22 \\\\\n",
       "\t DEF & 11 \\\\\n",
       "\t DEF &  6 \\\\\n",
       "\t ABC & 14 \\\\\n",
       "\t ABC & 16 \\\\\n",
       "\t ABC & 19 \\\\\n",
       "\t ABC & 23 \\\\\n",
       "\t DEF & 12 \\\\\n",
       "\t ABC &  2 \\\\\n",
       "\t DEF & 18 \\\\\n",
       "\t ABC &  7 \\\\\n",
       "\t DEF &  9 \\\\\n",
       "\t ABC &  1 \\\\\n",
       "\t ABC & 21 \\\\\n",
       "\\end{tabular}\n"
      ],
      "text/markdown": [
       "\n",
       "Name | age | \n",
       "|---|---|---|---|---|---|---|---|---|---|---|---|---|---|---|---|---|---|---|---|---|---|---|---|---|\n",
       "| ABC | 20  | \n",
       "| ABC | 10  | \n",
       "| ABC | 17  | \n",
       "| DEF | 25  | \n",
       "| ABC |  5  | \n",
       "| DEF | 24  | \n",
       "| DEF | 15  | \n",
       "| DEF |  8  | \n",
       "| DEF |  3  | \n",
       "| ABC | 13  | \n",
       "| DEF |  4  | \n",
       "| ABC | 22  | \n",
       "| DEF | 11  | \n",
       "| DEF |  6  | \n",
       "| ABC | 14  | \n",
       "| ABC | 16  | \n",
       "| ABC | 19  | \n",
       "| ABC | 23  | \n",
       "| DEF | 12  | \n",
       "| ABC |  2  | \n",
       "| DEF | 18  | \n",
       "| ABC |  7  | \n",
       "| DEF |  9  | \n",
       "| ABC |  1  | \n",
       "| ABC | 21  | \n",
       "\n",
       "\n"
      ],
      "text/plain": [
       "   Name age\n",
       "1  ABC  20 \n",
       "2  ABC  10 \n",
       "3  ABC  17 \n",
       "4  DEF  25 \n",
       "5  ABC   5 \n",
       "6  DEF  24 \n",
       "7  DEF  15 \n",
       "8  DEF   8 \n",
       "9  DEF   3 \n",
       "10 ABC  13 \n",
       "11 DEF   4 \n",
       "12 ABC  22 \n",
       "13 DEF  11 \n",
       "14 DEF   6 \n",
       "15 ABC  14 \n",
       "16 ABC  16 \n",
       "17 ABC  19 \n",
       "18 ABC  23 \n",
       "19 DEF  12 \n",
       "20 ABC   2 \n",
       "21 DEF  18 \n",
       "22 ABC   7 \n",
       "23 DEF   9 \n",
       "24 ABC   1 \n",
       "25 ABC  21 "
      ]
     },
     "metadata": {},
     "output_type": "display_data"
    }
   ],
   "source": [
    "mydata"
   ]
  },
  {
   "cell_type": "code",
   "execution_count": 25,
   "metadata": {},
   "outputs": [],
   "source": [
    "# Selecting first 10 observations\n",
    "newdata <- mydata[1:10,]"
   ]
  },
  {
   "cell_type": "code",
   "execution_count": 26,
   "metadata": {},
   "outputs": [],
   "source": [
    "# Selecting values wherein age is equal to 3\n",
    "mydata<-subset(mydata, age==3)"
   ]
  },
  {
   "cell_type": "code",
   "execution_count": 27,
   "metadata": {},
   "outputs": [
    {
     "data": {
      "text/html": [
       "<table>\n",
       "<thead><tr><th></th><th scope=col>Name</th><th scope=col>age</th></tr></thead>\n",
       "<tbody>\n",
       "\t<tr><th scope=row>9</th><td>DEF</td><td>3  </td></tr>\n",
       "</tbody>\n",
       "</table>\n"
      ],
      "text/latex": [
       "\\begin{tabular}{r|ll}\n",
       "  & Name & age\\\\\n",
       "\\hline\n",
       "\t9 & DEF & 3  \\\\\n",
       "\\end{tabular}\n"
      ],
      "text/markdown": [
       "\n",
       "| <!--/--> | Name | age | \n",
       "|---|\n",
       "| 9 | DEF | 3   | \n",
       "\n",
       "\n"
      ],
      "text/plain": [
       "  Name age\n",
       "9 DEF  3  "
      ]
     },
     "metadata": {},
     "output_type": "display_data"
    }
   ],
   "source": [
    "mydata"
   ]
  },
  {
   "cell_type": "code",
   "execution_count": 28,
   "metadata": {},
   "outputs": [],
   "source": [
    "# Copy data into a new data frame called 'newdata'\n",
    "newdata<-subset(mydata, age==3)"
   ]
  },
  {
   "cell_type": "code",
   "execution_count": 29,
   "metadata": {},
   "outputs": [
    {
     "data": {
      "text/html": [
       "<table>\n",
       "<thead><tr><th></th><th scope=col>Name</th><th scope=col>age</th></tr></thead>\n",
       "<tbody>\n",
       "\t<tr><th scope=row>9</th><td>DEF</td><td>3  </td></tr>\n",
       "</tbody>\n",
       "</table>\n"
      ],
      "text/latex": [
       "\\begin{tabular}{r|ll}\n",
       "  & Name & age\\\\\n",
       "\\hline\n",
       "\t9 & DEF & 3  \\\\\n",
       "\\end{tabular}\n"
      ],
      "text/markdown": [
       "\n",
       "| <!--/--> | Name | age | \n",
       "|---|\n",
       "| 9 | DEF | 3   | \n",
       "\n",
       "\n"
      ],
      "text/plain": [
       "  Name age\n",
       "9 DEF  3  "
      ]
     },
     "metadata": {},
     "output_type": "display_data"
    }
   ],
   "source": [
    "newdata"
   ]
  },
  {
   "cell_type": "code",
   "execution_count": 30,
   "metadata": {},
   "outputs": [],
   "source": [
    "# Conditional Statement (AND) while selecting observations\n",
    "newdata<-subset(mydata, Name==\"ABC\" & age==3)"
   ]
  },
  {
   "cell_type": "code",
   "execution_count": 31,
   "metadata": {},
   "outputs": [
    {
     "data": {
      "text/html": [
       "<table>\n",
       "<thead><tr><th scope=col>Name</th><th scope=col>age</th></tr></thead>\n",
       "<tbody>\n",
       "</tbody>\n",
       "</table>\n"
      ],
      "text/latex": [
       "\\begin{tabular}{r|ll}\n",
       " Name & age\\\\\n",
       "\\hline\n",
       "\\end{tabular}\n"
      ],
      "text/markdown": [
       "\n",
       "Name | age | \n",
       "||\n",
       "\n",
       "\n"
      ],
      "text/plain": [
       "     Name age"
      ]
     },
     "metadata": {},
     "output_type": "display_data"
    }
   ],
   "source": [
    "newdata"
   ]
  },
  {
   "cell_type": "code",
   "execution_count": 34,
   "metadata": {},
   "outputs": [],
   "source": [
    "# Conditional Statement (OR) while selecting observations\n",
    "newdata<-subset(mydata, Name==\"ABC\" | age==3)"
   ]
  },
  {
   "cell_type": "code",
   "execution_count": 35,
   "metadata": {},
   "outputs": [
    {
     "data": {
      "text/html": [
       "<table>\n",
       "<thead><tr><th></th><th scope=col>Name</th><th scope=col>age</th></tr></thead>\n",
       "<tbody>\n",
       "\t<tr><th scope=row>9</th><td>DEF</td><td>3  </td></tr>\n",
       "</tbody>\n",
       "</table>\n"
      ],
      "text/latex": [
       "\\begin{tabular}{r|ll}\n",
       "  & Name & age\\\\\n",
       "\\hline\n",
       "\t9 & DEF & 3  \\\\\n",
       "\\end{tabular}\n"
      ],
      "text/markdown": [
       "\n",
       "| <!--/--> | Name | age | \n",
       "|---|\n",
       "| 9 | DEF | 3   | \n",
       "\n",
       "\n"
      ],
      "text/plain": [
       "  Name age\n",
       "9 DEF  3  "
      ]
     },
     "metadata": {},
     "output_type": "display_data"
    }
   ],
   "source": [
    "newdata"
   ]
  },
  {
   "cell_type": "code",
   "execution_count": 36,
   "metadata": {},
   "outputs": [],
   "source": [
    "# Greater than or less than expression\n",
    "newdata<-subset(mydata, age>=3)"
   ]
  },
  {
   "cell_type": "code",
   "execution_count": 37,
   "metadata": {},
   "outputs": [
    {
     "data": {
      "text/html": [
       "<table>\n",
       "<thead><tr><th></th><th scope=col>Name</th><th scope=col>age</th></tr></thead>\n",
       "<tbody>\n",
       "\t<tr><th scope=row>9</th><td>DEF</td><td>3  </td></tr>\n",
       "</tbody>\n",
       "</table>\n"
      ],
      "text/latex": [
       "\\begin{tabular}{r|ll}\n",
       "  & Name & age\\\\\n",
       "\\hline\n",
       "\t9 & DEF & 3  \\\\\n",
       "\\end{tabular}\n"
      ],
      "text/markdown": [
       "\n",
       "| <!--/--> | Name | age | \n",
       "|---|\n",
       "| 9 | DEF | 3   | \n",
       "\n",
       "\n"
      ],
      "text/plain": [
       "  Name age\n",
       "9 DEF  3  "
      ]
     },
     "metadata": {},
     "output_type": "display_data"
    }
   ],
   "source": [
    "newdata"
   ]
  },
  {
   "cell_type": "code",
   "execution_count": 38,
   "metadata": {},
   "outputs": [],
   "source": [
    "# Keeping only missing records\n",
    "newdata<-subset(mydata, is.na(age))"
   ]
  },
  {
   "cell_type": "code",
   "execution_count": 39,
   "metadata": {},
   "outputs": [
    {
     "data": {
      "text/html": [
       "<table>\n",
       "<thead><tr><th scope=col>Name</th><th scope=col>age</th></tr></thead>\n",
       "<tbody>\n",
       "</tbody>\n",
       "</table>\n"
      ],
      "text/latex": [
       "\\begin{tabular}{r|ll}\n",
       " Name & age\\\\\n",
       "\\hline\n",
       "\\end{tabular}\n"
      ],
      "text/markdown": [
       "\n",
       "Name | age | \n",
       "||\n",
       "\n",
       "\n"
      ],
      "text/plain": [
       "     Name age"
      ]
     },
     "metadata": {},
     "output_type": "display_data"
    }
   ],
   "source": [
    "newdata"
   ]
  },
  {
   "cell_type": "code",
   "execution_count": 40,
   "metadata": {},
   "outputs": [],
   "source": [
    "# Keeping only non-missing records\n",
    "newdata<-subset(mydata, !is.na(age))"
   ]
  },
  {
   "cell_type": "code",
   "execution_count": 41,
   "metadata": {},
   "outputs": [
    {
     "data": {
      "text/html": [
       "<table>\n",
       "<thead><tr><th></th><th scope=col>Name</th><th scope=col>age</th></tr></thead>\n",
       "<tbody>\n",
       "\t<tr><th scope=row>9</th><td>DEF</td><td>3  </td></tr>\n",
       "</tbody>\n",
       "</table>\n"
      ],
      "text/latex": [
       "\\begin{tabular}{r|ll}\n",
       "  & Name & age\\\\\n",
       "\\hline\n",
       "\t9 & DEF & 3  \\\\\n",
       "\\end{tabular}\n"
      ],
      "text/markdown": [
       "\n",
       "| <!--/--> | Name | age | \n",
       "|---|\n",
       "| 9 | DEF | 3   | \n",
       "\n",
       "\n"
      ],
      "text/plain": [
       "  Name age\n",
       "9 DEF  3  "
      ]
     },
     "metadata": {},
     "output_type": "display_data"
    }
   ],
   "source": [
    "newdata"
   ]
  },
  {
   "cell_type": "markdown",
   "metadata": {},
   "source": [
    "## Sorting\n",
    "* Sorting is one of the most common data manipulation task. It is generally used when we want to see the top 5 highest / lowest values of a variable."
   ]
  },
  {
   "cell_type": "code",
   "execution_count": 42,
   "metadata": {},
   "outputs": [],
   "source": [
    "# Sorting a vector\n",
    "x= sample(1:50)\n",
    "x = sort(x, decreasing = TRUE)"
   ]
  },
  {
   "cell_type": "code",
   "execution_count": 43,
   "metadata": {},
   "outputs": [
    {
     "data": {
      "text/html": [
       "<ol class=list-inline>\n",
       "\t<li>50</li>\n",
       "\t<li>49</li>\n",
       "\t<li>48</li>\n",
       "\t<li>47</li>\n",
       "\t<li>46</li>\n",
       "\t<li>45</li>\n",
       "\t<li>44</li>\n",
       "\t<li>43</li>\n",
       "\t<li>42</li>\n",
       "\t<li>41</li>\n",
       "\t<li>40</li>\n",
       "\t<li>39</li>\n",
       "\t<li>38</li>\n",
       "\t<li>37</li>\n",
       "\t<li>36</li>\n",
       "\t<li>35</li>\n",
       "\t<li>34</li>\n",
       "\t<li>33</li>\n",
       "\t<li>32</li>\n",
       "\t<li>31</li>\n",
       "\t<li>30</li>\n",
       "\t<li>29</li>\n",
       "\t<li>28</li>\n",
       "\t<li>27</li>\n",
       "\t<li>26</li>\n",
       "\t<li>25</li>\n",
       "\t<li>24</li>\n",
       "\t<li>23</li>\n",
       "\t<li>22</li>\n",
       "\t<li>21</li>\n",
       "\t<li>20</li>\n",
       "\t<li>19</li>\n",
       "\t<li>18</li>\n",
       "\t<li>17</li>\n",
       "\t<li>16</li>\n",
       "\t<li>15</li>\n",
       "\t<li>14</li>\n",
       "\t<li>13</li>\n",
       "\t<li>12</li>\n",
       "\t<li>11</li>\n",
       "\t<li>10</li>\n",
       "\t<li>9</li>\n",
       "\t<li>8</li>\n",
       "\t<li>7</li>\n",
       "\t<li>6</li>\n",
       "\t<li>5</li>\n",
       "\t<li>4</li>\n",
       "\t<li>3</li>\n",
       "\t<li>2</li>\n",
       "\t<li>1</li>\n",
       "</ol>\n"
      ],
      "text/latex": [
       "\\begin{enumerate*}\n",
       "\\item 50\n",
       "\\item 49\n",
       "\\item 48\n",
       "\\item 47\n",
       "\\item 46\n",
       "\\item 45\n",
       "\\item 44\n",
       "\\item 43\n",
       "\\item 42\n",
       "\\item 41\n",
       "\\item 40\n",
       "\\item 39\n",
       "\\item 38\n",
       "\\item 37\n",
       "\\item 36\n",
       "\\item 35\n",
       "\\item 34\n",
       "\\item 33\n",
       "\\item 32\n",
       "\\item 31\n",
       "\\item 30\n",
       "\\item 29\n",
       "\\item 28\n",
       "\\item 27\n",
       "\\item 26\n",
       "\\item 25\n",
       "\\item 24\n",
       "\\item 23\n",
       "\\item 22\n",
       "\\item 21\n",
       "\\item 20\n",
       "\\item 19\n",
       "\\item 18\n",
       "\\item 17\n",
       "\\item 16\n",
       "\\item 15\n",
       "\\item 14\n",
       "\\item 13\n",
       "\\item 12\n",
       "\\item 11\n",
       "\\item 10\n",
       "\\item 9\n",
       "\\item 8\n",
       "\\item 7\n",
       "\\item 6\n",
       "\\item 5\n",
       "\\item 4\n",
       "\\item 3\n",
       "\\item 2\n",
       "\\item 1\n",
       "\\end{enumerate*}\n"
      ],
      "text/markdown": [
       "1. 50\n",
       "2. 49\n",
       "3. 48\n",
       "4. 47\n",
       "5. 46\n",
       "6. 45\n",
       "7. 44\n",
       "8. 43\n",
       "9. 42\n",
       "10. 41\n",
       "11. 40\n",
       "12. 39\n",
       "13. 38\n",
       "14. 37\n",
       "15. 36\n",
       "16. 35\n",
       "17. 34\n",
       "18. 33\n",
       "19. 32\n",
       "20. 31\n",
       "21. 30\n",
       "22. 29\n",
       "23. 28\n",
       "24. 27\n",
       "25. 26\n",
       "26. 25\n",
       "27. 24\n",
       "28. 23\n",
       "29. 22\n",
       "30. 21\n",
       "31. 20\n",
       "32. 19\n",
       "33. 18\n",
       "34. 17\n",
       "35. 16\n",
       "36. 15\n",
       "37. 14\n",
       "38. 13\n",
       "39. 12\n",
       "40. 11\n",
       "41. 10\n",
       "42. 9\n",
       "43. 8\n",
       "44. 7\n",
       "45. 6\n",
       "46. 5\n",
       "47. 4\n",
       "48. 3\n",
       "49. 2\n",
       "50. 1\n",
       "\n",
       "\n"
      ],
      "text/plain": [
       " [1] 50 49 48 47 46 45 44 43 42 41 40 39 38 37 36 35 34 33 32 31 30 29 28 27 26\n",
       "[26] 25 24 23 22 21 20 19 18 17 16 15 14 13 12 11 10  9  8  7  6  5  4  3  2  1"
      ]
     },
     "metadata": {},
     "output_type": "display_data"
    }
   ],
   "source": [
    "x"
   ]
  },
  {
   "cell_type": "code",
   "execution_count": 44,
   "metadata": {},
   "outputs": [],
   "source": [
    "# The function sort() is used for sorting a 1 dimensional vector. It cannot be used for more than 1 dimensional vector.\n",
    "# Sorting a data frame\n",
    "mydata = data.frame(Gender = ifelse(sign(rnorm(25))==-1,'F','M'), SAT= sample(1:25))"
   ]
  },
  {
   "cell_type": "code",
   "execution_count": 45,
   "metadata": {},
   "outputs": [
    {
     "data": {
      "text/html": [
       "<table>\n",
       "<thead><tr><th scope=col>Gender</th><th scope=col>SAT</th></tr></thead>\n",
       "<tbody>\n",
       "\t<tr><td>F </td><td>17</td></tr>\n",
       "\t<tr><td>F </td><td> 1</td></tr>\n",
       "\t<tr><td>M </td><td> 2</td></tr>\n",
       "\t<tr><td>F </td><td>20</td></tr>\n",
       "\t<tr><td>M </td><td> 4</td></tr>\n",
       "\t<tr><td>F </td><td>24</td></tr>\n",
       "\t<tr><td>F </td><td> 3</td></tr>\n",
       "\t<tr><td>F </td><td>15</td></tr>\n",
       "\t<tr><td>M </td><td>25</td></tr>\n",
       "\t<tr><td>M </td><td>14</td></tr>\n",
       "\t<tr><td>M </td><td> 9</td></tr>\n",
       "\t<tr><td>F </td><td>21</td></tr>\n",
       "\t<tr><td>M </td><td>13</td></tr>\n",
       "\t<tr><td>F </td><td>12</td></tr>\n",
       "\t<tr><td>F </td><td> 6</td></tr>\n",
       "\t<tr><td>M </td><td>10</td></tr>\n",
       "\t<tr><td>M </td><td>11</td></tr>\n",
       "\t<tr><td>M </td><td>19</td></tr>\n",
       "\t<tr><td>F </td><td>18</td></tr>\n",
       "\t<tr><td>M </td><td> 8</td></tr>\n",
       "\t<tr><td>M </td><td>16</td></tr>\n",
       "\t<tr><td>M </td><td> 5</td></tr>\n",
       "\t<tr><td>M </td><td>23</td></tr>\n",
       "\t<tr><td>F </td><td> 7</td></tr>\n",
       "\t<tr><td>F </td><td>22</td></tr>\n",
       "</tbody>\n",
       "</table>\n"
      ],
      "text/latex": [
       "\\begin{tabular}{r|ll}\n",
       " Gender & SAT\\\\\n",
       "\\hline\n",
       "\t F  & 17\\\\\n",
       "\t F  &  1\\\\\n",
       "\t M  &  2\\\\\n",
       "\t F  & 20\\\\\n",
       "\t M  &  4\\\\\n",
       "\t F  & 24\\\\\n",
       "\t F  &  3\\\\\n",
       "\t F  & 15\\\\\n",
       "\t M  & 25\\\\\n",
       "\t M  & 14\\\\\n",
       "\t M  &  9\\\\\n",
       "\t F  & 21\\\\\n",
       "\t M  & 13\\\\\n",
       "\t F  & 12\\\\\n",
       "\t F  &  6\\\\\n",
       "\t M  & 10\\\\\n",
       "\t M  & 11\\\\\n",
       "\t M  & 19\\\\\n",
       "\t F  & 18\\\\\n",
       "\t M  &  8\\\\\n",
       "\t M  & 16\\\\\n",
       "\t M  &  5\\\\\n",
       "\t M  & 23\\\\\n",
       "\t F  &  7\\\\\n",
       "\t F  & 22\\\\\n",
       "\\end{tabular}\n"
      ],
      "text/markdown": [
       "\n",
       "Gender | SAT | \n",
       "|---|---|---|---|---|---|---|---|---|---|---|---|---|---|---|---|---|---|---|---|---|---|---|---|---|\n",
       "| F  | 17 | \n",
       "| F  |  1 | \n",
       "| M  |  2 | \n",
       "| F  | 20 | \n",
       "| M  |  4 | \n",
       "| F  | 24 | \n",
       "| F  |  3 | \n",
       "| F  | 15 | \n",
       "| M  | 25 | \n",
       "| M  | 14 | \n",
       "| M  |  9 | \n",
       "| F  | 21 | \n",
       "| M  | 13 | \n",
       "| F  | 12 | \n",
       "| F  |  6 | \n",
       "| M  | 10 | \n",
       "| M  | 11 | \n",
       "| M  | 19 | \n",
       "| F  | 18 | \n",
       "| M  |  8 | \n",
       "| M  | 16 | \n",
       "| M  |  5 | \n",
       "| M  | 23 | \n",
       "| F  |  7 | \n",
       "| F  | 22 | \n",
       "\n",
       "\n"
      ],
      "text/plain": [
       "   Gender SAT\n",
       "1  F      17 \n",
       "2  F       1 \n",
       "3  M       2 \n",
       "4  F      20 \n",
       "5  M       4 \n",
       "6  F      24 \n",
       "7  F       3 \n",
       "8  F      15 \n",
       "9  M      25 \n",
       "10 M      14 \n",
       "11 M       9 \n",
       "12 F      21 \n",
       "13 M      13 \n",
       "14 F      12 \n",
       "15 F       6 \n",
       "16 M      10 \n",
       "17 M      11 \n",
       "18 M      19 \n",
       "19 F      18 \n",
       "20 M       8 \n",
       "21 M      16 \n",
       "22 M       5 \n",
       "23 M      23 \n",
       "24 F       7 \n",
       "25 F      22 "
      ]
     },
     "metadata": {},
     "output_type": "display_data"
    }
   ],
   "source": [
    "mydata"
   ]
  },
  {
   "cell_type": "code",
   "execution_count": 46,
   "metadata": {},
   "outputs": [],
   "source": [
    "# Sort gender variable in ascending order\n",
    "mydata.sorted <- mydata[order(mydata$Gender),]"
   ]
  },
  {
   "cell_type": "code",
   "execution_count": 47,
   "metadata": {},
   "outputs": [
    {
     "data": {
      "text/html": [
       "<table>\n",
       "<thead><tr><th></th><th scope=col>Gender</th><th scope=col>SAT</th></tr></thead>\n",
       "<tbody>\n",
       "\t<tr><th scope=row>1</th><td>F </td><td>17</td></tr>\n",
       "\t<tr><th scope=row>2</th><td>F </td><td> 1</td></tr>\n",
       "\t<tr><th scope=row>4</th><td>F </td><td>20</td></tr>\n",
       "\t<tr><th scope=row>6</th><td>F </td><td>24</td></tr>\n",
       "\t<tr><th scope=row>7</th><td>F </td><td> 3</td></tr>\n",
       "\t<tr><th scope=row>8</th><td>F </td><td>15</td></tr>\n",
       "\t<tr><th scope=row>12</th><td>F </td><td>21</td></tr>\n",
       "\t<tr><th scope=row>14</th><td>F </td><td>12</td></tr>\n",
       "\t<tr><th scope=row>15</th><td>F </td><td> 6</td></tr>\n",
       "\t<tr><th scope=row>19</th><td>F </td><td>18</td></tr>\n",
       "\t<tr><th scope=row>24</th><td>F </td><td> 7</td></tr>\n",
       "\t<tr><th scope=row>25</th><td>F </td><td>22</td></tr>\n",
       "\t<tr><th scope=row>3</th><td>M </td><td> 2</td></tr>\n",
       "\t<tr><th scope=row>5</th><td>M </td><td> 4</td></tr>\n",
       "\t<tr><th scope=row>9</th><td>M </td><td>25</td></tr>\n",
       "\t<tr><th scope=row>10</th><td>M </td><td>14</td></tr>\n",
       "\t<tr><th scope=row>11</th><td>M </td><td> 9</td></tr>\n",
       "\t<tr><th scope=row>13</th><td>M </td><td>13</td></tr>\n",
       "\t<tr><th scope=row>16</th><td>M </td><td>10</td></tr>\n",
       "\t<tr><th scope=row>17</th><td>M </td><td>11</td></tr>\n",
       "\t<tr><th scope=row>18</th><td>M </td><td>19</td></tr>\n",
       "\t<tr><th scope=row>20</th><td>M </td><td> 8</td></tr>\n",
       "\t<tr><th scope=row>21</th><td>M </td><td>16</td></tr>\n",
       "\t<tr><th scope=row>22</th><td>M </td><td> 5</td></tr>\n",
       "\t<tr><th scope=row>23</th><td>M </td><td>23</td></tr>\n",
       "</tbody>\n",
       "</table>\n"
      ],
      "text/latex": [
       "\\begin{tabular}{r|ll}\n",
       "  & Gender & SAT\\\\\n",
       "\\hline\n",
       "\t1 & F  & 17\\\\\n",
       "\t2 & F  &  1\\\\\n",
       "\t4 & F  & 20\\\\\n",
       "\t6 & F  & 24\\\\\n",
       "\t7 & F  &  3\\\\\n",
       "\t8 & F  & 15\\\\\n",
       "\t12 & F  & 21\\\\\n",
       "\t14 & F  & 12\\\\\n",
       "\t15 & F  &  6\\\\\n",
       "\t19 & F  & 18\\\\\n",
       "\t24 & F  &  7\\\\\n",
       "\t25 & F  & 22\\\\\n",
       "\t3 & M  &  2\\\\\n",
       "\t5 & M  &  4\\\\\n",
       "\t9 & M  & 25\\\\\n",
       "\t10 & M  & 14\\\\\n",
       "\t11 & M  &  9\\\\\n",
       "\t13 & M  & 13\\\\\n",
       "\t16 & M  & 10\\\\\n",
       "\t17 & M  & 11\\\\\n",
       "\t18 & M  & 19\\\\\n",
       "\t20 & M  &  8\\\\\n",
       "\t21 & M  & 16\\\\\n",
       "\t22 & M  &  5\\\\\n",
       "\t23 & M  & 23\\\\\n",
       "\\end{tabular}\n"
      ],
      "text/markdown": [
       "\n",
       "| <!--/--> | Gender | SAT | \n",
       "|---|---|---|---|---|---|---|---|---|---|---|---|---|---|---|---|---|---|---|---|---|---|---|---|---|\n",
       "| 1 | F  | 17 | \n",
       "| 2 | F  |  1 | \n",
       "| 4 | F  | 20 | \n",
       "| 6 | F  | 24 | \n",
       "| 7 | F  |  3 | \n",
       "| 8 | F  | 15 | \n",
       "| 12 | F  | 21 | \n",
       "| 14 | F  | 12 | \n",
       "| 15 | F  |  6 | \n",
       "| 19 | F  | 18 | \n",
       "| 24 | F  |  7 | \n",
       "| 25 | F  | 22 | \n",
       "| 3 | M  |  2 | \n",
       "| 5 | M  |  4 | \n",
       "| 9 | M  | 25 | \n",
       "| 10 | M  | 14 | \n",
       "| 11 | M  |  9 | \n",
       "| 13 | M  | 13 | \n",
       "| 16 | M  | 10 | \n",
       "| 17 | M  | 11 | \n",
       "| 18 | M  | 19 | \n",
       "| 20 | M  |  8 | \n",
       "| 21 | M  | 16 | \n",
       "| 22 | M  |  5 | \n",
       "| 23 | M  | 23 | \n",
       "\n",
       "\n"
      ],
      "text/plain": [
       "   Gender SAT\n",
       "1  F      17 \n",
       "2  F       1 \n",
       "4  F      20 \n",
       "6  F      24 \n",
       "7  F       3 \n",
       "8  F      15 \n",
       "12 F      21 \n",
       "14 F      12 \n",
       "15 F       6 \n",
       "19 F      18 \n",
       "24 F       7 \n",
       "25 F      22 \n",
       "3  M       2 \n",
       "5  M       4 \n",
       "9  M      25 \n",
       "10 M      14 \n",
       "11 M       9 \n",
       "13 M      13 \n",
       "16 M      10 \n",
       "17 M      11 \n",
       "18 M      19 \n",
       "20 M       8 \n",
       "21 M      16 \n",
       "22 M       5 \n",
       "23 M      23 "
      ]
     },
     "metadata": {},
     "output_type": "display_data"
    }
   ],
   "source": [
    "mydata.sorted"
   ]
  },
  {
   "cell_type": "code",
   "execution_count": 48,
   "metadata": {},
   "outputs": [],
   "source": [
    "# Sort gender variable in ascending order and then SAT in descending order\n",
    "mydata.sorted1 <- mydata[order(mydata$Gender, -mydata$SAT),]\n",
    "# Note : \"-\" sign before mydata$SAT tells R to sort SAT variable in descending order."
   ]
  },
  {
   "cell_type": "code",
   "execution_count": 49,
   "metadata": {},
   "outputs": [
    {
     "data": {
      "text/html": [
       "<table>\n",
       "<thead><tr><th></th><th scope=col>Gender</th><th scope=col>SAT</th></tr></thead>\n",
       "<tbody>\n",
       "\t<tr><th scope=row>6</th><td>F </td><td>24</td></tr>\n",
       "\t<tr><th scope=row>25</th><td>F </td><td>22</td></tr>\n",
       "\t<tr><th scope=row>12</th><td>F </td><td>21</td></tr>\n",
       "\t<tr><th scope=row>4</th><td>F </td><td>20</td></tr>\n",
       "\t<tr><th scope=row>19</th><td>F </td><td>18</td></tr>\n",
       "\t<tr><th scope=row>1</th><td>F </td><td>17</td></tr>\n",
       "\t<tr><th scope=row>8</th><td>F </td><td>15</td></tr>\n",
       "\t<tr><th scope=row>14</th><td>F </td><td>12</td></tr>\n",
       "\t<tr><th scope=row>24</th><td>F </td><td> 7</td></tr>\n",
       "\t<tr><th scope=row>15</th><td>F </td><td> 6</td></tr>\n",
       "\t<tr><th scope=row>7</th><td>F </td><td> 3</td></tr>\n",
       "\t<tr><th scope=row>2</th><td>F </td><td> 1</td></tr>\n",
       "\t<tr><th scope=row>9</th><td>M </td><td>25</td></tr>\n",
       "\t<tr><th scope=row>23</th><td>M </td><td>23</td></tr>\n",
       "\t<tr><th scope=row>18</th><td>M </td><td>19</td></tr>\n",
       "\t<tr><th scope=row>21</th><td>M </td><td>16</td></tr>\n",
       "\t<tr><th scope=row>10</th><td>M </td><td>14</td></tr>\n",
       "\t<tr><th scope=row>13</th><td>M </td><td>13</td></tr>\n",
       "\t<tr><th scope=row>17</th><td>M </td><td>11</td></tr>\n",
       "\t<tr><th scope=row>16</th><td>M </td><td>10</td></tr>\n",
       "\t<tr><th scope=row>11</th><td>M </td><td> 9</td></tr>\n",
       "\t<tr><th scope=row>20</th><td>M </td><td> 8</td></tr>\n",
       "\t<tr><th scope=row>22</th><td>M </td><td> 5</td></tr>\n",
       "\t<tr><th scope=row>5</th><td>M </td><td> 4</td></tr>\n",
       "\t<tr><th scope=row>3</th><td>M </td><td> 2</td></tr>\n",
       "</tbody>\n",
       "</table>\n"
      ],
      "text/latex": [
       "\\begin{tabular}{r|ll}\n",
       "  & Gender & SAT\\\\\n",
       "\\hline\n",
       "\t6 & F  & 24\\\\\n",
       "\t25 & F  & 22\\\\\n",
       "\t12 & F  & 21\\\\\n",
       "\t4 & F  & 20\\\\\n",
       "\t19 & F  & 18\\\\\n",
       "\t1 & F  & 17\\\\\n",
       "\t8 & F  & 15\\\\\n",
       "\t14 & F  & 12\\\\\n",
       "\t24 & F  &  7\\\\\n",
       "\t15 & F  &  6\\\\\n",
       "\t7 & F  &  3\\\\\n",
       "\t2 & F  &  1\\\\\n",
       "\t9 & M  & 25\\\\\n",
       "\t23 & M  & 23\\\\\n",
       "\t18 & M  & 19\\\\\n",
       "\t21 & M  & 16\\\\\n",
       "\t10 & M  & 14\\\\\n",
       "\t13 & M  & 13\\\\\n",
       "\t17 & M  & 11\\\\\n",
       "\t16 & M  & 10\\\\\n",
       "\t11 & M  &  9\\\\\n",
       "\t20 & M  &  8\\\\\n",
       "\t22 & M  &  5\\\\\n",
       "\t5 & M  &  4\\\\\n",
       "\t3 & M  &  2\\\\\n",
       "\\end{tabular}\n"
      ],
      "text/markdown": [
       "\n",
       "| <!--/--> | Gender | SAT | \n",
       "|---|---|---|---|---|---|---|---|---|---|---|---|---|---|---|---|---|---|---|---|---|---|---|---|---|\n",
       "| 6 | F  | 24 | \n",
       "| 25 | F  | 22 | \n",
       "| 12 | F  | 21 | \n",
       "| 4 | F  | 20 | \n",
       "| 19 | F  | 18 | \n",
       "| 1 | F  | 17 | \n",
       "| 8 | F  | 15 | \n",
       "| 14 | F  | 12 | \n",
       "| 24 | F  |  7 | \n",
       "| 15 | F  |  6 | \n",
       "| 7 | F  |  3 | \n",
       "| 2 | F  |  1 | \n",
       "| 9 | M  | 25 | \n",
       "| 23 | M  | 23 | \n",
       "| 18 | M  | 19 | \n",
       "| 21 | M  | 16 | \n",
       "| 10 | M  | 14 | \n",
       "| 13 | M  | 13 | \n",
       "| 17 | M  | 11 | \n",
       "| 16 | M  | 10 | \n",
       "| 11 | M  |  9 | \n",
       "| 20 | M  |  8 | \n",
       "| 22 | M  |  5 | \n",
       "| 5 | M  |  4 | \n",
       "| 3 | M  |  2 | \n",
       "\n",
       "\n"
      ],
      "text/plain": [
       "   Gender SAT\n",
       "6  F      24 \n",
       "25 F      22 \n",
       "12 F      21 \n",
       "4  F      20 \n",
       "19 F      18 \n",
       "1  F      17 \n",
       "8  F      15 \n",
       "14 F      12 \n",
       "24 F       7 \n",
       "15 F       6 \n",
       "7  F       3 \n",
       "2  F       1 \n",
       "9  M      25 \n",
       "23 M      23 \n",
       "18 M      19 \n",
       "21 M      16 \n",
       "10 M      14 \n",
       "13 M      13 \n",
       "17 M      11 \n",
       "16 M      10 \n",
       "11 M       9 \n",
       "20 M       8 \n",
       "22 M       5 \n",
       "5  M       4 \n",
       "3  M       2 "
      ]
     },
     "metadata": {},
     "output_type": "display_data"
    }
   ],
   "source": [
    "mydata.sorted1"
   ]
  },
  {
   "cell_type": "markdown",
   "metadata": {},
   "source": [
    "## Dealing with missing data"
   ]
  },
  {
   "cell_type": "code",
   "execution_count": 58,
   "metadata": {},
   "outputs": [
    {
     "data": {
      "text/html": [
       "<dl class=dl-horizontal>\n",
       "\t<dt>y</dt>\n",
       "\t\t<dd>0</dd>\n",
       "\t<dt>x</dt>\n",
       "\t\t<dd>0</dd>\n",
       "</dl>\n"
      ],
      "text/latex": [
       "\\begin{description*}\n",
       "\\item[y] 0\n",
       "\\item[x] 0\n",
       "\\end{description*}\n"
      ],
      "text/markdown": [
       "y\n",
       ":   0x\n",
       ":   0\n",
       "\n"
      ],
      "text/plain": [
       "y x \n",
       "0 0 "
      ]
     },
     "metadata": {},
     "output_type": "display_data"
    },
    {
     "data": {
      "text/html": [
       "<ol class=list-inline>\n",
       "\t<li>0</li>\n",
       "\t<li>0</li>\n",
       "\t<li>0</li>\n",
       "</ol>\n"
      ],
      "text/latex": [
       "\\begin{enumerate*}\n",
       "\\item 0\n",
       "\\item 0\n",
       "\\item 0\n",
       "\\end{enumerate*}\n"
      ],
      "text/markdown": [
       "1. 0\n",
       "2. 0\n",
       "3. 0\n",
       "\n",
       "\n"
      ],
      "text/plain": [
       "[1] 0 0 0"
      ]
     },
     "metadata": {},
     "output_type": "display_data"
    },
    {
     "data": {
      "text/html": [
       "<table>\n",
       "<thead><tr><th scope=col>y</th><th scope=col>x</th></tr></thead>\n",
       "<tbody>\n",
       "</tbody>\n",
       "</table>\n"
      ],
      "text/latex": [
       "\\begin{tabular}{r|ll}\n",
       " y & x\\\\\n",
       "\\hline\n",
       "\\end{tabular}\n"
      ],
      "text/markdown": [
       "\n",
       "y | x | \n",
       "||\n",
       "\n",
       "\n"
      ],
      "text/plain": [
       "     y x"
      ]
     },
     "metadata": {},
     "output_type": "display_data"
    }
   ],
   "source": [
    "# Number of missing values in a variable\n",
    "colSums(is.na(mydata))\n",
    "# Number of missing values in a row\n",
    "rowSums(is.na(mydata))\n",
    "# List rows of data that have missing values\n",
    "mydata[!complete.cases(mydata),]\n",
    "# Creating a new dataset without missing data\n",
    "mydata1 <- na.omit(mydata)\n",
    "# Convert a value to missing\n",
    "mydata[mydata$Q1==999,\"Q1\"] <- NA "
   ]
  },
  {
   "cell_type": "markdown",
   "metadata": {},
   "source": [
    "## Aggregate by groups"
   ]
  },
  {
   "cell_type": "code",
   "execution_count": 53,
   "metadata": {},
   "outputs": [],
   "source": [
    "# The following code calculates mean for variable \"x\" by grouped variable \"y\".\n",
    "samples = data.frame(x =c(rep(1:10)), y=round((rnorm(10))))\n",
    "mydata <- aggregate(x~y, samples, mean, na.rm = TRUE)"
   ]
  },
  {
   "cell_type": "code",
   "execution_count": 54,
   "metadata": {},
   "outputs": [
    {
     "data": {
      "text/html": [
       "<table>\n",
       "<thead><tr><th scope=col>y</th><th scope=col>x</th></tr></thead>\n",
       "<tbody>\n",
       "\t<tr><td>-1      </td><td>4.333333</td></tr>\n",
       "\t<tr><td> 0      </td><td>6.833333</td></tr>\n",
       "\t<tr><td> 1      </td><td>1.000000</td></tr>\n",
       "</tbody>\n",
       "</table>\n"
      ],
      "text/latex": [
       "\\begin{tabular}{r|ll}\n",
       " y & x\\\\\n",
       "\\hline\n",
       "\t -1       & 4.333333\\\\\n",
       "\t  0       & 6.833333\\\\\n",
       "\t  1       & 1.000000\\\\\n",
       "\\end{tabular}\n"
      ],
      "text/markdown": [
       "\n",
       "y | x | \n",
       "|---|---|---|\n",
       "| -1       | 4.333333 | \n",
       "|  0       | 6.833333 | \n",
       "|  1       | 1.000000 | \n",
       "\n",
       "\n"
      ],
      "text/plain": [
       "  y  x       \n",
       "1 -1 4.333333\n",
       "2  0 6.833333\n",
       "3  1 1.000000"
      ]
     },
     "metadata": {},
     "output_type": "display_data"
    }
   ],
   "source": [
    "mydata"
   ]
  },
  {
   "cell_type": "markdown",
   "metadata": {
    "collapsed": true
   },
   "source": [
    "## data Manipulation with dplyr package"
   ]
  },
  {
   "cell_type": "code",
   "execution_count": null,
   "metadata": {},
   "outputs": [],
   "source": [
    "https://goo.gl/86GHeL"
   ]
  },
  {
   "cell_type": "markdown",
   "metadata": {
    "collapsed": true
   },
   "source": [
    "## data Manipulation with data.table package"
   ]
  },
  {
   "cell_type": "code",
   "execution_count": null,
   "metadata": {},
   "outputs": [],
   "source": [
    "https://goo.gl/B8njyV"
   ]
  },
  {
   "cell_type": "markdown",
   "metadata": {
    "collapsed": true
   },
   "source": [
    "## Running SQL queries using sqldf package"
   ]
  },
  {
   "cell_type": "code",
   "execution_count": 61,
   "metadata": {},
   "outputs": [
    {
     "name": "stderr",
     "output_type": "stream",
     "text": [
      "Installing package into '/home/nbuser/R'\n",
      "(as 'lib' is unspecified)\n"
     ]
    }
   ],
   "source": [
    "# Install and Load Package\n",
    "install.packages(\"sqldf\", repos=\"https://cran.r-project.org\")"
   ]
  },
  {
   "cell_type": "code",
   "execution_count": 62,
   "metadata": {},
   "outputs": [],
   "source": [
    "library(sqldf)"
   ]
  },
  {
   "cell_type": "code",
   "execution_count": 63,
   "metadata": {},
   "outputs": [],
   "source": [
    "# Create sample data\n",
    "dt <- data.frame( ID = c('X1','X2','X4','X2','X1','X4','X3','X2','X1','X3'),\n",
    "  Value = c(4,3,1,3,4,6,6,1,8,4))"
   ]
  },
  {
   "cell_type": "code",
   "execution_count": 65,
   "metadata": {},
   "outputs": [
    {
     "data": {
      "text/html": [
       "<table>\n",
       "<thead><tr><th scope=col>ID</th><th scope=col>Value</th></tr></thead>\n",
       "<tbody>\n",
       "\t<tr><td>X1</td><td>4 </td></tr>\n",
       "\t<tr><td>X2</td><td>3 </td></tr>\n",
       "\t<tr><td>X4</td><td>1 </td></tr>\n",
       "\t<tr><td>X2</td><td>3 </td></tr>\n",
       "\t<tr><td>X1</td><td>4 </td></tr>\n",
       "\t<tr><td>X4</td><td>6 </td></tr>\n",
       "\t<tr><td>X3</td><td>6 </td></tr>\n",
       "\t<tr><td>X2</td><td>1 </td></tr>\n",
       "\t<tr><td>X1</td><td>8 </td></tr>\n",
       "\t<tr><td>X3</td><td>4 </td></tr>\n",
       "</tbody>\n",
       "</table>\n"
      ],
      "text/latex": [
       "\\begin{tabular}{r|ll}\n",
       " ID & Value\\\\\n",
       "\\hline\n",
       "\t X1 & 4 \\\\\n",
       "\t X2 & 3 \\\\\n",
       "\t X4 & 1 \\\\\n",
       "\t X2 & 3 \\\\\n",
       "\t X1 & 4 \\\\\n",
       "\t X4 & 6 \\\\\n",
       "\t X3 & 6 \\\\\n",
       "\t X2 & 1 \\\\\n",
       "\t X1 & 8 \\\\\n",
       "\t X3 & 4 \\\\\n",
       "\\end{tabular}\n"
      ],
      "text/markdown": [
       "\n",
       "ID | Value | \n",
       "|---|---|---|---|---|---|---|---|---|---|\n",
       "| X1 | 4  | \n",
       "| X2 | 3  | \n",
       "| X4 | 1  | \n",
       "| X2 | 3  | \n",
       "| X1 | 4  | \n",
       "| X4 | 6  | \n",
       "| X3 | 6  | \n",
       "| X2 | 1  | \n",
       "| X1 | 8  | \n",
       "| X3 | 4  | \n",
       "\n",
       "\n"
      ],
      "text/plain": [
       "   ID Value\n",
       "1  X1 4    \n",
       "2  X2 3    \n",
       "3  X4 1    \n",
       "4  X2 3    \n",
       "5  X1 4    \n",
       "6  X4 6    \n",
       "7  X3 6    \n",
       "8  X2 1    \n",
       "9  X1 8    \n",
       "10 X3 4    "
      ]
     },
     "metadata": {},
     "output_type": "display_data"
    }
   ],
   "source": [
    "dt"
   ]
  },
  {
   "cell_type": "markdown",
   "metadata": {},
   "source": [
    "**Example 1 : Select first 3 rows**"
   ]
  },
  {
   "cell_type": "code",
   "execution_count": 66,
   "metadata": {},
   "outputs": [
    {
     "ename": "ERROR",
     "evalue": "Error in parse(text = x, srcfile = src): <text>:1:1: unexpected '^'\n1: **\n    ^\n",
     "output_type": "error",
     "traceback": [
      "Error in parse(text = x, srcfile = src): <text>:1:1: unexpected '^'\n1: **\n    ^\nTraceback:\n"
     ]
    }
   ],
   "source": [
    "x = sqldf(\"select * from dt limit 3\")"
   ]
  },
  {
   "cell_type": "markdown",
   "metadata": {},
   "source": [
    "**Example 2 : Handle dot (.) in Column and Table names **"
   ]
  },
  {
   "cell_type": "code",
   "execution_count": null,
   "metadata": {},
   "outputs": [],
   "source": [
    "# Put the names in double quotes\n",
    "test <- data.frame( x.1 = 1:10 )\n",
    "sqldf( 'SELECT \"x.1\" FROM test' )\n",
    "test.2 = data.frame(x= sample(10))\n",
    "sqldf( 'SELECT * FROM \"test.2\" ' )"
   ]
  },
  {
   "cell_type": "markdown",
   "metadata": {},
   "source": [
    "**Example 3 : Subset rows **"
   ]
  },
  {
   "cell_type": "code",
   "execution_count": null,
   "metadata": {},
   "outputs": [],
   "source": [
    "x2 = sqldf(\"select * from dt where Value >= 4\")"
   ]
  },
  {
   "cell_type": "markdown",
   "metadata": {},
   "source": [
    "**Example 4 : Concatenate two data frames **"
   ]
  },
  {
   "cell_type": "code",
   "execution_count": null,
   "metadata": {},
   "outputs": [],
   "source": [
    "x3 = sqldf(\"select * from x union all select * from x2\")"
   ]
  },
  {
   "cell_type": "markdown",
   "metadata": {},
   "source": [
    "**Example 5 : Create a new variable**"
   ]
  },
  {
   "cell_type": "code",
   "execution_count": null,
   "metadata": {},
   "outputs": [],
   "source": [
    "x4 = sqldf(\"select *, value*2 as newval from dt \")"
   ]
  },
  {
   "cell_type": "markdown",
   "metadata": {},
   "source": [
    "**Example 6 : Merge with another table**"
   ]
  },
  {
   "cell_type": "code",
   "execution_count": 67,
   "metadata": {},
   "outputs": [],
   "source": [
    "dt2 <- data.frame( ID = c('A1','A2','A4','A2','A1','A4','A3','A2','A1','A3'),\n",
    "                  ColID = c('Saving',\n",
    "                            'Current',\n",
    "                            'Loan',\n",
    "                            'Current',\n",
    "                            'Saving',\n",
    "                            'Loan',\n",
    "                            'Mortgage',\n",
    "                            'Current',\n",
    "                            'Saving',\n",
    "                            'Mortgage')) \n",
    "x5 = sqldf(\"select a.*,b.ColID from dt a left join (select distinct ID, ColID from  dt2) b\n",
    "           on a.ID = b.ID\")"
   ]
  },
  {
   "cell_type": "code",
   "execution_count": 68,
   "metadata": {},
   "outputs": [
    {
     "data": {
      "text/html": [
       "<table>\n",
       "<thead><tr><th scope=col>ID</th><th scope=col>Value</th><th scope=col>ColID</th></tr></thead>\n",
       "<tbody>\n",
       "\t<tr><td>X1</td><td>4 </td><td>NA</td></tr>\n",
       "\t<tr><td>X2</td><td>3 </td><td>NA</td></tr>\n",
       "\t<tr><td>X4</td><td>1 </td><td>NA</td></tr>\n",
       "\t<tr><td>X2</td><td>3 </td><td>NA</td></tr>\n",
       "\t<tr><td>X1</td><td>4 </td><td>NA</td></tr>\n",
       "\t<tr><td>X4</td><td>6 </td><td>NA</td></tr>\n",
       "\t<tr><td>X3</td><td>6 </td><td>NA</td></tr>\n",
       "\t<tr><td>X2</td><td>1 </td><td>NA</td></tr>\n",
       "\t<tr><td>X1</td><td>8 </td><td>NA</td></tr>\n",
       "\t<tr><td>X3</td><td>4 </td><td>NA</td></tr>\n",
       "</tbody>\n",
       "</table>\n"
      ],
      "text/latex": [
       "\\begin{tabular}{r|lll}\n",
       " ID & Value & ColID\\\\\n",
       "\\hline\n",
       "\t X1 & 4  & NA\\\\\n",
       "\t X2 & 3  & NA\\\\\n",
       "\t X4 & 1  & NA\\\\\n",
       "\t X2 & 3  & NA\\\\\n",
       "\t X1 & 4  & NA\\\\\n",
       "\t X4 & 6  & NA\\\\\n",
       "\t X3 & 6  & NA\\\\\n",
       "\t X2 & 1  & NA\\\\\n",
       "\t X1 & 8  & NA\\\\\n",
       "\t X3 & 4  & NA\\\\\n",
       "\\end{tabular}\n"
      ],
      "text/markdown": [
       "\n",
       "ID | Value | ColID | \n",
       "|---|---|---|---|---|---|---|---|---|---|\n",
       "| X1 | 4  | NA | \n",
       "| X2 | 3  | NA | \n",
       "| X4 | 1  | NA | \n",
       "| X2 | 3  | NA | \n",
       "| X1 | 4  | NA | \n",
       "| X4 | 6  | NA | \n",
       "| X3 | 6  | NA | \n",
       "| X2 | 1  | NA | \n",
       "| X1 | 8  | NA | \n",
       "| X3 | 4  | NA | \n",
       "\n",
       "\n"
      ],
      "text/plain": [
       "   ID Value ColID\n",
       "1  X1 4     NA   \n",
       "2  X2 3     NA   \n",
       "3  X4 1     NA   \n",
       "4  X2 3     NA   \n",
       "5  X1 4     NA   \n",
       "6  X4 6     NA   \n",
       "7  X3 6     NA   \n",
       "8  X2 1     NA   \n",
       "9  X1 8     NA   \n",
       "10 X3 4     NA   "
      ]
     },
     "metadata": {},
     "output_type": "display_data"
    }
   ],
   "source": [
    "x5"
   ]
  }
 ],
 "metadata": {
  "kernelspec": {
   "display_name": "R",
   "language": "R",
   "name": "r"
  },
  "language_info": {
   "codemirror_mode": "r",
   "file_extension": ".r",
   "mimetype": "text/x-r-source",
   "name": "R",
   "pygments_lexer": "r",
   "version": "3.4.1"
  }
 },
 "nbformat": 4,
 "nbformat_minor": 2
}
