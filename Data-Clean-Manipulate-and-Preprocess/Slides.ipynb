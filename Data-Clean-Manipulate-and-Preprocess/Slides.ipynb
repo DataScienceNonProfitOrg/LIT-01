{
 "cells": [
  {
   "cell_type": "markdown",
   "metadata": {
    "run_control": {
     "frozen": false,
     "read_only": false
    },
    "slideshow": {
     "slide_type": "slide"
    }
   },
   "source": [
    "* missing values\n",
    "* data.table\n",
    "* dplyr\n",
    "* sqldf\n",
    "* lubridate\n",
    "* stringr"
   ]
  },
  {
   "cell_type": "markdown",
   "metadata": {
    "slideshow": {
     "slide_type": "slide"
    }
   },
   "source": [
    "## missing values"
   ]
  },
  {
   "cell_type": "code",
   "execution_count": null,
   "metadata": {
    "run_control": {
     "frozen": false,
     "read_only": false
    },
    "slideshow": {
     "slide_type": "slide"
    }
   },
   "outputs": [],
   "source": [
    "train.data = read.csv(\"train.csv\", na.strings=c(\"NA\", \"\"))\n",
    "str(train.data)\n",
    "train.data$Survived = factor(train.data$Survived)\n",
    "\n",
    "train.data$Pclass = factor(train.data$Pclass)\n",
    "str(train.data)\n",
    "\n",
    "\n",
    "is.na(train.data$Age)\n",
    "\n",
    "sum(is.na(train.data$Age) == TRUE)\n",
    "\n",
    "sum(is.na(train.data$Age) == TRUE) / length(train.data$Age)\n",
    "\n",
    "sapply(train.data, function(df) {\n",
    "  sum(is.na(df)==TRUE)/ length(df);\n",
    "   })\n",
    "\n",
    "install.packages(\"Amelia\")\n",
    "\n",
    "require(Amelia)\n",
    "\n",
    "missmap(train.data, main=\"Missing Map\")\n",
    "\n",
    "AmeliaView()"
   ]
  },
  {
   "cell_type": "markdown",
   "metadata": {
    "slideshow": {
     "slide_type": "slide"
    }
   },
   "source": [
    "## data.table"
   ]
  },
  {
   "cell_type": "markdown",
   "metadata": {
    "slideshow": {
     "slide_type": "fragment"
    }
   },
   "source": [
    "> `DT[i, j, by]`  \n",
    "\n",
    "![Imgur](https://i.imgur.com/07O9z1t.png)"
   ]
  },
  {
   "cell_type": "markdown",
   "metadata": {
    "slideshow": {
     "slide_type": "subslide"
    }
   },
   "source": [
    "`DT` is referred to the data table.  \n",
    "`i <=> where:` refers to the row indexing takes place i.e. put the row condition here.  \n",
    "`j <=> select:` refers to the column indexing takes place i.e. put the conditions (to filter, to summarise) on columns here.  \n",
    "`by <=> group_by:` refers to any categorical variable i.e. put the variable on the basis of which the grouping shall be executed.  "
   ]
  },
  {
   "cell_type": "code",
   "execution_count": 8,
   "metadata": {
    "run_control": {
     "frozen": false,
     "read_only": false
    },
    "slideshow": {
     "slide_type": "slide"
    }
   },
   "outputs": [
    {
     "name": "stderr",
     "output_type": "stream",
     "text": [
      "Installing package into 'C:/Users/Suman/Documents/R/win-library/3.4'\n",
      "(as 'lib' is unspecified)\n"
     ]
    },
    {
     "name": "stdout",
     "output_type": "stream",
     "text": [
      "package 'data.table' successfully unpacked and MD5 sums checked\n",
      "\n",
      "The downloaded binary packages are in\n",
      "\tC:\\Users\\Suman\\AppData\\Local\\Temp\\Rtmpyi4GCL\\downloaded_packages\n"
     ]
    }
   ],
   "source": [
    "install.packages(\"data.table\",repos = \"https://cran.r-project.org/\")"
   ]
  },
  {
   "cell_type": "code",
   "execution_count": 9,
   "metadata": {
    "run_control": {
     "frozen": false,
     "read_only": false
    },
    "slideshow": {
     "slide_type": "slide"
    }
   },
   "outputs": [
    {
     "name": "stderr",
     "output_type": "stream",
     "text": [
      "Warning message:\n",
      "\"package 'data.table' was built under R version 3.4.3\""
     ]
    }
   ],
   "source": [
    "library(data.table)"
   ]
  },
  {
   "cell_type": "code",
   "execution_count": 10,
   "metadata": {
    "run_control": {
     "frozen": false,
     "read_only": false
    },
    "slideshow": {
     "slide_type": "slide"
    }
   },
   "outputs": [
    {
     "data": {
      "text/html": [
       "<table>\n",
       "<thead><tr><th scope=col>State</th><th scope=col>V1</th></tr></thead>\n",
       "<tbody>\n",
       "\t<tr><td>Indiana</td><td>504.75 </td></tr>\n",
       "\t<tr><td>Texas  </td><td>400.80 </td></tr>\n",
       "\t<tr><td>Nevada </td><td>504.75 </td></tr>\n",
       "\t<tr><td>Alabama</td><td>400.80 </td></tr>\n",
       "</tbody>\n",
       "</table>\n"
      ],
      "text/latex": [
       "\\begin{tabular}{r|ll}\n",
       " State & V1\\\\\n",
       "\\hline\n",
       "\t Indiana & 504.75 \\\\\n",
       "\t Texas   & 400.80 \\\\\n",
       "\t Nevada  & 504.75 \\\\\n",
       "\t Alabama & 400.80 \\\\\n",
       "\\end{tabular}\n"
      ],
      "text/markdown": [
       "\n",
       "State | V1 | \n",
       "|---|---|---|---|\n",
       "| Indiana | 504.75  | \n",
       "| Texas   | 400.80  | \n",
       "| Nevada  | 504.75  | \n",
       "| Alabama | 400.80  | \n",
       "\n",
       "\n"
      ],
      "text/plain": [
       "  State   V1    \n",
       "1 Indiana 504.75\n",
       "2 Texas   400.80\n",
       "3 Nevada  504.75\n",
       "4 Alabama 400.80"
      ]
     },
     "metadata": {},
     "output_type": "display_data"
    }
   ],
   "source": [
    "#creating a dummy data table\n",
    "DT <- data.table(ID = 1:50,\n",
    "                Capacity = sample(100:1000, size = 50, replace = F),\n",
    "                Code = sample(LETTERS[1:4], 50, replace = T),\n",
    "                State = rep(c(\"Alabama\",\"Indiana\",\"Texas\",\"Nevada\"), 50))\n",
    "#simple data.table command\n",
    "DT[Code == \"C\", mean(Capacity), State]"
   ]
  },
  {
   "cell_type": "markdown",
   "metadata": {
    "slideshow": {
     "slide_type": "slide"
    }
   },
   "source": [
    "### fread():"
   ]
  },
  {
   "cell_type": "code",
   "execution_count": 11,
   "metadata": {
    "run_control": {
     "frozen": false,
     "read_only": false
    },
    "slideshow": {
     "slide_type": "subslide"
    }
   },
   "outputs": [
    {
     "name": "stdout",
     "output_type": "stream",
     "text": [
      "\r",
      "Read 0.0% of 1720673 rows\r",
      "Read 9.9% of 1720673 rows\r",
      "Read 19.8% of 1720673 rows\r",
      "Read 24.4% of 1720673 rows\r",
      "Read 33.7% of 1720673 rows\r",
      "Read 38.4% of 1720673 rows\r",
      "Read 48.2% of 1720673 rows\r",
      "Read 52.9% of 1720673 rows\r",
      "Read 62.2% of 1720673 rows\r",
      "Read 72.1% of 1720673 rows\r",
      "Read 81.9% of 1720673 rows\r",
      "Read 91.2% of 1720673 rows\r",
      "Read 94.7% of 1720673 rows\r",
      "Read 1720673 rows and 12 (of 12) columns from 0.191 GB file in 00:00:19\n"
     ]
    },
    {
     "data": {
      "text/plain": [
       "   user  system elapsed \n",
       "  15.67    0.73   18.72 "
      ]
     },
     "metadata": {},
     "output_type": "display_data"
    }
   ],
   "source": [
    "system.time(DT1 <- fread(\"data//GB_full.csv\"))"
   ]
  },
  {
   "cell_type": "code",
   "execution_count": 12,
   "metadata": {
    "run_control": {
     "frozen": false,
     "read_only": false
    },
    "slideshow": {
     "slide_type": "subslide"
    }
   },
   "outputs": [
    {
     "data": {
      "text/plain": [
       "   user  system elapsed \n",
       " 125.95    0.70  127.97 "
      ]
     },
     "metadata": {},
     "output_type": "display_data"
    }
   ],
   "source": [
    "#system.time(DT1 <- read.csv(\"data//GB_full.csv\"))"
   ]
  },
  {
   "cell_type": "markdown",
   "metadata": {
    "run_control": {
     "frozen": false,
     "read_only": false
    }
   },
   "source": [
    "## dplyr"
   ]
  },
  {
   "cell_type": "code",
   "execution_count": null,
   "metadata": {},
   "outputs": [],
   "source": []
  },
  {
   "cell_type": "markdown",
   "metadata": {},
   "source": [
    "## sqldf"
   ]
  },
  {
   "cell_type": "code",
   "execution_count": 8,
   "metadata": {},
   "outputs": [
    {
     "name": "stderr",
     "output_type": "stream",
     "text": [
      "Installing package into 'C:/Users/Suman/Documents/R/win-library/3.4'\n",
      "(as 'lib' is unspecified)\n"
     ]
    },
    {
     "name": "stdout",
     "output_type": "stream",
     "text": [
      "package 'sqldf' successfully unpacked and MD5 sums checked\n",
      "\n",
      "The downloaded binary packages are in\n",
      "\tC:\\Users\\Suman\\AppData\\Local\\Temp\\RtmpCmbjbo\\downloaded_packages\n"
     ]
    },
    {
     "name": "stderr",
     "output_type": "stream",
     "text": [
      "Warning message:\n",
      "\"package 'sqldf' was built under R version 3.4.3\"Loading required package: gsubfn\n",
      "Loading required package: proto\n",
      "Loading required package: RSQLite\n"
     ]
    }
   ],
   "source": [
    "install.packages(\"sqldf\",repos = \"https://cran.r-project.org/\")\n",
    "library(sqldf)"
   ]
  },
  {
   "cell_type": "code",
   "execution_count": 10,
   "metadata": {},
   "outputs": [
    {
     "data": {
      "text/html": [
       "<table>\n",
       "<thead><tr><th scope=col>Sepal.Length</th><th scope=col>Sepal.Width</th><th scope=col>Petal.Length</th><th scope=col>Petal.Width</th><th scope=col>Species</th></tr></thead>\n",
       "<tbody>\n",
       "\t<tr><td>5.1   </td><td>3.5   </td><td>1.4   </td><td>0.2   </td><td>setosa</td></tr>\n",
       "\t<tr><td>4.9   </td><td>3.0   </td><td>1.4   </td><td>0.2   </td><td>setosa</td></tr>\n",
       "\t<tr><td>4.7   </td><td>3.2   </td><td>1.3   </td><td>0.2   </td><td>setosa</td></tr>\n",
       "\t<tr><td>4.6   </td><td>3.1   </td><td>1.5   </td><td>0.2   </td><td>setosa</td></tr>\n",
       "\t<tr><td>5.0   </td><td>3.6   </td><td>1.4   </td><td>0.2   </td><td>setosa</td></tr>\n",
       "</tbody>\n",
       "</table>\n"
      ],
      "text/latex": [
       "\\begin{tabular}{r|lllll}\n",
       " Sepal.Length & Sepal.Width & Petal.Length & Petal.Width & Species\\\\\n",
       "\\hline\n",
       "\t 5.1    & 3.5    & 1.4    & 0.2    & setosa\\\\\n",
       "\t 4.9    & 3.0    & 1.4    & 0.2    & setosa\\\\\n",
       "\t 4.7    & 3.2    & 1.3    & 0.2    & setosa\\\\\n",
       "\t 4.6    & 3.1    & 1.5    & 0.2    & setosa\\\\\n",
       "\t 5.0    & 3.6    & 1.4    & 0.2    & setosa\\\\\n",
       "\\end{tabular}\n"
      ],
      "text/markdown": [
       "\n",
       "Sepal.Length | Sepal.Width | Petal.Length | Petal.Width | Species | \n",
       "|---|---|---|---|---|\n",
       "| 5.1    | 3.5    | 1.4    | 0.2    | setosa | \n",
       "| 4.9    | 3.0    | 1.4    | 0.2    | setosa | \n",
       "| 4.7    | 3.2    | 1.3    | 0.2    | setosa | \n",
       "| 4.6    | 3.1    | 1.5    | 0.2    | setosa | \n",
       "| 5.0    | 3.6    | 1.4    | 0.2    | setosa | \n",
       "\n",
       "\n"
      ],
      "text/plain": [
       "  Sepal.Length Sepal.Width Petal.Length Petal.Width Species\n",
       "1 5.1          3.5         1.4          0.2         setosa \n",
       "2 4.9          3.0         1.4          0.2         setosa \n",
       "3 4.7          3.2         1.3          0.2         setosa \n",
       "4 4.6          3.1         1.5          0.2         setosa \n",
       "5 5.0          3.6         1.4          0.2         setosa "
      ]
     },
     "metadata": {},
     "output_type": "display_data"
    },
    {
     "data": {
      "text/html": [
       "<table>\n",
       "<thead><tr><th scope=col>count(*)</th></tr></thead>\n",
       "<tbody>\n",
       "\t<tr><td>150</td></tr>\n",
       "</tbody>\n",
       "</table>\n"
      ],
      "text/latex": [
       "\\begin{tabular}{r|l}\n",
       " count(*)\\\\\n",
       "\\hline\n",
       "\t 150\\\\\n",
       "\\end{tabular}\n"
      ],
      "text/markdown": [
       "\n",
       "count(*) | \n",
       "|---|\n",
       "| 150 | \n",
       "\n",
       "\n"
      ],
      "text/plain": [
       "  count(*)\n",
       "1 150     "
      ]
     },
     "metadata": {},
     "output_type": "display_data"
    },
    {
     "data": {
      "text/html": [
       "<table>\n",
       "<thead><tr><th scope=col>Species</th><th scope=col>count(*)</th></tr></thead>\n",
       "<tbody>\n",
       "\t<tr><td>setosa    </td><td>50        </td></tr>\n",
       "\t<tr><td>versicolor</td><td>50        </td></tr>\n",
       "\t<tr><td>virginica </td><td>50        </td></tr>\n",
       "</tbody>\n",
       "</table>\n"
      ],
      "text/latex": [
       "\\begin{tabular}{r|ll}\n",
       " Species & count(*)\\\\\n",
       "\\hline\n",
       "\t setosa     & 50        \\\\\n",
       "\t versicolor & 50        \\\\\n",
       "\t virginica  & 50        \\\\\n",
       "\\end{tabular}\n"
      ],
      "text/markdown": [
       "\n",
       "Species | count(*) | \n",
       "|---|---|---|\n",
       "| setosa     | 50         | \n",
       "| versicolor | 50         | \n",
       "| virginica  | 50         | \n",
       "\n",
       "\n"
      ],
      "text/plain": [
       "  Species    count(*)\n",
       "1 setosa     50      \n",
       "2 versicolor 50      \n",
       "3 virginica  50      "
      ]
     },
     "metadata": {},
     "output_type": "display_data"
    },
    {
     "data": {
      "text/html": [
       "<table>\n",
       "<thead><tr><th scope=col>a</th><th scope=col>b</th></tr></thead>\n",
       "<tbody>\n",
       "\t<tr><td>1</td><td>a</td></tr>\n",
       "\t<tr><td>2</td><td>b</td></tr>\n",
       "\t<tr><td>3</td><td>c</td></tr>\n",
       "\t<tr><td>4</td><td>d</td></tr>\n",
       "\t<tr><td>5</td><td>e</td></tr>\n",
       "</tbody>\n",
       "</table>\n"
      ],
      "text/latex": [
       "\\begin{tabular}{r|ll}\n",
       " a & b\\\\\n",
       "\\hline\n",
       "\t 1 & a\\\\\n",
       "\t 2 & b\\\\\n",
       "\t 3 & c\\\\\n",
       "\t 4 & d\\\\\n",
       "\t 5 & e\\\\\n",
       "\\end{tabular}\n"
      ],
      "text/markdown": [
       "\n",
       "a | b | \n",
       "|---|---|---|---|---|\n",
       "| 1 | a | \n",
       "| 2 | b | \n",
       "| 3 | c | \n",
       "| 4 | d | \n",
       "| 5 | e | \n",
       "\n",
       "\n"
      ],
      "text/plain": [
       "  a b\n",
       "1 1 a\n",
       "2 2 b\n",
       "3 3 c\n",
       "4 4 d\n",
       "5 5 e"
      ]
     },
     "metadata": {},
     "output_type": "display_data"
    },
    {
     "data": {
      "text/html": [
       "<table>\n",
       "<thead><tr><th scope=col>mean</th><th scope=col>var</th></tr></thead>\n",
       "<tbody>\n",
       "\t<tr><td>3  </td><td>2.5</td></tr>\n",
       "</tbody>\n",
       "</table>\n"
      ],
      "text/latex": [
       "\\begin{tabular}{r|ll}\n",
       " mean & var\\\\\n",
       "\\hline\n",
       "\t 3   & 2.5\\\\\n",
       "\\end{tabular}\n"
      ],
      "text/markdown": [
       "\n",
       "mean | var | \n",
       "|---|\n",
       "| 3   | 2.5 | \n",
       "\n",
       "\n"
      ],
      "text/plain": [
       "  mean var\n",
       "1 3    2.5"
      ]
     },
     "metadata": {},
     "output_type": "display_data"
    }
   ],
   "source": [
    "sqldf(\"select * from iris limit 5\")\n",
    "sqldf(\"select count(*) from iris\")\n",
    "sqldf(\"select Species, count(*) from iris group by Species\")\n",
    "# create a data frame\n",
    "DF <- data.frame(a = 1:5, b = letters[1:5])\n",
    "sqldf(\"select * from DF\")\n",
    "sqldf(\"select avg(a) mean, variance(a) var from DF\") # see example 15"
   ]
  },
  {
   "cell_type": "markdown",
   "metadata": {},
   "source": [
    "Other R & SQL article:   \n",
    "http://www.hackerearth.com/blog/machine-learning/exclusive-sql-tutorial-on-data-analysis-in-r/  "
   ]
  },
  {
   "cell_type": "markdown",
   "metadata": {},
   "source": [
    "## lubridate package\n",
    "\n",
    "* lubridate package provides a number of useful functions for reading, manipulating, and doing arithmetic with dates in R."
   ]
  },
  {
   "cell_type": "markdown",
   "metadata": {},
   "source": [
    "**Basics of Date Time in R**  \n",
    "There are three good options for date-time data types: built-in POSIXt, chron package, lubridate package. POSIXt has two types, namely POSIXct and POSIXlt. “ct” can stand for calendar time and “lt” is local time."
   ]
  },
  {
   "cell_type": "code",
   "execution_count": 11,
   "metadata": {},
   "outputs": [
    {
     "data": {
      "text/html": [
       "<time datetime=\"2015-12-01\">2015-12-01</time>"
      ],
      "text/latex": [
       "2015-12-01"
      ],
      "text/markdown": [
       "2015-12-01"
      ],
      "text/plain": [
       "[1] \"2015-12-01\""
      ]
     },
     "metadata": {},
     "output_type": "display_data"
    },
    {
     "data": {
      "text/html": [
       "<time datetime=\"2015-11-30\">2015-11-30</time>"
      ],
      "text/latex": [
       "2015-11-30"
      ],
      "text/markdown": [
       "2015-11-30"
      ],
      "text/plain": [
       "[1] \"2015-11-30\""
      ]
     },
     "metadata": {},
     "output_type": "display_data"
    },
    {
     "data": {
      "text/plain": [
       "Time difference of 1169 days"
      ]
     },
     "metadata": {},
     "output_type": "display_data"
    },
    {
     "data": {
      "text/plain": [
       "[1] \"2018-02-12 14:12:29 IST\""
      ]
     },
     "metadata": {},
     "output_type": "display_data"
    },
    {
     "data": {
      "text/html": [
       "<dl>\n",
       "\t<dt>$sec</dt>\n",
       "\t\t<dd>29.2010989189148</dd>\n",
       "\t<dt>$min</dt>\n",
       "\t\t<dd>12</dd>\n",
       "\t<dt>$hour</dt>\n",
       "\t\t<dd>14</dd>\n",
       "\t<dt>$mday</dt>\n",
       "\t\t<dd>12</dd>\n",
       "\t<dt>$mon</dt>\n",
       "\t\t<dd>1</dd>\n",
       "\t<dt>$year</dt>\n",
       "\t\t<dd>118</dd>\n",
       "\t<dt>$wday</dt>\n",
       "\t\t<dd>1</dd>\n",
       "\t<dt>$yday</dt>\n",
       "\t\t<dd>42</dd>\n",
       "\t<dt>$isdst</dt>\n",
       "\t\t<dd>0</dd>\n",
       "\t<dt>$zone</dt>\n",
       "\t\t<dd>'IST'</dd>\n",
       "\t<dt>$gmtoff</dt>\n",
       "\t\t<dd>19800</dd>\n",
       "</dl>\n"
      ],
      "text/latex": [
       "\\begin{description}\n",
       "\\item[\\$sec] 29.2010989189148\n",
       "\\item[\\$min] 12\n",
       "\\item[\\$hour] 14\n",
       "\\item[\\$mday] 12\n",
       "\\item[\\$mon] 1\n",
       "\\item[\\$year] 118\n",
       "\\item[\\$wday] 1\n",
       "\\item[\\$yday] 42\n",
       "\\item[\\$isdst] 0\n",
       "\\item[\\$zone] 'IST'\n",
       "\\item[\\$gmtoff] 19800\n",
       "\\end{description}\n"
      ],
      "text/markdown": [
       "$sec\n",
       ":   29.2010989189148\n",
       "$min\n",
       ":   12\n",
       "$hour\n",
       ":   14\n",
       "$mday\n",
       ":   12\n",
       "$mon\n",
       ":   1\n",
       "$year\n",
       ":   118\n",
       "$wday\n",
       ":   1\n",
       "$yday\n",
       ":   42\n",
       "$isdst\n",
       ":   0\n",
       "$zone\n",
       ":   'IST'\n",
       "$gmtoff\n",
       ":   19800\n",
       "\n",
       "\n"
      ],
      "text/plain": [
       "$sec\n",
       "[1] 29.2011\n",
       "\n",
       "$min\n",
       "[1] 12\n",
       "\n",
       "$hour\n",
       "[1] 14\n",
       "\n",
       "$mday\n",
       "[1] 12\n",
       "\n",
       "$mon\n",
       "[1] 1\n",
       "\n",
       "$year\n",
       "[1] 118\n",
       "\n",
       "$wday\n",
       "[1] 1\n",
       "\n",
       "$yday\n",
       "[1] 42\n",
       "\n",
       "$isdst\n",
       "[1] 0\n",
       "\n",
       "$zone\n",
       "[1] \"IST\"\n",
       "\n",
       "$gmtoff\n",
       "[1] 19800\n",
       "\n",
       "attr(,\"tzone\")\n",
       "[1] \"\"      \"IST\"   \"+0630\""
      ]
     },
     "metadata": {},
     "output_type": "display_data"
    },
    {
     "data": {
      "text/plain": [
       "[1] \"2008-04-06 10:11:00 IST\""
      ]
     },
     "metadata": {},
     "output_type": "display_data"
    },
    {
     "data": {
      "text/html": [
       "'04/06/2008 10:11 AM'"
      ],
      "text/latex": [
       "'04/06/2008 10:11 AM'"
      ],
      "text/markdown": [
       "'04/06/2008 10:11 AM'"
      ],
      "text/plain": [
       "[1] \"04/06/2008 10:11 AM\""
      ]
     },
     "metadata": {},
     "output_type": "display_data"
    }
   ],
   "source": [
    "# create a date\n",
    "as.Date(\"2015-12-1\")\n",
    "# specify the format\n",
    "as.Date(\"11/30/2015\", format = \"%m/%d/%Y\")\n",
    "# take a difference - Sys.Date() gives present day date\n",
    "Sys.Date() - as.Date(\"2014-12-01\")\n",
    "#using POSIXlt - find current time\n",
    "as.POSIXlt(Sys.time())\n",
    "#finds class of each data time component\n",
    "unclass(as.POSIXlt(Sys.time()))\n",
    "# create POSIXct variables\n",
    "as.POSIXct(\"080406 10:11\", format = \"%y%m%d %H:%M\")\n",
    "# convert POSIXct variables to character strings\n",
    "format(as.POSIXct(\"080406 10:11\", format = \"%y%m%d %H:%M\"), \"%m/%d/%Y %I:%M %p\")"
   ]
  },
  {
   "cell_type": "code",
   "execution_count": 12,
   "metadata": {},
   "outputs": [
    {
     "name": "stderr",
     "output_type": "stream",
     "text": [
      "Installing package into 'C:/Users/Suman/Documents/R/win-library/3.4'\n",
      "(as 'lib' is unspecified)\n"
     ]
    },
    {
     "name": "stdout",
     "output_type": "stream",
     "text": [
      "package 'lubridate' successfully unpacked and MD5 sums checked\n",
      "\n",
      "The downloaded binary packages are in\n",
      "\tC:\\Users\\Suman\\AppData\\Local\\Temp\\RtmpCmbjbo\\downloaded_packages\n"
     ]
    },
    {
     "name": "stderr",
     "output_type": "stream",
     "text": [
      "Warning message:\n",
      "\"package 'lubridate' was built under R version 3.4.3\"\n",
      "Attaching package: 'lubridate'\n",
      "\n",
      "The following object is masked from 'package:base':\n",
      "\n",
      "    date\n",
      "\n"
     ]
    }
   ],
   "source": [
    "install.packages('lubridate',repos = \"https://cran.r-project.org/\")\n",
    "library(lubridate)"
   ]
  },
  {
   "cell_type": "code",
   "execution_count": 13,
   "metadata": {},
   "outputs": [
    {
     "data": {
      "text/plain": [
       "[1] \"2018-02-12 14:16:36 IST\""
      ]
     },
     "metadata": {},
     "output_type": "display_data"
    },
    {
     "data": {
      "text/plain": [
       "[1] \"2013-10-12 14:16:37 IST\""
      ]
     },
     "metadata": {},
     "output_type": "display_data"
    },
    {
     "data": {
      "text/plain": [
       "[1] \"2018-02-13 14:16:37 IST\""
      ]
     },
     "metadata": {},
     "output_type": "display_data"
    },
    {
     "data": {
      "text/plain": [
       "[1] \"2018-02-26 14:16:37 IST\""
      ]
     },
     "metadata": {},
     "output_type": "display_data"
    },
    {
     "data": {
      "text/plain": [
       "[1] \"2021-02-11 14:16:37 IST\""
      ]
     },
     "metadata": {},
     "output_type": "display_data"
    },
    {
     "data": {
      "text/plain": [
       "[1] \"2018-02-12 16:16:37 IST\""
      ]
     },
     "metadata": {},
     "output_type": "display_data"
    },
    {
     "data": {
      "text/plain": [
       "[1] \"2018-02-12 15:06:37 IST\""
      ]
     },
     "metadata": {},
     "output_type": "display_data"
    },
    {
     "data": {
      "text/plain": [
       "[1] \"2018-02-12 14:17:37 IST\""
      ]
     },
     "metadata": {},
     "output_type": "display_data"
    },
    {
     "name": "stderr",
     "output_type": "stream",
     "text": [
      "Warning message in n_time$hour <- hour(now()):\n",
      "\"Coercing LHS to a list\""
     ]
    },
    {
     "data": {
      "text/html": [
       "<table>\n",
       "<thead><tr><th scope=col>n_time.hour</th><th scope=col>n_time.minute</th><th scope=col>n_time.second</th><th scope=col>n_time.month</th><th scope=col>n_time.year</th></tr></thead>\n",
       "<tbody>\n",
       "\t<tr><td>14      </td><td>16      </td><td>37.37412</td><td>2       </td><td>2018    </td></tr>\n",
       "</tbody>\n",
       "</table>\n"
      ],
      "text/latex": [
       "\\begin{tabular}{r|lllll}\n",
       " n\\_time.hour & n\\_time.minute & n\\_time.second & n\\_time.month & n\\_time.year\\\\\n",
       "\\hline\n",
       "\t 14       & 16       & 37.37412 & 2        & 2018    \\\\\n",
       "\\end{tabular}\n"
      ],
      "text/markdown": [
       "\n",
       "n_time.hour | n_time.minute | n_time.second | n_time.month | n_time.year | \n",
       "|---|\n",
       "| 14       | 16       | 37.37412 | 2        | 2018     | \n",
       "\n",
       "\n"
      ],
      "text/plain": [
       "  n_time.hour n_time.minute n_time.second n_time.month n_time.year\n",
       "1 14          16            37.37412      2            2018       "
      ]
     },
     "metadata": {},
     "output_type": "display_data"
    },
    {
     "data": {
      "text/html": [
       "5.6"
      ],
      "text/latex": [
       "5.6"
      ],
      "text/markdown": [
       "5.6"
      ],
      "text/plain": [
       "[1] 5.6"
      ]
     },
     "metadata": {},
     "output_type": "display_data"
    }
   ],
   "source": [
    "#current date and time\n",
    "now()\n",
    "\n",
    "#assigning current date and time to variable n_time\n",
    "n_time <- now()\n",
    "#using update function\n",
    "n_update <- update(n_time, year = 2013, month = 10)\n",
    "n_update\n",
    "\n",
    "#add days, months, year, seconds\n",
    "d_time <- now()\n",
    "d_time + ddays(1)\n",
    "\n",
    "d_time + dweeks(2)\n",
    "\n",
    "\n",
    "d_time + dyears(3)\n",
    "\n",
    "\n",
    "d_time + dhours(2)\n",
    "\n",
    "\n",
    "d_time + dminutes(50)\n",
    "\n",
    "\n",
    "d_time + dseconds(60)\n",
    "\n",
    "#extract date,time\n",
    "n_time$hour <- hour(now())\n",
    "n_time$minute <- minute(now())\n",
    "n_time$second <- second(now())\n",
    "n_time$month <- month(now())\n",
    "n_time$year <- year(now())\n",
    "#check the extracted dates in separate columns\n",
    "new_data <- data.frame(n_time$hour, n_time$minute, n_time$second, n_time$month, n_time$year)\n",
    "new_data\n",
    "5.6"
   ]
  },
  {
   "cell_type": "markdown",
   "metadata": {},
   "source": [
    "## stringr"
   ]
  }
 ],
 "metadata": {
  "celltoolbar": "Slideshow",
  "hide_input": false,
  "kernelspec": {
   "display_name": "R 3.4",
   "language": "R",
   "name": "ir34"
  },
  "language_info": {
   "codemirror_mode": "r",
   "file_extension": ".r",
   "mimetype": "text/x-r-source",
   "name": "R",
   "pygments_lexer": "r",
   "version": "3.4.2"
  },
  "nav_menu": {},
  "toc": {
   "navigate_menu": true,
   "number_sections": true,
   "sideBar": true,
   "threshold": 6,
   "toc_cell": false,
   "toc_section_display": "block",
   "toc_window_display": false
  }
 },
 "nbformat": 4,
 "nbformat_minor": 2
}
