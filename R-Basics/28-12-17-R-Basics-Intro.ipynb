{
 "cells": [
  {
   "cell_type": "markdown",
   "metadata": {},
   "source": [
    "## Softwares"
   ]
  },
  {
   "cell_type": "markdown",
   "metadata": {},
   "source": [
    "* Base R GUI\n",
    "* R-Studio"
   ]
  },
  {
   "cell_type": "markdown",
   "metadata": {
    "run_control": {
     "frozen": false,
     "read_only": false
    }
   },
   "source": [
    "## Installation"
   ]
  },
  {
   "cell_type": "markdown",
   "metadata": {},
   "source": [
    "### Base R GUI"
   ]
  },
  {
   "cell_type": "markdown",
   "metadata": {},
   "source": [
    "https://cran.r-project.org/"
   ]
  },
  {
   "cell_type": "markdown",
   "metadata": {},
   "source": [
    "### R-Studio"
   ]
  },
  {
   "cell_type": "markdown",
   "metadata": {},
   "source": [
    "https://www.rstudio.com/"
   ]
  },
  {
   "cell_type": "markdown",
   "metadata": {},
   "source": [
    "## Syntax"
   ]
  },
  {
   "cell_type": "markdown",
   "metadata": {},
   "source": [
    "* R programming is case sensitive, which means for example a letter ‘m’ is not equal to ‘M’\n",
    "* Comments can be written by using # at the beginning of the statement\n",
    "* We can Run single/multiple lines of code. This is much more ﬂexible because of it’s interpreted nature\n",
    "* Script ﬁles are saved with .R extension, workspace saved with .RData, code history saved with .Rhistory\n",
    "* R has two assignment operators which can assign values into objects. less than symbol followed by the\n",
    "hyphen (<-) or Equal operator (=)"
   ]
  },
  {
   "cell_type": "markdown",
   "metadata": {},
   "source": [
    "## Basic Functions"
   ]
  },
  {
   "cell_type": "code",
   "execution_count": null,
   "metadata": {},
   "outputs": [],
   "source": [
    "# sqrt() function computes the square root of a numeric vector.\n",
    "\n",
    "# sqrt(x)\n",
    "\n",
    "# x: numeric or complex vector, array\n",
    "sqrt(9)\n",
    "sqrt(-1)\n",
    "sqrt(3+5i)\n",
    "sqrt(c(4,9,16))"
   ]
  },
  {
   "cell_type": "code",
   "execution_count": null,
   "metadata": {},
   "outputs": [],
   "source": [
    "# rep() function replicates the values in x.\n",
    "\n",
    "# rep(x, ...)\n",
    "# rep.int(x, times)\n",
    "\n",
    "# x: numeric vector\n",
    "# ...: arguments including times (default = 1), length.out, each (each elements how many times)\n",
    "\n",
    "x <- rep(1:5)\n",
    "\n",
    "# Repeat 1 -5 two times:\n",
    "x <- rep(1:5,2)"
   ]
  },
  {
   "cell_type": "code",
   "execution_count": null,
   "metadata": {},
   "outputs": [],
   "source": [
    "#seq\n",
    "\n",
    "# seq() function generates a sequence of numbers.\n",
    "\n",
    "# seq(from = 1, to = 1, by = ((to - from)/(length.out - 1)),\n",
    "#     length.out = NULL, along.with = NULL, ...)\n",
    "\n",
    "# • from, to: begin and end number of the sequence\n",
    "# • by: step, increment (Default is 1)\n",
    "# • length.out: length of the sequence\n",
    "# ... \n",
    "\n",
    "# Generate a sequence from -6 to 7:\n",
    "x <- seq(-6,7)\n",
    "\n",
    "\n",
    "\n",
    "# From -6 till 7, step=2:\n",
    "x <- seq(-6,7,by=2)\n",
    "x\n",
    "\n",
    "\n",
    "# Let's try smaller step:\n",
    "x <- seq(-2,2,by=0.3)\n",
    "x"
   ]
  },
  {
   "cell_type": "code",
   "execution_count": null,
   "metadata": {},
   "outputs": [],
   "source": [
    "# abs() function computes the absolute value of numeric data.\n",
    "abs(x)\n",
    "# x: Numeric value, array or vector\n",
    "abs(-1)\n",
    "abs(20)\n",
    "\n"
   ]
  },
  {
   "cell_type": "code",
   "execution_count": null,
   "metadata": {},
   "outputs": [],
   "source": [
    "factorial() function computes the factorial of a number.\n",
    "\n",
    "factorial(x)\n",
    "\n",
    "# x: numeric vector\n",
    "\n",
    "\n",
    "factorial(2)  #2 × 1\n",
    "\n",
    "\n",
    "factorial(1)   #1 × 1\n",
    "\n",
    "\n",
    " factorial(3)  #3 × 2 × 1\n",
    "\n",
    "\n",
    " factorial(4)  #4 × 3 × 2 × 1\n",
    "\n",
    "\n",
    " factorial(c(4,3,2))\n"
   ]
  },
  {
   "cell_type": "code",
   "execution_count": null,
   "metadata": {},
   "outputs": [],
   "source": [
    "# log10() function computes base 10 logarithm.\n",
    "\n",
    "log10(x)\n",
    "\n",
    "# x: numeric vector\n",
    "\n",
    "\n",
    "log10(100)\n",
    "\n",
    "\n",
    "x <- c(100,1000, 10000)\n",
    " log10(x)\n",
    "\n"
   ]
  },
  {
   "cell_type": "code",
   "execution_count": null,
   "metadata": {},
   "outputs": [],
   "source": [
    "# toupper() function converts a string to its upper case.\n",
    "\n",
    "toupper(x)\n",
    "\n",
    "# x: character vector\n",
    "\n",
    "\n",
    "x <- c(\"Green\", \"Red\", \"Black\")\n",
    "toupper(x)\n",
    "\n",
    "# tolower() function converter string to its lower case.\n",
    "\n",
    "tolower(x)\n",
    "\n",
    "# x: character vector\n",
    "\n",
    "\n",
    "tolower(\"EndMemo R Tutorial\")\n",
    "\n",
    "\n",
    "x <- c(\"Green\", \"Red\", \"Black\")\n",
    "tolower(x)\n",
    "\n"
   ]
  },
  {
   "cell_type": "code",
   "execution_count": null,
   "metadata": {},
   "outputs": [],
   "source": [
    "# strsplit() function splits the elements of a character vector x into substrings according to the matches to substring split within them.\n",
    "\n",
    "# strsplit(x, split, fixed = FALSE, perl = FALSE, useBytes = FALSE)\n",
    "y <- strsplit(x,\"t\")\n",
    "y\n",
    "\n",
    "unlist(y)\n"
   ]
  },
  {
   "cell_type": "code",
   "execution_count": null,
   "metadata": {},
   "outputs": [],
   "source": [
    "# Paste\n",
    "\n",
    "# Concatenate vectors after converting to character.\n",
    "\n",
    "\n",
    "# Usage:\n",
    "\n",
    "# paste(..., sep = \" \", collapse = NULL)\n",
    "\n",
    "# Arguments:\n",
    "\n",
    "# ...:\tone or more R objects, to be converted to character vectors.\n",
    "# sep:\ta character string to separate the terms.\n",
    "# collapse:\tan optional character string to separate the results.\n"
   ]
  },
  {
   "cell_type": "code",
   "execution_count": null,
   "metadata": {},
   "outputs": [],
   "source": [
    "# substr() function extract or replace substrings in a character vector.\n",
    "\n",
    "# substr(x, start, stop)\n",
    "# substring(text, first, last = 1000000L)\n",
    "# substr(x, start, stop) <- value\n",
    "# substring(text, first, last = 1000000L) <- value\n",
    "\n",
    "# x,text: character vector\n",
    "# start, first: integer, the first element to be replaced\n",
    "# stop, last: integer, the last element to be replaced\n",
    "# value: character vector, recycled if necessary\n",
    "\n",
    "\n",
    "substr(\"tutorial\",2,3)\n",
    "\n",
    "\n",
    "x <- c(\"green\",\"red\",\"blue\")\n",
    "substr(x,2,3)\n"
   ]
  },
  {
   "cell_type": "markdown",
   "metadata": {},
   "source": [
    "## Help and Documentation"
   ]
  },
  {
   "cell_type": "markdown",
   "metadata": {},
   "source": [
    "### help()"
   ]
  },
  {
   "cell_type": "code",
   "execution_count": 6,
   "metadata": {},
   "outputs": [
    {
     "data": {},
     "metadata": {},
     "output_type": "display_data"
    }
   ],
   "source": [
    "# To access documentation for the standard lm (linear model) function\n",
    "help(lm) \n",
    "#or\n",
    "help(\"lm\")\n",
    "help(package=\"MASS\")"
   ]
  },
  {
   "cell_type": "markdown",
   "metadata": {},
   "source": [
    "### ?"
   ]
  },
  {
   "cell_type": "code",
   "execution_count": 7,
   "metadata": {},
   "outputs": [],
   "source": [
    "?lm \n",
    "?\"lm\""
   ]
  },
  {
   "cell_type": "code",
   "execution_count": null,
   "metadata": {
    "run_control": {
     "marked": false
    },
    "scrolled": true
   },
   "outputs": [],
   "source": [
    "# To access help for a function in a package that’s not currently loaded\n",
    "help(package=\"MASS\")\n",
    "# to get some examples from a function\n",
    "example(lm)"
   ]
  },
  {
   "cell_type": "markdown",
   "metadata": {},
   "source": [
    "### apropos"
   ]
  },
  {
   "cell_type": "code",
   "execution_count": 9,
   "metadata": {},
   "outputs": [
    {
     "data": {
      "text/html": [
       "<ol class=list-inline>\n",
       "\t<li>'glm'</li>\n",
       "\t<li>'glm.control'</li>\n",
       "\t<li>'glm.fit'</li>\n",
       "</ol>\n"
      ],
      "text/latex": [
       "\\begin{enumerate*}\n",
       "\\item 'glm'\n",
       "\\item 'glm.control'\n",
       "\\item 'glm.fit'\n",
       "\\end{enumerate*}\n"
      ],
      "text/markdown": [
       "1. 'glm'\n",
       "2. 'glm.control'\n",
       "3. 'glm.fit'\n",
       "\n",
       "\n"
      ],
      "text/plain": [
       "[1] \"glm\"         \"glm.control\" \"glm.fit\"    "
      ]
     },
     "metadata": {},
     "output_type": "display_data"
    }
   ],
   "source": [
    "apropos(\"^glm\")"
   ]
  },
  {
   "cell_type": "markdown",
   "metadata": {},
   "source": [
    "### help.search() and ??"
   ]
  },
  {
   "cell_type": "code",
   "execution_count": 10,
   "metadata": {},
   "outputs": [
    {
     "data": {},
     "metadata": {},
     "output_type": "display_data"
    }
   ],
   "source": [
    "help.search(\"^glm\")"
   ]
  },
  {
   "cell_type": "markdown",
   "metadata": {},
   "source": [
    "### help.start()"
   ]
  },
  {
   "cell_type": "code",
   "execution_count": 11,
   "metadata": {},
   "outputs": [
    {
     "name": "stdout",
     "output_type": "stream",
     "text": [
      "If nothing happens, you should open\n",
      "'http://127.0.0.1:18431/doc/html/index.html' yourself\n"
     ]
    }
   ],
   "source": [
    "# Manuals and Materials for learning\n",
    "help.start()"
   ]
  },
  {
   "cell_type": "markdown",
   "metadata": {},
   "source": [
    "### Vignettes and Code Demonstrations\n",
    "* browseVignettes()\n",
    "* vignette() \n",
    "* demo()"
   ]
  },
  {
   "cell_type": "code",
   "execution_count": 14,
   "metadata": {},
   "outputs": [
    {
     "data": {},
     "metadata": {},
     "output_type": "display_data"
    },
    {
     "data": {},
     "metadata": {},
     "output_type": "display_data"
    },
    {
     "data": {},
     "metadata": {},
     "output_type": "display_data"
    }
   ],
   "source": [
    "# browseVignettes(package=package-name)\n",
    "browseVignettes(package=\"survival\")\n",
    "# vignette(\"vignette-name\")\n",
    "vignette(\"timedep\")\n",
    "vignette(\"timedep\", package=\"survival\")\n",
    "# The command demo() lists all demos for all packages \n",
    "demo(package=\"stats\")"
   ]
  },
  {
   "cell_type": "code",
   "execution_count": null,
   "metadata": {},
   "outputs": [],
   "source": [
    "# Browse for Vignettes\n",
    "browseVignettes()"
   ]
  }
 ],
 "metadata": {
  "kernelspec": {
   "display_name": "R 3.4",
   "language": "R",
   "name": "ir34"
  },
  "language_info": {
   "codemirror_mode": "r",
   "file_extension": ".r",
   "mimetype": "text/x-r-source",
   "name": "R",
   "pygments_lexer": "r",
   "version": "3.4.2"
  },
  "nav_menu": {},
  "toc": {
   "navigate_menu": true,
   "number_sections": true,
   "sideBar": true,
   "threshold": 6,
   "toc_cell": false,
   "toc_section_display": "block",
   "toc_window_display": false
  }
 },
 "nbformat": 4,
 "nbformat_minor": 2
}
