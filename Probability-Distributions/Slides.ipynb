{
 "cells": [
  {
   "cell_type": "markdown",
   "metadata": {
    "slideshow": {
     "slide_type": "slide"
    }
   },
   "source": [
    "## Probability"
   ]
  },
  {
   "cell_type": "markdown",
   "metadata": {
    "slideshow": {
     "slide_type": "fragment"
    }
   },
   "source": [
    "Probability is the likelihood that a **random variable** will take on a certain value."
   ]
  },
  {
   "cell_type": "markdown",
   "metadata": {
    "slideshow": {
     "slide_type": "fragment"
    }
   },
   "source": [
    "EX: There is an 85% chance of snow tomorrow. Variable: Weather, Possible values: Snow, No snow."
   ]
  },
  {
   "cell_type": "markdown",
   "metadata": {
    "slideshow": {
     "slide_type": "slide"
    }
   },
   "source": [
    "## Random Variable"
   ]
  },
  {
   "cell_type": "markdown",
   "metadata": {
    "slideshow": {
     "slide_type": "fragment"
    }
   },
   "source": [
    "A **random variable** is a rule that assigns a numerical value to each possible outcome of a probabilistic experiment\n",
    "\n",
    "We denote a random variable by a capital letter (such as “X”)  \n",
    "\n",
    "**Examples of random variables:**  \n",
    "r.v. X: the age of a randomly selected student here today.  \n",
    "\n",
    "r.v. Y: the number of planes completed in the past week.  \n"
   ]
  },
  {
   "cell_type": "markdown",
   "metadata": {
    "slideshow": {
     "slide_type": "slide"
    }
   },
   "source": [
    "## Discrete and Continuous Random Variables "
   ]
  },
  {
   "cell_type": "raw",
   "metadata": {
    "slideshow": {
     "slide_type": "subslide"
    }
   },
   "source": [
    "A discrete variable is a variable whose value is obtained by counting. \n",
    "\n",
    "Examples:   number of students present\n",
    "\n",
    "            number of red marbles in a jar\n",
    "\n",
    "            number of heads when flipping three coins\n",
    "\n",
    "            students’ grade level "
   ]
  },
  {
   "cell_type": "raw",
   "metadata": {
    "slideshow": {
     "slide_type": "subslide"
    }
   },
   "source": [
    "A continuous variable is a variable whose value is obtained by measuring. \n",
    "\n",
    "Examples:   height of students in class\n",
    "\n",
    "                weight of students in class\n",
    "\n",
    "                time it takes to get to school\n",
    "\n",
    "                distance traveled between classes"
   ]
  },
  {
   "cell_type": "markdown",
   "metadata": {
    "slideshow": {
     "slide_type": "subslide"
    }
   },
   "source": [
    "A **continuous random variable** X takes all values in a given interval of numbers.  \n",
    " \n",
    "▪        The probability distribution of a continuous random variable is shown by a density curve.  \n",
    "▪        The probability that X is between an interval of numbers is the area under the density curve between the interval endpoints  \n",
    "▪        The probability that a continuous random variable X is exactly equal to a number is zero  \n",
    "\n",
    "\n",
    "A **discrete random variable**     \n",
    "* a random variable X can assume only a particular finite or countably infinite set of values \n"
   ]
  },
  {
   "cell_type": "markdown",
   "metadata": {
    "cell_style": "split",
    "slideshow": {
     "slide_type": "subslide"
    }
   },
   "source": [
    "![Imgur](https://i.imgur.com/KIwYqqd.png?1)"
   ]
  },
  {
   "cell_type": "markdown",
   "metadata": {
    "cell_style": "split",
    "slideshow": {
     "slide_type": "fragment"
    }
   },
   "source": [
    "![Imgur](https://i.imgur.com/dZkju0p.png?1)\n",
    "    "
   ]
  },
  {
   "cell_type": "markdown",
   "metadata": {
    "cell_style": "center",
    "slideshow": {
     "slide_type": "slide"
    }
   },
   "source": [
    "## Probability Distribution: \n",
    "\n",
    "* How the probabilities are distributed over the values of a random variable \n",
    "* The set of all possible values of a random variable with the associated probabilities of each.  \n",
    "* is a specification in the form of a graph, a table or a function.    "
   ]
  },
  {
   "cell_type": "markdown",
   "metadata": {
    "slideshow": {
     "slide_type": "subslide"
    }
   },
   "source": [
    "### Discrete Probability Distribution\n",
    "* Random variable is discrete (usually frequency or counts)\n",
    "* Probability distribution is a table (each possible values is a probability of the occurence of a random variable)\n",
    "* A probability of discrete random variable have a perticular value between 0 and 1\n",
    "* Example: binomial, poisson"
   ]
  },
  {
   "cell_type": "markdown",
   "metadata": {
    "slideshow": {
     "slide_type": "subslide"
    }
   },
   "source": [
    "![Imgur](https://i.imgur.com/w3Mo2PM.png?1)"
   ]
  },
  {
   "cell_type": "markdown",
   "metadata": {
    "slideshow": {
     "slide_type": "subslide"
    }
   },
   "source": [
    "<a href=\"https://imgur.com/nWcXHUN\"><img src=\"https://i.imgur.com/nWcXHUN.png?1\" title=\"source: imgur.com\" /></a>    "
   ]
  },
  {
   "cell_type": "markdown",
   "metadata": {
    "slideshow": {
     "slide_type": "subslide"
    }
   },
   "source": [
    "![Imgur](https://i.imgur.com/tHF3QEr.png?1)"
   ]
  },
  {
   "cell_type": "markdown",
   "metadata": {
    "slideshow": {
     "slide_type": "slide"
    }
   },
   "source": [
    "### Continuous Probability Distribution\n",
    "\n",
    "* Infinite number of values in between any two points\n",
    "* The probability that a continuous random variable will assume a particular value is zero.\n",
    "* As a result, a continuous probability distribution cannot be expressed in tabular form.\n",
    "* Instead, an equation or formula is used to describe a continuous probability distribution.\n",
    "* Area under curve is matter\n",
    "* Example: Uniform, Normal, Student's t, Chi-Square and F-distributions  "
   ]
  },
  {
   "cell_type": "markdown",
   "metadata": {
    "slideshow": {
     "slide_type": "subslide"
    }
   },
   "source": [
    "![Imgur](https://i.imgur.com/s3rryVZ.png?1)"
   ]
  },
  {
   "cell_type": "markdown",
   "metadata": {
    "slideshow": {
     "slide_type": "slide"
    }
   },
   "source": [
    "![Imgur](https://i.imgur.com/eUf8UHE.png?1)"
   ]
  },
  {
   "cell_type": "markdown",
   "metadata": {
    "slideshow": {
     "slide_type": "slide"
    }
   },
   "source": [
    "## Probability mass function vs Probability density function Vs Cumulative distribution function"
   ]
  },
  {
   "cell_type": "markdown",
   "metadata": {
    "slideshow": {
     "slide_type": "fragment"
    }
   },
   "source": [
    "![Imgur](https://i.imgur.com/yEKvA7X.png)"
   ]
  },
  {
   "cell_type": "markdown",
   "metadata": {
    "cell_style": "split",
    "slideshow": {
     "slide_type": "slide"
    }
   },
   "source": [
    "![Imgura](https://i.imgur.com/6tESJ02.png?1)"
   ]
  },
  {
   "cell_type": "markdown",
   "metadata": {
    "cell_style": "split",
    "slideshow": {
     "slide_type": "fragment"
    }
   },
   "source": [
    "![Imgurb](https://i.imgur.com/e87OmdI.png?1)"
   ]
  },
  {
   "cell_type": "markdown",
   "metadata": {
    "slideshow": {
     "slide_type": "slide"
    }
   },
   "source": [
    "![Imgur](https://i.imgur.com/plFlXc7.png?1)"
   ]
  },
  {
   "cell_type": "markdown",
   "metadata": {
    "cell_style": "split",
    "slideshow": {
     "slide_type": "slide"
    }
   },
   "source": [
    "![Imgur](https://i.imgur.com/OJtvfAO.png?1)"
   ]
  },
  {
   "cell_type": "markdown",
   "metadata": {
    "cell_style": "split",
    "slideshow": {
     "slide_type": "fragment"
    }
   },
   "source": [
    "![Imgur](https://i.imgur.com/MLebJZI.png?1)"
   ]
  },
  {
   "cell_type": "markdown",
   "metadata": {
    "slideshow": {
     "slide_type": "subslide"
    }
   },
   "source": [
    "![Imgur](https://i.imgur.com/pzErpD0.png?1)"
   ]
  },
  {
   "cell_type": "markdown",
   "metadata": {
    "slideshow": {
     "slide_type": "slide"
    }
   },
   "source": [
    "### dbinom()"
   ]
  },
  {
   "cell_type": "raw",
   "metadata": {
    "slideshow": {
     "slide_type": "subslide"
    }
   },
   "source": [
    "• x. This is a number, or vector of numbers, specifying the outcomes whose probability you’re trying\n",
    "to calculate.\n",
    "• size. This is a number telling R the size of the experiment.\n",
    "• prob. This is the success probability for any one trial in the experiment."
   ]
  },
  {
   "cell_type": "markdown",
   "metadata": {
    "slideshow": {
     "slide_type": "slide"
    }
   },
   "source": [
    "## Working with Distributions in R"
   ]
  },
  {
   "cell_type": "markdown",
   "metadata": {
    "slideshow": {
     "slide_type": "fragment"
    }
   },
   "source": [
    "Common Distribution-Type Arguments  \n",
    "Almost all the R functions that generate values of probability distributions work the  \n",
    "same way. They follow a similar naming convention:    \n",
    "\n",
    "• p cumulative **probability** distribution function (Direct Look-Up-c. d. f.)  \n",
    "• d probability **density** function ((p. f. or p. d. f.))  \n",
    "• q **quantile** function (inverse cumulative distribution-inverse c. d. f))  \n",
    "• r **random** sample (for simulation/random number generation)  "
   ]
  },
  {
   "cell_type": "code",
   "execution_count": 14,
   "metadata": {
    "collapsed": true,
    "run_control": {
     "frozen": false,
     "read_only": false
    },
    "slideshow": {
     "slide_type": "slide"
    }
   },
   "outputs": [],
   "source": [
    "# help(\"distributions\")\n"
   ]
  },
  {
   "cell_type": "markdown",
   "metadata": {
    "slideshow": {
     "slide_type": "slide"
    }
   },
   "source": [
    "### The Normal Distribtion"
   ]
  },
  {
   "cell_type": "markdown",
   "metadata": {
    "slideshow": {
     "slide_type": "subslide"
    }
   },
   "source": [
    "**Direct Look-Up**  \n",
    "pnorm is the R function that calculates the c. d. f.  \n",
    "  \n",
    "F(x) = P(X <= x)  \n",
    "where X is normal. Optional arguments described on the on-line documentation specify the parameters of the particular normal distribution.\n",
    "Both of the R commands in the box below do exactly the same thing.  "
   ]
  },
  {
   "cell_type": "code",
   "execution_count": 15,
   "metadata": {
    "run_control": {
     "frozen": false,
     "read_only": false
    },
    "slideshow": {
     "slide_type": "fragment"
    }
   },
   "outputs": [
    {
     "data": {
      "text/html": [
       "0.129238112240018"
      ],
      "text/latex": [
       "0.129238112240018"
      ],
      "text/markdown": [
       "0.129238112240018"
      ],
      "text/plain": [
       "[1] 0.1292381"
      ]
     },
     "metadata": {},
     "output_type": "display_data"
    },
    {
     "data": {
      "text/html": [
       "0.129238112240018"
      ],
      "text/latex": [
       "0.129238112240018"
      ],
      "text/markdown": [
       "0.129238112240018"
      ],
      "text/plain": [
       "[1] 0.1292381"
      ]
     },
     "metadata": {},
     "output_type": "display_data"
    }
   ],
   "source": [
    "pnorm(27.4, mean=50, sd=20)\n",
    "pnorm(27.4, 50, 20)\n",
    "\n",
    "# zThey look up P(X < 27.4) when X is normal with mean 50 and standard deviation 20.\n",
    "# Example"
   ]
  },
  {
   "cell_type": "raw",
   "metadata": {
    "slideshow": {
     "slide_type": "slide"
    }
   },
   "source": [
    "Question: Suppose widgit weights produced at Acme Widgit Works have weights that are normally distributed with mean 17.46 grams and variance 375.67 grams. What is the probability that a randomly chosen widgit weighs more then 19 grams?\n",
    "\n",
    "Question Rephrased: What is P(X > 19) when X has the N(17.46, 375.67) distribution?"
   ]
  },
  {
   "cell_type": "code",
   "execution_count": 16,
   "metadata": {
    "slideshow": {
     "slide_type": "fragment"
    }
   },
   "outputs": [
    {
     "data": {
      "text/html": [
       "0.468335635789911"
      ],
      "text/latex": [
       "0.468335635789911"
      ],
      "text/markdown": [
       "0.468335635789911"
      ],
      "text/plain": [
       "[1] 0.4683356"
      ]
     },
     "metadata": {},
     "output_type": "display_data"
    }
   ],
   "source": [
    "1 - pnorm(19, mean = 17.46, sd = sqrt(375.67))"
   ]
  },
  {
   "cell_type": "markdown",
   "metadata": {
    "slideshow": {
     "slide_type": "slide"
    }
   },
   "source": [
    "**Inverse Look-Up**  \n",
    "qnorm is the R function that calculates the inverse c. d. f. F-1 of the normal distribution The c. d. f. and the inverse c. d. f. are related by  \n",
    "   \n",
    "p = F(x)  \n",
    "x = F-1(p)  \n",
    "So given a number p between zero and one, qnorm looks up the p-th quantile of the normal distribution. As with pnorm, optional arguments specify the mean and standard deviation of the distribution.  \n"
   ]
  },
  {
   "cell_type": "raw",
   "metadata": {
    "slideshow": {
     "slide_type": "subslide"
    }
   },
   "source": [
    "Question: Suppose IQ scores are normally distributed with mean 100 and standard deviation 15. What is the 95th percentile of the distribution of IQ scores?\n",
    "\n",
    "Question Rephrased: What is F-1(0.95) when X has the N(100, 152) distribution?"
   ]
  },
  {
   "cell_type": "code",
   "execution_count": 17,
   "metadata": {
    "slideshow": {
     "slide_type": "fragment"
    }
   },
   "outputs": [
    {
     "data": {
      "text/html": [
       "124.672804404272"
      ],
      "text/latex": [
       "124.672804404272"
      ],
      "text/markdown": [
       "124.672804404272"
      ],
      "text/plain": [
       "[1] 124.6728"
      ]
     },
     "metadata": {},
     "output_type": "display_data"
    }
   ],
   "source": [
    "qnorm(0.95, mean = 100, sd = 15)"
   ]
  },
  {
   "cell_type": "markdown",
   "metadata": {
    "slideshow": {
     "slide_type": "slide"
    }
   },
   "source": [
    "**Density**  \n",
    "dnorm is the R function that calculates the p. d. f. f of the normal distribution. As with pnorm and qnorm, optional arguments specify the mean and standard deviation of the distribution.\n",
    "\n",
    "There's not much need for this function in doing calculations, because you need to do integrals to use any p. d. f., and R doesn't do integrals. In fact, there's not much use for the \"d\" function for any continuous distribution (discrete distributions are entirely another matter, for them the \"d\" functions are very useful, see the section about dbinom).\n"
   ]
  },
  {
   "cell_type": "markdown",
   "metadata": {
    "slideshow": {
     "slide_type": "slide"
    }
   },
   "source": [
    "**Random Variates**  \n",
    "rnorm is the R function that simulates random variates having a specified normal distribution. As with pnorm, qnorm, and dnorm, optional arguments specify the mean and standard deviation of the distribution."
   ]
  },
  {
   "cell_type": "code",
   "execution_count": 18,
   "metadata": {
    "slideshow": {
     "slide_type": "subslide"
    }
   },
   "outputs": [
    {
     "data": {
      "image/png": "[encoded data removed]",
      "text/plain": [
       "Plot with title \"Histogram of x\""
      ]
     },
     "metadata": {},
     "output_type": "display_data"
    }
   ],
   "source": [
    "x <- rnorm(1000, mean = 100, sd = 15)\n",
    "hist(x, probability = TRUE)\n",
    "xx <- seq(min(x), max(x), length = 100)\n",
    "lines(xx, dnorm(xx, mean = 100, sd = 15))\n",
    "\n",
    "# This generates 1000 i. i. d. normal random numbers (first line), plots their\n",
    "# histogram (second line), and graphs the p. d. f. of the same normal\n",
    "# distribution (third and forth lines)."
   ]
  },
  {
   "cell_type": "markdown",
   "metadata": {
    "slideshow": {
     "slide_type": "slide"
    }
   },
   "source": [
    "**he Binomial Distribtion**  \n",
    "**Direct Look-Up, Points**  \n",
    "dbinom is the R function that calculates the p. f. of the binomial distribution. Optional arguments described on the on-line documentation specify the parameters of the particular binomial distribution.\n",
    "\n",
    "Both of the R commands in the box below do exactly the same thing."
   ]
  },
  {
   "cell_type": "code",
   "execution_count": 19,
   "metadata": {
    "slideshow": {
     "slide_type": "subslide"
    }
   },
   "outputs": [
    {
     "data": {
      "text/html": [
       "0.0806407548759012"
      ],
      "text/latex": [
       "0.0806407548759012"
      ],
      "text/markdown": [
       "0.0806407548759012"
      ],
      "text/plain": [
       "[1] 0.08064075"
      ]
     },
     "metadata": {},
     "output_type": "display_data"
    },
    {
     "data": {
      "text/html": [
       "0.0806407548759012"
      ],
      "text/latex": [
       "0.0806407548759012"
      ],
      "text/markdown": [
       "0.0806407548759012"
      ],
      "text/plain": [
       "[1] 0.08064075"
      ]
     },
     "metadata": {},
     "output_type": "display_data"
    }
   ],
   "source": [
    "dbinom(27, size=100, prob=0.25)\n",
    "dbinom(27, 100, 0.25)\n",
    "\n",
    "# They look up P(X = 27) when X is has the Bin(100, 0.25) distribution."
   ]
  },
  {
   "cell_type": "raw",
   "metadata": {
    "slideshow": {
     "slide_type": "subslide"
    }
   },
   "source": [
    "Example\n",
    "Question: Suppose widgits produced at Acme Widgit Works have probability 0.005 of being defective. Suppose widgits are shipped in cartons containing 25 widgits. What is the probability that a randomly chosen carton contains exactly one defective widgit?\n",
    "\n",
    "Question Rephrased: What is P(X = 1) when X has the Bin(25, 0.005) distribution?"
   ]
  },
  {
   "cell_type": "code",
   "execution_count": 20,
   "metadata": {
    "slideshow": {
     "slide_type": "fragment"
    }
   },
   "outputs": [
    {
     "data": {
      "text/html": [
       "0.110831688812663"
      ],
      "text/latex": [
       "0.110831688812663"
      ],
      "text/markdown": [
       "0.110831688812663"
      ],
      "text/plain": [
       "[1] 0.1108317"
      ]
     },
     "metadata": {},
     "output_type": "display_data"
    }
   ],
   "source": [
    "dbinom(1, 25, 0.005)"
   ]
  },
  {
   "cell_type": "markdown",
   "metadata": {
    "slideshow": {
     "slide_type": "slide"
    }
   },
   "source": [
    "**Direct Look-Up, Intervals**  \n",
    "pbinom is the R function that calculates the c. d. f. of the binomial distribution. Optional arguments described on the on-line documentation specify the parameters of the particular binomial distribution.\n",
    "\n",
    "Both of the R commands in the box below do exactly the same thing."
   ]
  },
  {
   "cell_type": "code",
   "execution_count": 21,
   "metadata": {
    "slideshow": {
     "slide_type": "subslide"
    }
   },
   "outputs": [
    {
     "data": {
      "text/html": [
       "0.722380513115339"
      ],
      "text/latex": [
       "0.722380513115339"
      ],
      "text/markdown": [
       "0.722380513115339"
      ],
      "text/plain": [
       "[1] 0.7223805"
      ]
     },
     "metadata": {},
     "output_type": "display_data"
    },
    {
     "data": {
      "text/html": [
       "0.722380513115339"
      ],
      "text/latex": [
       "0.722380513115339"
      ],
      "text/markdown": [
       "0.722380513115339"
      ],
      "text/plain": [
       "[1] 0.7223805"
      ]
     },
     "metadata": {},
     "output_type": "display_data"
    }
   ],
   "source": [
    "pbinom(27, size = 100, prob = 0.25)\n",
    "pbinom(27, 100, 0.25)\n",
    "# They look up P(X <= 27) when X is has the Bin(100, 0.25) distribution. (Note\n",
    "# the less than or equal to sign. It's important when working with a discrete\n",
    "# distribution!)"
   ]
  },
  {
   "cell_type": "raw",
   "metadata": {
    "slideshow": {
     "slide_type": "slide"
    }
   },
   "source": [
    "Example\n",
    "Question: Suppose widgits produced at Acme Widgit Works have probability 0.005 of being defective. Suppose widgits are shipped in cartons containing 25 widgits. What is the probability that a randomly chosen carton contains no more than one defective widgit?\n",
    "\n",
    "Question Rephrased: What is P(X <= 1) when X has the Bin(25, 0.005) distribution?"
   ]
  },
  {
   "cell_type": "code",
   "execution_count": 22,
   "metadata": {
    "slideshow": {
     "slide_type": "fragment"
    }
   },
   "outputs": [
    {
     "data": {
      "text/html": [
       "0.993051931761465"
      ],
      "text/latex": [
       "0.993051931761465"
      ],
      "text/markdown": [
       "0.993051931761465"
      ],
      "text/plain": [
       "[1] 0.9930519"
      ]
     },
     "metadata": {},
     "output_type": "display_data"
    }
   ],
   "source": [
    "pbinom(1, 25, 0.005)"
   ]
  },
  {
   "cell_type": "markdown",
   "metadata": {
    "slideshow": {
     "slide_type": "slide"
    }
   },
   "source": [
    "**Inverse Look-Up**  \n",
    "qbinom is the R function that calculates the \"inverse c. d. f.\" of the binomial distribution. How does it do that when the c. d. f. is a step function and hence not invertible? The on-line documentation for the binomial probability functions explains.\n",
    "  \n",
    "The quantile is defined as the smallest value x such that F(x) >= p, where F is the distribution function.\n",
    "When the p-th quantile is nonunique, there is a whole interval of values each of which is a p-th quantile. The documentation says that qbinom (and other \"q\" functions, for that matter) returns the smallest of these values. That is one sensible definition of an \"inverse c. d. f.\" In the terminology of Section  of the course notes, the function defined by qbinom is a right inverse of the function defined by pbinom, that is,\n",
    "q == pbinom(qbinom(q, n, p)),       0 < q < 1,   0 < p < 1,   n a positive integer\n",
    "is always true, but the analogous formula with pnorm and qnorm reversed does not necessarily hold."
   ]
  },
  {
   "cell_type": "raw",
   "metadata": {
    "slideshow": {
     "slide_type": "subslide"
    }
   },
   "source": [
    "Example\n",
    "Question: What are the 10th, 20th, and so forth quantiles of the Bin(10, 1/3) distribution?"
   ]
  },
  {
   "cell_type": "code",
   "execution_count": 23,
   "metadata": {
    "run_control": {
     "frozen": false,
     "read_only": false
    },
    "scrolled": true,
    "slideshow": {
     "slide_type": "fragment"
    }
   },
   "outputs": [
    {
     "data": {
      "text/html": [
       "1"
      ],
      "text/latex": [
       "1"
      ],
      "text/markdown": [
       "1"
      ],
      "text/plain": [
       "[1] 1"
      ]
     },
     "metadata": {},
     "output_type": "display_data"
    },
    {
     "data": {
      "text/html": [
       "2"
      ],
      "text/latex": [
       "2"
      ],
      "text/markdown": [
       "2"
      ],
      "text/plain": [
       "[1] 2"
      ]
     },
     "metadata": {},
     "output_type": "display_data"
    },
    {
     "data": {
      "text/html": [
       "<ol class=list-inline>\n",
       "\t<li>1</li>\n",
       "\t<li>2</li>\n",
       "\t<li>3</li>\n",
       "\t<li>3</li>\n",
       "\t<li>3</li>\n",
       "\t<li>4</li>\n",
       "\t<li>4</li>\n",
       "\t<li>5</li>\n",
       "\t<li>5</li>\n",
       "</ol>\n"
      ],
      "text/latex": [
       "\\begin{enumerate*}\n",
       "\\item 1\n",
       "\\item 2\n",
       "\\item 3\n",
       "\\item 3\n",
       "\\item 3\n",
       "\\item 4\n",
       "\\item 4\n",
       "\\item 5\n",
       "\\item 5\n",
       "\\end{enumerate*}\n"
      ],
      "text/markdown": [
       "1. 1\n",
       "2. 2\n",
       "3. 3\n",
       "4. 3\n",
       "5. 3\n",
       "6. 4\n",
       "7. 4\n",
       "8. 5\n",
       "9. 5\n",
       "\n",
       "\n"
      ],
      "text/plain": [
       "[1] 1 2 3 3 3 4 4 5 5"
      ]
     },
     "metadata": {},
     "output_type": "display_data"
    }
   ],
   "source": [
    "qbinom(0.1, 10, 1/3)\n",
    "qbinom(0.2, 10, 1/3)\n",
    "# and so forth, or all at once with\n",
    "qbinom(seq(0.1, 0.9, 0.1), 10, 1/3)\n",
    "\n",
    "# They look up P(X <= 27) when X is has the Bin(100, 0.25) distribution. (Note\n",
    "# the less than or equal to sign. It's important when working with a discrete\n",
    "# distribution!)"
   ]
  },
  {
   "cell_type": "markdown",
   "metadata": {
    "slideshow": {
     "slide_type": "slide"
    }
   },
   "source": [
    "## Working on distribution with bioinformatics data"
   ]
  },
  {
   "cell_type": "code",
   "execution_count": null,
   "metadata": {
    "collapsed": true,
    "slideshow": {
     "slide_type": "fragment"
    }
   },
   "outputs": [],
   "source": [
    "load(url(\"http://www.ebi.ac.uk/arrayexpress/files/E-GEOD-19577/E-GEOD-19577.eSet.r\"))\n",
    "MLLpartner.ds <- study"
   ]
  },
  {
   "cell_type": "code",
   "execution_count": null,
   "metadata": {
    "scrolled": true,
    "slideshow": {
     "slide_type": "fragment"
    }
   },
   "outputs": [],
   "source": [
    "## try http:// if https:// URLs are not supported\n",
    "source(\"https://bioconductor.org/biocLite.R\")\n",
    "biocLite(\"Biobase\")\n",
    "source(\"https://bioconductor.org/biocLite.R\")\n",
    "biocLite(\"affy\")"
   ]
  },
  {
   "cell_type": "code",
   "execution_count": 28,
   "metadata": {
    "scrolled": true,
    "slideshow": {
     "slide_type": "subslide"
    }
   },
   "outputs": [
    {
     "name": "stderr",
     "output_type": "stream",
     "text": [
      "Loading required package: BiocGenerics\n",
      "Loading required package: parallel\n",
      "\n",
      "Attaching package: 'BiocGenerics'\n",
      "\n",
      "The following objects are masked from 'package:parallel':\n",
      "\n",
      "    clusterApply, clusterApplyLB, clusterCall, clusterEvalQ,\n",
      "    clusterExport, clusterMap, parApply, parCapply, parLapply,\n",
      "    parLapplyLB, parRapply, parSapply, parSapplyLB\n",
      "\n",
      "The following objects are masked from 'package:stats':\n",
      "\n",
      "    IQR, mad, sd, var, xtabs\n",
      "\n",
      "The following objects are masked from 'package:base':\n",
      "\n",
      "    anyDuplicated, append, as.data.frame, cbind, colMeans, colnames,\n",
      "    colSums, do.call, duplicated, eval, evalq, Filter, Find, get, grep,\n",
      "    grepl, intersect, is.unsorted, lapply, lengths, Map, mapply, match,\n",
      "    mget, order, paste, pmax, pmax.int, pmin, pmin.int, Position, rank,\n",
      "    rbind, Reduce, rowMeans, rownames, rowSums, sapply, setdiff, sort,\n",
      "    table, tapply, union, unique, unsplit, which, which.max, which.min\n",
      "\n",
      "Loading required package: Biobase\n",
      "Welcome to Bioconductor\n",
      "\n",
      "    Vignettes contain introductory material; view with\n",
      "    'browseVignettes()'. To cite Bioconductor, see\n",
      "    'citation(\"Biobase\")', and for packages 'citation(\"pkgname\")'.\n",
      "\n",
      "Warning message:\n",
      "\"replacing previous import 'AnnotationDbi::tail' by 'utils::tail' when loading 'hgu133plus2cdf'\"Warning message:\n",
      "\"replacing previous import 'AnnotationDbi::head' by 'utils::head' when loading 'hgu133plus2cdf'\"\n"
     ]
    },
    {
     "name": "stdout",
     "output_type": "stream",
     "text": [
      "Background correcting\n",
      "Normalizing\n",
      "Calculating Expression\n"
     ]
    },
    {
     "data": {
      "text/html": [
       "<table>\n",
       "<thead><tr><th></th><th scope=col>GSM487973</th><th scope=col>GSM487972</th><th scope=col>GSM487971</th><th scope=col>GSM487970</th><th scope=col>GSM487969</th><th scope=col>GSM487968</th><th scope=col>GSM487967</th><th scope=col>GSM487966</th><th scope=col>GSM487965</th><th scope=col>GSM487964</th><th scope=col>...</th><th scope=col>GSM487941</th><th scope=col>GSM487940</th><th scope=col>GSM487939</th><th scope=col>GSM487938</th><th scope=col>GSM487937</th><th scope=col>GSM487936</th><th scope=col>GSM487935</th><th scope=col>GSM487934</th><th scope=col>GSM487933</th><th scope=col>GSM487932</th></tr></thead>\n",
       "<tbody>\n",
       "\t<tr><th scope=row>1007_s_at</th><td>4.372242 </td><td>4.293080 </td><td>4.210850 </td><td>4.707231 </td><td>4.345101 </td><td>4.586062 </td><td>4.403585 </td><td>4.687281 </td><td> 4.570795</td><td>5.156390 </td><td>...      </td><td>5.119460 </td><td>4.872086 </td><td>4.772749 </td><td>4.574111 </td><td>5.231199 </td><td>4.708372 </td><td>4.729896 </td><td>4.945991 </td><td>4.876060 </td><td>4.696339 </td></tr>\n",
       "\t<tr><th scope=row>1053_at</th><td>8.176033 </td><td>8.541016 </td><td>8.338475 </td><td>7.935021 </td><td>7.868985 </td><td>7.909702 </td><td>7.920775 </td><td>8.575076 </td><td> 7.308829</td><td>8.852927 </td><td>...      </td><td>7.596740 </td><td>6.959711 </td><td>7.643591 </td><td>8.926067 </td><td>9.032538 </td><td>8.125771 </td><td>8.123404 </td><td>8.245434 </td><td>7.382532 </td><td>7.774610 </td></tr>\n",
       "\t<tr><th scope=row>117_at</th><td>5.730343 </td><td>8.723568 </td><td>5.172717 </td><td>5.404062 </td><td>5.731468 </td><td>8.411306 </td><td>5.398357 </td><td>6.081578 </td><td>11.309378</td><td>7.855301 </td><td>...      </td><td>7.523553 </td><td>4.880807 </td><td>8.195987 </td><td>5.182476 </td><td>4.829049 </td><td>6.638452 </td><td>6.926609 </td><td>6.426944 </td><td>5.825457 </td><td>8.492371 </td></tr>\n",
       "\t<tr><th scope=row>121_at</th><td>7.744487 </td><td>6.951332 </td><td>7.202343 </td><td>7.158402 </td><td>6.959318 </td><td>7.270566 </td><td>7.110024 </td><td>7.292591 </td><td> 7.239157</td><td>7.641449 </td><td>...      </td><td>7.484866 </td><td>7.289925 </td><td>6.987755 </td><td>7.494347 </td><td>7.764511 </td><td>6.951815 </td><td>7.027593 </td><td>7.250431 </td><td>7.613934 </td><td>7.370167 </td></tr>\n",
       "\t<tr><th scope=row>1255_g_at</th><td>2.707115 </td><td>2.717625 </td><td>2.699625 </td><td>2.698669 </td><td>2.701679 </td><td>2.514996 </td><td>2.779772 </td><td>2.823323 </td><td> 2.669968</td><td>2.736454 </td><td>...      </td><td>2.704053 </td><td>2.728747 </td><td>2.732666 </td><td>2.604484 </td><td>2.810234 </td><td>2.809925 </td><td>2.570121 </td><td>2.767583 </td><td>2.612753 </td><td>2.584072 </td></tr>\n",
       "\t<tr><th scope=row>1294_at</th><td>9.077232 </td><td>7.611238 </td><td>9.649630 </td><td>7.911132 </td><td>9.732346 </td><td>8.452315 </td><td>8.240935 </td><td>8.436199 </td><td> 8.037957</td><td>8.059028 </td><td>...      </td><td>7.233780 </td><td>7.814616 </td><td>8.465130 </td><td>8.406626 </td><td>8.608314 </td><td>8.693233 </td><td>8.485139 </td><td>8.234995 </td><td>7.955582 </td><td>8.878976 </td></tr>\n",
       "</tbody>\n",
       "</table>\n"
      ],
      "text/latex": [
       "\\begin{tabular}{r|llllllllllllllllllllllllllllllllllllllllll}\n",
       "  & GSM487973 & GSM487972 & GSM487971 & GSM487970 & GSM487969 & GSM487968 & GSM487967 & GSM487966 & GSM487965 & GSM487964 & ... & GSM487941 & GSM487940 & GSM487939 & GSM487938 & GSM487937 & GSM487936 & GSM487935 & GSM487934 & GSM487933 & GSM487932\\\\\n",
       "\\hline\n",
       "\t1007\\_s\\_at & 4.372242  & 4.293080  & 4.210850  & 4.707231  & 4.345101  & 4.586062  & 4.403585  & 4.687281  &  4.570795 & 5.156390  & ...       & 5.119460  & 4.872086  & 4.772749  & 4.574111  & 5.231199  & 4.708372  & 4.729896  & 4.945991  & 4.876060  & 4.696339 \\\\\n",
       "\t1053\\_at & 8.176033  & 8.541016  & 8.338475  & 7.935021  & 7.868985  & 7.909702  & 7.920775  & 8.575076  &  7.308829 & 8.852927  & ...       & 7.596740  & 6.959711  & 7.643591  & 8.926067  & 9.032538  & 8.125771  & 8.123404  & 8.245434  & 7.382532  & 7.774610 \\\\\n",
       "\t117\\_at & 5.730343  & 8.723568  & 5.172717  & 5.404062  & 5.731468  & 8.411306  & 5.398357  & 6.081578  & 11.309378 & 7.855301  & ...       & 7.523553  & 4.880807  & 8.195987  & 5.182476  & 4.829049  & 6.638452  & 6.926609  & 6.426944  & 5.825457  & 8.492371 \\\\\n",
       "\t121\\_at & 7.744487  & 6.951332  & 7.202343  & 7.158402  & 6.959318  & 7.270566  & 7.110024  & 7.292591  &  7.239157 & 7.641449  & ...       & 7.484866  & 7.289925  & 6.987755  & 7.494347  & 7.764511  & 6.951815  & 7.027593  & 7.250431  & 7.613934  & 7.370167 \\\\\n",
       "\t1255\\_g\\_at & 2.707115  & 2.717625  & 2.699625  & 2.698669  & 2.701679  & 2.514996  & 2.779772  & 2.823323  &  2.669968 & 2.736454  & ...       & 2.704053  & 2.728747  & 2.732666  & 2.604484  & 2.810234  & 2.809925  & 2.570121  & 2.767583  & 2.612753  & 2.584072 \\\\\n",
       "\t1294\\_at & 9.077232  & 7.611238  & 9.649630  & 7.911132  & 9.732346  & 8.452315  & 8.240935  & 8.436199  &  8.037957 & 8.059028  & ...       & 7.233780  & 7.814616  & 8.465130  & 8.406626  & 8.608314  & 8.693233  & 8.485139  & 8.234995  & 7.955582  & 8.878976 \\\\\n",
       "\\end{tabular}\n"
      ],
      "text/markdown": [
       "\n",
       "| <!--/--> | GSM487973 | GSM487972 | GSM487971 | GSM487970 | GSM487969 | GSM487968 | GSM487967 | GSM487966 | GSM487965 | GSM487964 | ... | GSM487941 | GSM487940 | GSM487939 | GSM487938 | GSM487937 | GSM487936 | GSM487935 | GSM487934 | GSM487933 | GSM487932 | \n",
       "|---|---|---|---|---|---|\n",
       "| 1007_s_at | 4.372242  | 4.293080  | 4.210850  | 4.707231  | 4.345101  | 4.586062  | 4.403585  | 4.687281  |  4.570795 | 5.156390  | ...       | 5.119460  | 4.872086  | 4.772749  | 4.574111  | 5.231199  | 4.708372  | 4.729896  | 4.945991  | 4.876060  | 4.696339  | \n",
       "| 1053_at | 8.176033  | 8.541016  | 8.338475  | 7.935021  | 7.868985  | 7.909702  | 7.920775  | 8.575076  |  7.308829 | 8.852927  | ...       | 7.596740  | 6.959711  | 7.643591  | 8.926067  | 9.032538  | 8.125771  | 8.123404  | 8.245434  | 7.382532  | 7.774610  | \n",
       "| 117_at | 5.730343  | 8.723568  | 5.172717  | 5.404062  | 5.731468  | 8.411306  | 5.398357  | 6.081578  | 11.309378 | 7.855301  | ...       | 7.523553  | 4.880807  | 8.195987  | 5.182476  | 4.829049  | 6.638452  | 6.926609  | 6.426944  | 5.825457  | 8.492371  | \n",
       "| 121_at | 7.744487  | 6.951332  | 7.202343  | 7.158402  | 6.959318  | 7.270566  | 7.110024  | 7.292591  |  7.239157 | 7.641449  | ...       | 7.484866  | 7.289925  | 6.987755  | 7.494347  | 7.764511  | 6.951815  | 7.027593  | 7.250431  | 7.613934  | 7.370167  | \n",
       "| 1255_g_at | 2.707115  | 2.717625  | 2.699625  | 2.698669  | 2.701679  | 2.514996  | 2.779772  | 2.823323  |  2.669968 | 2.736454  | ...       | 2.704053  | 2.728747  | 2.732666  | 2.604484  | 2.810234  | 2.809925  | 2.570121  | 2.767583  | 2.612753  | 2.584072  | \n",
       "| 1294_at | 9.077232  | 7.611238  | 9.649630  | 7.911132  | 9.732346  | 8.452315  | 8.240935  | 8.436199  |  8.037957 | 8.059028  | ...       | 7.233780  | 7.814616  | 8.465130  | 8.406626  | 8.608314  | 8.693233  | 8.485139  | 8.234995  | 7.955582  | 8.878976  | \n",
       "\n",
       "\n"
      ],
      "text/plain": [
       "          GSM487973 GSM487972 GSM487971 GSM487970 GSM487969 GSM487968 GSM487967\n",
       "1007_s_at 4.372242  4.293080  4.210850  4.707231  4.345101  4.586062  4.403585 \n",
       "1053_at   8.176033  8.541016  8.338475  7.935021  7.868985  7.909702  7.920775 \n",
       "117_at    5.730343  8.723568  5.172717  5.404062  5.731468  8.411306  5.398357 \n",
       "121_at    7.744487  6.951332  7.202343  7.158402  6.959318  7.270566  7.110024 \n",
       "1255_g_at 2.707115  2.717625  2.699625  2.698669  2.701679  2.514996  2.779772 \n",
       "1294_at   9.077232  7.611238  9.649630  7.911132  9.732346  8.452315  8.240935 \n",
       "          GSM487966 GSM487965 GSM487964 ... GSM487941 GSM487940 GSM487939\n",
       "1007_s_at 4.687281   4.570795 5.156390  ... 5.119460  4.872086  4.772749 \n",
       "1053_at   8.575076   7.308829 8.852927  ... 7.596740  6.959711  7.643591 \n",
       "117_at    6.081578  11.309378 7.855301  ... 7.523553  4.880807  8.195987 \n",
       "121_at    7.292591   7.239157 7.641449  ... 7.484866  7.289925  6.987755 \n",
       "1255_g_at 2.823323   2.669968 2.736454  ... 2.704053  2.728747  2.732666 \n",
       "1294_at   8.436199   8.037957 8.059028  ... 7.233780  7.814616  8.465130 \n",
       "          GSM487938 GSM487937 GSM487936 GSM487935 GSM487934 GSM487933 GSM487932\n",
       "1007_s_at 4.574111  5.231199  4.708372  4.729896  4.945991  4.876060  4.696339 \n",
       "1053_at   8.926067  9.032538  8.125771  8.123404  8.245434  7.382532  7.774610 \n",
       "117_at    5.182476  4.829049  6.638452  6.926609  6.426944  5.825457  8.492371 \n",
       "121_at    7.494347  7.764511  6.951815  7.027593  7.250431  7.613934  7.370167 \n",
       "1255_g_at 2.604484  2.810234  2.809925  2.570121  2.767583  2.612753  2.584072 \n",
       "1294_at   8.406626  8.608314  8.693233  8.485139  8.234995  7.955582  8.878976 "
      ]
     },
     "metadata": {},
     "output_type": "display_data"
    },
    {
     "data": {
      "text/html": [
       "'matrix'"
      ],
      "text/latex": [
       "'matrix'"
      ],
      "text/markdown": [
       "'matrix'"
      ],
      "text/plain": [
       "[1] \"matrix\""
      ]
     },
     "metadata": {},
     "output_type": "display_data"
    },
    {
     "data": {
      "text/html": [
       "<ol class=list-inline>\n",
       "\t<li>54675</li>\n",
       "\t<li>42</li>\n",
       "</ol>\n"
      ],
      "text/latex": [
       "\\begin{enumerate*}\n",
       "\\item 54675\n",
       "\\item 42\n",
       "\\end{enumerate*}\n"
      ],
      "text/markdown": [
       "1. 54675\n",
       "2. 42\n",
       "\n",
       "\n"
      ],
      "text/plain": [
       "[1] 54675    42"
      ]
     },
     "metadata": {},
     "output_type": "display_data"
    },
    {
     "data": {
      "text/plain": [
       "   Min. 1st Qu.  Median    Mean 3rd Qu.    Max. \n",
       "  4.211   4.645   4.774   4.774   4.892   5.231 "
      ]
     },
     "metadata": {},
     "output_type": "display_data"
    },
    {
     "data": {
      "text/plain": [
       "   GSM487973        GSM487972        GSM487971        GSM487970     \n",
       " Min.   : 2.112   Min.   : 1.805   Min.   : 1.994   Min.   : 2.039  \n",
       " 1st Qu.: 3.412   1st Qu.: 3.410   1st Qu.: 3.411   1st Qu.: 3.403  \n",
       " Median : 4.736   Median : 4.745   Median : 4.731   Median : 4.723  \n",
       " Mean   : 5.342   Mean   : 5.346   Mean   : 5.355   Mean   : 5.349  \n",
       " 3rd Qu.: 6.870   3rd Qu.: 6.851   3rd Qu.: 6.933   3rd Qu.: 6.880  \n",
       " Max.   :14.449   Max.   :14.453   Max.   :14.406   Max.   :14.425  \n",
       "   GSM487969        GSM487968        GSM487967        GSM487966     \n",
       " Min.   : 1.994   Min.   : 2.053   Min.   : 2.044   Min.   : 2.081  \n",
       " 1st Qu.: 3.373   1st Qu.: 3.395   1st Qu.: 3.442   1st Qu.: 3.426  \n",
       " Median : 4.772   Median : 4.731   Median : 4.775   Median : 4.735  \n",
       " Mean   : 5.362   Mean   : 5.349   Mean   : 5.355   Mean   : 5.351  \n",
       " 3rd Qu.: 6.998   3rd Qu.: 6.903   3rd Qu.: 6.838   3rd Qu.: 6.889  \n",
       " Max.   :14.541   Max.   :14.491   Max.   :14.607   Max.   :14.469  \n",
       "   GSM487965        GSM487964        GSM487963        GSM487962     \n",
       " Min.   : 2.061   Min.   : 1.983   Min.   : 2.095   Min.   : 2.024  \n",
       " 1st Qu.: 3.469   1st Qu.: 3.434   1st Qu.: 3.413   1st Qu.: 3.406  \n",
       " Median : 4.786   Median : 4.729   Median : 4.729   Median : 4.741  \n",
       " Mean   : 5.349   Mean   : 5.354   Mean   : 5.345   Mean   : 5.350  \n",
       " 3rd Qu.: 6.741   3rd Qu.: 6.865   3rd Qu.: 6.874   3rd Qu.: 6.894  \n",
       " Max.   :14.494   Max.   :14.531   Max.   :14.568   Max.   :14.389  \n",
       "   GSM487961        GSM487960        GSM487959        GSM487958     \n",
       " Min.   : 2.057   Min.   : 2.049   Min.   : 2.137   Min.   : 1.952  \n",
       " 1st Qu.: 3.452   1st Qu.: 3.491   1st Qu.: 3.521   1st Qu.: 3.531  \n",
       " Median : 4.736   Median : 4.789   Median : 4.840   Median : 4.828  \n",
       " Mean   : 5.345   Mean   : 5.355   Mean   : 5.366   Mean   : 5.349  \n",
       " 3rd Qu.: 6.798   3rd Qu.: 6.766   3rd Qu.: 6.774   3rd Qu.: 6.707  \n",
       " Max.   :14.431   Max.   :14.473   Max.   :14.585   Max.   :14.592  \n",
       "   GSM487957        GSM487956        GSM487955        GSM487954     \n",
       " Min.   : 2.050   Min.   : 2.064   Min.   : 1.890   Min.   : 2.088  \n",
       " 1st Qu.: 3.472   1st Qu.: 3.476   1st Qu.: 3.459   1st Qu.: 3.452  \n",
       " Median : 4.813   Median : 4.814   Median : 4.784   Median : 4.793  \n",
       " Mean   : 5.359   Mean   : 5.363   Mean   : 5.359   Mean   : 5.358  \n",
       " 3rd Qu.: 6.820   3rd Qu.: 6.811   3rd Qu.: 6.853   3rd Qu.: 6.861  \n",
       " Max.   :14.503   Max.   :14.442   Max.   :14.422   Max.   :14.665  \n",
       "   GSM487953        GSM487952        GSM487951        GSM487950     \n",
       " Min.   : 2.112   Min.   : 2.063   Min.   : 2.102   Min.   : 2.031  \n",
       " 1st Qu.: 3.572   1st Qu.: 3.471   1st Qu.: 3.438   1st Qu.: 3.446  \n",
       " Median : 4.876   Median : 4.823   Median : 4.788   Median : 4.770  \n",
       " Mean   : 5.331   Mean   : 5.367   Mean   : 5.370   Mean   : 5.361  \n",
       " 3rd Qu.: 6.591   3rd Qu.: 6.841   3rd Qu.: 6.907   3rd Qu.: 6.876  \n",
       " Max.   :14.670   Max.   :14.489   Max.   :14.487   Max.   :14.433  \n",
       "   GSM487949        GSM487948        GSM487947        GSM487946     \n",
       " Min.   : 2.019   Min.   : 2.115   Min.   : 1.965   Min.   : 1.897  \n",
       " 1st Qu.: 3.476   1st Qu.: 3.436   1st Qu.: 3.472   1st Qu.: 3.541  \n",
       " Median : 4.795   Median : 4.772   Median : 4.771   Median : 4.787  \n",
       " Mean   : 5.365   Mean   : 5.358   Mean   : 5.354   Mean   : 5.338  \n",
       " 3rd Qu.: 6.828   3rd Qu.: 6.866   3rd Qu.: 6.781   3rd Qu.: 6.631  \n",
       " Max.   :14.483   Max.   :14.433   Max.   :14.523   Max.   :14.593  \n",
       "   GSM487945        GSM487944        GSM487943        GSM487942     \n",
       " Min.   : 2.008   Min.   : 2.067   Min.   : 2.064   Min.   : 2.166  \n",
       " 1st Qu.: 3.447   1st Qu.: 3.477   1st Qu.: 3.428   1st Qu.: 3.592  \n",
       " Median : 4.778   Median : 4.799   Median : 4.800   Median : 4.898  \n",
       " Mean   : 5.366   Mean   : 5.366   Mean   : 5.371   Mean   : 5.354  \n",
       " 3rd Qu.: 6.905   3rd Qu.: 6.823   3rd Qu.: 6.922   3rd Qu.: 6.648  \n",
       " Max.   :14.507   Max.   :14.494   Max.   :14.478   Max.   :14.539  \n",
       "   GSM487941        GSM487940        GSM487939        GSM487938     \n",
       " Min.   : 2.048   Min.   : 1.981   Min.   : 2.164   Min.   : 2.073  \n",
       " 1st Qu.: 3.513   1st Qu.: 3.508   1st Qu.: 3.426   1st Qu.: 3.417  \n",
       " Median : 4.846   Median : 4.817   Median : 4.762   Median : 4.757  \n",
       " Mean   : 5.358   Mean   : 5.361   Mean   : 5.364   Mean   : 5.358  \n",
       " 3rd Qu.: 6.780   3rd Qu.: 6.763   3rd Qu.: 6.899   3rd Qu.: 6.903  \n",
       " Max.   :14.711   Max.   :14.601   Max.   :14.519   Max.   :14.489  \n",
       "   GSM487937        GSM487936        GSM487935        GSM487934     \n",
       " Min.   : 2.050   Min.   : 1.913   Min.   : 2.085   Min.   : 2.096  \n",
       " 1st Qu.: 3.489   1st Qu.: 3.453   1st Qu.: 3.424   1st Qu.: 3.424  \n",
       " Median : 4.814   Median : 4.785   Median : 4.782   Median : 4.769  \n",
       " Mean   : 5.369   Mean   : 5.372   Mean   : 5.371   Mean   : 5.370  \n",
       " 3rd Qu.: 6.841   3rd Qu.: 6.901   3rd Qu.: 6.953   3rd Qu.: 6.920  \n",
       " Max.   :14.561   Max.   :14.513   Max.   :14.441   Max.   :14.447  \n",
       "   GSM487933        GSM487932     \n",
       " Min.   : 2.076   Min.   : 2.056  \n",
       " 1st Qu.: 3.456   1st Qu.: 3.431  \n",
       " Median : 4.793   Median : 4.770  \n",
       " Mean   : 5.372   Mean   : 5.371  \n",
       " 3rd Qu.: 6.885   3rd Qu.: 6.946  \n",
       " Max.   :14.461   Max.   :14.508  "
      ]
     },
     "metadata": {},
     "output_type": "display_data"
    },
    {
     "data": {
      "text/html": [
       "4.21084958834166"
      ],
      "text/latex": [
       "4.21084958834166"
      ],
      "text/markdown": [
       "4.21084958834166"
      ],
      "text/plain": [
       "[1] 4.21085"
      ]
     },
     "metadata": {},
     "output_type": "display_data"
    },
    {
     "data": {
      "text/html": [
       "5.23119936414134"
      ],
      "text/latex": [
       "5.23119936414134"
      ],
      "text/markdown": [
       "5.23119936414134"
      ],
      "text/plain": [
       "[1] 5.231199"
      ]
     },
     "metadata": {},
     "output_type": "display_data"
    },
    {
     "data": {
      "text/html": [
       "4.77386579169756"
      ],
      "text/latex": [
       "4.77386579169756"
      ],
      "text/markdown": [
       "4.77386579169756"
      ],
      "text/plain": [
       "[1] 4.773866"
      ]
     },
     "metadata": {},
     "output_type": "display_data"
    },
    {
     "data": {
      "text/html": [
       "4.77423552238059"
      ],
      "text/latex": [
       "4.77423552238059"
      ],
      "text/markdown": [
       "4.77423552238059"
      ],
      "text/plain": [
       "[1] 4.774236"
      ]
     },
     "metadata": {},
     "output_type": "display_data"
    },
    {
     "data": {
      "text/html": [
       "<dl class=dl-horizontal>\n",
       "\t<dt>0%</dt>\n",
       "\t\t<dd>4.21084958834166</dd>\n",
       "\t<dt>25%</dt>\n",
       "\t\t<dd>4.64499414843521</dd>\n",
       "\t<dt>50%</dt>\n",
       "\t\t<dd>4.77423552238059</dd>\n",
       "\t<dt>75%</dt>\n",
       "\t\t<dd>4.89225869423173</dd>\n",
       "\t<dt>100%</dt>\n",
       "\t\t<dd>5.23119936414134</dd>\n",
       "</dl>\n"
      ],
      "text/latex": [
       "\\begin{description*}\n",
       "\\item[0\\textbackslash{}\\%] 4.21084958834166\n",
       "\\item[25\\textbackslash{}\\%] 4.64499414843521\n",
       "\\item[50\\textbackslash{}\\%] 4.77423552238059\n",
       "\\item[75\\textbackslash{}\\%] 4.89225869423173\n",
       "\\item[100\\textbackslash{}\\%] 5.23119936414134\n",
       "\\end{description*}\n"
      ],
      "text/markdown": [
       "0%\n",
       ":   4.2108495883416625%\n",
       ":   4.6449941484352150%\n",
       ":   4.7742355223805975%\n",
       ":   4.89225869423173100%\n",
       ":   5.23119936414134\n",
       "\n"
      ],
      "text/plain": [
       "      0%      25%      50%      75%     100% \n",
       "4.210850 4.644994 4.774236 4.892259 5.231199 "
      ]
     },
     "metadata": {},
     "output_type": "display_data"
    },
    {
     "data": {
      "text/html": [
       "<dl class=dl-horizontal>\n",
       "\t<dt>10%</dt>\n",
       "\t\t<dd>4.37537658786331</dd>\n",
       "\t<dt>20%</dt>\n",
       "\t\t<dd>4.57650130553707</dd>\n",
       "\t<dt>60%</dt>\n",
       "\t\t<dd>4.82110091986134</dd>\n",
       "\t<dt>90%</dt>\n",
       "\t\t<dd>5.11873530459373</dd>\n",
       "</dl>\n"
      ],
      "text/latex": [
       "\\begin{description*}\n",
       "\\item[10\\textbackslash{}\\%] 4.37537658786331\n",
       "\\item[20\\textbackslash{}\\%] 4.57650130553707\n",
       "\\item[60\\textbackslash{}\\%] 4.82110091986134\n",
       "\\item[90\\textbackslash{}\\%] 5.11873530459373\n",
       "\\end{description*}\n"
      ],
      "text/markdown": [
       "10%\n",
       ":   4.3753765878633120%\n",
       ":   4.5765013055370760%\n",
       ":   4.8211009198613490%\n",
       ":   5.11873530459373\n",
       "\n"
      ],
      "text/plain": [
       "     10%      20%      60%      90% \n",
       "4.375377 4.576501 4.821101 5.118735 "
      ]
     },
     "metadata": {},
     "output_type": "display_data"
    },
    {
     "data": {
      "text/html": [
       "4.77"
      ],
      "text/latex": [
       "4.77"
      ],
      "text/markdown": [
       "4.77"
      ],
      "text/plain": [
       "[1] 4.77"
      ]
     },
     "metadata": {},
     "output_type": "display_data"
    },
    {
     "data": {
      "text/html": [
       "<table>\n",
       "<thead><tr><th></th><th scope=col>expr_probeA</th><th scope=col>expr_probeB</th><th scope=col>drugA_response</th></tr></thead>\n",
       "<tbody>\n",
       "\t<tr><th scope=row>GSM487973</th><td>4.372242</td><td>8.176033</td><td>success </td></tr>\n",
       "\t<tr><th scope=row>GSM487972</th><td>4.293080</td><td>8.541016</td><td>fail    </td></tr>\n",
       "\t<tr><th scope=row>GSM487971</th><td>4.210850</td><td>8.338475</td><td>success </td></tr>\n",
       "\t<tr><th scope=row>GSM487970</th><td>4.707231</td><td>7.935021</td><td>fail    </td></tr>\n",
       "\t<tr><th scope=row>GSM487969</th><td>4.345101</td><td>7.868985</td><td>success </td></tr>\n",
       "\t<tr><th scope=row>GSM487968</th><td>4.586062</td><td>7.909702</td><td>fail    </td></tr>\n",
       "</tbody>\n",
       "</table>\n"
      ],
      "text/latex": [
       "\\begin{tabular}{r|lll}\n",
       "  & expr\\_probeA & expr\\_probeB & drugA\\_response\\\\\n",
       "\\hline\n",
       "\tGSM487973 & 4.372242 & 8.176033 & success \\\\\n",
       "\tGSM487972 & 4.293080 & 8.541016 & fail    \\\\\n",
       "\tGSM487971 & 4.210850 & 8.338475 & success \\\\\n",
       "\tGSM487970 & 4.707231 & 7.935021 & fail    \\\\\n",
       "\tGSM487969 & 4.345101 & 7.868985 & success \\\\\n",
       "\tGSM487968 & 4.586062 & 7.909702 & fail    \\\\\n",
       "\\end{tabular}\n"
      ],
      "text/markdown": [
       "\n",
       "| <!--/--> | expr_probeA | expr_probeB | drugA_response | \n",
       "|---|---|---|---|---|---|\n",
       "| GSM487973 | 4.372242 | 8.176033 | success  | \n",
       "| GSM487972 | 4.293080 | 8.541016 | fail     | \n",
       "| GSM487971 | 4.210850 | 8.338475 | success  | \n",
       "| GSM487970 | 4.707231 | 7.935021 | fail     | \n",
       "| GSM487969 | 4.345101 | 7.868985 | success  | \n",
       "| GSM487968 | 4.586062 | 7.909702 | fail     | \n",
       "\n",
       "\n"
      ],
      "text/plain": [
       "          expr_probeA expr_probeB drugA_response\n",
       "GSM487973 4.372242    8.176033    success       \n",
       "GSM487972 4.293080    8.541016    fail          \n",
       "GSM487971 4.210850    8.338475    success       \n",
       "GSM487970 4.707231    7.935021    fail          \n",
       "GSM487969 4.345101    7.868985    success       \n",
       "GSM487968 4.586062    7.909702    fail          "
      ]
     },
     "metadata": {},
     "output_type": "display_data"
    },
    {
     "data": {
      "text/plain": [
       "df$drugA_response: fail\n",
       "  expr_probeA     expr_probeB    drugA_response\n",
       " Min.   :4.293   Min.   :6.960   fail   :21    \n",
       " 1st Qu.:4.687   1st Qu.:7.935   success: 0    \n",
       " Median :4.766   Median :8.245                 \n",
       " Mean   :4.786   Mean   :8.201                 \n",
       " 3rd Qu.:4.895   3rd Qu.:8.575                 \n",
       " Max.   :5.218   Max.   :8.926                 \n",
       "------------------------------------------------------------ \n",
       "df$drugA_response: success\n",
       "  expr_probeA     expr_probeB    drugA_response\n",
       " Min.   :4.211   Min.   :6.652   fail   : 0    \n",
       " 1st Qu.:4.571   1st Qu.:7.597   success:21    \n",
       " Median :4.776   Median :7.921                 \n",
       " Mean   :4.762   Mean   :7.950                 \n",
       " 3rd Qu.:4.885   3rd Qu.:8.338                 \n",
       " Max.   :5.231   Max.   :9.033                 "
      ]
     },
     "metadata": {},
     "output_type": "display_data"
    },
    {
     "data": {
      "text/html": [
       "1.02034977579968"
      ],
      "text/latex": [
       "1.02034977579968"
      ],
      "text/markdown": [
       "1.02034977579968"
      ],
      "text/plain": [
       "[1] 1.02035"
      ]
     },
     "metadata": {},
     "output_type": "display_data"
    },
    {
     "data": {
      "text/html": [
       "<ol class=list-inline>\n",
       "\t<li>4.21084958834166</li>\n",
       "\t<li>5.23119936414134</li>\n",
       "</ol>\n"
      ],
      "text/latex": [
       "\\begin{enumerate*}\n",
       "\\item 4.21084958834166\n",
       "\\item 5.23119936414134\n",
       "\\end{enumerate*}\n"
      ],
      "text/markdown": [
       "1. 4.21084958834166\n",
       "2. 5.23119936414134\n",
       "\n",
       "\n"
      ],
      "text/plain": [
       "[1] 4.210850 5.231199"
      ]
     },
     "metadata": {},
     "output_type": "display_data"
    },
    {
     "data": {
      "text/html": [
       "4.77386579169756"
      ],
      "text/latex": [
       "4.77386579169756"
      ],
      "text/markdown": [
       "4.77386579169756"
      ],
      "text/plain": [
       "[1] 4.773866"
      ]
     },
     "metadata": {},
     "output_type": "display_data"
    },
    {
     "data": {
      "text/html": [
       "0.258232219449305"
      ],
      "text/latex": [
       "0.258232219449305"
      ],
      "text/markdown": [
       "0.258232219449305"
      ],
      "text/plain": [
       "[1] 0.2582322"
      ]
     },
     "metadata": {},
     "output_type": "display_data"
    },
    {
     "data": {
      "text/html": [
       "0.066683879161714"
      ],
      "text/latex": [
       "0.066683879161714"
      ],
      "text/markdown": [
       "0.066683879161714"
      ],
      "text/plain": [
       "[1] 0.06668388"
      ]
     },
     "metadata": {},
     "output_type": "display_data"
    }
   ],
   "source": [
    "library(\"affy\")\n",
    "library(\"Biobase\")\n",
    "\n",
    "AEsetnorm = rma(MLLpartner.ds)\n",
    "head(exprs(AEsetnorm)) #output shown truncated\n",
    "probeA <- as.numeric(exprs(AEsetnorm)[1,])\n",
    "probeA <- setNames(probeA, colnames(exprs(AEsetnorm)))\n",
    "probeB <- as.numeric(exprs(AEsetnorm)[2,])\n",
    "probeB <-setNames(probeB, colnames(exprs(AEsetnorm)))\n",
    "MLLpartner.mx <- as.matrix(exprs(AEsetnorm))\n",
    "\n",
    "#Save the data for easy reload\n",
    "save(MLLpartner.mx, probeA, probeB, file=\"data/MLLexdataset.RData\")\n",
    "\n",
    "# or load the object directly\n",
    "load(\"data/MLLexdataset.RData\")\n",
    "\n",
    "# Examples start here\n",
    "class(MLLpartner.mx)\n",
    "dim(MLLpartner.mx)\n",
    "summary(probeA)\n",
    "summary(MLLpartner.mx) \n",
    "\n",
    "min(probeA)\n",
    "max(probeA)\n",
    "mean(probeA)\n",
    "median(probeA)\n",
    "quantile(probeA)\n",
    "quantile(probeA, probs = c(0.1, 0.2, 0.6, 0.9))\n",
    "round(mean(probeA), 2)\n",
    "\n",
    "# Examining basic statistics\n",
    "df <- data.frame(expr_probeA=probeA, expr_probeB=probeB, drugA_response= factor(rep(c(\"success\", \"fail\"), 21)))\n",
    "head(df)\n",
    "by(df, df$drugA_response, summary)\n",
    "max(probeA) - min(probeA)\n",
    "range(probeA)\n",
    "mean(probeA)\n",
    "sd(probeA)\n",
    "var(probeA)"
   ]
  },
  {
   "cell_type": "code",
   "execution_count": 29,
   "metadata": {
    "slideshow": {
     "slide_type": "subslide"
    }
   },
   "outputs": [
    {
     "data": {
      "text/html": [
       "<ol class=list-inline>\n",
       "\t<li>4.78308509867744</li>\n",
       "\t<li>3.1594620551208</li>\n",
       "\t<li>-7.25223694907109</li>\n",
       "\t<li>2.15704590548774</li>\n",
       "\t<li>5.53953951805571</li>\n",
       "\t<li>6.41440192911641</li>\n",
       "\t<li>12.1305845233161</li>\n",
       "\t<li>6.41270425237178</li>\n",
       "\t<li>4.42758977656586</li>\n",
       "\t<li>3.39218545197251</li>\n",
       "</ol>\n"
      ],
      "text/latex": [
       "\\begin{enumerate*}\n",
       "\\item 4.78308509867744\n",
       "\\item 3.1594620551208\n",
       "\\item -7.25223694907109\n",
       "\\item 2.15704590548774\n",
       "\\item 5.53953951805571\n",
       "\\item 6.41440192911641\n",
       "\\item 12.1305845233161\n",
       "\\item 6.41270425237178\n",
       "\\item 4.42758977656586\n",
       "\\item 3.39218545197251\n",
       "\\end{enumerate*}\n"
      ],
      "text/markdown": [
       "1. 4.78308509867744\n",
       "2. 3.1594620551208\n",
       "3. -7.25223694907109\n",
       "4. 2.15704590548774\n",
       "5. 5.53953951805571\n",
       "6. 6.41440192911641\n",
       "7. 12.1305845233161\n",
       "8. 6.41270425237178\n",
       "9. 4.42758977656586\n",
       "10. 3.39218545197251\n",
       "\n",
       "\n"
      ],
      "text/plain": [
       " [1]  4.783085  3.159462 -7.252237  2.157046  5.539540  6.414402 12.130585\n",
       " [8]  6.412704  4.427590  3.392185"
      ]
     },
     "metadata": {},
     "output_type": "display_data"
    },
    {
     "data": {
      "text/html": [
       "<ol class=list-inline>\n",
       "\t<li>2</li>\n",
       "\t<li>5</li>\n",
       "\t<li>5</li>\n",
       "\t<li>5</li>\n",
       "\t<li>4</li>\n",
       "\t<li>4</li>\n",
       "\t<li>1</li>\n",
       "</ol>\n"
      ],
      "text/latex": [
       "\\begin{enumerate*}\n",
       "\\item 2\n",
       "\\item 5\n",
       "\\item 5\n",
       "\\item 5\n",
       "\\item 4\n",
       "\\item 4\n",
       "\\item 1\n",
       "\\end{enumerate*}\n"
      ],
      "text/markdown": [
       "1. 2\n",
       "2. 5\n",
       "3. 5\n",
       "4. 5\n",
       "5. 4\n",
       "6. 4\n",
       "7. 1\n",
       "\n",
       "\n"
      ],
      "text/plain": [
       "[1] 2 5 5 5 4 4 1"
      ]
     },
     "metadata": {},
     "output_type": "display_data"
    },
    {
     "data": {
      "text/html": [
       "<ol class=list-inline>\n",
       "\t<li>5</li>\n",
       "\t<li>5</li>\n",
       "\t<li>5</li>\n",
       "\t<li>8</li>\n",
       "\t<li>6</li>\n",
       "\t<li>4</li>\n",
       "\t<li>5</li>\n",
       "</ol>\n"
      ],
      "text/latex": [
       "\\begin{enumerate*}\n",
       "\\item 5\n",
       "\\item 5\n",
       "\\item 5\n",
       "\\item 8\n",
       "\\item 6\n",
       "\\item 4\n",
       "\\item 5\n",
       "\\end{enumerate*}\n"
      ],
      "text/markdown": [
       "1. 5\n",
       "2. 5\n",
       "3. 5\n",
       "4. 8\n",
       "5. 6\n",
       "6. 4\n",
       "7. 5\n",
       "\n",
       "\n"
      ],
      "text/plain": [
       "[1] 5 5 5 8 6 4 5"
      ]
     },
     "metadata": {},
     "output_type": "display_data"
    },
    {
     "data": {
      "text/html": [
       "0.00981532862864534"
      ],
      "text/latex": [
       "0.00981532862864534"
      ],
      "text/markdown": [
       "0.00981532862864534"
      ],
      "text/plain": [
       "[1] 0.009815329"
      ]
     },
     "metadata": {},
     "output_type": "display_data"
    },
    {
     "data": {
      "text/html": [
       "8.07798069961135"
      ],
      "text/latex": [
       "8.07798069961135"
      ],
      "text/markdown": [
       "8.07798069961135"
      ],
      "text/plain": [
       "[1] 8.077981"
      ]
     },
     "metadata": {},
     "output_type": "display_data"
    },
    {
     "data": {
      "text/html": [
       "7.5"
      ],
      "text/latex": [
       "7.5"
      ],
      "text/markdown": [
       "7.5"
      ],
      "text/plain": [
       "[1] 7.5"
      ]
     },
     "metadata": {},
     "output_type": "display_data"
    },
    {
     "data": {
      "text/html": [
       "9.96728044042721"
      ],
      "text/latex": [
       "9.96728044042721"
      ],
      "text/markdown": [
       "9.96728044042721"
      ],
      "text/plain": [
       "[1] 9.96728"
      ]
     },
     "metadata": {},
     "output_type": "display_data"
    },
    {
     "data": {
      "image/png": "[encoded data removed]",
      "text/plain": [
       "Plot with title \"water drank by school children < 12 years old\""
      ]
     },
     "metadata": {},
     "output_type": "display_data"
    },
    {
     "data": {
      "image/png": "[encoded data removed]",
      "text/plain": [
       "plot without title"
      ]
     },
     "metadata": {},
     "output_type": "display_data"
    },
    {
     "data": {
      "text/html": [
       "0.0498132896311141"
      ],
      "text/latex": [
       "0.0498132896311141"
      ],
      "text/markdown": [
       "0.0498132896311141"
      ],
      "text/plain": [
       "[1] 0.04981329"
      ]
     },
     "metadata": {},
     "output_type": "display_data"
    },
    {
     "data": {
      "image/png": "[encoded data removed]",
      "text/plain": [
       "plot without title"
      ]
     },
     "metadata": {},
     "output_type": "display_data"
    }
   ],
   "source": [
    "# Plotting and working with probability distributions\n",
    "rnorm(10, 2, sd=5)\n",
    "rpois(7, lambda=4)\n",
    "rbinom(7, 12, prob=0.5)\n",
    "\n",
    "# Example to plot a normal curve with\n",
    "# mean = 7.5\n",
    "# sd = 1.5\n",
    "\n",
    "x <- seq(0, 16, length=100)\n",
    "nd.height <- dnorm(x, mean = 7.5, sd = 1.5)\n",
    "plot(x, nd.height, type = \"l\", xlab = \"Liters per day\",  ylab = \"Density\", main = \"water drank by school children < 12 years old\") \n",
    "\n",
    "pnorm(4, mean = 7.5, sd = 1.5, lower.tail = TRUE)\n",
    "\n",
    "qnorm(0.65, mean=7.5, sd=1.5)\n",
    "qnorm(0.5, mean=7.5, sd=1.5)\n",
    "qnorm(0.95, mean=7.5, sd=1.5)\n",
    "\n",
    "#Plotting cumulative probabilty\n",
    "ld.cdf <- pnorm(x, mean = 7.5, sd = 1.5, lower.tail = TRUE)\n",
    "plot(x, ld.cdf, type = \"l\", xlab = \" Liters per day \", ylab = \"Cumulative Probability\")\n",
    "\n",
    "plot(x, nd.height, type = \"l\", xlab = \"Liters per day\",  ylab = \"Density\")\n",
    "\n",
    "# Highlight 95th percentile \n",
    "\n",
    "ld.lower <- 9.97 # qnorm(0.95, mean=7.5, sd=1.5)\n",
    "ld.upper <- 16\n",
    "i <- x >= ld.lower & x <= ld.upper #returns a logical vector\n",
    "polygon(c(ld.lower,x[i], ld.upper), c(0, nd.height [i],0), col=\"red\")\n",
    "abline(h = 0, col = \"gray\")\n",
    "\n",
    "pnorm(9.97, mean = 7.5, sd = 1.5, lower.tail = FALSE)\n"
   ]
  },
  {
   "cell_type": "markdown",
   "metadata": {
    "slideshow": {
     "slide_type": "slide"
    }
   },
   "source": [
    "## Construct frequency table and Relative frequency tables"
   ]
  },
  {
   "cell_type": "code",
   "execution_count": 24,
   "metadata": {
    "run_control": {
     "frozen": false,
     "read_only": false
    },
    "slideshow": {
     "slide_type": "subslide"
    }
   },
   "outputs": [
    {
     "ename": "ERROR",
     "evalue": "Error in parse(text = x, srcfile = src): <text>:4:4: unexpected numeric constant\n3: # president. (The ages are in years, rounded down.)  \n4: 57 61\n      ^\n",
     "output_type": "error",
     "traceback": [
      "Error in parse(text = x, srcfile = src): <text>:4:4: unexpected numeric constant\n3: # president. (The ages are in years, rounded down.)  \n4: 57 61\n      ^\nTraceback:\n"
     ]
    }
   ],
   "source": [
    "#  How to calculate a frequency distribution from a given vector of values\n",
    "# list of the ages of the U.S. presidents when they became \n",
    "# president. (The ages are in years, rounded down.)  \n",
    "57 61 57 57 58 57 61 54 68 51 49 64 50 48 65 52 56 46 54 49 51 47 55 55 \n",
    "54 42 51 56 55 51 54 51 60 62 43 55 56 61 52 69 64 46 54 "
   ]
  },
  {
   "cell_type": "code",
   "execution_count": null,
   "metadata": {
    "collapsed": true,
    "run_control": {
     "frozen": false,
     "marked": false,
     "read_only": false
    },
    "slideshow": {
     "slide_type": "fragment"
    }
   },
   "outputs": [],
   "source": [
    "ages  <-  scan( )"
   ]
  },
  {
   "cell_type": "raw",
   "metadata": {
    "slideshow": {
     "slide_type": "subslide"
    }
   },
   "source": [
    "Copy and paste the 43 numbers in the PRESIDENTS’ AGES DATA SET above. \n",
    "• Notice that, unlike for the ‘c’ command, commas (,) are NOT used with \n",
    "‘scan’. \n",
    "• Copying can be done by using CTRL-C. \n",
    "• Pasting can be done by using CTRL-V. "
   ]
  },
  {
   "cell_type": "raw",
   "metadata": {
    "slideshow": {
     "slide_type": "subslide"
    }
   },
   "source": [
    "> Press RETURN or ENTER on your computer. \n",
    "* You should see ‘44:’ in your console window. This means that, if you \n",
    "were to enter another value, it would be the 44th data value.   \n",
    " \n",
    "> Press RETURN or ENTER again, since we are not entering in any more values. \n",
    "• You should see ‘Read 43 items’ in your console window. "
   ]
  },
  {
   "cell_type": "code",
   "execution_count": null,
   "metadata": {
    "run_control": {
     "frozen": false,
     "marked": false,
     "read_only": false
    },
    "slideshow": {
     "slide_type": "slide"
    }
   },
   "outputs": [],
   "source": [
    "table(ages) "
   ]
  },
  {
   "cell_type": "code",
   "execution_count": null,
   "metadata": {
    "collapsed": true,
    "run_control": {
     "frozen": false,
     "marked": false,
     "read_only": false
    },
    "slideshow": {
     "slide_type": "subslide"
    }
   },
   "outputs": [],
   "source": [
    "boundaries  <-  seq(34.5, 69.5, by=5) \n",
    "# The sequence of numbers we will use to separate our classes will be the \n",
    "# numbers from 34.5 through 69.5, jumping by 5s. These numbers are called \n",
    "# “class boundaries.”"
   ]
  },
  {
   "cell_type": "code",
   "execution_count": null,
   "metadata": {
    "run_control": {
     "frozen": false,
     "marked": false,
     "read_only": false
    },
    "slideshow": {
     "slide_type": "fragment"
    }
   },
   "outputs": [],
   "source": [
    "table(cut(ages, boundaries)) \n",
    "# You will see a frequency table for the ages. "
   ]
  },
  {
   "cell_type": "code",
   "execution_count": null,
   "metadata": {
    "run_control": {
     "frozen": false,
     "marked": false,
     "read_only": false
    },
    "slideshow": {
     "slide_type": "fragment"
    }
   },
   "outputs": [],
   "source": [
    "table(cut(ages, c(boundaries, Inf))) \n",
    "# This includes the last class of “70+” years. The “Inf” indicates that the last \n",
    "# class goes off to infinity. "
   ]
  },
  {
   "cell_type": "markdown",
   "metadata": {
    "slideshow": {
     "slide_type": "slide"
    }
   },
   "source": [
    "**RELATIVE FREQUENCY TABLES** "
   ]
  },
  {
   "cell_type": "code",
   "execution_count": null,
   "metadata": {
    "run_control": {
     "frozen": false,
     "marked": false,
     "read_only": false
    },
    "slideshow": {
     "slide_type": "subslide"
    }
   },
   "outputs": [],
   "source": [
    "length(ages) \n",
    "# This tells you that there are 43 ages in our data set. \n",
    "table(cut(ages, boundaries))/43 \n",
    "# You will see a relative frequency table for the ages"
   ]
  },
  {
   "cell_type": "markdown",
   "metadata": {
    "slideshow": {
     "slide_type": "slide"
    }
   },
   "source": [
    "**MAKING BARPLOT AND HISTOGRAMS**"
   ]
  },
  {
   "cell_type": "code",
   "execution_count": null,
   "metadata": {
    "run_control": {
     "frozen": false,
     "marked": false,
     "read_only": false
    },
    "slideshow": {
     "slide_type": "subslide"
    }
   },
   "outputs": [],
   "source": [
    "# BARPLOTS \n",
    "barplot(ages) \n",
    "# • You will see (in a separate window) bars corresponding to the ages in the \n",
    "# order we entered them in, but this is NOT a correct histogram. \n",
    "\n",
    "#HISTOGRAMS \n",
    " \n",
    "hist(ages) \n",
    "# • You will see a histogram of the ages.  \n",
    "hist(ages, breaks=boundaries) \n",
    "# • You will see a histogram similar to what we have in our notes."
   ]
  },
  {
   "cell_type": "markdown",
   "metadata": {
    "slideshow": {
     "slide_type": "slide"
    }
   },
   "source": [
    "**RELATIVE FREQUENCY HISTOGRAMS and LABELS **"
   ]
  },
  {
   "cell_type": "code",
   "execution_count": null,
   "metadata": {
    "run_control": {
     "frozen": false,
     "marked": false,
     "read_only": false
    },
    "slideshow": {
     "slide_type": "subslide"
    }
   },
   "outputs": [],
   "source": [
    "hist(ages, prob=TRUE) \n",
    "# • You will see a relative frequency histogram of the ages.  \n",
    "# • The histogram you see is different from the one we have in our notes, \n",
    "# because relative frequencies correspond to areas here, not heights. Different \n",
    "# sources do the histograms differently. \n",
    "# • Here, “prob” means “probability that a randomly selected data value lies in \n",
    "# the class.” Probabilities are often related to relative frequencies. \n",
    "# • ‘TRUE’ can be abbreviated as ‘T’."
   ]
  },
  {
   "cell_type": "code",
   "execution_count": null,
   "metadata": {
    "run_control": {
     "frozen": false,
     "marked": false,
     "read_only": false
    },
    "slideshow": {
     "slide_type": "subslide"
    }
   },
   "outputs": [],
   "source": [
    "hist(ages, breaks = boundaries, prob = T, main = \"Relative frequency \n",
    "histogram\", \n",
    "    ylab = \"Relative frequencies\")\n",
    "# • You will see a relative frequency histogram of the ages similar to what we \n",
    "# have in our notes, except that relative frequencies correspond to areas, not \n",
    "# heights. \n",
    "# • ‘main’ means “main title” here. \n",
    "# • ‘ylab’ means “label for y-axis.” \n",
    "# • ‘xlab’ means “label for x-axis.” We didn’t use that here. "
   ]
  },
  {
   "cell_type": "markdown",
   "metadata": {
    "slideshow": {
     "slide_type": "fragment"
    }
   },
   "source": [
    "Further References:  \n",
    "https://gallery.shinyapps.io/dist_calc/\n",
    "https://www.analyticsvidhya.com/blog/2017/09/6-probability-distributions-data-science/) (http://blog.cloudera.com/blog/2015/12/common-probability-distributions-the-data-scientists-crib-sheet/"
   ]
  }
 ],
 "metadata": {
  "celltoolbar": "Slideshow",
  "hide_input": false,
  "kernelspec": {
   "display_name": "R",
   "language": "R",
   "name": "ir"
  },
  "language_info": {
   "codemirror_mode": "r",
   "file_extension": ".r",
   "mimetype": "text/x-r-source",
   "name": "R",
   "pygments_lexer": "r",
   "version": "3.4.2"
  },
  "nav_menu": {},
  "toc": {
   "navigate_menu": true,
   "number_sections": true,
   "sideBar": true,
   "threshold": 6,
   "toc_cell": false,
   "toc_section_display": "block",
   "toc_window_display": false
  }
 },
 "nbformat": 4,
 "nbformat_minor": 2
}
