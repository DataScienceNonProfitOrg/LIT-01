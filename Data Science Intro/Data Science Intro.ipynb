{
 "cells": [
  {
   "cell_type": "markdown",
   "metadata": {
    "slideshow": {
     "slide_type": "slide"
    }
   },
   "source": [
    "## Data Science Introduction"
   ]
  },
  {
   "cell_type": "markdown",
   "metadata": {
    "slideshow": {
     "slide_type": "slide"
    }
   },
   "source": [
    "### Introduction to Data Analytics"
   ]
  },
  {
   "cell_type": "markdown",
   "metadata": {
    "slideshow": {
     "slide_type": "subslide"
    }
   },
   "source": [
    "**Discovering meaningful insights and knowledge from the data**"
   ]
  },
  {
   "cell_type": "markdown",
   "metadata": {
    "slideshow": {
     "slide_type": "slide"
    }
   },
   "source": [
    "### Reporting Vs Analysis"
   ]
  },
  {
   "cell_type": "markdown",
   "metadata": {
    "slideshow": {
     "slide_type": "subslide"
    }
   },
   "source": [
    "| Metric                | Reporting                                                | Analytics                                                                                                                                                                                                         |\n",
    "|-----------------------|----------------------------------------------------------|-------------------------------------------------------------------------------------------------------------------------------------------------------------------------------------------------------------------|\n",
    "| Cost per ticket       | Higher than average cost per ticket recorded this month. | Why is there a higher than average cost per ticket, especially with lower-than-average quality levels?                                                                                                            |\n",
    "| Customer Satisfaction | Overall CSAT score has seen a downward trend this month. | Why are we seeing this downward trend? Were there specific weeks that were worse than others? Were the customers experiencing specific issues that popped up this month that we have not been encountered before? |"
   ]
  },
  {
   "cell_type": "markdown",
   "metadata": {
    "slideshow": {
     "slide_type": "slide"
    }
   },
   "source": [
    "### Data Analytics Process"
   ]
  },
  {
   "cell_type": "markdown",
   "metadata": {
    "slideshow": {
     "slide_type": "subslide"
    }
   },
   "source": [
    "![](img/newcrispdiagram.bmp)"
   ]
  },
  {
   "cell_type": "markdown",
   "metadata": {
    "slideshow": {
     "slide_type": "slide"
    }
   },
   "source": [
    "### Descriptive Vs Diagnostic Vs Predictive Vs Prescriptive Analytics"
   ]
  },
  {
   "cell_type": "markdown",
   "metadata": {
    "slideshow": {
     "slide_type": "subslide"
    }
   },
   "source": [
    "![](img/FEMayJun16_Tech-FM_chart.jpg)"
   ]
  },
  {
   "cell_type": "markdown",
   "metadata": {
    "slideshow": {
     "slide_type": "slide"
    }
   },
   "source": [
    "### Data mining methodologies: SEMMA & CRISP-DM"
   ]
  },
  {
   "cell_type": "markdown",
   "metadata": {
    "slideshow": {
     "slide_type": "subslide"
    }
   },
   "source": [
    "| Step # | CRISP-DM               | SEMMA   |\n",
    "|--------|------------------------|---------|\n",
    "| 1      | Business understanding | Sample  |\n",
    "| 2      | Data understanding     | Explore |\n",
    "| 3      | Data preparation       | Modify  |\n",
    "| 4      | Modeling               | Model   |\n",
    "| 5      | Evaluation             | Assess  |\n",
    "| 6      | Deployment             |         |"
   ]
  },
  {
   "cell_type": "markdown",
   "metadata": {
    "slideshow": {
     "slide_type": "slide"
    }
   },
   "source": [
    "### Data Science Workflow"
   ]
  },
  {
   "cell_type": "markdown",
   "metadata": {
    "slideshow": {
     "slide_type": "subslide"
    }
   },
   "source": [
    "![](img/Data Science Process.jpeg)"
   ]
  },
  {
   "cell_type": "markdown",
   "metadata": {
    "slideshow": {
     "slide_type": "slide"
    }
   },
   "source": [
    "### Data Scientist Responsibilities"
   ]
  },
  {
   "cell_type": "markdown",
   "metadata": {
    "slideshow": {
     "slide_type": "subslide"
    }
   },
   "source": [
    "![](img/Analytics_learning_path_25.png)"
   ]
  },
  {
   "cell_type": "markdown",
   "metadata": {
    "slideshow": {
     "slide_type": "subslide"
    }
   },
   "source": [
    "![](img/New_Picture_.bmp)"
   ]
  },
  {
   "cell_type": "markdown",
   "metadata": {
    "slideshow": {
     "slide_type": "slide"
    }
   },
   "source": [
    "### Comparing a sample to the population"
   ]
  },
  {
   "cell_type": "code",
   "execution_count": 19,
   "metadata": {
    "slideshow": {
     "slide_type": "subslide"
    }
   },
   "outputs": [
    {
     "data": {
      "text/html": [
       "<table>\n",
       "<thead><tr><th scope=col>gender</th><th scope=col>purchases</th></tr></thead>\n",
       "<tbody>\n",
       "\t<tr><td>Male</td><td>0   </td></tr>\n",
       "\t<tr><td>Male</td><td>1   </td></tr>\n",
       "\t<tr><td>Male</td><td>2   </td></tr>\n",
       "\t<tr><td>Male</td><td>3   </td></tr>\n",
       "\t<tr><td>Male</td><td>4   </td></tr>\n",
       "\t<tr><td>Male</td><td>5   </td></tr>\n",
       "</tbody>\n",
       "</table>\n"
      ],
      "text/latex": [
       "\\begin{tabular}{r|ll}\n",
       " gender & purchases\\\\\n",
       "\\hline\n",
       "\t Male & 0   \\\\\n",
       "\t Male & 1   \\\\\n",
       "\t Male & 2   \\\\\n",
       "\t Male & 3   \\\\\n",
       "\t Male & 4   \\\\\n",
       "\t Male & 5   \\\\\n",
       "\\end{tabular}\n"
      ],
      "text/markdown": [
       "\n",
       "gender | purchases | \n",
       "|---|---|---|---|---|---|\n",
       "| Male | 0    | \n",
       "| Male | 1    | \n",
       "| Male | 2    | \n",
       "| Male | 3    | \n",
       "| Male | 4    | \n",
       "| Male | 5    | \n",
       "\n",
       "\n"
      ],
      "text/plain": [
       "  gender purchases\n",
       "1 Male   0        \n",
       "2 Male   1        \n",
       "3 Male   2        \n",
       "4 Male   3        \n",
       "5 Male   4        \n",
       "6 Male   5        "
      ]
     },
     "metadata": {},
     "output_type": "display_data"
    }
   ],
   "source": [
    "# To illustrate some of the benefits of sampling, and to see how you can often get close to the same results with a sample as with a larger population, copy the following code and run it within an R script. This script will generate a 15,000,000 row population and then extract a 100-row random sample. Then we will compare the results:\n",
    "large.df <- data.frame( \n",
    "gender = c(rep(c(\"Male\", \"Female\", \"Female\"), each = 5000000)), \n",
    "purchases = c(0:9, 0:5, 0:7) \n",
    ") \n",
    "head(large.df)"
   ]
  },
  {
   "cell_type": "code",
   "execution_count": 20,
   "metadata": {
    "slideshow": {
     "slide_type": "subslide"
    }
   },
   "outputs": [
    {
     "data": {
      "text/html": [
       "3.66666666666667"
      ],
      "text/latex": [
       "3.66666666666667"
      ],
      "text/markdown": [
       "3.66666666666667"
      ],
      "text/plain": [
       "[1] 3.666667"
      ]
     },
     "metadata": {},
     "output_type": "display_data"
    },
    {
     "data": {
      "text/html": [
       "3.82"
      ],
      "text/latex": [
       "3.82"
      ],
      "text/markdown": [
       "3.82"
      ],
      "text/plain": [
       "[1] 3.82"
      ]
     },
     "metadata": {},
     "output_type": "display_data"
    },
    {
     "data": {
      "image/png": "[encoded data removed]",
      "text/plain": [
       "plot without title"
      ]
     },
     "metadata": {},
     "output_type": "display_data"
    }
   ],
   "source": [
    "#take a small sample \n",
    "y <- large.df[sample(nrow(large.df), 100), ] \n",
    "mean(large.df$purchases) \n",
    "mean(y$purchases) \n",
    "\n",
    "#Render 2 plots side-by-side by setting the plot frame to 1 by 2 \n",
    "par(mfrow=c(1,2)) \n",
    "barplot(table(y$gender)/sum(table(y$gender)))\n",
    "barplot(table(large.df$gender)/sum(table(large.df$gender))) \n",
    "\n",
    "#Return the plot window to a 1 by 1 plot frame \n",
    "par(mfrow = c(1, 1)) "
   ]
  },
  {
   "cell_type": "code",
   "execution_count": 21,
   "metadata": {
    "slideshow": {
     "slide_type": "subslide"
    }
   },
   "outputs": [
    {
     "data": {
      "text/html": [
       "3.66666666666667"
      ],
      "text/latex": [
       "3.66666666666667"
      ],
      "text/markdown": [
       "3.66666666666667"
      ],
      "text/plain": [
       "[1] 3.666667"
      ]
     },
     "metadata": {},
     "output_type": "display_data"
    },
    {
     "data": {
      "text/html": [
       "3.82"
      ],
      "text/latex": [
       "3.82"
      ],
      "text/markdown": [
       "3.82"
      ],
      "text/plain": [
       "[1] 3.82"
      ]
     },
     "metadata": {},
     "output_type": "display_data"
    }
   ],
   "source": [
    "# the distribution of gender is also similar when comparing the sample (left plot), and the population (right plot)\n",
    "mean(large.df$purchases)\n",
    "mean(y$purchases) "
   ]
  }
 ],
 "metadata": {
  "kernelspec": {
   "display_name": "R",
   "language": "R",
   "name": "ir"
  },
  "language_info": {
   "codemirror_mode": "r",
   "file_extension": ".r",
   "mimetype": "text/x-r-source",
   "name": "R",
   "pygments_lexer": "r",
   "version": "3.4.2"
  }
 },
 "nbformat": 4,
 "nbformat_minor": 2
}
